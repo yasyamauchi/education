{
  "nbformat": 4,
  "nbformat_minor": 0,
  "metadata": {
    "colab": {
      "provenance": [],
      "include_colab_link": true
    },
    "kernelspec": {
      "name": "python3",
      "display_name": "Python 3"
    }
  },
  "cells": [
    {
      "cell_type": "markdown",
      "metadata": {
        "id": "view-in-github",
        "colab_type": "text"
      },
      "source": [
        "<a href=\"https://colab.research.google.com/github/yasyamauchi/education/blob/main/dlworkshop_22.ipynb\" target=\"_parent\"><img src=\"https://colab.research.google.com/assets/colab-badge.svg\" alt=\"Open In Colab\"/></a>"
      ]
    },
    {
      "cell_type": "markdown",
      "source": [
        "# MeCabを用いた形態素解析(分かち書き＋α)  \n",
        "  \n",
        "オリジナル：  \n",
        "[MeCabをインストールして分かち書きを試してみよう](https://atmarkit.itmedia.co.jp/ait/articles/2102/05/news027.html), かわさきしんじ, DeepInsider  \n",
        "  \n",
        "主な変更点：NEologdはColabでうまくいかないので省略"
      ],
      "metadata": {
        "id": "HfYUxUxGuIWe"
      }
    },
    {
      "cell_type": "markdown",
      "source": [
        "## MeCabとは  \n",
        "  \n",
        "  [MeCab: Yet Another Part-of-Speech and Morphological Analyzer](https://taku910.github.io/mecab/)  \n",
        "  京都大学とNTTの研究所が開発したオープンソースの形態素解析エンジンであり，言語やコーパスに依らないという特徴を持つ．逆に言えば辞書を別途準備する必要がある．ここでは国立国語研究所の[UniDic](https://clrd.ninjal.ac.jp/unidic/)(ライセンス：GPL v2.0/LGPL v2.1/修正BSD)を用いる．  \n",
        "  MeCabはMicrosoftのBingで使用されているらしい．"
      ],
      "metadata": {
        "id": "q9Uu1jK6wFBA"
      }
    },
    {
      "cell_type": "markdown",
      "source": [
        "MeCabとUniDicのインストールを行う．"
      ],
      "metadata": {
        "id": "c_flsrNCw9PG"
      }
    },
    {
      "cell_type": "code",
      "metadata": {
        "id": "LuqcLxHy-Y50"
      },
      "source": [
        "!pip install mecab-python3\n",
        "!pip install unidic"
      ],
      "execution_count": null,
      "outputs": []
    },
    {
      "cell_type": "markdown",
      "source": [
        "UniDicの本体をインストールするが，[unidic-py](https://pypi.org/project/unidic/)の解説によると1GBほどあるので時間がかかる．"
      ],
      "metadata": {
        "id": "Kk2CGg93zav8"
      }
    },
    {
      "cell_type": "code",
      "metadata": {
        "id": "9Z8v3tCpDnX5"
      },
      "source": [
        "!python -m unidic download"
      ],
      "execution_count": null,
      "outputs": []
    },
    {
      "cell_type": "code",
      "metadata": {
        "id": "YatVIXSnEzZ8"
      },
      "source": [
        "!ls /usr/local/lib/python3.6/dist-packages/unidic/dicdir"
      ],
      "execution_count": null,
      "outputs": []
    },
    {
      "cell_type": "markdown",
      "source": [
        "MeCabとUniDicを用いて，簡単な形態素解析を実施する．  \n",
        "形態素(トークン)に分解した後に，品詞や活用形などの情報を付与する．  \n",
        "MeCabでの出力フォーマットは次のとおりである．  \n",
        "\n",
        "> 表層形\\t品詞,品詞細分類1,品詞細分類2,品詞細分類3,活用型,活用形,原形,読み,発音\n",
        "\n"
      ],
      "metadata": {
        "id": "SUZk-zCxxHck"
      }
    },
    {
      "cell_type": "code",
      "metadata": {
        "id": "U7I0nFpjE8oi"
      },
      "source": [
        "import MeCab\n",
        "import unidic\n",
        "\n",
        "tagger = MeCab.Tagger()  # 「tagger = MeCab.Tagger('-d ' + unidic.DICDIR)」\n",
        "sample_txt = 'くるまでまつ'\n",
        "result = tagger.parse(sample_txt)\n",
        "print(result)"
      ],
      "execution_count": null,
      "outputs": []
    },
    {
      "cell_type": "markdown",
      "source": [
        "分かち書きだけ行いたい場合は次の通り．スペースで区切られるのが分かる．"
      ],
      "metadata": {
        "id": "W0M3XWP6ySXB"
      }
    },
    {
      "cell_type": "code",
      "metadata": {
        "id": "pc50sLN_HKK0"
      },
      "source": [
        "wakati = MeCab.Tagger('-Owakati')\n",
        "result = wakati.parse(sample_txt)\n",
        "print(sample_txt)\n",
        "print(result)"
      ],
      "execution_count": null,
      "outputs": []
    },
    {
      "cell_type": "markdown",
      "source": [
        "最近の単語(鬼滅の刃)を含む文章だとどうなるか？？"
      ],
      "metadata": {
        "id": "2SKAxIa4ylLP"
      }
    },
    {
      "cell_type": "code",
      "metadata": {
        "id": "H9oZJ78lGz7x"
      },
      "source": [
        "sample_txt = '鬼滅の刃もいいけれど、約束のネバーランドもね'\n",
        "result = tagger.parse(sample_txt)\n",
        "print(result)"
      ],
      "execution_count": null,
      "outputs": []
    },
    {
      "cell_type": "markdown",
      "source": [
        "分かち書きの結果はこうなる．"
      ],
      "metadata": {
        "id": "C7LKa1r6y0vB"
      }
    },
    {
      "cell_type": "code",
      "metadata": {
        "id": "Ovclo0BvIpVL"
      },
      "source": [
        "result = wakati.parse(sample_txt)\n",
        "print(result)"
      ],
      "execution_count": null,
      "outputs": []
    },
    {
      "cell_type": "markdown",
      "source": [
        "最新の文章などを試してみよう．"
      ],
      "metadata": {
        "id": "fEaiyqJ70vmK"
      }
    },
    {
      "cell_type": "code",
      "source": [
        "sample_txt = '好きな文章をここに入れてシングルクォーテーションで囲むこと'\n",
        "result = tagger.parse(sample_txt)\n",
        "print(result)"
      ],
      "metadata": {
        "id": "YN8SUAdV00wL"
      },
      "execution_count": null,
      "outputs": []
    }
  ]
}