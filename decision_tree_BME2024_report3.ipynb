{
  "nbformat": 4,
  "nbformat_minor": 0,
  "metadata": {
    "colab": {
      "provenance": [],
      "include_colab_link": true
    },
    "kernelspec": {
      "name": "python3",
      "display_name": "Python 3"
    },
    "language_info": {
      "name": "python"
    }
  },
  "cells": [
    {
      "cell_type": "markdown",
      "metadata": {
        "id": "view-in-github",
        "colab_type": "text"
      },
      "source": [
        "<a href=\"https://colab.research.google.com/github/yasyamauchi/education/blob/main/decision_tree_BME2024_report3.ipynb\" target=\"_parent\"><img src=\"https://colab.research.google.com/assets/colab-badge.svg\" alt=\"Open In Colab\"/></a>"
      ]
    },
    {
      "cell_type": "markdown",
      "source": [
        "# 2024年人工知能第3回レポート課題用  \n",
        "# 国勢調査からの収入予測  \n",
        "  \n",
        "[Google Machine Learning: 上級コース: デシジョンフォレスト](https://developers.google.com/machine-learning/decision-forests/practice?hl=ja)より  \n",
        "[YDF: getting started](https://ydf.readthedocs.io/en/latest/tutorial/getting_started/)より"
      ],
      "metadata": {
        "id": "ZRC0RQrO7BpQ"
      }
    },
    {
      "cell_type": "markdown",
      "source": [
        "\n",
        "YDF（Yggdrasil）を使用する．"
      ],
      "metadata": {
        "id": "2RHGB-FV7fTc"
      }
    },
    {
      "cell_type": "code",
      "execution_count": null,
      "metadata": {
        "id": "xQa1gh_d_hmB"
      },
      "outputs": [],
      "source": [
        "!pip install ydf -U"
      ]
    },
    {
      "cell_type": "code",
      "source": [
        "import ydf\n",
        "import numpy as np\n",
        "import pandas as pd"
      ],
      "metadata": {
        "id": "tEa5ARYlAF02"
      },
      "execution_count": null,
      "outputs": []
    },
    {
      "cell_type": "markdown",
      "source": [
        "## データの読み込み  \n",
        "  \n",
        "  この例ではYDFのサンプルデータセット(個人の収入と属性)を使用する．  \n",
        "### データの中身  \n",
        "成人(合計22792人)の収入 (**income**)が，50,000ドルより大きい(>50K)か，50,000ドル以下か(<=50K)かを，他のデータから明らかにする．  \n",
        "  \n",
        "* 年齢 (age)\n",
        "* 就業形態 (workclass)\n",
        "* final weight *意味不明 (fnlwgt)\n",
        "* 学歴 (education)\n",
        "* 教育年数 (education_num)\n",
        "* 配偶者の有無 (marital_status)\n",
        "* 職業 (occupation)  \n",
        "* 夫/妻/独身等 (relationship)\n",
        "* 人種 (race)\n",
        "* 性 (sex)\n",
        "* キャピタルゲイン[株式譲渡益等] (capital_gain)\n",
        "* キャピタルロス[株式譲渡損失等] (capital_loss)\n",
        "* 週当たり労働時間 (hours_per_week)\n",
        "* 出生国 (native_country)\n",
        "* **収入 (income)**  \n",
        "  \n",
        "最初の10人のデータを表示する．  \n",
        "  \n",
        "**この中の7番(age=32,workclass=Private...)を，のちに使用する**  "
      ],
      "metadata": {
        "id": "9zDu5q857xf0"
      }
    },
    {
      "cell_type": "code",
      "source": [
        "path = \"https://raw.githubusercontent.com/google/yggdrasil-decision-forests/main/yggdrasil_decision_forests/test_data/dataset/adult_train.csv\"\n",
        "dataset = pd.read_csv(path)\n",
        "label = \"income\"\n",
        "\n",
        "# Display the first 10 examples.\n",
        "dataset.head(10)"
      ],
      "metadata": {
        "id": "6qXWFmPUAJNV"
      },
      "execution_count": null,
      "outputs": []
    },
    {
      "cell_type": "markdown",
      "source": [
        "## 訓練データと検証データに分ける  \n",
        "  \n",
        "訓練データと検証データに分ける．ランダムに分けるので実行するたびに結果は異なる．"
      ],
      "metadata": {
        "id": "-5jeiwNT-UZv"
      }
    },
    {
      "cell_type": "markdown",
      "source": [
        "**【問1】** 検証データは全体のどのくらいが適切か？  \n",
        "割合を答えよ．たとえば6割の場合は0.6と答えること．"
      ],
      "metadata": {
        "id": "lYgmCqhad3HQ"
      }
    },
    {
      "cell_type": "markdown",
      "source": [
        "**重要！問1で答えた結果を下記のコードに記入して分割を実行する．具体的には2行目の最後の数字(0.6)を書き替える．**"
      ],
      "metadata": {
        "id": "ei9nJ8_OeVX0"
      }
    },
    {
      "cell_type": "code",
      "source": [
        "np.random.seed(1)\n",
        "is_test = np.random.rand(len(dataset)) < 0.6 ## この0.6というのを書き替える\n",
        "\n",
        "train_dataset = dataset[~is_test]\n",
        "test_dataset = dataset[is_test]\n",
        "\n",
        "print(\"Training examples: \", len(train_dataset))\n",
        "\n",
        "print(\"Testing examples: \", len(test_dataset))"
      ],
      "metadata": {
        "id": "tDL8SngSAMi0"
      },
      "execution_count": null,
      "outputs": []
    },
    {
      "cell_type": "markdown",
      "source": [
        "## モデルの学習  \n",
        "  \n",
        "デフォルト値で行う．学習はすぐ終わる．"
      ],
      "metadata": {
        "id": "HG4ssIWm_-tw"
      }
    },
    {
      "cell_type": "code",
      "source": [
        "model = ydf.CartLearner(label=label).train(train_dataset)"
      ],
      "metadata": {
        "id": "4EzVLg04APuS"
      },
      "execution_count": null,
      "outputs": []
    },
    {
      "cell_type": "markdown",
      "source": [
        "## モデルの評価\n",
        "  \n",
        "  まず決定木を表示する．  \n",
        "  Yesが上でNoが下．赤が<=50,000で青が>50,000．\n",
        "   \n",
        "   「ペンギン」の例では分岐条件は数字だけであったが，今回のデータでは数値以外の分岐もある．たとえば最初の分岐が**relationship(夫/妻/その他)**である(と思われる)が，その上にマウスカーソルを当てると**relationship in [Husband, Wife]**という吹き出しが出る．この場合，relationshipというデータがHusbandまたはWifeの場合はYes(上に行く)，その他の場合はNo(下に行く)という意味である．"
      ],
      "metadata": {
        "id": "TKvegn9kAXNU"
      }
    },
    {
      "cell_type": "code",
      "source": [
        "model.plot_tree()"
      ],
      "metadata": {
        "id": "-OlpqDxYASMP"
      },
      "execution_count": null,
      "outputs": []
    },
    {
      "cell_type": "markdown",
      "source": [
        "精度を計算する．"
      ],
      "metadata": {
        "id": "ya2wPntjCQet"
      }
    },
    {
      "cell_type": "markdown",
      "source": [
        "**【問2】** 訓練データによる精度と，検証データによる精度を答えよ．"
      ],
      "metadata": {
        "id": "hmou3ws4hHiD"
      }
    },
    {
      "cell_type": "code",
      "source": [
        "train_evaluation = model.evaluate(train_dataset)\n",
        "print(\"train accuracy:\", train_evaluation.accuracy)\n",
        "\n",
        "test_evaluation = model.evaluate(test_dataset)\n",
        "print(\"test accuracy:\", test_evaluation.accuracy)"
      ],
      "metadata": {
        "id": "ZfEfb1E-AWSw"
      },
      "execution_count": null,
      "outputs": []
    },
    {
      "cell_type": "markdown",
      "source": [
        "このままでは複雑なので，木の深さを最大4とする"
      ],
      "metadata": {
        "id": "xZoCx3V6Cf01"
      }
    },
    {
      "cell_type": "code",
      "source": [
        "model = ydf.CartLearner(label=label, max_depth=4).train(train_dataset)\n",
        "print(model.evaluate(test_dataset).accuracy)"
      ],
      "metadata": {
        "id": "QB8bgzIWAZpb"
      },
      "execution_count": null,
      "outputs": []
    },
    {
      "cell_type": "markdown",
      "source": [
        "**【問3】** この決定木を提出する．Snipping Toolsなどで画面キャプチャするとよい．  \n",
        "**【問4】** この決定木を用いて，7番の人の収入を推定する．  \n",
        "*解答例：relationshipがWifeで，capital gainが5000以上で，学歴がMastersなので，収入は<=50,000と判断した*"
      ],
      "metadata": {
        "id": "q7H5Z0kPff_c"
      }
    },
    {
      "cell_type": "code",
      "source": [
        "model.plot_tree()"
      ],
      "metadata": {
        "id": "NYMzOAqfDUhU"
      },
      "execution_count": null,
      "outputs": []
    }
  ]
}