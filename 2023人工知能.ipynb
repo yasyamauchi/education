{
  "nbformat": 4,
  "nbformat_minor": 0,
  "metadata": {
    "colab": {
      "provenance": [],
      "authorship_tag": "ABX9TyMCZzf9MXPm4BJT1/+yzehs",
      "include_colab_link": true
    },
    "kernelspec": {
      "name": "python3",
      "display_name": "Python 3"
    },
    "language_info": {
      "name": "python"
    }
  },
  "cells": [
    {
      "cell_type": "markdown",
      "metadata": {
        "id": "view-in-github",
        "colab_type": "text"
      },
      "source": [
        "<a href=\"https://colab.research.google.com/github/yasyamauchi/education/blob/main/2023%E4%BA%BA%E5%B7%A5%E7%9F%A5%E8%83%BD.ipynb\" target=\"_parent\"><img src=\"https://colab.research.google.com/assets/colab-badge.svg\" alt=\"Open In Colab\"/></a>"
      ]
    },
    {
      "cell_type": "markdown",
      "source": [
        "# 2023年 人工知能 補助教材  \n",
        "### 東洋大学理工学部生体医工学科"
      ],
      "metadata": {
        "id": "FjrN8zP10tX-"
      }
    },
    {
      "cell_type": "code",
      "execution_count": null,
      "metadata": {
        "id": "4bx0l8cY0mI1"
      },
      "outputs": [],
      "source": []
    }
  ]
}