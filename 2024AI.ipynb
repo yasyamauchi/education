{
  "nbformat": 4,
  "nbformat_minor": 0,
  "metadata": {
    "colab": {
      "provenance": [],
      "toc_visible": true,
      "authorship_tag": "ABX9TyP8euSnX9v7Gzg9OJVaBYq/",
      "include_colab_link": true
    },
    "kernelspec": {
      "name": "python3",
      "display_name": "Python 3"
    },
    "language_info": {
      "name": "python"
    }
  },
  "cells": [
    {
      "cell_type": "markdown",
      "metadata": {
        "id": "view-in-github",
        "colab_type": "text"
      },
      "source": [
        "<a href=\"https://colab.research.google.com/github/yasyamauchi/education/blob/main/2024AI.ipynb\" target=\"_parent\"><img src=\"https://colab.research.google.com/assets/colab-badge.svg\" alt=\"Open In Colab\"/></a>"
      ]
    },
    {
      "cell_type": "markdown",
      "source": [
        "# 人工知能 補助教材  \n",
        "### 東洋大学理工学部生体医工学科"
      ],
      "metadata": {
        "id": "FjrN8zP10tX-"
      }
    },
    {
      "cell_type": "markdown",
      "source": [
        "# Google Colabの練習  \n",
        "角括弧[  ]をクリックして実行(その日の初回は時間がかかる)  "
      ],
      "metadata": {
        "id": "qUd7M-NiOQAV"
      }
    },
    {
      "cell_type": "code",
      "source": [
        "print(\"こんにちは！\")"
      ],
      "metadata": {
        "id": "nRb06ttoOTqp"
      },
      "execution_count": null,
      "outputs": []
    },
    {
      "cell_type": "markdown",
      "source": [
        "# 3-2 AIと社会"
      ],
      "metadata": {
        "id": "lhDYmqOA4fdh"
      }
    },
    {
      "cell_type": "markdown",
      "source": [
        "## スクレイピングの例"
      ],
      "metadata": {
        "id": "hPUlBs785PWC"
      }
    },
    {
      "cell_type": "code",
      "execution_count": null,
      "metadata": {
        "id": "4bx0l8cY0mI1"
      },
      "outputs": [],
      "source": [
        "import requests\n",
        "response = requests.get('https://www.kantei.go.jp/jp/headline/kansensho/vaccine.html')\n",
        "response.encoding = response.apparent_encoding  # そのままだと文字化けするので対策\n",
        "text = response.text\n",
        "ippan_start = text.find('総接種回数')             # 「総接種接種」という文字を探す\n",
        "number_start = text.find('bold',ippan_start)+7     # 接種者数の数字の最初の位置を探す\n",
        "number_end = text.find('<',number_start)        # 接種者数の数字の終わる位置を探す\n",
        "print(text[number_start:number_end])            # 接種者数を表示する"
      ]
    },
    {
      "cell_type": "markdown",
      "source": [
        "## オープンソースデータの例"
      ],
      "metadata": {
        "id": "C1O4AMXA5TbA"
      }
    },
    {
      "cell_type": "markdown",
      "source": [
        "* PhysioNet https://www.physionet.org  \n",
        "生理学的データ（多くはECG）を数多く集めたデータセット  \n",
        "* HealthData.gov https://healthdata.gov  \n",
        "米国の医療データ(またはそこへのリンク)  \n",
        "* e-GOV data portal https://data.e-gov.go.jp/info/ja  \n",
        "日本の行政機関のオープンデータのポータルサイト\n",
        "\n"
      ],
      "metadata": {
        "id": "jZQIJzHN5mkb"
      }
    },
    {
      "cell_type": "markdown",
      "source": [
        "# 3-3 機械学習の基礎と展望(前半：教師あり学習)"
      ],
      "metadata": {
        "id": "AlK8TJZzRjve"
      }
    },
    {
      "cell_type": "markdown",
      "source": [
        "更新履歴：  \n",
        "2023/10/20:  \n",
        "* Google Colabへのデータファイルのアップロード方法を別途指示  \n",
        "\n",
        "2023/10/15:\n",
        "* 最小二乗法の関数をleast_squaresに変更\n",
        "* 軸タイトルに日本語を表示する!pip install japanize-matplotlib 中止(都度実行する必要があるので)  "
      ],
      "metadata": {
        "id": "0en-UNau8CyP"
      }
    },
    {
      "cell_type": "markdown",
      "source": [
        "## 回帰  \n",
        "例題：A社の複数の商品について，広告費(cost)と売上(sales)のデータを得た\n",
        "広告費から売上を予測したい．"
      ],
      "metadata": {
        "id": "Wh6Jupe7UWvW"
      }
    },
    {
      "cell_type": "markdown",
      "source": [
        "### まずデータを可視化する"
      ],
      "metadata": {
        "id": "WVleaCHVZeaw"
      }
    },
    {
      "cell_type": "code",
      "source": [
        "import numpy as np\n",
        "import matplotlib.pyplot as plt\n",
        "\n",
        "# xが広告費，yが売上高\n",
        "x = [26,35,50,60,87,100,112,117,134,145,160,160,163,173,191,199,203,215,237,270]\n",
        "y = [999,933,978,960,930,1002,1161,1155,1176,1230,1203,1284,1278,1497,1488,1569,1554,1614,1779,1971]\n",
        "\n",
        "# 散布図を描画\n",
        "plt.grid()\n",
        "plt.xlim(0,300)\n",
        "plt.xlabel(\"cost(x)\")\n",
        "plt.ylabel(\"sales(y)\")\n",
        "plt.scatter(x, y)"
      ],
      "metadata": {
        "id": "pJCuj_-u1Z2M"
      },
      "execution_count": null,
      "outputs": []
    },
    {
      "cell_type": "markdown",
      "source": [
        "### 線形回帰モデル(単回帰分析)"
      ],
      "metadata": {
        "id": "HgId-1cyZYPS"
      }
    },
    {
      "cell_type": "markdown",
      "source": [
        "$y = ax + b$ のaとbを変えて，赤い線をデータに近づけてみよう．  \n",
        "誤差Jがどうなるか観察しよう．"
      ],
      "metadata": {
        "id": "uRHVNH_rZKGc"
      }
    },
    {
      "cell_type": "code",
      "source": [
        "import numpy as np\n",
        "import matplotlib.pyplot as plt\n",
        "\n",
        "# xが広告費，yが売上高\n",
        "x = [26,35,50,60,87,100,112,117,134,145,160,160,163,173,191,199,203,215,237,270]\n",
        "y = [999,933,978,960,930,1002,1161,1155,1176,1230,1203,1284,1278,1497,1488,1569,1554,1614,1779,1971]\n",
        "\n",
        "# 1次関数の定義\n",
        "def estimate_func(param,x):\n",
        "    return (param[0]*x + param[1])\n",
        "\n",
        "p = []\n",
        "p.append(float(input('a= ')))  # 最初は2あたりから試す\n",
        "p.append(float(input('b= ')))  # 最初は800あたりから試す\n",
        "\n",
        "ylin = [estimate_func(p,i) for i in x]  # y = ax + b\n",
        "\n",
        "# 誤差を合計する\n",
        "J = 0\n",
        "for i in range(len(x)):\n",
        "    J += (ylin[i]-y[i])**2\n",
        "print('J={}'.format(J))\n",
        "\n",
        "# グラフの描画\n",
        "fig, axe = plt.subplots()\n",
        "axe.set_xlabel('cost(x)')  # x軸ラベル\n",
        "axe.set_ylabel('sales(y)')  # y軸ラベル\n",
        "axe.grid()            # 罫線\n",
        "axe.set_xlim([0, 300]) # x方向の描画範囲を指定\n",
        "axe.scatter(x,y)\n",
        "for i in range(len(x)):\n",
        "    axe.plot([x[i],x[i]],[y[i],ylin[i]],color=\"g\",linestyle = \"dashed\")\n",
        "axe.plot(x,ylin,color=\"r\")\n",
        "fig.tight_layout()  # レイアウトの設定\n",
        "plt.show()"
      ],
      "metadata": {
        "id": "w80Kic6fSzcj",
        "outputId": "ef0db613-b6bf-468b-c8c3-2bbd99ca2dce",
        "colab": {
          "base_uri": "https://localhost:8080/",
          "height": 539
        }
      },
      "execution_count": 1,
      "outputs": [
        {
          "output_type": "stream",
          "name": "stdout",
          "text": [
            "a= 1\n",
            "b= 1\n",
            "J=27303678.0\n"
          ]
        },
        {
          "output_type": "display_data",
          "data": {
            "text/plain": [
              "<Figure size 640x480 with 1 Axes>"
            ],
            "image/png": "[encoded data removed]"
          },
          "metadata": {}
        }
      ]
    },
    {
      "cell_type": "markdown",
      "source": [
        "scipyライブラリを使って最小二乗法を実行してみる．\n",
        "\n"
      ],
      "metadata": {
        "id": "-DQBtbYCZm12"
      }
    },
    {
      "cell_type": "code",
      "source": [
        "import numpy as np\n",
        "import matplotlib.pyplot as plt\n",
        "from scipy import optimize\n",
        "\n",
        "# xが広告費，yが売上高\n",
        "x = [26,35,50,60,87,100,112,117,134,145,160,160,163,173,191,199,203,215,237,270]\n",
        "y = [999,933,978,960,930,1002,1161,1155,1176,1230,1203,1284,1278,1497,1488,1569,1554,1614,1779,1971]\n",
        "\n",
        "# 1次関数の定義\n",
        "def estimate_func(param,x):\n",
        "    return (param[0]*x + param[1])\n",
        "\n",
        "# ここからscipy.optimizeによるフィッテイング\n",
        "def func1(param,x,y):\n",
        "    residual = y - estimate_func(param,x)\n",
        "    return residual\n",
        "\n",
        "param1 = [0, 0]\n",
        "result = optimize.least_squares(func1, param1, args=(np.array(x), np.array(y)))\n",
        "# フィッテイング終了\n",
        "\n",
        "a = result.x[0]\n",
        "b = result.x[1]\n",
        "print('a={},b={}'.format(a,b))\n",
        "\n",
        "ylin = [estimate_func(result.x,i) for i in x]\n",
        "\n",
        "# 誤差を合計する\n",
        "J = 0\n",
        "for i in range(len(x)):\n",
        "    J += (ylin[i]-y[i])**2\n",
        "print('J={}'.format(J))\n",
        "\n",
        "# グラフの描画\n",
        "fig, axe = plt.subplots()\n",
        "axe.set_xlabel('cost(x)')  # x軸ラベル\n",
        "axe.set_ylabel('sales(y)')  # y軸ラベル\n",
        "axe.grid()            # 罫線\n",
        "axe.set_xlim([0, 300]) # x方向の描画範囲を指定\n",
        "axe.scatter(x,y)\n",
        "for i in range(len(x)):\n",
        "    axe.plot([x[i],x[i]],[y[i],ylin[i]],color=\"g\",linestyle = \"dashed\")\n",
        "axe.plot(x,ylin,color=\"r\")\n",
        "fig.tight_layout()  # レイアウトの設定\n",
        "plt.show()"
      ],
      "metadata": {
        "id": "GRzDt4sDVfvs",
        "outputId": "42d2f821-c218-4f2f-cd1c-1751d5e3a404",
        "colab": {
          "base_uri": "https://localhost:8080/",
          "height": 522
        }
      },
      "execution_count": 2,
      "outputs": [
        {
          "output_type": "stream",
          "name": "stdout",
          "text": [
            "a=4.186227665537061,b=694.2336071727316\n",
            "J=174154.4992816332\n"
          ]
        },
        {
          "output_type": "display_data",
          "data": {
            "text/plain": [
              "<Figure size 640x480 with 1 Axes>"
            ],
            "image/png": "[encoded data removed]"
          },
          "metadata": {}
        }
      ]
    },
    {
      "cell_type": "markdown",
      "source": [
        "### 多項式回帰モデル(単回帰分析)"
      ],
      "metadata": {
        "id": "4PoelUa18YVN"
      }
    },
    {
      "cell_type": "markdown",
      "source": [
        "$y = ax^2 + bx + c$ のaとbとcを変えて，赤い線をデータに近づけてみよう．  \n",
        "誤差Jがどうなるか観察しよう．"
      ],
      "metadata": {
        "id": "vsHU363N9Big"
      }
    },
    {
      "cell_type": "code",
      "source": [
        "import numpy as np\n",
        "import matplotlib.pyplot as plt\n",
        "\n",
        "# xが広告費，yが売上高\n",
        "x = [26,35,50,60,87,100,112,117,134,145,160,160,163,173,191,199,203,215,237,270]\n",
        "y = [999,933,978,960,930,1002,1161,1155,1176,1230,1203,1284,1278,1497,1488,1569,1554,1614,1779,1971]\n",
        "\n",
        "# 2次関数の定義\n",
        "def estimate_func(param,x):\n",
        "    return (param[0]*x*x + param[1]*x + param[2])\n",
        "\n",
        "p = []\n",
        "p.append(float(input('a= ')))  # 最初は0.03あたりから試す\n",
        "p.append(float(input('b= ')))  # 最初は0.2あたりから試す\n",
        "p.append(float(input('c= ')))  # 最初は700あたりから試す\n",
        "\n",
        "ylin = [estimate_func(p,i) for i in x]\n",
        "\n",
        "# 誤差を合計する\n",
        "J = 0\n",
        "for i in range(len(x)):\n",
        "    J += (ylin[i]-y[i])**2\n",
        "print('J={}'.format(J))\n",
        "\n",
        "# グラフの描画\n",
        "fig, axe = plt.subplots()\n",
        "axe.set_xlabel('cost(x)')  # x軸ラベル\n",
        "axe.set_ylabel('sales(y)')  # y軸ラベル\n",
        "axe.grid()            # 罫線\n",
        "axe.set_xlim([0, 300]) # x方向の描画範囲を指定\n",
        "axe.scatter(x,y)\n",
        "for i in range(len(x)):\n",
        "    axe.plot([x[i],x[i]],[y[i],ylin[i]],color=\"g\",linestyle = \"dashed\")\n",
        "axe.plot(x,ylin,color=\"r\")\n",
        "fig.tight_layout()  # レイアウトの設定\n",
        "plt.show()"
      ],
      "metadata": {
        "id": "7lzWKOUKi4bZ"
      },
      "execution_count": null,
      "outputs": []
    },
    {
      "cell_type": "markdown",
      "source": [
        "これもscipyライブラリを使って最小二乗法を実行してみる．"
      ],
      "metadata": {
        "id": "L3qwijKeA0Dk"
      }
    },
    {
      "cell_type": "code",
      "source": [
        "import numpy as np\n",
        "import matplotlib.pyplot as plt\n",
        "from scipy import optimize\n",
        "\n",
        "# xが広告費，yが売上高\n",
        "x = [26,35,50,60,87,100,112,117,134,145,160,160,163,173,191,199,203,215,237,270]\n",
        "y = [999,933,978,960,930,1002,1161,1155,1176,1230,1203,1284,1278,1497,1488,1569,1554,1614,1779,1971]\n",
        "\n",
        "# 2次関数の定義\n",
        "def estimate_func(param,x):\n",
        "    return (param[0]*x*x + param[1]*x + param[2])\n",
        "\n",
        "# ここからscipy.optimizeによるフィッテイング\n",
        "def func1(param,x,y):\n",
        "    residual = y - estimate_func(param,x)\n",
        "    return residual\n",
        "\n",
        "param1 = [0.03, 0.2, 700]\n",
        "result = optimize.least_squares(func1, param1, args=(np.array(x), np.array(y)))\n",
        "# フィッテイング終了\n",
        "\n",
        "a = result.x[0]\n",
        "b = result.x[1]\n",
        "c = result.x[2]\n",
        "print('a={:.5},b={:.5},c={:.5}'.format(a,b,c))\n",
        "\n",
        "ylin = [estimate_func(result.x,i) for i in x]\n",
        "\n",
        "# 誤差を合計する (J = result.cost*len(x)でも直接計算可能)\n",
        "J = 0\n",
        "for i in range(len(x)):\n",
        "    J += (ylin[i]-y[i])**2\n",
        "print('J={}'.format(J))\n",
        "\n",
        "# グラフの描画\n",
        "fig, axe = plt.subplots()\n",
        "axe.set_xlabel('cost(x)')  # x軸ラベル\n",
        "axe.set_ylabel('sales(y)')  # y軸ラベル\n",
        "axe.grid()            # 罫線\n",
        "axe.set_xlim([0, 300]) # x方向の描画範囲を指定\n",
        "axe.scatter(x,y)\n",
        "for i in range(len(x)):\n",
        "    axe.plot([x[i],x[i]],[y[i],ylin[i]],color=\"g\",linestyle = \"dashed\")\n",
        "axe.plot(x,ylin,color=\"b\")\n",
        "fig.tight_layout()  # レイアウトの設定\n",
        "plt.show()"
      ],
      "metadata": {
        "id": "J9a5QkSiwhJW"
      },
      "execution_count": null,
      "outputs": []
    },
    {
      "cell_type": "markdown",
      "source": [],
      "metadata": {
        "id": "gdz5BKA2wfkq"
      }
    },
    {
      "cell_type": "markdown",
      "source": [
        "**よっしゃ！6次関数にしてみよう！**  \n",
        "$y = ax^6 + bx^5 + cx^4 + dx^3 + ex^2 + fx + g$"
      ],
      "metadata": {
        "id": "2uLM3IGVCREF"
      }
    },
    {
      "cell_type": "code",
      "source": [
        "import numpy as np\n",
        "import matplotlib.pyplot as plt\n",
        "from scipy import optimize\n",
        "\n",
        "# xが広告費，yが売上高\n",
        "x = [26,35,50,60,87,100,112,117,134,145,160,160,163,173,191,199,203,215,237,270]\n",
        "y = [999,933,978,960,930,1002,1161,1155,1176,1230,1203,1284,1278,1497,1488,1569,1554,1614,1779,1971]\n",
        "\n",
        "# 6次関数の定義\n",
        "def estimate_func(param,x):\n",
        "    return (param[0]*x*x*x*x*x*x + param[1]*x*x*x*x*x + param[2]*x*x*x*x + param[3]*x*x*x + param[4]*x*x + param[5]*x + param[6])\n",
        "\n",
        "# ここからscipy.optimizeによるフィッテイング\n",
        "def func1(param,x,y):\n",
        "    residual = y - estimate_func(param,x)\n",
        "    return residual\n",
        "\n",
        "param1 = [0,0,0,0,0,0,0]\n",
        "result = optimize.least_squares(func1, param1, args=(np.array(x), np.array(y)))\n",
        "# フィッテイング終了\n",
        "\n",
        "a = result.x[0]\n",
        "b = result.x[1]\n",
        "c = result.x[2]\n",
        "d = result.x[3]\n",
        "e = result.x[4]\n",
        "f = result.x[5]\n",
        "g = result.x[6]\n",
        "print('a={:.5},b={:.5},c={:.5},d={:.5},e={:.5},f={:.5},g={:.5}'.format(a,b,c,d,e,f,g))\n",
        "\n",
        "ylin = [estimate_func(result.x,i) for i in x]\n",
        "\n",
        "# 誤差を合計する\n",
        "J = 0\n",
        "for i in range(len(x)):\n",
        "    J += (ylin[i]-y[i])**2\n",
        "print('J={}'.format(J))\n",
        "\n",
        "# グラフの描画\n",
        "fig, axe = plt.subplots()\n",
        "axe.set_xlabel('cost(x)')  # x軸ラベル\n",
        "axe.set_ylabel('sales(y)')  # y軸ラベル\n",
        "axe.grid()            # 罫線\n",
        "axe.set_xlim([0, 300]) # x方向の描画範囲を指定\n",
        "axe.scatter(x,y)\n",
        "for i in range(len(x)):\n",
        "    axe.plot([x[i],x[i]],[y[i],ylin[i]],color=\"g\",linestyle = \"dashed\")\n",
        "axe.plot(x,ylin,color=\"b\")\n",
        "fig.tight_layout()  # レイアウトの設定\n",
        "plt.show()"
      ],
      "metadata": {
        "id": "bTurBVfeCEVp"
      },
      "execution_count": null,
      "outputs": []
    },
    {
      "cell_type": "markdown",
      "source": [
        "あんまり変わらない…"
      ],
      "metadata": {
        "id": "XFNV_GU6EAEb"
      }
    },
    {
      "cell_type": "markdown",
      "source": [
        "## 分類  \n",
        "例題：ある昆虫のホルモン成分AとBの含有量から，雄と雌を分類する\n"
      ],
      "metadata": {
        "id": "bk0XO1AaEnCD"
      }
    },
    {
      "cell_type": "markdown",
      "source": [
        "### まずデータを可視化する"
      ],
      "metadata": {
        "id": "vNw1POeAE5sE"
      }
    },
    {
      "cell_type": "code",
      "source": [
        "import numpy as np\n",
        "import matplotlib.pyplot as plt\n",
        "from scipy import optimize\n",
        "\n",
        "# xが成分A，yが成分B，tが性別(-1がメス，1がオス)\n",
        "x = [41,76,168,235,133,248,414,394,91,489,435,520,411,499,444,301,418,267,512,278]\n",
        "y = [208,488,447,277,229,445,448,431,178,399,80,426,336,364,274,235,315,49,387,127]\n",
        "t = [-1,-1,-1,-1,-1,-1,-1,-1,-1,1,1,1,1,1,1,1,1,1,1,1]\n",
        "\n",
        "# グラフの描画\n",
        "fig, axe = plt.subplots()\n",
        "axe.set_xlabel('Hormone A (x)')  # x軸ラベル\n",
        "axe.set_ylabel('Hormone B (y)')  # y軸ラベル\n",
        "axe.grid()            # 罫線\n",
        "axe.set_xlim([0, 600]) # x方向の描画範囲を指定\n",
        "axe.scatter(x[:9],y[:9],color=\"r\")\n",
        "axe.scatter(x[9:],y[9:],color=\"b\")\n",
        "#for i in range(len(x)):\n",
        "#    axe.plot([x[i],x[i]],[y[i],ylin[i]],color=\"g\",linestyle = \"dashed\")\n",
        "#axe.plot(x,ylin,color=\"r\")\n",
        "fig.tight_layout()  # レイアウトの設定\n",
        "plt.show()"
      ],
      "metadata": {
        "id": "FwHSweoyDJ7U"
      },
      "execution_count": null,
      "outputs": []
    },
    {
      "cell_type": "markdown",
      "source": [
        "### 一次直線で分類してみる"
      ],
      "metadata": {
        "id": "7H1P0YFzLWH0"
      }
    },
    {
      "cell_type": "markdown",
      "source": [
        "$y = ax + b$ のaとbを変えて，緑の線で性別(赤と青の点)を分けてみよう．"
      ],
      "metadata": {
        "id": "iFsTUw6WHc3B"
      }
    },
    {
      "cell_type": "code",
      "source": [
        "import numpy as np\n",
        "import matplotlib.pyplot as plt\n",
        "from scipy import optimize\n",
        "\n",
        "# xが成分A，yが成分B，tが性別(-1がメス，1がオス)\n",
        "x = [41,76,168,235,133,248,414,394,91,489,435,520,411,499,444,301,418,267,512,278]\n",
        "y = [208,488,447,277,229,445,448,431,178,399,80,426,336,364,274,235,315,49,387,127]\n",
        "t = [-1,-1,-1,-1,-1,-1,-1,-1,-1,1,1,1,1,1,1,1,1,1,1,1]\n",
        "\n",
        "a = float(input('a= '))  # 最初は1.8あたりから試す\n",
        "b = float(input('b= '))  # 最初は-100あたりから試す\n",
        "\n",
        "ylin = [a*i + b for i in x]  # y = ax + b\n",
        "\n",
        "residual = [p - q for p, q in zip(y, ylin)]\n",
        "\n",
        "# 間違いのカウント\n",
        "nerror = 0\n",
        "for i in range(len(x)):\n",
        "    if t[i]*residual[i]>0:\n",
        "        nerror += 1\n",
        "print('{}個が誤り'.format(nerror))\n",
        "\n",
        "# グラフの描画\n",
        "fig, axe = plt.subplots()\n",
        "axe.set_xlabel('Hormone A (x)')  # x軸ラベル\n",
        "axe.set_ylabel('Hormone B (y)')  # y軸ラベル\n",
        "axe.grid()            # 罫線\n",
        "axe.set_xlim([0, 600]) # x方向の描画範囲を指定\n",
        "axe.scatter(x[:9],y[:9],color=\"r\")\n",
        "axe.scatter(x[9:],y[9:],color=\"b\")\n",
        "#for i in range(len(x)):\n",
        "#    axe.plot([x[i],x[i]],[y[i],ylin[i]],color=\"g\",linestyle = \"dashed\")\n",
        "axe.plot(x,ylin,color=\"g\")\n",
        "fig.tight_layout()  # レイアウトの設定\n",
        "plt.show()"
      ],
      "metadata": {
        "id": "kWOG51upHoa6"
      },
      "execution_count": null,
      "outputs": []
    },
    {
      "cell_type": "markdown",
      "source": [
        "＜より複雑な分類に関する参考文献＞  \n",
        "https://free.kikagaku.ai/tutorial/basic_of_machine_learning/learn/machine_learning_classification\n"
      ],
      "metadata": {
        "id": "TZh_5gO9FZ2u"
      }
    },
    {
      "cell_type": "markdown",
      "source": [
        "# 3.3 機械学習の基礎と展望(後半：損失，過学習…)"
      ],
      "metadata": {
        "id": "KFc0m41gBC71"
      }
    },
    {
      "cell_type": "markdown",
      "source": [
        "## 損失関数"
      ],
      "metadata": {
        "id": "i-KHWBFiCAdc"
      }
    },
    {
      "cell_type": "markdown",
      "source": [
        "二乗損失関数を計算してみる．  \n",
        "モデル$f_{w1}$，$f_{w2}$，$f_{w3}$があるとする．  \n",
        "$x=10$のときの実際の$y$の値が3である．  \n",
        "いっぽう，各々のモデルの予測値$f_{w1}(x)$，$f_{w2}(x)$，$f_{w3}(x)$は各々$1,4,8$であった．各々のモデルの二乗損失を求めよ．  \n",
        "二乗損失関数は東大のスライドの通りとする．  \n",
        "$l(f_w(x),y)=0.5(y-f_w(x))^2$"
      ],
      "metadata": {
        "id": "Y5jeH36qCl9o"
      }
    },
    {
      "cell_type": "code",
      "source": [
        "# 検算\n",
        "y = 3\n",
        "fw = float(input('fw(x)=)'))\n",
        "print(0.5*(y-fw)**2)"
      ],
      "metadata": {
        "id": "y9yEpSMWFS73"
      },
      "execution_count": null,
      "outputs": []
    },
    {
      "cell_type": "markdown",
      "source": [
        "モデル$f_{w1}$，$f_{w2}$，$f_{w3}$のうち，どれが最も損失が小さいか考えよ．"
      ],
      "metadata": {
        "id": "pb_1dnYyIYY-"
      }
    },
    {
      "cell_type": "markdown",
      "source": [
        "ロジスティック損失を計算してみる．  \n",
        "モデル$f_{w1}$，$f_{w2}$，$f_{w3}$があるとする．  \n",
        "$x=10$のときの実際の$y$の値が3である．  \n",
        "いっぽう，各々のモデルの予測値$f_{w1}(x)$，$f_{w2}(x)$，$f_{w3}(x)$は各々$-1,4,8$であった．各々のモデルのロジスティック損失を求めよ．  \n",
        "損失関数は東大のスライドの通りとする．$log$は自然対数．  \n",
        "$l(f_w(x),y)=log(1+exp(-yf_w(x)))$"
      ],
      "metadata": {
        "id": "m4Kc_StoIqfa"
      }
    },
    {
      "cell_type": "code",
      "source": [
        "# 検算\n",
        "import math as m\n",
        "y = 3\n",
        "fw = float(input('fw(x)=)'))\n",
        "print(m.log(1+m.exp(-y*fw)))"
      ],
      "metadata": {
        "id": "SEf9D8t_JEGk"
      },
      "execution_count": null,
      "outputs": []
    },
    {
      "cell_type": "markdown",
      "source": [
        "計算結果の「e-n」は$10^{-n}$の意味である．  \n",
        "例：3.1415e-7 → $3.1415×10^{-7}$"
      ],
      "metadata": {
        "id": "BaMl1UceLKvH"
      }
    },
    {
      "cell_type": "markdown",
      "source": [
        "モデル$f_{w1}$，$f_{w2}$，$f_{w3}$のうち，どれが最も損失が大きいか考えよ．実際の値と予測値の符号の違いにも注意する．"
      ],
      "metadata": {
        "id": "pfvXAIenLzMb"
      }
    },
    {
      "cell_type": "markdown",
      "source": [
        "#### コラム：予測と正解の差を表す名称  \n",
        "* 損失関数 (loss function)  \n",
        "* 誤差関数 (error function)  \n",
        "* コスト関数 (cost function)  \n",
        "* 目的関数 (objective function)  \n",
        "\n",
        "ぶっちゃけ，最初はこれらは同じだと思って結構です．いずれも訓練時に用いられ，パラメータを変化させることによりモデルを向上させます．小さくなるほど「誤差」が少なく，良いモデルといえます．具体的な関数の名称(例えば平方根とか)ではないことに注意してください．  \n",
        "  \n",
        "これらとは別に「評価関数」(evaluation function)という言葉があります．損失関数らとは「いつ使うか」が異なります．訓練データではなく，実際のデータ(この後に取り扱う「検証データ」)を用いて，そのモデルの良し悪しを評価するときに使用します．\n",
        "\n",
        "[わかりやすい説明はここ](https://zenn.dev/nekoallergy/articles/machinelearning-func)  \n",
        "  \n",
        "なお，この章では東大のスライドの表現「損失関数」を使用します．"
      ],
      "metadata": {
        "id": "UZfGugjAz23k"
      }
    },
    {
      "cell_type": "markdown",
      "source": [
        "## 過学習"
      ],
      "metadata": {
        "id": "aMUwyXcilmmU"
      }
    },
    {
      "cell_type": "markdown",
      "source": [
        "回帰モデルの「6次関数」    \n",
        "$y = ax^6 + bx^5 + cx^4 + dx^3 + ex^2 + fx + g$  \n",
        "訓練データが10個(もとは20個)だったら？"
      ],
      "metadata": {
        "id": "k-P4ATROlzsj"
      }
    },
    {
      "cell_type": "code",
      "source": [
        "import numpy as np\n",
        "import matplotlib.pyplot as plt\n",
        "from scipy import optimize\n",
        "\n",
        "# 10個に減らす\n",
        "# xが広告費，yが売上高\n",
        "x = [26,50,87,112,134,160,163,191,203,237]\n",
        "y = [999,978,930,1161,1176,1203,1278,1488,1554,1779]\n",
        "\n",
        "# 減らす前のデータ\n",
        "xx = [26,35,50,60,87,100,112,117,134,145,160,160,163,173,191,199,203,215,237,270]\n",
        "yy = [999,933,978,960,930,1002,1161,1155,1176,1230,1203,1284,1278,1497,1488,1569,1554,1614,1779,1971]\n",
        "\n",
        "# 6次関数の定義\n",
        "def estimate_func(param,x):\n",
        "    return (param[0]*x*x*x*x*x*x + param[1]*x*x*x*x*x + param[2]*x*x*x*x + param[3]*x*x*x + param[4]*x*x + param[5]*x + param[6])\n",
        "\n",
        "# ここからscipy.optimizeによるフィッテイング\n",
        "def func1(param,x,y):\n",
        "    residual = y - estimate_func(param,x)\n",
        "    return residual\n",
        "\n",
        "param1 = [0,0,0,0,0,0,0]\n",
        "result = optimize.least_squares(func1, param1, args=(np.array(x), np.array(y)))\n",
        "# フィッテイング終了\n",
        "\n",
        "a = result.x[0]\n",
        "b = result.x[1]\n",
        "c = result.x[2]\n",
        "d = result.x[3]\n",
        "e = result.x[4]\n",
        "f = result.x[5]\n",
        "g = result.x[6]\n",
        "print('a={:.5},b={:.5},c={:.5},d={:.5},e={:.5},f={:.5},g={:.5}'.format(a,b,c,d,e,f,g))\n",
        "\n",
        "ylin = [estimate_func(result.x,i) for i in x]\n",
        "\n",
        "# 誤差を合計する\n",
        "J = 0\n",
        "for i in range(len(x)):\n",
        "    J += (ylin[i]-y[i])**2\n",
        "print('J={}'.format(J))\n",
        "\n",
        "# グラフの描画\n",
        "fig, axe = plt.subplots()\n",
        "axe.set_xlabel('cost(x)')  # x軸ラベル\n",
        "axe.set_ylabel('sales(y)')  # y軸ラベル\n",
        "axe.grid()            # 罫線\n",
        "axe.set_xlim([0, 300]) # x方向の描画範囲を指定\n",
        "axe.scatter(xx,yy,c=\"r\")\n",
        "axe.scatter(x,y,c=\"b\")\n",
        "for i in range(len(x)):\n",
        "    axe.plot([x[i],x[i]],[y[i],ylin[i]],color=\"g\",linestyle = \"dashed\")\n",
        "axe.plot(x,ylin,color=\"b\")\n",
        "fig.tight_layout()  # レイアウトの設定\n",
        "plt.show()"
      ],
      "metadata": {
        "id": "tnRSnzqACFCu"
      },
      "execution_count": null,
      "outputs": []
    },
    {
      "cell_type": "markdown",
      "source": [
        "7個だったら？"
      ],
      "metadata": {
        "id": "l8kYSMJLmz-w"
      }
    },
    {
      "cell_type": "code",
      "source": [
        "import numpy as np\n",
        "import matplotlib.pyplot as plt\n",
        "from scipy import optimize\n",
        "\n",
        "# 7個に減らす\n",
        "# xが広告費，yが売上高\n",
        "x = [26,87,112,134,160,163,237]\n",
        "y = [999,930,1161,1176,1203,1278,1779]\n",
        "\n",
        "# 減らす前のデータ\n",
        "xx = [26,35,50,60,87,100,112,117,134,145,160,160,163,173,191,199,203,215,237,270]\n",
        "yy = [999,933,978,960,930,1002,1161,1155,1176,1230,1203,1284,1278,1497,1488,1569,1554,1614,1779,1971]\n",
        "\n",
        "# 6次関数の定義\n",
        "def estimate_func(param,x):\n",
        "    return (param[0]*x*x*x*x*x*x + param[1]*x*x*x*x*x + param[2]*x*x*x*x + param[3]*x*x*x + param[4]*x*x + param[5]*x + param[6])\n",
        "\n",
        "# ここからscipy.optimizeによるフィッテイング\n",
        "def func1(param,x,y):\n",
        "    residual = y - estimate_func(param,x)\n",
        "    return residual\n",
        "\n",
        "param1 = [0,0,0,0,0,0,0]\n",
        "result = optimize.least_squares(func1, param1, args=(np.array(x), np.array(y)))\n",
        "# フィッテイング終了\n",
        "\n",
        "a = result.x[0]\n",
        "b = result.x[1]\n",
        "c = result.x[2]\n",
        "d = result.x[3]\n",
        "e = result.x[4]\n",
        "f = result.x[5]\n",
        "g = result.x[6]\n",
        "print('a={:.5},b={:.5},c={:.5},d={:.5},e={:.5},f={:.5},g={:.5}'.format(a,b,c,d,e,f,g))\n",
        "\n",
        "ylin = [estimate_func(result.x,i) for i in x]\n",
        "\n",
        "# 誤差を合計する\n",
        "J = 0\n",
        "for i in range(len(x)):\n",
        "    J += (ylin[i]-y[i])**2\n",
        "print('J={}'.format(J))\n",
        "\n",
        "# グラフの描画\n",
        "fig, axe = plt.subplots()\n",
        "axe.set_xlabel('cost(x)')  # x軸ラベル\n",
        "axe.set_ylabel('sales(y)')  # y軸ラベル\n",
        "axe.grid()            # 罫線\n",
        "axe.set_xlim([0, 300]) # x方向の描画範囲を指定\n",
        "axe.scatter(xx,yy,c=\"r\")\n",
        "axe.scatter(x,y,c=\"b\")\n",
        "for i in range(len(x)):\n",
        "    axe.plot([x[i],x[i]],[y[i],ylin[i]],color=\"g\",linestyle = \"dashed\")\n",
        "axe.plot(x,ylin,color=\"b\")\n",
        "fig.tight_layout()  # レイアウトの設定\n",
        "plt.show()"
      ],
      "metadata": {
        "id": "AsjmBVyql987"
      },
      "execution_count": null,
      "outputs": []
    },
    {
      "cell_type": "markdown",
      "source": [
        "元の訓練データ(青色の点)が７つしかないのに，6次関数という複雑なモデルを用いた場合，訓練に用いたデータにはよく適合します(Jの値はほぼ０)  \n",
        "しかし「まだ知らない」データ(橙色の点)には適合しません．  \n",
        "損失はちいさいですが，これは良い学習といえるのでしょうか？？  \n",
        "これを**「過学習 (overfit)」**といいます．"
      ],
      "metadata": {
        "id": "OVlwLbeBn6CM"
      }
    },
    {
      "cell_type": "markdown",
      "source": [
        "逆にモデルを単純化する．  \n",
        "$y = ax + 1000$という，パラメータが1個しかないモデルを試してみよう．"
      ],
      "metadata": {
        "id": "GTAYVEixqXfN"
      }
    },
    {
      "cell_type": "code",
      "source": [
        "import numpy as np\n",
        "import matplotlib.pyplot as plt\n",
        "from scipy import optimize\n",
        "\n",
        "# xが広告費，yが売上高\n",
        "x = [26,35,50,60,87,100,112,117,134,145,160,160,163,173,191,199,203,215,237,270]\n",
        "y = [999,933,978,960,930,1002,1161,1155,1176,1230,1203,1284,1278,1497,1488,1569,1554,1614,1779,1971]\n",
        "\n",
        "# 1次関数の定義\n",
        "def estimate_func(param,x):\n",
        "    return (param[0]*x+1000)\n",
        "\n",
        "# ここからscipy.optimizeによるフィッテイング\n",
        "def func1(param,x,y):\n",
        "    residual = y - estimate_func(param,x)\n",
        "    return residual\n",
        "\n",
        "param1 = [0]\n",
        "result = optimize.least_squares(func1, param1, args=(np.array(x), np.array(y)))\n",
        "# フィッテイング終了\n",
        "\n",
        "ylin = [estimate_func(result.x,i) for i in x]\n",
        "\n",
        "# 誤差を合計する\n",
        "J = 0\n",
        "for i in range(len(x)):\n",
        "    J += (ylin[i]-y[i])**2\n",
        "print('J={}'.format(J))\n",
        "\n",
        "# グラフの描画\n",
        "fig, axe = plt.subplots()\n",
        "axe.set_xlabel('cost(x)')  # x軸ラベル\n",
        "axe.set_ylabel('sales(y)')  # y軸ラベル\n",
        "axe.grid()            # 罫線\n",
        "axe.set_xlim([0, 300]) # x方向の描画範囲を指定\n",
        "axe.scatter(x,y)\n",
        "for i in range(len(x)):\n",
        "    axe.plot([x[i],x[i]],[y[i],ylin[i]],color=\"g\",linestyle = \"dashed\")\n",
        "axe.plot(x,ylin,color=\"r\")\n",
        "fig.tight_layout()  # レイアウトの設定\n",
        "plt.show()"
      ],
      "metadata": {
        "id": "xpCMMbe-l_LP"
      },
      "execution_count": null,
      "outputs": []
    },
    {
      "cell_type": "markdown",
      "source": [
        "あまりに単純すぎるモデルを使うと，たとえ訓練データが多くてもフィットしません．これが過学習の逆の**「アンダーフィット (underfit)」**という現象です．"
      ],
      "metadata": {
        "id": "Aq1QF0sqqg3O"
      }
    },
    {
      "cell_type": "markdown",
      "source": [
        "## 汎化"
      ],
      "metadata": {
        "id": "IZmvZdZbskgF"
      }
    },
    {
      "cell_type": "markdown",
      "source": [
        "訓練データ(学習データ)のみならず，すべてのデータによくフィットすることをモデルの「汎化(はんか)」という．先ほどの回帰モデルの例のように，あまりにも複雑なモデルは訓練データにはよくフィットする(訓練損失(経験損失，訓練誤差)が小さくなる)が，訓練に用いなかったデータ(未知のデータ)に対する損失(汎化損失)は増えてしまう．"
      ],
      "metadata": {
        "id": "k73iX-qDtAgy"
      }
    },
    {
      "cell_type": "markdown",
      "source": [
        "## 正則化"
      ],
      "metadata": {
        "id": "H5hqz-0xvUYD"
      }
    },
    {
      "cell_type": "markdown",
      "source": [
        "LASSO回帰で用いられる$L_1$正則化を試してみる．  \n",
        "二次の回帰モデルで，適当に係数a,b,cを入れてみる．  \n",
        "係数の値によって正則化項が求まり，それに係数λを乗じ，損失に追加したものが**正則化付き**経験損失となる．  \n",
        "$L_1$正則化では，正則化項は単純に係数a,b,cの絶対値の和である．  \n",
        "損失とλから，手計算でも確認するとよい．  \n",
        "係数が大きくなるとモデルが複雑になるが，正則化付き経験損失を用いて最小化すれば，モデルの複雑さをある程度抑えることができる．"
      ],
      "metadata": {
        "id": "OMbHL-iIxi3d"
      }
    },
    {
      "cell_type": "code",
      "source": [
        "import numpy as np\n",
        "import matplotlib.pyplot as plt\n",
        "\n",
        "# xが広告費，yが売上高\n",
        "x = [26,35,50,60,87,100,112,117,134,145,160,160,163,173,191,199,203,215,237,270]\n",
        "y = [999,933,978,960,930,1002,1161,1155,1176,1230,1203,1284,1278,1497,1488,1569,1554,1614,1779,1971]\n",
        "\n",
        "# 2次関数の定義\n",
        "def estimate_func(param,x):\n",
        "    return (param[0]*x*x + param[1]*x + param[2])\n",
        "\n",
        "p = []\n",
        "p.append(float(input('a= ')))  # 最初は0.03あたりから試す\n",
        "p.append(float(input('b= ')))  # 最初は0.2あたりから試す\n",
        "p.append(float(input('c= ')))  # 最初は700あたりから試す\n",
        "\n",
        "ylin = [estimate_func(p,i) for i in x]\n",
        "\n",
        "# 誤差を合計する\n",
        "J = 0\n",
        "for i in range(len(x)):\n",
        "    J += (ylin[i]-y[i])**2\n",
        "J /= len(x) # この節ではデータ数で割っています\n",
        "print('損失={}'.format(J))\n",
        "R = abs(p[0])+abs(p[1])+abs(p[2])\n",
        "print('正則化項R={}'.format(R))\n",
        "print('λ=10とすると')\n",
        "print('正則化付き損失=訓練損失＋λ×正則化項=',format(J+10*R))\n",
        "\n",
        "# グラフの描画\n",
        "fig, axe = plt.subplots()\n",
        "axe.set_xlabel('cost(x)')  # x軸ラベル\n",
        "axe.set_ylabel('sales(y)')  # y軸ラベル\n",
        "axe.grid()            # 罫線\n",
        "axe.set_xlim([0, 300]) # x方向の描画範囲を指定\n",
        "axe.scatter(x,y)\n",
        "for i in range(len(x)):\n",
        "    axe.plot([x[i],x[i]],[y[i],ylin[i]],color=\"g\",linestyle = \"dashed\")\n",
        "axe.plot(x,ylin,color=\"r\")\n",
        "fig.tight_layout()  # レイアウトの設定\n",
        "plt.show()"
      ],
      "metadata": {
        "id": "cWwtVXWJqMZG"
      },
      "execution_count": null,
      "outputs": []
    },
    {
      "cell_type": "markdown",
      "source": [
        "## 検証データ (validation data)"
      ],
      "metadata": {
        "id": "ovXVMok6z0Yh"
      }
    },
    {
      "cell_type": "markdown",
      "source": [
        "実際にデータを「訓練データ」と「検証データ」に分けてみる．  \n",
        "当然ながら，訓練誤差と検証誤差は異なる．"
      ],
      "metadata": {
        "id": "qVQcsVoY4EoT"
      }
    },
    {
      "cell_type": "code",
      "source": [
        "import numpy as np\n",
        "import matplotlib.pyplot as plt\n",
        "from scipy import optimize\n",
        "\n",
        "# xが広告費，yが売上高\n",
        "#x = [26,35,50,60,87,100,112,117,134,145,160,160,163,173,191,199,203,215,237,270]\n",
        "#y = [999,933,978,960,930,1002,1161,1155,1176,1230,1203,1284,1278,1497,1488,1569,1554,1614,1779,1971]\n",
        "\n",
        "# 訓練データ(青丸)\n",
        "x = [35,60,87,100,112,117,134,145,160,163,173,215,237,270]\n",
        "y = [933,960,930,1002,1161,1155,1176,1230,1284,1278,1497,1614,1779,1971]\n",
        "\n",
        "# 検証データ(赤丸)\n",
        "xval = [26,50,191,199,203,160]\n",
        "yval =[999,978,1488,1569,1554,1203]\n",
        "\n",
        "# 1次関数の定義\n",
        "def estimate_func(param,x):\n",
        "    return (param[0]*x + param[1])\n",
        "\n",
        "# ここからscipy.optimizeによるフィッテイング\n",
        "def func1(param,x,y):\n",
        "    residual = y - estimate_func(param,x)\n",
        "    return residual\n",
        "\n",
        "param1 = [0, 0]\n",
        "result = optimize.least_squares(func1, param1, args=(np.array(x), np.array(y)))\n",
        "# フィッテイング終了\n",
        "\n",
        "a = result.x[0]\n",
        "b = result.x[1]\n",
        "print('a={},b={}'.format(a,b))\n",
        "\n",
        "ylin = [estimate_func(result.x,i) for i in x]\n",
        "ylinval = [estimate_func(result.x,i) for i in xval]\n",
        "\n",
        "# 誤差を合計する\n",
        "J = 0\n",
        "for i in range(len(x)):\n",
        "    J += (ylin[i]-y[i])**2\n",
        "J /= len(x)\n",
        "print('J/n(訓練データ)={}'.format(J))\n",
        "\n",
        "J = 0\n",
        "for i in range(len(xval)):\n",
        "    J += (ylinval[i]-yval[i])**2\n",
        "J /= len(x)\n",
        "print('J/n(検証データ)={}'.format(J))\n",
        "\n",
        "# グラフの描画\n",
        "fig, axe = plt.subplots()\n",
        "axe.set_xlabel('cost(x)')  # x軸ラベル\n",
        "axe.set_ylabel('sales(y)')  # y軸ラベル\n",
        "axe.grid()            # 罫線\n",
        "axe.set_xlim([0, 300]) # x方向の描画範囲を指定\n",
        "axe.scatter(x,y,color=\"b\")\n",
        "axe.scatter(xval,yval,color=\"r\")\n",
        "for i in range(len(xval)):\n",
        "    axe.plot([xval[i],xval[i]],[yval[i],ylinval[i]],color=\"g\",linestyle = \"dashed\")\n",
        "axe.plot(x,ylin,color=\"b\")\n",
        "fig.tight_layout()  # レイアウトの設定\n",
        "plt.show()"
      ],
      "metadata": {
        "id": "WRDcv5hw4Kp4"
      },
      "execution_count": null,
      "outputs": []
    },
    {
      "cell_type": "markdown",
      "source": [
        "### コラム：データの名称  \n",
        "「○○データ」も「○○関数」と同じように，似た概念があったり，解説者によって流儀や誤解があり，混乱している．  \n",
        "* 学習データ(訓練データ, トレーニングデータ，training data)  \n",
        "…モデルの学習そのものに用いるデータ．過学習の例では青い点．  \n",
        "* 検証データ(ホールドアウトデータ, validation data)  \n",
        "…汎化誤差を評価し，ハイパーパラメーター(人間が調整して入力するパラメータ)を調整するためのデータ．**この検証データのことを「テストデータ」と表現する場合もある**  \n",
        "* テストデータ (test data)  \n",
        "…最終的に出来上がったモデルの性能を評価するために，別に用意されたデータ．機械学習の参考文献ではあまり登場しないが，本番環境で使い物になるかどうかの評価においては，学習データや検証データを用いるべきではない．  \n",
        "\n",
        "なお，「教師データ」という言い方もあり，「学習データ」とほぼ同じ意味で使用されているが，「教師無し学習」で「教師データ」とはよばない．\n",
        "\n",
        "[わかりやすい説明はここ](https://zenn.dev/nekoallergy/articles/ml-basic-data)"
      ],
      "metadata": {
        "id": "oPZepMoQ0BYe"
      }
    },
    {
      "cell_type": "markdown",
      "source": [
        "## 正規化と標準化"
      ],
      "metadata": {
        "id": "nE3TEIsfJpSW"
      }
    },
    {
      "cell_type": "markdown",
      "source": [
        "正規化も標準化も，機械学習の前処理の一つであり，データの範囲を分かりやすい範囲(おおむね-1～1)にスケーリングする方法である．  \n",
        "単に人に分かりやすいということだけでなく，実際にデータを正規化や標準化しないで学習させてもうまくいかない場合がある．  \n",
        "  \n",
        "なおこの「正規化」「標準化」も文献により混同されていて，たとえば正規化と標準化をひっくるめて正規化と呼んでいる場合もある．"
      ],
      "metadata": {
        "id": "jMMLzKl6KwVR"
      }
    },
    {
      "cell_type": "markdown",
      "source": [
        "### 正規化"
      ],
      "metadata": {
        "id": "8-AC9TvuLIzq"
      }
    },
    {
      "cell_type": "markdown",
      "source": [
        "最小値を0，最大値を1となるようにスケーリングする方法．  \n",
        "$x_{new}=\\dfrac{x-x_{min}}{x_{max}-x_{min}}$  \n",
        "**「外れ値」に弱い**ので，最大値・最小値が既知の場合以外は使わないほうが良い．  "
      ],
      "metadata": {
        "id": "gi8XRRe-L83I"
      }
    },
    {
      "cell_type": "markdown",
      "source": [
        "* 例題：最大値が56，最小値が24の場合に，32を正規化するとどうなるか？"
      ],
      "metadata": {
        "id": "JR1M0uWOM7Jb"
      }
    },
    {
      "cell_type": "markdown",
      "source": [
        "### 標準化"
      ],
      "metadata": {
        "id": "dcN06lRkLLYi"
      }
    },
    {
      "cell_type": "markdown",
      "source": [
        "平均値が0，分散が1となるようにスケーリングする方法．  \n",
        "σは標準偏差とすると，データから平均を引き，標準偏差σで割ればよい．  \n",
        "$x_{new}=\\dfrac{x-x_{avg}}{σ}$  \n",
        "  \n",
        "ライブラリによって標準偏差だったり(scikit-learn, numpy)不偏標準偏差(不偏分散の平方根)だったりする(pandas, R)らしいが，データ数nが大きいので，機械学習の結果にはそう大きな影響はないと思われる．  \n",
        "https://qiita.com/karaage0703/items/f38d18afc1569fcc0418"
      ],
      "metadata": {
        "id": "Fv7aLlPtNMmL"
      }
    },
    {
      "cell_type": "markdown",
      "source": [
        "* 例題：標準偏差が16，平均が24の場合に，32を標準化するとどうなるか？また，16を標準化するとどうなるか？"
      ],
      "metadata": {
        "id": "efulyX0-PlP7"
      }
    },
    {
      "cell_type": "markdown",
      "source": [
        "外れ値の影響をグラフで確認する．  \n",
        "次の図は外れ値を有するランダムデータを正規化した時のヒストグラムである．実行するたびに細かく変化するが，外れ値が1個増えただけでヒストグラムが急激に変化し，平均も移動し，範囲が狭くなる．"
      ],
      "metadata": {
        "id": "Swi4yHTVq023"
      }
    },
    {
      "cell_type": "code",
      "source": [
        "import numpy as np\n",
        "import matplotlib.pyplot as plt\n",
        "\n",
        "generator = np.random.default_rng()\n",
        "x = generator.normal(loc=10, scale=3, size=500)  # 平均10，標準偏差3のランダムデータを作る\n",
        "seikika =np.array(list(map(lambda i : (i-x.min())/(x.max()-x.min()) , x))) # 正規化\n",
        "\n",
        "x_out = np.append(x,100)                             # 外れ値100を追加\n",
        "seikika_out =np.array(list(map(lambda i : (i-x_out.min())/(x_out.max()-x_out.min()) , x_out))) # 正規化\n",
        "\n",
        "plt.xlim(0, 1)\n",
        "plt.hist(seikika,alpha=0.4,bins=40,range=(0,1),label=\"Hazure nashi\")\n",
        "plt.hist(seikika_out,alpha=0.4,bins=40,range=(0,1),label=\"Hazure ari\")\n",
        "plt.legend(loc=\"upper right\", fontsize=13)"
      ],
      "metadata": {
        "id": "EVLbFB_8Sfx2"
      },
      "execution_count": null,
      "outputs": []
    },
    {
      "cell_type": "markdown",
      "source": [
        "次に標準化の場合，外れ値が1個増えただけでは標準化後の分布の平均に差は見られない．"
      ],
      "metadata": {
        "id": "a0r4iZ5St7Ws"
      }
    },
    {
      "cell_type": "code",
      "source": [
        "import numpy as np\n",
        "import matplotlib.pyplot as plt\n",
        "\n",
        "generator = np.random.default_rng()\n",
        "x = generator.normal(loc=10, scale=3, size=500)  # 平均10，標準偏差3のランダムデータを作る\n",
        "hyojunka =np.array(list(map(lambda i : (i-x.mean())/x.std(), x)))         # 標準化\n",
        "\n",
        "x_out = np.append(x,100)                             # 外れ値100を追加\n",
        "hyojunka_out =np.array(list(map(lambda i : (i-x_out.mean())/x_out.std(), x_out)))         # 標準化\n",
        "\n",
        "plt.hist(hyojunka,alpha=0.4,bins=40,range=(-4,10),label=\"Hazure nashi\")\n",
        "plt.hist(hyojunka_out,alpha=0.4,bins=40,range=(-4,10),label=\"Hazure ari\")\n",
        "plt.legend(loc=\"upper right\", fontsize=13)"
      ],
      "metadata": {
        "id": "DAK0dQpNtaUa"
      },
      "execution_count": null,
      "outputs": []
    },
    {
      "cell_type": "markdown",
      "source": [
        "## 例：タイタニックの生存分析"
      ],
      "metadata": {
        "id": "TT4EnRFDUjB9"
      }
    },
    {
      "cell_type": "markdown",
      "source": [
        "### 0)データの読み込みと前処理"
      ],
      "metadata": {
        "id": "XwneCHTuUxZf"
      }
    },
    {
      "cell_type": "markdown",
      "source": [
        "ToyoNet-ACEから**titanic.csv**をダウンロードし，Google Colabにアップロードする．手順はToyoNet-ACEに書いてある．  \n",
        "\n",
        "*Will Cukierski. (2012). Titanic - Machine Learning from Disaster. Kaggle. https://kaggle.com/competitions/titanic*"
      ],
      "metadata": {
        "id": "ynzDFVrRVBcx"
      }
    },
    {
      "cell_type": "code",
      "source": [
        "import pandas as pd\n",
        "data_df=pd.read_csv(\"titanic.csv\")\n",
        "data_df"
      ],
      "metadata": {
        "id": "TQh3ECiCVcy0"
      },
      "execution_count": null,
      "outputs": []
    },
    {
      "cell_type": "markdown",
      "source": [
        "このデータは1912年のタイタニック号の事故の乗客データである．  \n",
        "https://www.kaggle.com/competitions/titanic  \n",
        "  \n",
        "データ列は以下の通り：  \n",
        "* PassangerID: 乗船者ID\n",
        "* Survived: 生存情報(0=死亡，1=生存)\n",
        "* Pclass: チケットのクラス(1=1st, 2=2nd , 3=3rd)\n",
        "* Name / Sex / Age: 名前/ 性別/ 年齢\n",
        "* SibSp / Parch: 乗船している兄弟・配偶者/ 親⼦の⼈数\n",
        "* Ticket / Fare / Cabin : チケット番号/ 運賃/キャビン番号\n",
        "* Embarked: 乗船場所(C = Cherbourg, Q = Queenstown, S = Southampton)  \n",
        "  \n",
        "ここで，**NaN**という表示があるのが分かるであろうか．これはデータがない，つまり**「欠損値」**を示している．実際のデータにはこのような欠損値や異常値がある場合がある．"
      ],
      "metadata": {
        "id": "d9KwM90bV3qj"
      }
    },
    {
      "cell_type": "markdown",
      "source": [
        "データの基本的な統計量を確認する．  \n",
        "describe()は，個数や平均などを表示する．"
      ],
      "metadata": {
        "id": "b8mqCUh4XIan"
      }
    },
    {
      "cell_type": "code",
      "source": [
        "data_df.describe()"
      ],
      "metadata": {
        "id": "o9_rrAUuXMTj"
      },
      "execution_count": null,
      "outputs": []
    },
    {
      "cell_type": "markdown",
      "source": [
        "前処理を行う．詳細はコード中のコメント文を見る．  \n",
        "データ型は次の通り．  \n",
        "* int64: 64bit符号付き整数(-9,223,372,036,854,775,808～9,223,372,036,854,775,807)\n",
        "* float64: 64bit浮動小数点数\n",
        "* unit8: 8bit符号なし整数(0～255)\n",
        "* object: その他(主に文字列)"
      ],
      "metadata": {
        "id": "gx7gGjUUXayU"
      }
    },
    {
      "cell_type": "code",
      "source": [
        "data_df=data_df.drop([\"Cabin\"],axis=1)             # Cabin列を消す\n",
        "data_df=data_df.dropna(subset=[\"Age\",\"Embarked\"])  # AgeとEmbarkedが欠損している行を削除する\n",
        "data_df=data_df.drop([\"PassengerId\",\"Name\",\"Ticket\"],axis=1)  # そのほか無関係な列を消去する\n",
        "cat_col=['Sex','Pclass','Embarked']                # Sex, Pclass, Embarkedは文字列なので，数字に変換する\n",
        "data_df=pd.get_dummies(data_df,columns=cat_col)\n",
        "data_df.dtypes                                     # データ型を確認．すべて数字になっている"
      ],
      "metadata": {
        "id": "UNDZsuHPXmsG"
      },
      "execution_count": null,
      "outputs": []
    },
    {
      "cell_type": "markdown",
      "source": [
        "### 1)訓練データと検証データの分割"
      ],
      "metadata": {
        "id": "MjSbm5csY6MB"
      }
    },
    {
      "cell_type": "markdown",
      "source": [
        "*東大のスライドではscikit-learnの定義に基づいて「訓練データ(train)」と「テストデータ(test)」という説明をしているが，ここでは3.3で学んだ通り「検証データ」という言葉を用いる．*"
      ],
      "metadata": {
        "id": "wYLSB4dEahH2"
      }
    },
    {
      "cell_type": "markdown",
      "source": [
        "全体のデータ(712人分)の2割(2行目のtest_size=に書いているのがその割合)を検証データに，残りを訓練データに分割する．"
      ],
      "metadata": {
        "id": "Fi0protLZXLA"
      }
    },
    {
      "cell_type": "code",
      "source": [
        "from sklearn.model_selection import train_test_split\n",
        "train_df,test_df=train_test_split(data_df,test_size=0.2,random_state=0)\n",
        "print('訓練データ数：{}，検証データ数：{}'.format(len(train_df),len(test_df)))"
      ],
      "metadata": {
        "id": "4nuj5vliZAoQ"
      },
      "execution_count": null,
      "outputs": []
    },
    {
      "cell_type": "markdown",
      "source": [
        "### 2)データの標準化  \n",
        "各列の平均を0，分散を1となるように標準化する．  \n",
        "訓練データの平均と分散から定める．検証データについてもその値で標準化する"
      ],
      "metadata": {
        "id": "GeRYdZ7lZxsm"
      }
    },
    {
      "cell_type": "code",
      "source": [
        "from sklearn.preprocessing import StandardScaler\n",
        "\n",
        "X_train = train_df.iloc[:,1:].values\n",
        "Y_train = train_df.iloc[:,0].values\n",
        "X_test = test_df.iloc[:,1:].values\n",
        "Y_test = test_df.iloc[:,0].values\n",
        "\n",
        "sc = StandardScaler()\n",
        "X_train = sc.fit_transform(X_train)\n",
        "X_test = sc.transform(X_test)"
      ],
      "metadata": {
        "id": "HrxnPGBnbNpY"
      },
      "execution_count": null,
      "outputs": []
    },
    {
      "cell_type": "code",
      "source": [
        "print(Y_test)"
      ],
      "metadata": {
        "id": "8JgzxmXydm_h"
      },
      "execution_count": null,
      "outputs": []
    },
    {
      "cell_type": "markdown",
      "source": [
        "###3) ロジスティック回帰による分類"
      ],
      "metadata": {
        "id": "DWB_sIvAb39f"
      }
    },
    {
      "cell_type": "markdown",
      "source": [
        "ロジスティック回帰(手法の詳細はこの講義では省略)を行って，乗客の生死を予測するモデルを作成する．  \n",
        "訓練データによる分類精度と，検証データによる分類精度にそれほど違いがないことを確認する．もし検証データによる分類精度が訓練データによるものより大幅に低ければ，それは過学習が発生している可能性がある．"
      ],
      "metadata": {
        "id": "b20Wkr4UImSs"
      }
    },
    {
      "cell_type": "code",
      "source": [
        "from sklearn.linear_model import LogisticRegression\n",
        "from sklearn.model_selection import GridSearchCV\n",
        "import numpy as np\n",
        "\n",
        "params={\"C\":np.logspace(0,4,5)}\n",
        "logreg_cv=GridSearchCV(LogisticRegression(),cv=5,param_grid=params)\n",
        "logreg_cv.fit(X_train,Y_train)\n",
        "print('訓練データでの分類精度：{0:.2%}'.format(logreg_cv.score(X_train,Y_train)))\n",
        "print('検証データでの分類精度：{0:.2%}'.format(logreg_cv.score(X_test,Y_test)))\n"
      ],
      "metadata": {
        "id": "fspgUs1Eb7_0"
      },
      "execution_count": null,
      "outputs": []
    },
    {
      "cell_type": "markdown",
      "source": [
        "###4)混同行列"
      ],
      "metadata": {
        "id": "gcLb8EL4d8-7"
      }
    },
    {
      "cell_type": "markdown",
      "source": [
        "混同行列は，機械学習の性能を行列の形でまとめたもので，通常は次のように色付きの格子として表現する．縦が検証データの真の値，横が機械学習で得られた検証データの予測値である．ネットの情報では，縦と横が逆の場合も少なからず見受けられるので注意する．  "
      ],
      "metadata": {
        "id": "qOVSSA1NF1FA"
      }
    },
    {
      "cell_type": "code",
      "source": [
        "from sklearn.metrics import confusion_matrix\n",
        "import matplotlib.pyplot as plt\n",
        "\n",
        "cm = confusion_matrix(Y_test,logreg_cv.predict(X_test),labels=[0,1])\n",
        "\n",
        "plt.xticks([0,1],[0,1])\n",
        "plt.yticks([0,1,],[0,1])\n",
        "plt.title('Confusion matrix')\n",
        "plt.xlabel('Predicted labels')\n",
        "plt.ylabel('True labels')\n",
        "\n",
        "plt.imshow(cm,cmap=plt.cm.Greys)\n",
        "plt.colorbar()"
      ],
      "metadata": {
        "id": "ClGgivaId_pP"
      },
      "execution_count": null,
      "outputs": []
    },
    {
      "cell_type": "markdown",
      "source": [
        "混同行列の見方を説明する．  \n",
        "左上の黒いところは検証データの真の値が0(乗客が死亡)で予測値も0の場合，右下の灰色は検証データの真の値が1(乗客が生存)で予測値も1の場合である．どちらも正しい値である．  \n",
        "一方で左下は検証データの真の値が1なのに予測値が0の場合，右上は検証データの真の値が0なのに予測値が1の場合で，どちらも誤りである．  \n",
        "このように混同行列は，先ほどの「分類精度」だけを見るよりも学習の性能が詳しくわかる．"
      ],
      "metadata": {
        "id": "sLk7TEnnH8xv"
      }
    },
    {
      "cell_type": "markdown",
      "source": [
        "混同行列の中身を見てみる．先ほどの図と対応して表示される．"
      ],
      "metadata": {
        "id": "UdxBUnuxFnIc"
      }
    },
    {
      "cell_type": "code",
      "source": [
        "cm"
      ],
      "metadata": {
        "id": "ZDmMhLfRFcvV"
      },
      "execution_count": null,
      "outputs": []
    },
    {
      "cell_type": "markdown",
      "source": [
        "## 二値分類における予測精度の検証"
      ],
      "metadata": {
        "id": "wkRzVbl_2gBQ"
      }
    },
    {
      "cell_type": "markdown",
      "source": [
        "混同行列の見方をまとめると次の表のようになる．  \n",
        "なお，YESとNOが入れ替わっている表を使っているサイトもある．  \n",
        "  \n",
        "|   |予測値=YES(陽性)|予測値=NO(陰性)|\n",
        "|---|---|---|\n",
        "|**正解=YES**|TP (True Positive)|FN (False Negative)|\n",
        "|**正解=NO**|FP (False Positive)|TN (True Negative)|\n",
        "  \n",
        "TP,TNが正しく予測されたケース，FP,FNが誤って予測されたケースとなる．  \n",
        "* **「正解率」(accuracy)**は，全体に対するTP+TNの割合，<br>すなわち$\\dfrac{TP+TN}{TP+TN+FP+FN}$となる．  \n",
        "* **「適合率」(precision)**は，YESと予測されたもの(TP+FP)のうち，本当にYESだったもの(TP)の割合，<br>すなわち$\\dfrac{TP}{TP+FP}$であり，医療統計では陽性的中率に相当する．  \n",
        "* **「再現率」(recall)**は，正解がYESであるもの(TP+FN)のうち，予測もYESであるもの(TP)の割合，<br>すなわち$\\dfrac{TP}{TP+FN}$であり，医療統計では感度に相当する．  \n",
        "* **「F値」(F-measure)**とは，適合率と再現率をバランスよく評価するために用いられる指標で，<br>$2*\\dfrac{precision*recall}{precision+recall}$である．<br>調和平均，また厳密には$F_1$値とよぶこともある．東大の資料およびネットでは「2倍」を忘れているケースもみられる．  \n",
        "\n",
        "[WikipediaのF値の説明](https://ja.wikipedia.org/wiki/F%E5%80%A4_(%E8%A9%95%E4%BE%A1%E6%8C%87%E6%A8%99))"
      ],
      "metadata": {
        "id": "-ShLYFvf2tZ8"
      }
    },
    {
      "cell_type": "markdown",
      "source": [
        "例題…タイタニック号の例において正解率，適合率，再現率，F値を手計算で求めよ．  \n",
        "  \n",
        "  なお，Scikit-learnのclassification_reportを使った次のコードを実行すると4指標が得られる"
      ],
      "metadata": {
        "id": "maacf9PnAjGE"
      }
    },
    {
      "cell_type": "code",
      "source": [
        "from sklearn.metrics import classification_report\n",
        "\n",
        "print(classification_report(Y_test,logreg_cv.predict(X_test)))"
      ],
      "metadata": {
        "id": "AdCI7k90DbhC"
      },
      "execution_count": null,
      "outputs": []
    },
    {
      "cell_type": "markdown",
      "source": [
        "## 教師なし学習"
      ],
      "metadata": {
        "id": "fzkJbBq-9piy"
      }
    },
    {
      "cell_type": "markdown",
      "source": [
        "### クラスタリング"
      ],
      "metadata": {
        "id": "w2a7cjTdnpvb"
      }
    },
    {
      "cell_type": "markdown",
      "source": [
        "東大の資料の「リテラシーレベル教材」の「4-9. データ活用実践（教師なし学習）」の例を使う．  \n",
        "  \n",
        "「卸売業者の顧客データ」を分析する．  \n"
      ],
      "metadata": {
        "id": "1spUUYfVs64X"
      }
    },
    {
      "cell_type": "markdown",
      "source": [
        "#### 0) 下準備  \n",
        "  \n",
        "1. ToyoNet-ACEのこの講義のトップページを開く．  \n",
        "2. **Wholesale customers data.csv**というファイルをダウンロードす\n",
        "る．  \n",
        "3. ToyooNet-ACEの**Google Colabへのファイルのアップロード方法.pdf**を参考に，そのファイルをGoogle Colabにアップロードする．\n",
        "4. Google Colabの画面左側に**Wholesale customers data.csv**が表示されれば成功．  \n",
        "\n"
      ],
      "metadata": {
        "id": "yIWPkjnKtrI0"
      }
    },
    {
      "cell_type": "markdown",
      "source": [
        "#### 1)データの読み込みと前処理"
      ],
      "metadata": {
        "id": "2UvsUzVM7Kov"
      }
    },
    {
      "cell_type": "markdown",
      "source": [
        "データには以下の情報が含まれる．  \n",
        "* Channel : 販売チャネル(1=Horeca (ホテル等), 2=個⼈向け⼩売)  \n",
        "* Region : 各顧客の地域(1=リスボン市, 2=ポルト市, 3=その他)  \n",
        "* Fresh : ⽣鮮品の年間⽀出額  \n",
        "* Milk : 乳製品の年間⽀出額  \n",
        "* Grocery : ⾷料雑貨の年間⽀出額  \n",
        "* Frozen : 冷凍⾷品の年間⽀出額  \n",
        "* Detergents_Paper : 衛⽣⽤品と紙類の年間⽀出額  \n",
        "* Delicassen : 惣菜の年間⽀出額  \n",
        "  \n",
        "このうちChannelとRegionは使用しないので，後ほど消去する．  \n",
        "ここでは最初の5件のデータしか表示していないが，全部で440件分ある．  "
      ],
      "metadata": {
        "id": "0T1lei7I7YdO"
      }
    },
    {
      "cell_type": "code",
      "source": [
        "import pandas as pd\n",
        "data_df = pd.read_csv('Wholesale customers data.csv')\n",
        "data_df = data_df.sample(frac=1).reset_index(drop=True)\n",
        "data_df.head(5)"
      ],
      "metadata": {
        "id": "hqx5FTSqv0xJ"
      },
      "execution_count": null,
      "outputs": []
    },
    {
      "cell_type": "markdown",
      "source": [
        "欠損データのチェック…欠損データなし"
      ],
      "metadata": {
        "id": "oz188wa87wsi"
      }
    },
    {
      "cell_type": "code",
      "source": [
        "data_df.isnull().sum()"
      ],
      "metadata": {
        "id": "4_ui0i3bpBmH"
      },
      "execution_count": null,
      "outputs": []
    },
    {
      "cell_type": "markdown",
      "source": [
        "データのタイプを確認…すべて整数値"
      ],
      "metadata": {
        "id": "SLRLz7NB71Vh"
      }
    },
    {
      "cell_type": "code",
      "source": [
        "data_df.dtypes"
      ],
      "metadata": {
        "id": "IY-IkjwLpGIt"
      },
      "execution_count": null,
      "outputs": []
    },
    {
      "cell_type": "markdown",
      "source": [
        "ChannelとRegionの列を削除"
      ],
      "metadata": {
        "id": "GnevebVX758r"
      }
    },
    {
      "cell_type": "code",
      "source": [
        "cat_col = ['Channel','Region']\n",
        "data_df = data_df.drop(cat_col,axis=1)"
      ],
      "metadata": {
        "id": "dg1AC9VtpL16"
      },
      "execution_count": null,
      "outputs": []
    },
    {
      "cell_type": "markdown",
      "source": [
        "データの概要を見てみよう．  \n",
        "* count データ数\n",
        "* mean 平均\n",
        "* std 標準偏差\n",
        "* min 最小値\n",
        "* 25% 第1四分位数\n",
        "* 50% 中央値\n",
        "* 75% 第2四分位数\n",
        "* max 最大値"
      ],
      "metadata": {
        "id": "7MXm3WwB8FCo"
      }
    },
    {
      "cell_type": "code",
      "source": [
        "data_df.describe()"
      ],
      "metadata": {
        "id": "jzyl9X_FpSWE"
      },
      "execution_count": null,
      "outputs": []
    },
    {
      "cell_type": "markdown",
      "source": [
        "#### 2)クラスター数の決定"
      ],
      "metadata": {
        "id": "YsyuFWW8ACeC"
      }
    },
    {
      "cell_type": "markdown",
      "source": [
        "ここからK-平均法 (K-means法)でクラスタリングを行うが，まず，クラスターの数を求める．これは予備的な処理（エルボー法）で人間の目視で(！)決めるしかない．  \n",
        "  \n",
        "クラスターの数は多ければ多いほどいいわけではなく，極端に言えばデータと同じ数のクラスターなら誤差は無いが，それはクラスターとはいえない．  \n",
        "具体的にはクラスター数を増やしながら誤差平方和(SSE)を計算して，それ以上クラスターを増やしてもSSEが減らない（グラフ上でポキッと曲がっているところ）あたりで決めるらしい．"
      ],
      "metadata": {
        "id": "-pLRogw48r1t"
      }
    },
    {
      "cell_type": "code",
      "source": [
        "X = data_df.values\n",
        "from sklearn.cluster import KMeans\n",
        "objective_vals = []\n",
        "K = range(1,15)\n",
        "for k in K:\n",
        "    km = KMeans(n_clusters=k, init='k-means++', n_init=10, max_iter=300, tol=0.0001, random_state=0)\n",
        "    km = km.fit(X)\n",
        "    objective_vals.append(km.inertia_)"
      ],
      "metadata": {
        "id": "XWiFw8eXpaOd"
      },
      "execution_count": null,
      "outputs": []
    },
    {
      "cell_type": "code",
      "source": [
        "import matplotlib.pyplot as plt\n",
        "plt.plot(K, objective_vals, 'bx-')\n",
        "plt.xlabel('k')\n",
        "plt.ylabel('Objective values')\n",
        "plt.title('Elbow Method K-Means')\n",
        "plt.show()"
      ],
      "metadata": {
        "id": "lzMT1A9AqDIq"
      },
      "execution_count": null,
      "outputs": []
    },
    {
      "cell_type": "markdown",
      "source": [
        "SSE(グラフではObjective Values)の変化が，クラスター数5あたりから変わらなくなるので，5に決定．"
      ],
      "metadata": {
        "id": "BO9KVGbX-qf3"
      }
    },
    {
      "cell_type": "markdown",
      "source": [
        "#### 3)クラスタリング"
      ],
      "metadata": {
        "id": "0BUGoR-fAHlm"
      }
    },
    {
      "cell_type": "markdown",
      "source": [
        "改めてクラスターに分けてみる．各データにクラスターの番号(cluster)が割り振られる．"
      ],
      "metadata": {
        "id": "EgXN540u-4mC"
      }
    },
    {
      "cell_type": "code",
      "source": [
        "pred = KMeans(n_clusters=5, init='k-means++', n_init=10, max_iter=300, tol=0.0001, random_state=0).fit_predict(X)\n",
        "data_df_ = pd.read_csv('Wholesale customers data.csv').drop(cat_col,axis=1)\n",
        "data_df_['cluster']=pred\n",
        "data_df_.head(5)"
      ],
      "metadata": {
        "id": "kkp5_uBzqUfH"
      },
      "execution_count": null,
      "outputs": []
    },
    {
      "cell_type": "markdown",
      "source": [
        "クラスターごとに何個のデータがあるか．"
      ],
      "metadata": {
        "id": "MqrTFZS5_Zs-"
      }
    },
    {
      "cell_type": "code",
      "source": [
        "data_df_['cluster'].value_counts()"
      ],
      "metadata": {
        "id": "6nQE3odsqrNl"
      },
      "execution_count": null,
      "outputs": []
    },
    {
      "cell_type": "markdown",
      "source": [
        "クラスターごとに平均値を見てみる．"
      ],
      "metadata": {
        "id": "t9kHWBPc_d_H"
      }
    },
    {
      "cell_type": "code",
      "source": [
        "data_df_.groupby('cluster').mean()"
      ],
      "metadata": {
        "id": "eszI3lw1q_Lo"
      },
      "execution_count": null,
      "outputs": []
    },
    {
      "cell_type": "markdown",
      "source": [
        "平均値を積算棒グラフにしてみる．"
      ],
      "metadata": {
        "id": "VXGG7FMV_jTT"
      }
    },
    {
      "cell_type": "code",
      "source": [
        "clusterinfo = pd.DataFrame()\n",
        "for i in range(5):\n",
        "    clusterinfo['cluster'+str(i)] = data_df_[data_df_['cluster'] ==i].mean()\n",
        "clusterinfo = clusterinfo.drop('cluster')\n",
        "\n",
        "my_plot = clusterinfo.T.plot(kind='bar', stacked=True, title=\"Mean Value of Clusters\")\n",
        "my_plot.set_xticklabels(my_plot.xaxis.get_majorticklabels(),rotation=0)"
      ],
      "metadata": {
        "id": "gWdxbe2prDcK"
      },
      "execution_count": null,
      "outputs": []
    },
    {
      "cell_type": "markdown",
      "source": [
        "####4)別の例"
      ],
      "metadata": {
        "id": "3DuqESmf6swK"
      }
    },
    {
      "cell_type": "markdown",
      "source": [
        "次のデータをクラスタリングしてみる"
      ],
      "metadata": {
        "id": "kEEA-tMx6-4R"
      }
    },
    {
      "cell_type": "code",
      "source": [
        "import numpy as np\n",
        "import pandas as pd\n",
        "import matplotlib.pyplot as plt\n",
        "import seaborn as sns\n",
        "from sklearn.cluster import KMeans\n",
        "\n",
        "generator = np.random.default_rng()\n",
        "x1 = generator.normal(loc=10, scale=1, size=20)\n",
        "y1 = generator.normal(loc=2, scale=1, size=20)\n",
        "x2 = generator.normal(loc=8, scale=1, size=20)\n",
        "y2 = generator.normal(loc=4, scale=1, size=20)\n",
        "x3 = generator.normal(loc=2, scale=1, size=20)\n",
        "y3 = generator.normal(loc=5, scale=1, size=20)\n",
        "x = np.concatenate([x1,x2,x3])\n",
        "y = np.concatenate([y1,y2,y3])\n",
        "for i in np.arange(len(x)):\n",
        "    plt.annotate(f'{i}', (x[i], y[i]+0.1), size=10)\n",
        "plt.scatter(x,y)\n",
        "X=(np.stack([x,y])).T"
      ],
      "metadata": {
        "id": "5TNnb9HWyQ3k"
      },
      "execution_count": null,
      "outputs": []
    },
    {
      "cell_type": "markdown",
      "source": [
        "エルボー法でクラスター数を定める(これは人が決めるしかない)"
      ],
      "metadata": {
        "id": "sSuiIw7r7CDt"
      }
    },
    {
      "cell_type": "code",
      "source": [
        "objective_vals = []\n",
        "K = range(1,15)\n",
        "for k in K:\n",
        "    km = KMeans(n_clusters=k, init='k-means++', n_init=10, max_iter=300, tol=0.0001, random_state=0)\n",
        "    km = km.fit(X)\n",
        "    objective_vals.append(km.inertia_)\n",
        "plt.plot(K, objective_vals, 'bx-')\n",
        "plt.xlabel('k')\n",
        "plt.ylabel('Objective values')\n",
        "plt.title('Elbow Method K-Means')\n",
        "plt.show()"
      ],
      "metadata": {
        "id": "jxZkmnnKzx4l"
      },
      "execution_count": null,
      "outputs": []
    },
    {
      "cell_type": "markdown",
      "source": [
        "決めたクラスターを可視化する．他のクラスター数も入れて確かめるとよい．"
      ],
      "metadata": {
        "id": "MS4POhMN7GuP"
      }
    },
    {
      "cell_type": "code",
      "source": [
        "ncl = int(input('クラスター数は？：'))\n",
        "pred = KMeans(n_clusters=ncl, init='k-means++', n_init=10, max_iter=300, tol=0.0001, random_state=0).fit_predict(X)\n",
        "s = pd.DataFrame(X, columns=['X','Y'], dtype='float')\n",
        "s['cluster']=pred\n",
        "ax = sns.scatterplot(x='X', y='Y', hue='cluster',data=s, palette='colorblind')\n",
        "for i in np.arange(len(x)):\n",
        "    plt.annotate(f'{i}', (x[i], y[i]+0.1), size=10)\n",
        "plt.show()"
      ],
      "metadata": {
        "id": "15eP5JQ52CQi"
      },
      "execution_count": null,
      "outputs": []
    },
    {
      "cell_type": "markdown",
      "source": [
        "樹形図(系統樹，デンドログラム，dendrogram)を描いてみる．  \n",
        "横軸は各データ，縦軸はクラスタ(もしくはデータ)同士の”距離”(類似度)となる．  \n",
        "閾値(Threshold)を変えることによりクラスター数は変わる様子がわかる．  \n",
        "https://qiita.com/maskot1977/items/4db7976a987a057ad3ba"
      ],
      "metadata": {
        "id": "WJwau2xD-uvo"
      }
    },
    {
      "cell_type": "code",
      "source": [
        "from scipy.cluster.hierarchy import linkage, dendrogram\n",
        "result1 = linkage(s.iloc[:, 0:2], metric = 'braycurtis', method = 'average')\n",
        "dendrogram(result1)\n",
        "plt.title(\"Dedrogram\")\n",
        "plt.ylabel(\"Threshold\")\n",
        "plt.show()"
      ],
      "metadata": {
        "id": "6Qzc93YY9Mu9"
      },
      "execution_count": null,
      "outputs": []
    },
    {
      "cell_type": "markdown",
      "source": [
        "### 確率密度推定"
      ],
      "metadata": {
        "id": "BgVjq3ibCcF8"
      }
    },
    {
      "cell_type": "markdown",
      "source": [
        "KDE(Kernel Density Estimation)を用いて確率密度を推定する．  \n",
        "  \n",
        "https://qiita.com/bitchal/items/ad1747e9f640b5cb0214\n",
        "より引用しました．"
      ],
      "metadata": {
        "id": "gpTGbBZ8CmxX"
      }
    },
    {
      "cell_type": "markdown",
      "source": [
        "#### 1) 1次元データの確率密度推定"
      ],
      "metadata": {
        "id": "isFZYkZIC90K"
      }
    },
    {
      "cell_type": "markdown",
      "source": [
        "乱数を用いてデータを作成する．ここでは2つの異なる正規分布を有するランダムデータを重ね合わせる．  \n",
        "縦軸はデータの個数の割合を示す．  \n",
        "乱数なので，実行結果は実行するごとに異なる．"
      ],
      "metadata": {
        "id": "-FcHRMLVDDv3"
      }
    },
    {
      "cell_type": "code",
      "source": [
        "import numpy as np\n",
        "import matplotlib.pyplot as plt\n",
        "from scipy.stats.distributions import norm\n",
        "\n",
        "np.random.seed(0)\n",
        "x = np.concatenate([norm(-1, 1.).rvs(200), norm(1, 0.3).rvs(100)])\n",
        "\n",
        "# ヒストグラムで確認する\n",
        "fig, ax = plt.subplots(figsize=(17, 4))\n",
        "ax.hist(x, 10, fc='gray', histtype='stepfilled', alpha=0.5, density=True)\n",
        "ax.set_xlim(x.min()-1, x.max()+1)\n",
        "plt.show()"
      ],
      "metadata": {
        "id": "1CMAAC7vrp3F"
      },
      "execution_count": null,
      "outputs": []
    },
    {
      "cell_type": "markdown",
      "source": [
        "KDEで確率密度推定をおこなう．  \n",
        "  \n",
        "応用として，bandwidthを変えてみるとよい．大きくなるとスムーズになる．"
      ],
      "metadata": {
        "id": "oxUEeVgmGOvW"
      }
    },
    {
      "cell_type": "code",
      "source": [
        "from sklearn.neighbors import KernelDensity\n",
        "X = x.reshape(-1, 1)\n",
        "kde = KernelDensity(kernel='gaussian', bandwidth=0.2).fit(X) # ←ここのbandwidth=0.2の0.2を別の値にしてみよう\n",
        "kde.score_samples(X)\n",
        "x_plot = np.linspace(-5, 5, 50)[:, np.newaxis]\n",
        "fig, ax = plt.subplots(figsize=(17, 4))\n",
        "ax.plot(x_plot, np.exp(kde.score_samples(x_plot)), linewidth=3, alpha=0.5)\n",
        "ax.hist(X, 10, fc='gray', histtype='stepfilled', alpha=0.5, density=True)\n",
        "ax.set_xlim(X.min()-1, X.max()+1)\n",
        "plt.show()"
      ],
      "metadata": {
        "id": "Oo1SKn30DmWM"
      },
      "execution_count": null,
      "outputs": []
    },
    {
      "cell_type": "markdown",
      "source": [
        "もっと複雑な，3つの正規分布が合体したデータから推定してみよう．"
      ],
      "metadata": {
        "id": "jhBqZSZxKClC"
      }
    },
    {
      "cell_type": "code",
      "source": [
        "import numpy as np\n",
        "import matplotlib.pyplot as plt\n",
        "from scipy.stats.distributions import norm\n",
        "from sklearn.neighbors import KernelDensity\n",
        "\n",
        "np.random.seed(0)\n",
        "x = np.concatenate([norm(-1, 1.).rvs(200), norm(1, 0.3).rvs(100), norm(-4.5, 0.5).rvs(100)]) # ここで3つの正規分布を合体\n",
        "\n",
        "# ヒストグラムで確認する\n",
        "#fig, ax = plt.subplots(figsize=(17, 4))\n",
        "#ax.hist(x, 10, fc='gray', histtype='stepfilled', alpha=0.5, density=True)\n",
        "#ax.set_xlim(x.min()-1, x.max()+1)\n",
        "#plt.show()\n",
        "\n",
        "X = x.reshape(-1, 1)\n",
        "kde = KernelDensity(kernel='gaussian', bandwidth=0.2).fit(X)\n",
        "kde.score_samples(X)\n",
        "x_plot = np.linspace(-5, 5, 50)[:, np.newaxis]\n",
        "fig, ax = plt.subplots(figsize=(17, 4))\n",
        "ax.plot(x_plot, np.exp(kde.score_samples(x_plot)), linewidth=3, alpha=0.5)\n",
        "ax.hist(X, 10, fc='gray', histtype='stepfilled', alpha=0.5, density=True)\n",
        "ax.set_xlim(X.min()-1, X.max()+1)\n",
        "plt.show()"
      ],
      "metadata": {
        "id": "m1lVQWFzDz5K"
      },
      "execution_count": null,
      "outputs": []
    },
    {
      "cell_type": "markdown",
      "source": [
        "#### 2)2次元データの確率密度推定"
      ],
      "metadata": {
        "id": "u3JXQRdaKOO0"
      }
    },
    {
      "cell_type": "markdown",
      "source": [
        "これも2つの正規分布の合体である．"
      ],
      "metadata": {
        "id": "-P48QSSaK55P"
      }
    },
    {
      "cell_type": "code",
      "source": [
        "import matplotlib.pyplot as plt\n",
        "import numpy as np\n",
        "from scipy.stats.distributions import norm\n",
        "\n",
        "np.random.seed(0)\n",
        "x = np.concatenate([norm(-1, 1.).rvs(200), norm(1, 0.3).rvs(100)])\n",
        "y = np.concatenate([norm(-1, 1.).rvs(200), norm(1, 0.3).rvs(100)])\n",
        "\n",
        "# 2Dヒストグラムで確認する\n",
        "import matplotlib.cm as cm\n",
        "fig = plt.figure(figsize=(8, 6))\n",
        "ax = fig.gca()\n",
        "ax.set_xlim(x.min(), x.max())\n",
        "ax.set_ylim(y.min(), y.max())\n",
        "\n",
        "H = ax.hist2d(x, y, bins=60, density=True, cmap=cm.gray)\n",
        "fig.colorbar(H[3],ax=ax)\n",
        "\n",
        "plt.show()"
      ],
      "metadata": {
        "id": "NZ12OALMJsa8"
      },
      "execution_count": null,
      "outputs": []
    },
    {
      "cell_type": "markdown",
      "source": [
        "同じくKDE法で推定する．bandwidthを変えてみるとよい．"
      ],
      "metadata": {
        "id": "SJISJZl7K-aB"
      }
    },
    {
      "cell_type": "code",
      "source": [
        "from sklearn.neighbors import KernelDensity\n",
        "X = np.vstack((x, y)).T\n",
        "\n",
        "kde = KernelDensity(kernel='gaussian', bandwidth=0.2).fit(X) # ←ここのbandwidth=0.2の0.2を別の値にしてみよう\n",
        "np.exp(kde.score_samples(X))\n",
        "f0 = np.arange(x.min(), x.max(), 0.1)\n",
        "f1 = np.arange(y.min(), y.max(), 0.1)\n",
        "xx, yy = np.meshgrid(f0, f1)\n",
        "\n",
        "positions = np.vstack([xx.ravel(), yy.ravel()]).T\n",
        "\n",
        "scores = np.exp(kde.score_samples(positions)).T\n",
        "\n",
        "f = np.reshape(scores, xx.shape)\n",
        "\n",
        "fig = plt.figure(figsize=(8, 6))\n",
        "ax = fig.gca()\n",
        "ax.set_xlim(x.min(), x.max())\n",
        "ax.set_ylim(y.min(), y.max())\n",
        "\n",
        "cset = ax.contour(xx, yy, f, colors='r')\n",
        "ax.clabel(cset, inline=1, fontsize=10)\n",
        "\n",
        "H = ax.hist2d(x, y, bins=60, density=True, cmap=cm.gray)\n",
        "fig.colorbar(H[3],ax=ax)\n",
        "\n",
        "plt.show()\n"
      ],
      "metadata": {
        "id": "uiYMoQsCKdWo"
      },
      "execution_count": null,
      "outputs": []
    },
    {
      "cell_type": "markdown",
      "source": [
        "# 3.4深層学習の基礎と展望"
      ],
      "metadata": {
        "id": "SulDphugGrHY"
      }
    },
    {
      "cell_type": "markdown",
      "source": [
        "## パーセプトロン"
      ],
      "metadata": {
        "id": "9_jEDMAFJUcT"
      }
    },
    {
      "cell_type": "code",
      "source": [
        "# @title 単純パーセプトロンの例題(スライド)\n",
        "x1 = 0.5 # @param {type:\"number\"}\n",
        "x2 = 0.8 # @param {type:\"number\"}\n",
        "\n",
        "w1 = 1 # @param {type:\"slider\", min:-5, max:5, step:1}\n",
        "w2 = -2 # @param {type:\"slider\", min:-5, max:5, step:1}\n",
        "phi = 0 # @param {type:\"slider\", min:-3, max:3, step:0.2}\n",
        "\n",
        "print('x1*w1+x2*w2={}'.format(x1*w1+x2*w2))\n",
        "if x1*w1+x2*w2 <= phi:\n",
        "  print(\"y=0\")\n",
        "else:\n",
        "  print(\"y=1\")"
      ],
      "metadata": {
        "id": "wNQWENJZKsFQ"
      },
      "execution_count": null,
      "outputs": []
    },
    {
      "cell_type": "code",
      "source": [
        "# @title 論理演算をパーセプトロンで実現(スライド)\n",
        "\n",
        "x1 = True # @param [\"False\", \"True\"] {type:\"raw\"}\n",
        "x2 = True # @param [\"False\", \"True\"] {type:\"raw\"}\n",
        "w0 = -0.8 # @param {type:\"slider\", min:-2, max:2, step:0.1}\n",
        "w1 = 0.5 # @param {type:\"slider\", min:-2, max:2, step:0.1}\n",
        "w2 = 0.5 # @param {type:\"slider\", min:-2, max:2, step:0.1}\n",
        "\n",
        "print('x0+x1w1+x2w2={}'.format(w0+w1*float(x1)+w2*float(x2)))\n",
        "if w0+w1*float(x1)+w2*float(x2)<=0:\n",
        "  y = False\n",
        "else:\n",
        "  y = True\n",
        "print(y)"
      ],
      "metadata": {
        "id": "JuD09_QXIznE"
      },
      "execution_count": null,
      "outputs": []
    },
    {
      "cell_type": "code",
      "source": [
        "# @title XORをパーセプトロンで実現(スライド)\n",
        "\n",
        "x1 = True # @param [\"False\", \"True\"] {type:\"raw\"}\n",
        "x2 = True # @param [\"False\", \"True\"] {type:\"raw\"}\n",
        "\n",
        "def perceptron(x1,x2,w0,w1,w2):\n",
        "  z = w0+w1*x1+w2*x2\n",
        "  if z <= 0:\n",
        "    return 0\n",
        "  else:\n",
        "    return 1\n",
        "\n",
        "# ANDの実装（スライド通りの重みづけ）\n",
        "def p_and(x1,x2):\n",
        "  return perceptron(x1,x2,-0.8,0.5,0.5)\n",
        "\n",
        "# NANDの実装（スライド通りの重みづけ）\n",
        "def p_nand(x1,x2):\n",
        "  return perceptron(x1,x2,0.8,-0.5,-0.5)\n",
        "\n",
        "# ORの実装（スライド通りの重みづけ）\n",
        "def p_or(x1,x2):\n",
        "  return perceptron(x1,x2,-0.4,0.5,0.5)\n",
        "\n",
        "y_nand = p_nand(x1,x2)\n",
        "print('NANDの結果：{}'.format(bool(y_nand)))\n",
        "y_or = p_or(x1,x2)\n",
        "print('ORの結果：{}'.format(bool(y_or)))\n",
        "y_xor = p_and(y_nand,y_or)\n",
        "print('XORの結果：{}'.format(bool(y_xor)))"
      ],
      "metadata": {
        "id": "cMNiyfRwJ5hE"
      },
      "execution_count": null,
      "outputs": []
    },
    {
      "cell_type": "markdown",
      "source": [
        "## 活性化関数"
      ],
      "metadata": {
        "id": "SAraDRhdPVkF"
      }
    },
    {
      "cell_type": "markdown",
      "source": [
        "4つの活性化関数をグラフにする．"
      ],
      "metadata": {
        "id": "H_CaC09aUv6D"
      }
    },
    {
      "cell_type": "code",
      "source": [
        "from prompt_toolkit.shortcuts.dialogs import yes_no_dialog\n",
        "import matplotlib.pyplot as plt\n",
        "import numpy as np\n",
        "import math\n",
        "\n",
        "# ステップ関数 ※最小値は0としています\n",
        "def step(x):\n",
        "  return 1.0*(x>=0.0)\n",
        "\n",
        "# シグモイド関数\n",
        "def sigmoid(x):\n",
        "  return 1 / (1 + e**-x)\n",
        "\n",
        "# ReLU関数\n",
        "def relu(x):\n",
        "  return x*(x>=0.0)\n",
        "\n",
        "# 恒等関数\n",
        "def identity(x):\n",
        "  return x\n",
        "\n",
        "x = np.arange(-10, 10, 0.1)\n",
        "e = math.e\n",
        "\n",
        "ystep = step(x)\n",
        "ysig = sigmoid(x)\n",
        "yrelu = relu(x)\n",
        "yident = identity(x)\n",
        "\n",
        "fig = plt.figure()\n",
        "ax1 = fig.add_subplot(2, 2, 1)\n",
        "ax2 = fig.add_subplot(2, 2, 2)\n",
        "ax3 = fig.add_subplot(2, 2, 3)\n",
        "ax4 = fig.add_subplot(2, 2, 4)\n",
        "plt.subplots_adjust(hspace=0.5, wspace=0.4)\n",
        "ax1.plot(x, ystep)\n",
        "ax1.set_title('Step')\n",
        "ax2.plot(x, ysig)\n",
        "ax2.set_title('Sigmoid')\n",
        "ax3.plot(x, yrelu)\n",
        "ax3.set_title('ReLU')\n",
        "ax4.plot(x, yident)\n",
        "ax4.set_title('Identity')\n",
        "\n",
        "plt.show()"
      ],
      "metadata": {
        "id": "xHVUbzOKOAyR"
      },
      "execution_count": null,
      "outputs": []
    },
    {
      "cell_type": "markdown",
      "source": [
        "##ニューラルネットワーク"
      ],
      "metadata": {
        "id": "Te3A-EhjkxCw"
      }
    },
    {
      "cell_type": "markdown",
      "source": [
        "###第0層→第1層  \n",
        "次のベクトルと行列の計算を行う  \n",
        "$$\n",
        "x=\\left(\\begin{array}{}\n",
        "    1.0 & 0.5\n",
        "\\end{array}\\right)\n",
        "$$\n",
        "\n",
        "$$\n",
        "b^{(1)}=\\left(\\begin{array}{}\n",
        "    0.1 & 0.2 & 0.3\n",
        "\\end{array}\\right)\n",
        "$$\n",
        "\n",
        "$$\n",
        "W^{(1)}=\\left(\\begin{array}{}\n",
        "    0.1 & 0.3 & 0.5 \\\\\n",
        "    0.2 & 0.4 & 0.6\n",
        "\\end{array}\\right)\n",
        "$$\n",
        "\n",
        "$$\n",
        "a^{(1)}=xW^{(1)}+b^{(1)}=\n",
        "\\left(\\begin{array}{}\n",
        "    1.0 & 0.5\n",
        "\\end{array}\\right)\\left(\\begin{array}{}\n",
        "    0.1 & 0.3 & 0.5 \\\\\n",
        "    0.2 & 0.4 & 0.6\n",
        "\\end{array}\\right)+\\left(\\begin{array}{}\n",
        "    0.1 & 0.2 & 0.3\n",
        "\\end{array}\\right)\n",
        "$$\n",
        "\n",
        "$$\n",
        "z^{(1)}=sigmoid(a^{(1)})\n",
        "$$"
      ],
      "metadata": {
        "id": "EFKsR6IVlHYa"
      }
    },
    {
      "cell_type": "code",
      "source": [
        "import numpy as np\n",
        "\n",
        "# シグモイド関数\n",
        "def sigmoid(x):\n",
        "  return 1 / (1 + e**-x)\n",
        "\n",
        "# x,b1,w1を代入する\n",
        "x = np.array([1.0,0.5])\n",
        "b1 = np.array([0.1, 0.2, 0.3])\n",
        "w1 = np.array([[0.1,0.3,0.5],[0.2,0.4,0.6]])\n",
        "\n",
        "# a1を計算する\n",
        "a1=np.dot(x,w1)+b1   # np.dotは行列の積\n",
        "\n",
        "# x,b1,w1,aを表示する\n",
        "print('x={}'.format(x))\n",
        "print('b1={}'.format(b1))\n",
        "print('w1={}'.format(w1))\n",
        "print('a1={}'.format(a1))\n",
        "\n",
        "# a1を活性化関数に投入(活性化関数はシグモイド関数を利用)\n",
        "z1 = sigmoid(a1)\n",
        "print('Sigmoid(a1)={}'.format(z1))"
      ],
      "metadata": {
        "id": "ZqwEisu1Q2kO"
      },
      "execution_count": null,
      "outputs": []
    },
    {
      "cell_type": "markdown",
      "source": [
        "###第1層→第2層    \n",
        "※活性化関数はシグモイド関数  \n",
        "\n",
        "$$\n",
        "a^{(2)}=z^{(1)}W^{(2)}+b^{(2)}\n",
        "$$\n",
        "\n",
        "$$\n",
        "z^{(2)}=sigmoid(a^{(2)})\n",
        "$$\n",
        "\n"
      ],
      "metadata": {
        "id": "zDKFtzuOx8yi"
      }
    },
    {
      "cell_type": "markdown",
      "source": [
        "###第2層→第3層  \n",
        "※活性化関数は恒等関数  \n",
        "\n",
        "$$\n",
        "a^{(3)}=z^{(2)}W^{(3)}+b^{(3)}\n",
        "$$\n",
        "\n",
        "$$\n",
        "y=identity(a^{(3)})=a^{(3)}\n",
        "$$\n"
      ],
      "metadata": {
        "id": "DlNYltQV1d4B"
      }
    },
    {
      "cell_type": "markdown",
      "source": [
        "###出力$y$とは？  \n",
        "スライドの例では$y_1=0.316, y_2=0.696$となっていた．  \n",
        "例えば画像から犬か猫を判別する課題の場合，$y_1$を犬，$y_2$を猫とすると，$y_1<y_2$より，予測の結果は「猫」とする．  \n",
        "よく間違われるが，この出力は「確率」でも何でもない，単に人為的に定義した数値である．"
      ],
      "metadata": {
        "id": "iNu3DnBl1tq5"
      }
    },
    {
      "cell_type": "markdown",
      "source": [
        "## 勾配降下法"
      ],
      "metadata": {
        "id": "FYqkSNLcJBGj"
      }
    },
    {
      "cell_type": "markdown",
      "source": [
        "### 線形回帰の復習  \n",
        "$y=ax+b$の$a$を固定し，$b$が800のときと801のときの誤差変化を見る．"
      ],
      "metadata": {
        "id": "-83q1loD0vep"
      }
    },
    {
      "cell_type": "code",
      "source": [
        "import numpy as np\n",
        "import matplotlib.pyplot as plt\n",
        "\n",
        "# xが広告費，yが売上高\n",
        "x = [26,35,50,60,87,100,112,117,134,145,160,160,163,173,191,199,203,215,237,270]\n",
        "y = [999,933,978,960,930,1002,1161,1155,1176,1230,1203,1284,1278,1497,1488,1569,1554,1614,1779,1971]\n",
        "\n",
        "# 1次関数の定義\n",
        "def estimate_func(param,x):\n",
        "    return (param[0]*x + param[1])\n",
        "\n",
        "p = []\n",
        "p.append(4.0)  # 係数aは固定\n",
        "p.append(float(input('b= ')))  # 最初は800あたりから試す\n",
        "\n",
        "ylin = [estimate_func(p,i) for i in x]  # y = ax + b\n",
        "\n",
        "# 誤差を合計する\n",
        "J = 0\n",
        "for i in range(len(x)):\n",
        "    J += (ylin[i]-y[i])**2\n",
        "print('J={}'.format(J))\n",
        "\n",
        "# グラフの描画\n",
        "fig, axe = plt.subplots()\n",
        "axe.set_xlabel('cost(x)')  # x軸ラベル\n",
        "axe.set_ylabel('sales(y)')  # y軸ラベル\n",
        "axe.grid()            # 罫線\n",
        "axe.set_xlim([0, 300]) # x方向の描画範囲を指定\n",
        "axe.scatter(x,y)\n",
        "for i in range(len(x)):\n",
        "    axe.plot([x[i],x[i]],[y[i],ylin[i]],color=\"g\",linestyle = \"dashed\")\n",
        "axe.plot(x,ylin,color=\"r\")\n",
        "fig.tight_layout()  # レイアウトの設定\n",
        "plt.show()"
      ],
      "metadata": {
        "id": "-nJgxsLD0uDi"
      },
      "execution_count": null,
      "outputs": []
    },
    {
      "cell_type": "markdown",
      "source": [
        "bに対する誤差Jの変化をグラフにしてみる  \n",
        "bは500から900まで1刻みに増やしている"
      ],
      "metadata": {
        "id": "RXOWJ05v2ifZ"
      }
    },
    {
      "cell_type": "code",
      "source": [
        "import numpy as np\n",
        "import matplotlib.pyplot as plt\n",
        "\n",
        "# xが広告費，yが売上高\n",
        "x = [26,35,50,60,87,100,112,117,134,145,160,160,163,173,191,199,203,215,237,270]\n",
        "y = [999,933,978,960,930,1002,1161,1155,1176,1230,1203,1284,1278,1497,1488,1569,1554,1614,1779,1971]\n",
        "\n",
        "# 1次関数の定義\n",
        "def estimate_func(param,x):\n",
        "    return (param[0]*x + param[1])\n",
        "\n",
        "p = [4.0,0]   # 係数aは4で固定\n",
        "blist = range(500,900,1)\n",
        "\n",
        "# bを変えながら誤差Jを合計する\n",
        "Jlist = []\n",
        "for b in blist:\n",
        "  p[1] = b\n",
        "  ylin = [estimate_func(p,i) for i in x]  # y = ax + b\n",
        "  J = 0\n",
        "  for i in range(len(x)):\n",
        "    J += (ylin[i]-y[i])**2\n",
        "  Jlist.append(J)\n",
        "\n",
        "# グラフの描画\n",
        "fig, axe = plt.subplots()\n",
        "axe.set_xlabel('b')  # x軸ラベル\n",
        "axe.set_ylabel('J')  # y軸ラベル\n",
        "axe.grid()            # 罫線\n",
        "axe.plot(blist,Jlist,color=\"r\")\n",
        "fig.tight_layout()  # レイアウトの設定\n",
        "plt.show()"
      ],
      "metadata": {
        "id": "oKOr1JZD221Z"
      },
      "execution_count": null,
      "outputs": []
    },
    {
      "cell_type": "markdown",
      "source": [
        "### 数値微分  \n",
        "数値微分してみる  \n",
        "Jは実は二次関数なので，微分すると一次関数となる．"
      ],
      "metadata": {
        "id": "FT4Qyo8y6mof"
      }
    },
    {
      "cell_type": "code",
      "source": [
        "import numpy as np\n",
        "import matplotlib.pyplot as plt\n",
        "\n",
        "Jdiff = np.diff(np.array(Jlist)) # 数値微分(配列の隣同士の引き算を行うnumpyのAPIを使っている)\n",
        "blistdel = np.delete(blist,-1)\n",
        "\n",
        "# グラフの描画\n",
        "fig, axe = plt.subplots()\n",
        "axe.set_xlabel('b')  # x軸ラベル\n",
        "axe.set_ylabel('Jdiff')  # y軸ラベル\n",
        "axe.grid()            # 罫線\n",
        "axe.plot(blistdel,Jdiff,color=\"r\")\n",
        "fig.tight_layout()  # レイアウトの設定\n",
        "plt.show()"
      ],
      "metadata": {
        "id": "0jJKasoJ37lO"
      },
      "execution_count": null,
      "outputs": []
    },
    {
      "cell_type": "markdown",
      "source": [
        "まず，傾きの±のみを考慮した方法を試す．  \n",
        "b=500からスタートして，微分がマイナスならbに+step，プラスならbに-stepとする．  \n",
        "step=3,30,300を試してみよ．最小値への到達は速いか．発散(または振動)しないか確認する．  \n",
        "また，パラメータbの変化の様子も観察せよ．"
      ],
      "metadata": {
        "id": "iwHq2JkT6_hA"
      }
    },
    {
      "cell_type": "code",
      "source": [
        "xlist = list(range(10)) # 10回繰り返す\n",
        "ylist = []\n",
        "step = int(input('step=?'))\n",
        "bindex = 0\n",
        "for i in xlist:\n",
        "  ylist.append(Jlist[bindex])\n",
        "  if Jdiff[bindex] < 0: # もし微分がマイナスなら\n",
        "    bindex += step      #   パラメータbは増やす\n",
        "  else:                 # もし微分が正または0なら\n",
        "    bindex -= step      #   パラメータbは減らす\n",
        "  print('b = {}'.format(bindex+500))\n",
        "\n",
        "# グラフの描画\n",
        "fig, axe = plt.subplots()\n",
        "axe.set_xlabel('step')  # x軸ラベル\n",
        "axe.set_ylabel('J')  # y軸ラベル\n",
        "axe.set_ylim(0, 1200000)\n",
        "axe.grid()            # 罫線\n",
        "plt.plot(xlist,ylist)\n",
        "\n",
        "plt.show()"
      ],
      "metadata": {
        "id": "TM1dybKw7REW"
      },
      "execution_count": null,
      "outputs": []
    },
    {
      "cell_type": "markdown",
      "source": [
        "### 最急降下法  \n",
        "傾きによる重みbの更新  \n",
        "$\\eta=0.04と0.001$を試してみる  \n",
        "最小値に到達するまでの速度を比べてみよ．  \n",
        "また，パラメータbの変化の様子も観察せよ．"
      ],
      "metadata": {
        "id": "fEqE6rG6EFmh"
      }
    },
    {
      "cell_type": "code",
      "source": [
        "xlist = list(range(10)) # 10回繰り返す\n",
        "ylist = []\n",
        "eta = float(input('eta=?'))\n",
        "bindex = 0\n",
        "for i in xlist:\n",
        "  ylist.append(Jlist[bindex])\n",
        "  bindex += int(-eta*Jdiff[bindex])   # 微分Jdiffにetaをかけたものにマイナスをつける\n",
        "  print('b = {}'.format(bindex+500))\n",
        "\n",
        "# グラフの描画\n",
        "fig, axe = plt.subplots()\n",
        "axe.set_xlabel('step')  # x軸ラベル\n",
        "axe.set_ylabel('J')  # y軸ラベル\n",
        "axe.set_ylim(0, 1200000)\n",
        "axe.grid()            # 罫線\n",
        "plt.plot(xlist,ylist)\n",
        "plt.show()"
      ],
      "metadata": {
        "id": "PKp95PPh-aoh"
      },
      "execution_count": null,
      "outputs": []
    },
    {
      "cell_type": "markdown",
      "source": [
        "## 二値分類と勾配降下法"
      ],
      "metadata": {
        "id": "GOg_Yt9sSmCB"
      }
    },
    {
      "cell_type": "markdown",
      "source": [
        "二値分類の復習"
      ],
      "metadata": {
        "id": "gKxqs99KUvxC"
      }
    },
    {
      "cell_type": "markdown",
      "source": [
        "$w_1とw_2$を変えて，緑の線で性別(赤と青の点)を分けてみよう．  \n",
        "ただし，**以前の二値分類の場合と多少異なり**，バイアスではなく重みづけを用いて，次の式で雌雄を判別する．  \n",
        "  \n",
        "$y=\\left\\{\n",
        "\\begin{array}{ll}\n",
        "1 & w_1x_1+w_2x_2 \\geq 0 \\\\\n",
        "-1 & w_1x_1+w_2x_2 < 0\n",
        "\\end{array}\n",
        "\\right.\n",
        "$"
      ],
      "metadata": {
        "id": "wj2qcPrQU9wW"
      }
    },
    {
      "cell_type": "code",
      "source": [
        "import numpy as np\n",
        "import matplotlib.pyplot as plt\n",
        "\n",
        "# xが成分A，yが成分B，tが性別(-1がメス，1がオス)\n",
        "x1 = np.array([41,76,168,235,133,248,414,394,91,489,435,520,411,499,444,301,418,267,512,278])\n",
        "x2 = np.array([208,488,447,277,229,445,448,431,178,399,80,426,336,364,274,235,315,49,387,127])\n",
        "t = np.array([-1,-1,-1,-1,-1,-1,-1,-1,-1,1,1,1,1,1,1,1,1,1,1,1])\n",
        "\n",
        "w1 = float(input('w1= '))  # 最初は0.5あたりから試す\n",
        "w2 = float(input('w2= '))  # 最初は-0.3あたりから試す\n",
        "\n",
        "ylin = w1*x1 + w2*x2  # y = w1x1 + w2x2\n",
        "y = np.sign(ylin)     # このnumpyのAPIは，値が正なら1を，負なら-1を返す\n",
        "                      # 0の場合は0を返すので厳密にはステップ関数とはいえないかもしれない\n",
        "\n",
        "# 間違いのカウント\n",
        "nerror = 0\n",
        "for i in range(len(t)):\n",
        "    if t[i] != y[i]:\n",
        "        nerror += 1\n",
        "print('{}個が誤り'.format(nerror))\n",
        "\n",
        "x2_min = -w1*x1.min()/w2\n",
        "x2_max = -w1*x1.max()/w2\n",
        "\n",
        "# グラフの描画\n",
        "fig, axe = plt.subplots()\n",
        "axe.set_xlabel('Hormone A (x1)')  # x軸ラベル\n",
        "axe.set_ylabel('Hormone B (x2)')  # y軸ラベル\n",
        "axe.grid()            # 罫線\n",
        "axe.set_xlim([0, 600]) # x方向の描画範囲を指定\n",
        "axe.scatter(x1[:9],x2[:9],color=\"r\")\n",
        "axe.scatter(x1[9:],x2[9:],color=\"b\")\n",
        "axe.plot([x1.min(),x1.max()],[x2_min,x2_max],color=\"g\")\n",
        "fig.tight_layout()  # レイアウトの設定\n",
        "plt.show()"
      ],
      "metadata": {
        "id": "zfjYr43-Ur93"
      },
      "execution_count": null,
      "outputs": []
    },
    {
      "cell_type": "markdown",
      "source": [
        "$w_1を0.5$に固定して，$w_2$に対する誤差の変化を観察する．  \n",
        "前の例と異なり，**間違っていたデータの個数**なので整数値となる．"
      ],
      "metadata": {
        "id": "OvQ9q-ZEU9cn"
      }
    },
    {
      "cell_type": "code",
      "source": [
        "import numpy as np\n",
        "import matplotlib.pyplot as plt\n",
        "\n",
        "# xが成分A，yが成分B，tが性別(-1がメス，1がオス)\n",
        "x1 = np.array([41,76,168,235,133,248,414,394,91,489,435,520,411,499,444,301,418,267,512,278])\n",
        "x2 = np.array([208,488,447,277,229,445,448,431,178,399,80,426,336,364,274,235,315,49,387,127])\n",
        "t = np.array([-1,-1,-1,-1,-1,-1,-1,-1,-1,1,1,1,1,1,1,1,1,1,1,1])\n",
        "\n",
        "w1 = 0.5   # 係数w1は0.5で固定\n",
        "w2list = [num * 0.01 for num in range(-300, 100,1)]\n",
        "\n",
        "# w2を変えながら誤差Errを合計する\n",
        "Errlist = []\n",
        "for w2 in w2list:\n",
        "  ylin = w1*x1 + w2*x2  # y = w1x1 + w2x2\n",
        "  y = np.sign(ylin)\n",
        "  Err = 0\n",
        "  for i in range(len(t)):\n",
        "    if t[i] != y[i]:\n",
        "        Err += 1\n",
        "  Errlist.append(Err)\n",
        "\n",
        "# グラフの描画\n",
        "fig, axe = plt.subplots()\n",
        "axe.set_xlabel('w2')  # x軸ラベル\n",
        "axe.set_ylabel('# of Error')  # y軸ラベル\n",
        "axe.grid()            # 罫線\n",
        "axe.plot(w2list,Errlist,color=\"r\")\n",
        "fig.tight_layout()  # レイアウトの設定\n",
        "plt.show()"
      ],
      "metadata": {
        "id": "Cm-nO2q0fu71"
      },
      "execution_count": null,
      "outputs": []
    },
    {
      "cell_type": "markdown",
      "source": [
        "数値微分してみると…"
      ],
      "metadata": {
        "id": "9-rfUrC_kLSr"
      }
    },
    {
      "cell_type": "code",
      "source": [
        "import numpy as np\n",
        "import matplotlib.pyplot as plt\n",
        "\n",
        "Errdiff = np.diff(np.array(Errlist))\n",
        "w2listdel = np.delete(w2list,-1)\n",
        "\n",
        "# グラフの描画\n",
        "fig, axe = plt.subplots()\n",
        "axe.set_xlabel('w2')  # x軸ラベル\n",
        "axe.set_ylabel('diff')  # y軸ラベル\n",
        "axe.grid()            # 罫線\n",
        "axe.plot(w2listdel,Errdiff,color=\"r\")\n",
        "fig.tight_layout()  # レイアウトの設定\n",
        "plt.show()"
      ],
      "metadata": {
        "id": "5a2w9oxIhwR-"
      },
      "execution_count": null,
      "outputs": []
    },
    {
      "cell_type": "markdown",
      "source": [
        "ダメもとで最急降下法を用いてみる．  \n",
        "繰り返してもなぜ誤差が変化しないのか考えてみよう．"
      ],
      "metadata": {
        "id": "nseuxTLCkudC"
      }
    },
    {
      "cell_type": "code",
      "source": [
        "xlist = list(range(10)) # 10回繰り返す\n",
        "ylist = []\n",
        "eta = float(input('eta=?'))\n",
        "bindex = 0\n",
        "for i in xlist:\n",
        "  ylist.append(Errlist[bindex])\n",
        "  bindex += int(-eta*Errdiff[bindex])   # 微分Jdiffにetaをかけたものにマイナスをつける\n",
        "  print('w2 = {}'.format(bindex))\n",
        "\n",
        "# グラフの描画\n",
        "fig, axe = plt.subplots()\n",
        "axe.set_xlabel('step')  # x軸ラベル\n",
        "axe.set_ylabel('# of Error')  # y軸ラベル\n",
        "axe.grid()            # 罫線\n",
        "plt.plot(xlist,ylist)\n",
        "plt.show()"
      ],
      "metadata": {
        "id": "uAmWsJZwke6J"
      },
      "execution_count": null,
      "outputs": []
    },
    {
      "cell_type": "markdown",
      "source": [
        "講義資料の方法で強引に誤差を実数にする．変えたところは1行のみである．  \n",
        "今度はグラフの縦軸(誤差)は間違ったデータの数ではないので注意する．"
      ],
      "metadata": {
        "id": "iGQsFbfVnJlN"
      }
    },
    {
      "cell_type": "code",
      "source": [
        "import numpy as np\n",
        "import matplotlib.pyplot as plt\n",
        "\n",
        "# xが成分A，yが成分B，tが性別(-1がメス，1がオス)\n",
        "x1 = np.array([41,76,168,235,133,248,414,394,91,489,435,520,411,499,444,301,418,267,512,278])\n",
        "x2 = np.array([208,488,447,277,229,445,448,431,178,399,80,426,336,364,274,235,315,49,387,127])\n",
        "t = np.array([-1,-1,-1,-1,-1,-1,-1,-1,-1,1,1,1,1,1,1,1,1,1,1,1])\n",
        "\n",
        "w1 = 0.5   # 係数w1は0.5で固定\n",
        "w2list = [num * 0.01 for num in range(-300, 100,1)]\n",
        "\n",
        "# w2を変えながら誤差Errを合計する\n",
        "Errlist = []\n",
        "for w2 in w2list:\n",
        "  ylin = w1*x1 + w2*x2  # y = w1x1 + w2x2\n",
        "  y = np.sign(ylin)\n",
        "  Err = 0\n",
        "  for i in range(len(t)):\n",
        "    if t[i] != y[i]:\n",
        "        Err += -ylin[i]*t[i]  # ここを変えた！\n",
        "  Errlist.append(Err)\n",
        "\n",
        "# グラフの描画\n",
        "fig, axe = plt.subplots()\n",
        "axe.set_xlabel('w2')  # x軸ラベル\n",
        "axe.set_ylabel('Error')  # y軸ラベル\n",
        "axe.grid()            # 罫線\n",
        "axe.plot(w2list,Errlist,color=\"r\")\n",
        "fig.tight_layout()  # レイアウトの設定\n",
        "plt.show()"
      ],
      "metadata": {
        "id": "r6JfNmCtlCv2"
      },
      "execution_count": null,
      "outputs": []
    },
    {
      "cell_type": "markdown",
      "source": [
        "数値微分してみる．先ほどと比較してみよう．"
      ],
      "metadata": {
        "id": "Go2-c-lPncDl"
      }
    },
    {
      "cell_type": "code",
      "source": [
        "import numpy as np\n",
        "import matplotlib.pyplot as plt\n",
        "\n",
        "Errdiff = np.diff(np.array(Errlist))\n",
        "w2listdel = np.delete(w2list,-1)\n",
        "\n",
        "# グラフの描画\n",
        "fig, axe = plt.subplots()\n",
        "axe.set_xlabel('w2')  # x軸ラベル\n",
        "axe.set_ylabel('diff')  # y軸ラベル\n",
        "axe.grid()            # 罫線\n",
        "axe.plot(w2listdel,Errdiff,color=\"r\")\n",
        "fig.tight_layout()  # レイアウトの設定\n",
        "plt.show()"
      ],
      "metadata": {
        "id": "HWD8eEp2mucZ"
      },
      "execution_count": null,
      "outputs": []
    },
    {
      "cell_type": "markdown",
      "source": [
        "最急降下法を適用してみる．  \n",
        "学習率$\\eta$は大きめに，たとえば2とするとよい．"
      ],
      "metadata": {
        "id": "1tl_-2ICnqUR"
      }
    },
    {
      "cell_type": "code",
      "source": [
        "Errdiff = np.diff(np.array(Errlist))\n",
        "w2listdel = np.delete(w2list,-1)\n",
        "\n",
        "xlist = list(range(10)) # 10回繰り返す\n",
        "ylist = []\n",
        "eta = float(input('eta=?'))\n",
        "bindex = 0\n",
        "for i in xlist:\n",
        "  ylist.append(Errlist[bindex])\n",
        "  bindex += int(-eta*Errdiff[bindex])   # 微分Jdiffにetaをかけたものにマイナスをつける\n",
        "  print('w2 = {}'.format(bindex))\n",
        "\n",
        "# グラフの描画\n",
        "fig, axe = plt.subplots()\n",
        "axe.set_xlabel('step')  # x軸ラベル\n",
        "axe.set_ylabel('# of Error')  # y軸ラベル\n",
        "axe.grid()            # 罫線\n",
        "plt.plot(xlist,ylist)\n",
        "plt.show()"
      ],
      "metadata": {
        "id": "s0kfrDAQmU4w"
      },
      "execution_count": null,
      "outputs": []
    },
    {
      "cell_type": "markdown",
      "source": [
        "## 偏微分"
      ],
      "metadata": {
        "id": "IWaTzKPxvBj3"
      }
    },
    {
      "cell_type": "markdown",
      "source": [
        "パラメータが2つ$(w_1,w_2)$のときの誤差Eが変化する様子は想像しづらいが，たとえば下図のような三次元平面になる．  \n",
        "**三次元平面の「傾き」はどう考えればよいか？**    \n",
        "参考：\n",
        "[matplotlib](https://resanaplaza.com/2021/08/14/%E3%80%90%E8%B6%85%E7%B0%A1%E5%8D%98%E3%80%91matplotlib%E3%81%A73d-plot-%E3%82%92%E3%83%9E%E3%82%A6%E3%82%B9%E3%81%A7%E3%82%B0%E3%83%AA%E3%82%B0%E3%83%AA%E5%9B%9E%E3%81%9D%E3%81%86%EF%BC%81%EF%BC%88by/)"
      ],
      "metadata": {
        "id": "gHKsv9kLvQH1"
      }
    },
    {
      "cell_type": "code",
      "source": [
        "import matplotlib.pyplot as plt\n",
        "import numpy as np\n",
        "\n",
        "#描画エリアの作成\n",
        "fig = plt.figure()\n",
        "ax = fig.add_subplot(projection='3d')\n",
        "\n",
        "#グラフタイトルを設定\n",
        "ax.set_title(\"3D\",size=20)\n",
        "\n",
        "#軸ラベルのサイズと色を設定\n",
        "ax.set_xlabel(\"w1\",size=15,color=\"black\")\n",
        "ax.set_ylabel(\"w2\",size=15,color=\"black\")\n",
        "ax.set_zlabel(\"E\",size=15,color=\"black\")\n",
        "\n",
        "#x,yデータの作成\n",
        "data = np.linspace(-3*np.pi,3*np.pi,50)\n",
        "x, y = np.meshgrid(data,data)\n",
        "\n",
        "# zデータの作成\n",
        "z = np.cos(x/np.pi)*np.sin(y/np.pi)\n",
        "\n",
        "#図の作成\n",
        "ax.plot_surface(x,y,z,cmap=\"winter\")\n",
        "\n",
        "#描画\n",
        "plt.show()"
      ],
      "metadata": {
        "id": "sYUhCqsPmkBh"
      },
      "execution_count": null,
      "outputs": []
    },
    {
      "cell_type": "code",
      "source": [],
      "metadata": {
        "id": "FRNZLyyltsvl"
      },
      "execution_count": null,
      "outputs": []
    }
  ]
}