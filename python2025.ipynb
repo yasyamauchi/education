{
  "nbformat": 4,
  "nbformat_minor": 0,
  "metadata": {
    "colab": {
      "provenance": [],
      "name": "python2025.ipynb",
      "toc_visible": true,
      "include_colab_link": true
    },
    "kernelspec": {
      "name": "python371jvsc74a57bd03ff8f296cdd6c8f89543126c845a3f6be0a6dccb4f7f505a5e8fa6a672893e8c",
      "display_name": "Python 3.7.1 64-bit ('base': conda)"
    },
    "language_info": {
      "codemirror_mode": {
        "name": "ipython",
        "version": 3
      },
      "file_extension": ".py",
      "mimetype": "text/x-python",
      "name": "python",
      "nbconvert_exporter": "python",
      "pygments_lexer": "ipython3",
      "version": "3.7.1"
    }
  },
  "cells": [
    {
      "cell_type": "markdown",
      "metadata": {
        "id": "view-in-github",
        "colab_type": "text"
      },
      "source": [
        "<a href=\"https://colab.research.google.com/github/yasyamauchi/education/blob/main/python2025.ipynb\" target=\"_parent\"><img src=\"https://colab.research.google.com/assets/colab-badge.svg\" alt=\"Open In Colab\"/></a>"
      ]
    },
    {
      "cell_type": "markdown",
      "metadata": {
        "id": "Zr24eHcF-uDX"
      },
      "source": [
        "「生体医工学実験Ⅱ(山内)」演習資料 Ver. 2025/09/21"
      ]
    },
    {
      "cell_type": "markdown",
      "source": [
        "**この資料は[東京大学 数理・情報教育研究センター「Pythonプログラミング入門」](https://utokyo-ipp.github.io/index.html)および「スッキリわかるPython入門」に基づいています．**"
      ],
      "metadata": {
        "id": "pMDHyWRT3wlh"
      }
    },
    {
      "cell_type": "markdown",
      "metadata": {
        "id": "itbVOvI1uMIu"
      },
      "source": [
        "# ようこそPythonの世界へ"
      ]
    },
    {
      "cell_type": "markdown",
      "metadata": {
        "id": "u9Qx1l6lsda3"
      },
      "source": [
        "### プログラミング言語修得の心構え  \n",
        "\n",
        "\n",
        "1.   上から順に\n",
        "2.   途中を飛ばさない\n",
        "3.   間違いの半分は理解不足，残りの半分は凡ミス\n",
        "4.   打て！打て！打て！\n",
        "5.   真似るは学ぶ\n",
        "\n",
        "\n",
        "\n",
        "\n",
        "\n"
      ]
    },
    {
      "cell_type": "markdown",
      "metadata": {
        "id": "ts353sIvuEh3"
      },
      "source": [
        "# 1.0 Colaboratory(Colab)の使い方"
      ]
    },
    {
      "cell_type": "markdown",
      "metadata": {
        "id": "xWUKsszXZ13f"
      },
      "source": [
        "## 1.0.1 はじめてのプログラミング\n",
        "まず，次のコードを下の灰色の四角い枠内に入力してみる．  \n",
        "`print('Hello, World')`  \n",
        "\n",
        "入力できたら，枠の左に表示されている![image.png](data:image/png;base64,iVBORw0KGgoAAAANSUhEUgAAADcAAAA0CAYAAAAuT6DoAAADZklEQVRoBeWazU7yQBSGuTa3uJUtbL0HuAguQMJCFq5AjQt2CIGNUTASxBBQUPkNvyoqgse8TQ4Zay20Ur5hvsWbqbW28+Q9PWfsGdfn5yeJms1mxJpOp8T6+PggI00mE5JVrkVgDCQCvL+/0yZoDqd3Sw/FMG9vbyTq9fWVZJUGZwQGpwAEEEx+PB7Ty8uLpufnZxL19PREMuoHHBwDFAMBAhMfDoeaBoMB9fv9b+r1eiSjXKJrAGOn4NLd3d1GSf96aHCcERGKgINbcEgZOHYNjiEEW62WOnDsGt6vbrdLDw8Pmw+HkOQkgowI15rNJpXLZTXgOO0jJJEJHx8fqVgsqgXHIXl/f0/5fF4dOKRRwHU6HapWq3R5eakmHEpANptVA45XJEgmcA5wFxcXmw/HmRJhCbh2u023t7d0fn6uHhyK96rhkskkBYNB2t3d/Sacw+9WtRL6sfzSOwe4SqWyEufi8Th5PB7a2toylc/nI1z7V8i1wfn9flMgI+BAIPAnwLXAeb1ey2AMCxftOug4nB3HGIxHuw46Cof3hif419HOO+go3M7Ozq9wCFUrrtoJT8fgkNLN3EIZwLsUiUTI7XabXsv3sVomHINDzeJJGY0MB0BMepmkg3taSS6OwWHyRlB8ToTDhAuFwsIw1f/NIlBp4HiiZmGqBNz29rah6xsLh7BEPeOwNRqlgbOaUJDqjYDEc9IkFCul4LcwFMFwLE0pQIIwK+JwalEYinAoFZx0lh0dy5aYgNLLLwBaWWKJTonHuMeybonXOeocP2iZ1YcIIx7bCUd+7lrg8DA7Dtp1bO1weCDewWVcxDV2/sVhKB7X5hw/ECNSOmoWirIonLOa7sX76o//CZx+Ek79/H/BoYUlfnFW6qOsCDcajeZfnJX4nA449OcQr8rCodEvwinT5RH74dzlUao/B+e4+Vir1dRpPnIzRLm2MXYQMRx2M6DhX6/X1Wj4i3DImLxVo1Qqad3VRCJBx8fHdHBwQPv7+xQOhykUChlqb2+PZNJ8e5RYDpBU8N5dX1/T2dkZnZ6eagvbk5MTOjo6osPDQ4rFYhSNRqWWtmtP3GjDe1Gw0QYdVgDmcjkNMpPJUDqdplQqpQmLXpk1h9MXc2yRajQamoPYTXRzc6OBYn8K6+rqimTWF3AWZCtGRidUAAAAAElFTkSuQmCC)をクリックする．  \n",
        "この記号は，枠内にマウスポインタ(カーソル)を持ってこないと表示されないことがある．"
      ]
    },
    {
      "cell_type": "markdown",
      "metadata": {
        "id": "b1n07oDObV4C"
      },
      "source": [
        "注意する点：  \n",
        "\n",
        "\n",
        "*   最初の ( や ' を入力した時点で，行末の ' や ) が自動的に挿入される\n",
        "*   すべて半角文字で入力する(**Hello, World**以外)\n",
        "*   シングルクォーテーション( ' )でもダブルクォーテーション( \" )でもよい（いまのところは）\n",
        "*   初回のクリックは，実行まで時間がかかる\n",
        "*   書籍などでは左端に行番号が表示されていることが多いが，Google Colabではデフォルトでは表示されない．「ツール」→「設定」→「エディタ」の「行番号を表示」のチェックを入れると，行番号が表示される．\n",
        "\n",
        "\n",
        "\n"
      ]
    },
    {
      "cell_type": "markdown",
      "metadata": {
        "id": "vbjWvo6_wOB4"
      },
      "source": [
        "↓↓↓ここに記入する↓↓↓"
      ]
    },
    {
      "cell_type": "code",
      "metadata": {
        "id": "Nh-X5P9EZjzk"
      },
      "source": [
        "print('Hello')"
      ],
      "execution_count": null,
      "outputs": []
    },
    {
      "cell_type": "markdown",
      "metadata": {
        "id": "YxMJcvtobKOA"
      },
      "source": [
        "`Hello, World  `\n",
        "と表示されたら成功．"
      ]
    },
    {
      "cell_type": "markdown",
      "metadata": {
        "id": "wVnKc76ccpib"
      },
      "source": [
        "次に，自分の名前を表示してみる．  \n",
        "先ほどのHello, Worldの部分を自分の名前に入れ替えて実行してみる．"
      ]
    },
    {
      "cell_type": "code",
      "metadata": {
        "id": "YsEADqNBeFDz"
      },
      "source": [],
      "execution_count": null,
      "outputs": []
    },
    {
      "cell_type": "markdown",
      "metadata": {
        "id": "1jJc05dbegdF"
      },
      "source": [
        "## 1.0.2 セルとノートブック\n",
        "プログラムを入力する四角い枠を「セル」という．  \n",
        "セルをまとめたファイルのことをノートブック(ipynbファイル)とよぶ．  \n",
        "セルには複数の行を書くことができる．  \n",
        "次のコードを入力し，実行してみよう．  \n",
        "\n",
        "```\n",
        "print('井上円了')  \n",
        "print('163歳')  \n",
        "print('妖怪が好き')\n",
        "```\n",
        "\n",
        "\n",
        "\n"
      ]
    },
    {
      "cell_type": "code",
      "metadata": {
        "id": "mddf29VDe7Gb"
      },
      "source": [],
      "execution_count": null,
      "outputs": []
    },
    {
      "cell_type": "markdown",
      "metadata": {
        "id": "fCI9oRmpfhnd"
      },
      "source": [
        "1行目から順番に(上から下へ)出てきたのがわかるだろうか．  \n",
        "  \n",
        "Google Colab(Jupyter形式)では，コードをセルごとに実行することができる．ただし，あるセルを実行した結果は，他のセルに引き継がれる．たとえば，セルAに\n",
        "\n",
        "\n",
        "```\n",
        "a = 5\n",
        "```\n",
        "セルBに\n",
        "\n",
        "\n",
        "```\n",
        "print(a*3)\n",
        "```\n",
        "\n",
        "と入力しし，**セルBだけ実行してみよう．**\n"
      ]
    },
    {
      "cell_type": "markdown",
      "metadata": {
        "id": "33qH-I_fiIKx"
      },
      "source": [
        "**セルA**"
      ]
    },
    {
      "cell_type": "code",
      "metadata": {
        "id": "mjoQ8A6fiKr4"
      },
      "source": [],
      "execution_count": null,
      "outputs": []
    },
    {
      "cell_type": "markdown",
      "metadata": {
        "id": "vxQ8QL3IiNiR"
      },
      "source": [
        "**セルB**"
      ]
    },
    {
      "cell_type": "code",
      "metadata": {
        "id": "iReF5YH-iP3J"
      },
      "source": [],
      "execution_count": null,
      "outputs": []
    },
    {
      "cell_type": "markdown",
      "metadata": {
        "id": "XgtU1bd9ilTS"
      },
      "source": [
        "エラーメッセージが表示されるはずである．  \n",
        "では，**セルAを実行し，セルBを改めて実行してみよう．**  \n",
        "5×3の答えである，15が表示されるはずである．  \n",
        "セルBは変数a（後の回で説明する）の3倍を表示するというコードであるが，セルBだけ実行しても，aの中身がないので表示できない．  \n",
        "セルAは変数aに5を代入するというコードであり，これを実行した後にセルBを実行することで，はじめてエラーなく15と表示されたのである．"
      ]
    },
    {
      "cell_type": "markdown",
      "metadata": {
        "id": "Zf3mms9TdEYz"
      },
      "source": [
        "## 1.0.3 トラブルシューティング  \n",
        "\n",
        "### 1)エラー    \n",
        "わざとエラーを出してみる．次のコードを入力し，実行してみる．  \n",
        "`print('松田くん，かっこいい！　最高！)`"
      ]
    },
    {
      "cell_type": "code",
      "metadata": {
        "id": "Q_xZdoUOdbWK"
      },
      "source": [],
      "execution_count": null,
      "outputs": []
    },
    {
      "cell_type": "markdown",
      "metadata": {
        "id": "u2o3E78YdyqU"
      },
      "source": [
        "エラーメッセージ(エラーの内容)が表示され，左の△印が赤くなる．  \n",
        "\n",
        "SyntexErrorとは，「構文エラー(文法エラー)」という意味であるが，具体的にどのようなエラーなのかはPythonは教えてくれない(直訳しても今は訳が分からないと思う)ので，自分で考えるしかない．  \n",
        "この場合，最後のシングルクォーテーション( ' )が足らない．  \n",
        "他の例を挙げる．何がエラーの原因なのか分かるだろうか？？"
      ]
    },
    {
      "cell_type": "markdown",
      "source": [
        "### 2)セルの実行が止まらないとき  \n",
        "セルの左端の●の中に□が表示され，その周りを円弧が回り続けているなら，コードは実行中です．いつまでたっても実行が終わらない場合は，そのアイコンを押して強制終了させることができます．  \n",
        "次の例で練習してみましょう．passの前には半角のスペースが入ります．   \n",
        "```\n",
        "while True:\n",
        "    pass\n",
        "```"
      ],
      "metadata": {
        "id": "oFQnOZXCdOS0"
      }
    },
    {
      "cell_type": "code",
      "metadata": {
        "id": "yOExZUoD8NMR"
      },
      "source": [],
      "execution_count": null,
      "outputs": []
    },
    {
      "cell_type": "markdown",
      "metadata": {
        "id": "cbNaDUGUh7Q7"
      },
      "source": [
        "## 1.0.4 Pythonで使用される記号文字  \n",
        "Pythonのコーディングでは記号，とくに括弧と引用符，バックラッシュなどに注意して欲しい．必ず半角で入力すること．日本語入力モードと英数字入力モードの切替を確認する．\n",
        "\n",
        "```\n",
        "(   ) 丸括弧  \n",
        "{   } 波括弧  \n",
        "[   ] 角括弧\n",
        "'   ' シングルクォーテーション\n",
        "\"   \" ダブルクォーテーション\n",
        "/     スラッシュ\n",
        "\\     円記号\n",
        "＼    バックスラッシュ(実際には半角)\n",
        "```\n",
        "\n",
        "<u>Windowsユーザは，バックスラッシュ \\ は円記号で読み替えること</u>．"
      ]
    },
    {
      "cell_type": "markdown",
      "source": [
        "\n",
        "\n",
        "> 教科書では，文字列はシングルクォーテーション(')で囲い，たとえば```print('Hello')```と記載している．  \n",
        "> 実際には```print(\"Hello\")```のようにダブルクォーテーション(\")で囲ってもよい．  \n",
        "  \n",
        "> 通常はシングルクォーテーションを用いて，文字列にシングルクォーテーションやダブルクォーテーションを含む場合に使い分けするとよい．  \n",
        "```print('She's a girl.')```…エラーとなる  \n",
        "```print(\"She's a girl.\")```…エラーとならない  \n",
        "```print(\"\"http://www.toyo.ac.jp/\"\")```…エラーとなる  \n",
        "```print('\"http://www.toyo.ac.jp/\"')```…エラーとならない\n",
        "\n",
        "\n",
        "\n",
        "\n"
      ],
      "metadata": {
        "id": "3EEq61Jl3Mpp"
      }
    },
    {
      "cell_type": "markdown",
      "metadata": {
        "id": "sjaYEyenzAv6"
      },
      "source": [
        "# 1.1 数値演算"
      ]
    },
    {
      "cell_type": "markdown",
      "metadata": {
        "id": "EXpNK4VJmSuH"
      },
      "source": [
        "## 1.1.1数値の演算\n",
        "算術演算を試してみる．まずは教科書通りに，次のコードを入力し，実行してみる．  \n",
        "\n",
        "\n",
        "```\n",
        "print(1)\n",
        "print(10)\n",
        "print(1+1)\n",
        "print(10-2)\n",
        "```\n",
        "\n"
      ]
    },
    {
      "cell_type": "code",
      "metadata": {
        "id": "RWmoY6Ith0Bz"
      },
      "source": [],
      "execution_count": null,
      "outputs": []
    },
    {
      "cell_type": "markdown",
      "metadata": {
        "id": "bivfomZznTku"
      },
      "source": [
        "電卓代わりに使えるのが分かっただろうか．  \n",
        "もちろん，足し算引き算だけでなく，四則演算ができる．  \n",
        "次のコードを入力し，実行してみよう．\n",
        "\n",
        "\n",
        "```\n",
        "print(7*4)\n",
        "print(7/4)\n",
        "print(7//4)\n",
        "print(7%4)\n",
        "print(7**4)\n",
        "```\n",
        "\n",
        "\n"
      ]
    },
    {
      "cell_type": "code",
      "metadata": {
        "id": "6i_LK-VQnS1m"
      },
      "source": [],
      "execution_count": null,
      "outputs": []
    },
    {
      "cell_type": "markdown",
      "metadata": {
        "id": "-cTR_P0Hn1__"
      },
      "source": [
        "ここで計算のために用いる*や/などの記号を<u>「算術演算子」</u>とよぶ．この中で要注意は/と//の区別(後者は結果が整数となる)，//と%の区別(後者は割り算の余り)である．"
      ]
    },
    {
      "cell_type": "markdown",
      "metadata": {
        "id": "3RSl63TdnXkx"
      },
      "source": [
        "## 1.1.2 コメント"
      ]
    },
    {
      "cell_type": "markdown",
      "metadata": {
        "id": "f8h25Ej1n1FH"
      },
      "source": [
        "次のコードを入力し，実行してみよう．\n",
        "\n",
        "```\n",
        "\"\"\"  \n",
        "自己紹介プログラム  \n",
        "作成者：井上円了\n",
        "作成日：2021年1月26日\n",
        "\"\"\"  \n",
        "#名前と特技を表示  \n",
        "print('僕の名前は井上円了')  \n",
        "print('妖怪が好き')\n",
        "```\n",
        "\n"
      ]
    },
    {
      "cell_type": "code",
      "source": [],
      "metadata": {
        "id": "tQTUbj5olGXW"
      },
      "execution_count": null,
      "outputs": []
    },
    {
      "cell_type": "markdown",
      "metadata": {
        "id": "7MlNWahZod-x"
      },
      "source": [
        "\n",
        "\n",
        "```\n",
        "僕の名前は井上円了\n",
        "妖怪が好き\n",
        "```\n",
        "だけが表示されるのが確認できるだろうか．  \n",
        "コメント(comment)とは，解説文であり，実行時は無視される．  \n",
        "しかしこれを入れることにより，そのソースコードを作成した経緯や用途，各行の意味合いを理解することができる．  \n",
        "ソースコードは，未来の自分や他人が読んでも理解できるように心がけて欲しい．\n"
      ]
    },
    {
      "cell_type": "markdown",
      "metadata": {
        "id": "HJ3vsCXvpKeY"
      },
      "source": [
        "コメントの記述方法は2種類ある．  \n",
        "**1.単一行(行末まで)  (行内の#以降がコメント)**\n",
        "\n",
        "\n",
        "```\n",
        "# コメント\n",
        "print('Hello')\n",
        "```\n",
        "\n",
        "\n",
        "```\n",
        "print('Hello') # コメント\n",
        "```\n",
        "\n",
        "**2.複数行　(ダブルクォーテーションまたはシングルクォーテーション3個)**\n",
        "\n",
        "```\n",
        "\"\"\"\n",
        "コメント1\n",
        "コメント2\n",
        "\"\"\"\n",
        "print('Hello')\n",
        "```\n",
        "\n",
        "\n",
        "\n"
      ]
    },
    {
      "cell_type": "markdown",
      "metadata": {
        "id": "nm1-VQIj69nW"
      },
      "source": [
        "## 1.1.3 整数と実数(データ型)  \n",
        "整数(int)[いんと、いんてじゃー]，実数(小数)(float)[ふろーと]，文字列(str)[すとりんぐ]，真偽値(bool)[ぶーる]の4種類．  \n",
        "「同じ「1」でも1と1.0は別である．次のコードを入力し，実行してみよう．\n",
        "\n",
        "```\n",
        "x = 1\n",
        "print(x)\n",
        "x = 1.0\n",
        "print(x)\n",
        "```\n",
        "\n"
      ]
    },
    {
      "cell_type": "code",
      "source": [],
      "metadata": {
        "id": "_ptGJMMFlv3_"
      },
      "execution_count": null,
      "outputs": []
    },
    {
      "cell_type": "markdown",
      "metadata": {
        "id": "tawyfv_G9IwT"
      },
      "source": [
        "## 1.1.4 整数と実数の変換\n",
        "Pythonでは，データ型の名前をそのまま使用して，データ型の変換を行う関数とする．つまり，\n",
        "\n",
        "*   int(x)は変数xをint型(整数)にする\n",
        "*   float(x)は変数xをfloat型(実数)にする\n",
        "\n",
        "では，**コード**を実行してみよう．\n",
        "\n",
        "```\n",
        "x = 3.14\n",
        "y = int(x)\n",
        "print(y)\n",
        "print(type(y))\n",
        "print(z * 2)\n",
        "```\n",
        "\n",
        "\n"
      ]
    },
    {
      "cell_type": "code",
      "source": [],
      "metadata": {
        "id": "kOw06M8Vl3-x"
      },
      "execution_count": null,
      "outputs": []
    },
    {
      "cell_type": "markdown",
      "source": [
        "## 1.1.5 実数のべき表示と数値誤差  \n",
        "10の60乗を計算する．  \n",
        "最初は整数として計算するため，正しい値となる．  \n",
        "それを実数に変換すると「べき表示」1e+60(1x10<sup>60</sup>)という表記になるが，実際にはわずかに誤差が生ずる．  \n",
        "誤差があるかどうかを確認するために，わざと整数に再変換してみる．\n",
        "```\n",
        "print(10**60)\n",
        "print(float(10**60))\n",
        "print(int(float(10**60)))\n",
        "```"
      ],
      "metadata": {
        "id": "YSNag3VJhoPQ"
      }
    },
    {
      "cell_type": "code",
      "source": [],
      "metadata": {
        "id": "IPM-ZF59mEjR"
      },
      "execution_count": null,
      "outputs": []
    },
    {
      "cell_type": "markdown",
      "metadata": {
        "id": "hnBqaDHCrwHa"
      },
      "source": [
        "## 1.1.6 演算子の優先順位と括弧    \n",
        "式の評価と優先順位は，基本的に数学と同じである．たとえば：  \n",
        "3＋5×2＝3＋10＝13  \n",
        "(3＋5)×2＝8×2＝16  \n",
        "5<sup>2</sup>＋10＝25＋10＝35  \n",
        "これらをPythonで実行すると(各自試す)：  \n",
        "\n",
        "\n",
        "```\n",
        "print(3+5*2)\n",
        "print((3+5)*2)\n",
        "print(5**2+10)\n",
        "```\n",
        "\n"
      ]
    },
    {
      "cell_type": "code",
      "metadata": {
        "id": "HetSqmTarfmq"
      },
      "source": [],
      "execution_count": null,
      "outputs": []
    },
    {
      "cell_type": "markdown",
      "source": [
        "## 1.1.7 空白  \n",
        "* 複数の文字からなる演算子，たとえば**や//の間に空白を入れてはならない．  \n",
        "* 「全角の」空白は空白とはみなされない．  \n",
        "  \n",
        "7の2乗を計算しようとする，次の4つのコードを試してみよう．(ここではコードはコピペすること)．  \n",
        "```\n",
        "print(7**2)\n",
        "```"
      ],
      "metadata": {
        "id": "J7iFNUqymrNv"
      }
    },
    {
      "cell_type": "code",
      "source": [],
      "metadata": {
        "id": "Av_5ZSirnQV7"
      },
      "execution_count": null,
      "outputs": []
    },
    {
      "cell_type": "markdown",
      "source": [
        "```\n",
        "print(7 **2)\n",
        "```"
      ],
      "metadata": {
        "id": "DdaqW4jfnXXr"
      }
    },
    {
      "cell_type": "code",
      "source": [],
      "metadata": {
        "id": "hYj2iBwnnmAA"
      },
      "execution_count": null,
      "outputs": []
    },
    {
      "cell_type": "markdown",
      "source": [
        "```\n",
        "print(7* *2)\n",
        "```"
      ],
      "metadata": {
        "id": "Hd8qedDXnXPJ"
      }
    },
    {
      "cell_type": "code",
      "source": [],
      "metadata": {
        "id": "T4Dm8BZ0niqf"
      },
      "execution_count": null,
      "outputs": []
    },
    {
      "cell_type": "markdown",
      "source": [
        "```\n",
        "print(7　**2)\n",
        "```"
      ],
      "metadata": {
        "id": "aXJcp0W4nW50"
      }
    },
    {
      "cell_type": "code",
      "source": [],
      "metadata": {
        "id": "EHcGrjY6niNN"
      },
      "execution_count": null,
      "outputs": []
    },
    {
      "cell_type": "markdown",
      "source": [
        "## 1.1.8 数学関数(モジュールのインポート)  \n",
        "モジュールの解説はあとで行うが，数学関係の各種関数や定数(円周率など)はモジュール(ライブラリ)として提供されている．  \n",
        "いまのところは「おまじない」として覚えておく．"
      ],
      "metadata": {
        "id": "1w3-soRSoQzn"
      }
    },
    {
      "cell_type": "markdown",
      "source": [
        "```\n",
        "import math\n",
        "print(math.sqrt(2))\n",
        "print(math.pi)\n",
        "print(math.sin(math.pi))\n",
        "print(math.sin(math.pi/2))"
      ],
      "metadata": {
        "id": "prfnOAIDooml"
      }
    },
    {
      "cell_type": "code",
      "source": [
        "import math\n",
        "print(math.sqrt(2))\n",
        "print(math.pi)\n",
        "print(math.sin(math.pi))\n",
        "print(math.sin(math.pi/2))"
      ],
      "metadata": {
        "colab": {
          "base_uri": "https://localhost:8080/"
        },
        "id": "OVNHxUUKouZk",
        "outputId": "70e78fae-2efa-4c5c-cc29-4010d815fcc4"
      },
      "execution_count": 17,
      "outputs": [
        {
          "output_type": "stream",
          "name": "stdout",
          "text": [
            "1.4142135623730951\n",
            "3.141592653589793\n",
            "1.2246467991473532e-16\n",
            "1.0\n"
          ]
        }
      ]
    },
    {
      "cell_type": "markdown",
      "source": [
        "3番目のコードは本当は0にならないとおかしいが，数値誤差のために0にならない．"
      ],
      "metadata": {
        "id": "R-Aa1Qwso-ie"
      }
    },
    {
      "cell_type": "markdown",
      "metadata": {
        "id": "UybwSglqy7jA"
      },
      "source": [
        "# 1.2 変数と関数の基礎"
      ]
    },
    {
      "cell_type": "markdown",
      "metadata": {
        "id": "KMMeL1datbLd"
      },
      "source": [
        "## 1.2.1変数の利用  \n",
        "この「変数」の概念も，数学と同じである(今のところは！)．  \n",
        "数学では，iやxといった一文字で変数を表現するが，プログラミング言語ではnameやageといった単語を変数とすることができる．  \n",
        "けっして，<u>ageはa×g×eの意味ではない</u>．    \n",
        "  \n",
        "次のコードは，身長(cm)を変数hに，体重(kg)を変数wに代入し，BMIを計算した結果を変数bmiに代入し，表示するコードである．  \n",
        "```\n",
        "h = 188.0\n",
        "print(h)\n",
        "w = 104.0\n",
        "print(w)\n",
        "bmi = w/(h/100.0) ** 2\n",
        "print(bmi)\n",
        "```\n",
        "\n"
      ]
    },
    {
      "cell_type": "code",
      "source": [],
      "metadata": {
        "id": "dhFIPyn_q2vf"
      },
      "execution_count": null,
      "outputs": []
    },
    {
      "cell_type": "markdown",
      "metadata": {
        "id": "SzWcIoszu1pt"
      },
      "source": [
        "なお，未知の変数を式の中で用いるとエラーとなる．  \n",
        "```\n",
        "z = abc + def\n",
        "```"
      ]
    },
    {
      "cell_type": "code",
      "source": [],
      "metadata": {
        "id": "2QvuVk1aq0kT"
      },
      "execution_count": null,
      "outputs": []
    },
    {
      "cell_type": "markdown",
      "metadata": {
        "id": "SitL8y02zi97"
      },
      "source": [
        "## 1.2.2代入文\n",
        "これは<u>数学とは全く異なるので，最初は非常に気味が悪い</u>かもしれない．  \n",
        "とりあえず次のコードを入力し，実行してみよう．  \n",
        "\n",
        "\n",
        "```\n",
        "age = 24\n",
        "age = age + 1\n",
        "print(age)\n",
        "```\n",
        "\n"
      ]
    },
    {
      "cell_type": "code",
      "metadata": {
        "id": "1BwbwMdxz9sT"
      },
      "source": [],
      "execution_count": null,
      "outputs": []
    },
    {
      "cell_type": "markdown",
      "metadata": {
        "id": "6a68G3b00ALj"
      },
      "source": [
        "「25」と表示されたが，2行目の「age = age + 1」とは何だろうか．以前，「= は数学と異なり代入を示す」と説明したことがここで生きてくる．つまりこれは，「ageに1を足した結果である25をageに代入する」という意味になる．  \n",
        "では演習として，次のコードを入力し，実行してみよう．  \n",
        "\n",
        "\n",
        "```\n",
        "x = 24\n",
        "x = x - 7\n",
        "print(x)\n",
        "x = x * 3\n",
        "print(x)\n",
        "```\n",
        "\n"
      ]
    },
    {
      "cell_type": "code",
      "metadata": {
        "id": "WK7CEQ2J0vhc"
      },
      "source": [],
      "execution_count": null,
      "outputs": []
    },
    {
      "cell_type": "markdown",
      "metadata": {
        "id": "kV0MS4Cd0x6h"
      },
      "source": [
        "はい．17と51と表示されただろうか．  \n",
        "まず2行目で，24から7を引いた結果である17がxに代入され，表示される．  \n",
        "4行目で，その17に3をかけた結果である51がxに代入され，表示される．  "
      ]
    },
    {
      "cell_type": "markdown",
      "metadata": {
        "id": "QElMAWXg1GLv"
      },
      "source": [
        "## 1.2.3累積代入文(複合代入演算子)  \n",
        "もっと気持ち悪いが，必ず理解して欲しい．  \n",
        "先ほどの例を書き直すと：  \n",
        "\n",
        "\n",
        "```\n",
        "x = 24\n",
        "x -= 7  # 7を引いて代入\n",
        "print(x)\n",
        "x *= 3  # 3をかけて代入\n",
        "print(x)\n",
        "```\n",
        "\n"
      ]
    },
    {
      "cell_type": "code",
      "metadata": {
        "id": "puDqvLRT1ThZ"
      },
      "source": [],
      "execution_count": null,
      "outputs": []
    },
    {
      "cell_type": "markdown",
      "metadata": {
        "id": "po2892pv1me2"
      },
      "source": [
        "他の複合代入演算子(+=，/=)も覚えておくこと．"
      ]
    },
    {
      "cell_type": "markdown",
      "metadata": {
        "id": "hOBcyMpeoR76"
      },
      "source": [
        "# 2.2リスト"
      ]
    },
    {
      "cell_type": "markdown",
      "metadata": {
        "id": "7Y2P0fudoW1u"
      },
      "source": [
        "## 2.2.1リストの特徴  \n",
        "ポイント\n",
        "*   複数の値(「要素」)を一列に並べて管理する\n",
        "*   番号(添え字，インデックス)で管理するが，**0番から始まる(0,1,2,3...)！**\n",
        "\n"
      ]
    },
    {
      "cell_type": "markdown",
      "metadata": {
        "id": "ZRFuFjBAp3l0"
      },
      "source": [
        "## 2.2.2リストの作成  \n",
        "\n",
        "\n",
        "```\n",
        "変数 = [要素0, 要素1, 要素2,...]\n",
        "```\n",
        "\n",
        "\n",
        "* 角括弧[  ]を使うことにまず注意する  \n",
        "  * 後ほど{  }や(   )も出現するので，目を凝らして見ること！  \n",
        "* 各々の要素はカンマ,で区切る．  \n",
        "  \n",
        "それでは実行してみよう．\n",
        "\n",
        "```\n",
        "numbers = [0, 10, 20, 30, 40, 50]\n",
        "numbers\n",
        "```\n",
        "\n",
        "\n"
      ]
    },
    {
      "cell_type": "code",
      "metadata": {
        "id": "aMIbr5Etmbfc"
      },
      "source": [],
      "execution_count": null,
      "outputs": []
    },
    {
      "cell_type": "markdown",
      "source": [
        "```\n",
        "type(numbers)\n",
        "```"
      ],
      "metadata": {
        "id": "JyO1K-q0Aczr"
      }
    },
    {
      "cell_type": "code",
      "source": [],
      "metadata": {
        "id": "5eM1h4_mAhOV"
      },
      "execution_count": null,
      "outputs": []
    },
    {
      "cell_type": "markdown",
      "source": [
        "文字列もリストにできる．  \n",
        "```\n",
        "fruits = ['apple', 'banana', 'chelly']\n",
        "fruits\n",
        "```"
      ],
      "metadata": {
        "id": "ngL6UthBAit-"
      }
    },
    {
      "cell_type": "code",
      "source": [
        "fruits = ['apple', 'banana', 'chelly']\n",
        "fruits"
      ],
      "metadata": {
        "colab": {
          "base_uri": "https://localhost:8080/"
        },
        "id": "Y4kZULw0AoBD",
        "outputId": "bfba95dd-3171-47a6-9e7e-74a788ce8da1"
      },
      "execution_count": 21,
      "outputs": [
        {
          "output_type": "execute_result",
          "data": {
            "text/plain": [
              "['apple', 'banana', 'chelly']"
            ]
          },
          "metadata": {},
          "execution_count": 21
        }
      ]
    },
    {
      "cell_type": "markdown",
      "source": [
        "何も入っていないリスト（空リスト）をあえて作るなら…  \n",
        "```\n",
        "empty=[]\n",
        "empty\n",
        "```\n",
        "注：リストの変数名はemptyでなくても何でも良い．"
      ],
      "metadata": {
        "id": "CUaXNxp0Aq5k"
      }
    },
    {
      "cell_type": "code",
      "source": [],
      "metadata": {
        "id": "GPxox1fVA5NA"
      },
      "execution_count": null,
      "outputs": []
    },
    {
      "cell_type": "markdown",
      "metadata": {
        "id": "_91zcATOsE_u"
      },
      "source": [
        "## 2.2.3リストとインデックス  \n",
        "先ほど，print(members)を実行すると，リスト内のすべての要素が表示されたが，たとえば0番目(最初の要素)だけを取り出したいときはどうするのか？  \n",
        "\n",
        "\n",
        "```\n",
        "リスト[添え字]\n",
        "```\n",
        "とする．では，次のコードをセルに入力して実行し，リストfruitsの0番目の要素を表示してみよう．\n",
        "\n",
        "\n",
        "```\n",
        "print(fruits[0])\n",
        "```\n",
        "\n"
      ]
    },
    {
      "cell_type": "code",
      "source": [
        "print(fruits[0])"
      ],
      "metadata": {
        "colab": {
          "base_uri": "https://localhost:8080/"
        },
        "id": "FqzraucsBGWL",
        "outputId": "9410f66b-b1df-43f0-b05c-061960866472"
      },
      "execution_count": 22,
      "outputs": [
        {
          "output_type": "stream",
          "name": "stdout",
          "text": [
            "apple\n"
          ]
        }
      ]
    },
    {
      "cell_type": "markdown",
      "metadata": {
        "id": "vtstcQpvum4O"
      },
      "source": [
        "**リストの要素の添え字(番号)は0から始まる**．だから，要素が3つの場合，添え字は0から2である．試しに，次のコードをセルに入力し，実行してみよう．\n",
        "\n",
        "```\n",
        "print(fruits[1])\n",
        "print(fruits[2])\n",
        "print(fruits[3])\n",
        "```\n",
        "\n"
      ]
    },
    {
      "cell_type": "code",
      "metadata": {
        "id": "OGyI7pjhvDgI",
        "colab": {
          "base_uri": "https://localhost:8080/",
          "height": 220
        },
        "outputId": "1be655c3-426a-4a59-9bda-02807e03b011"
      },
      "source": [
        "print(fruits[1])\n",
        "print(fruits[2])\n",
        "print(fruits[3])"
      ],
      "execution_count": 23,
      "outputs": [
        {
          "output_type": "stream",
          "name": "stdout",
          "text": [
            "banana\n",
            "chelly\n"
          ]
        },
        {
          "output_type": "error",
          "ename": "IndexError",
          "evalue": "list index out of range",
          "traceback": [
            "\u001b[0;31m---------------------------------------------------------------------------\u001b[0m",
            "\u001b[0;31mIndexError\u001b[0m                                Traceback (most recent call last)",
            "\u001b[0;32m/tmp/ipython-input-4225702145.py\u001b[0m in \u001b[0;36m<cell line: 0>\u001b[0;34m()\u001b[0m\n\u001b[1;32m      1\u001b[0m \u001b[0mprint\u001b[0m\u001b[0;34m(\u001b[0m\u001b[0mfruits\u001b[0m\u001b[0;34m[\u001b[0m\u001b[0;36m1\u001b[0m\u001b[0;34m]\u001b[0m\u001b[0;34m)\u001b[0m\u001b[0;34m\u001b[0m\u001b[0;34m\u001b[0m\u001b[0m\n\u001b[1;32m      2\u001b[0m \u001b[0mprint\u001b[0m\u001b[0;34m(\u001b[0m\u001b[0mfruits\u001b[0m\u001b[0;34m[\u001b[0m\u001b[0;36m2\u001b[0m\u001b[0;34m]\u001b[0m\u001b[0;34m)\u001b[0m\u001b[0;34m\u001b[0m\u001b[0;34m\u001b[0m\u001b[0m\n\u001b[0;32m----> 3\u001b[0;31m \u001b[0mprint\u001b[0m\u001b[0;34m(\u001b[0m\u001b[0mfruits\u001b[0m\u001b[0;34m[\u001b[0m\u001b[0;36m3\u001b[0m\u001b[0;34m]\u001b[0m\u001b[0;34m)\u001b[0m\u001b[0;34m\u001b[0m\u001b[0;34m\u001b[0m\u001b[0m\n\u001b[0m",
            "\u001b[0;31mIndexError\u001b[0m: list index out of range"
          ]
        }
      ]
    },
    {
      "cell_type": "markdown",
      "metadata": {
        "id": "LMZ4gTUcvI-t"
      },
      "source": [
        "banana，chellyは表示できたが，その後にIndexErrorというエラーが生じるはずである．"
      ]
    },
    {
      "cell_type": "markdown",
      "metadata": {
        "id": "VP4RBLZkvSye"
      },
      "source": [
        "## 2.2.4リストに対する関数\n",
        "88,90,95という3つの要素の合計を計算し表示することにしよう．  \n",
        "もちろん，単純に足せば良いので演算子+を使って，教科書のコード2-5のように計算すれば良い．  \n",
        "(最後の行のprintの書式については前回を復習すること)  \n",
        "  \n",
        "しかし，もし，要素が10個だったら…\n",
        "\n",
        "```\n",
        "total = scores[0] + scores[1] + scores[2] + scores[3] + scores[4] + scores[5] + scores[6] + scores[7] + scores[8] + scores[9]\n",
        "```\n",
        "**たるくないですか？**  \n",
        "\n",
        "なので，合計を計算する関数sumを使うと良い．\n",
        "\n",
        "```\n",
        "sum(リスト)\n",
        "```\n",
        "早速実行してみよう．\n",
        "\n",
        "```\n",
        "numbers = [30, 50, 10, 20, 40, 60]\n",
        "sum(numbers)\n",
        "```"
      ]
    },
    {
      "cell_type": "code",
      "metadata": {
        "id": "294LjCIFwqAp",
        "colab": {
          "base_uri": "https://localhost:8080/"
        },
        "outputId": "d56025ff-0c3f-4393-a233-c90e416ea7b3"
      },
      "source": [
        "numbers = [30, 50, 10, 20, 40, 60]\n",
        "sum(numbers)"
      ],
      "execution_count": 24,
      "outputs": [
        {
          "output_type": "execute_result",
          "data": {
            "text/plain": [
              "210"
            ]
          },
          "metadata": {},
          "execution_count": 24
        }
      ]
    },
    {
      "cell_type": "markdown",
      "metadata": {
        "id": "mydUK5a2xAoT"
      },
      "source": [
        "> いまsumとかformatと記入した後に，Google Colab上で英語のメッセージが表示されたのが分かるだろうか？これは，関数sumやformatの意味と使い方を教えてくれているのである．英語だけど．"
      ]
    },
    {
      "cell_type": "markdown",
      "metadata": {
        "id": "9ADd_fRoxT9V"
      },
      "source": [
        "同じように，  \n",
        "* リスト中の要素数を教えてくれる関数len\n",
        "* 最大値を教えてくれる関数max\n",
        "* 最小値を教えてくれる関数min\n",
        "\n",
        "```\n",
        "len(リスト)\n",
        "max(リスト)\n",
        "min(リスト)\n",
        "```\n",
        "実行してみよう．\n",
        "\n",
        "```\n",
        "numbers = [30, 50, 10, 20, 40, 60]\n",
        "print(len(numbers))\n",
        "print(max(numbers))\n",
        "print(min(numbers))\n",
        "```\n",
        "\n",
        "\n"
      ]
    },
    {
      "cell_type": "code",
      "metadata": {
        "id": "xqw-3uv1xztN",
        "colab": {
          "base_uri": "https://localhost:8080/"
        },
        "outputId": "cc2afb69-6f25-40a3-8322-d45d0de7b62f"
      },
      "source": [
        "numbers = [30, 50, 10, 20, 40, 60]\n",
        "print(len(numbers))\n",
        "print(max(numbers))\n",
        "print(min(numbers))"
      ],
      "execution_count": 26,
      "outputs": [
        {
          "output_type": "stream",
          "name": "stdout",
          "text": [
            "6\n",
            "60\n",
            "10\n"
          ]
        }
      ]
    },
    {
      "cell_type": "markdown",
      "source": [
        "## 2.2.5リストに対する演算子  \n",
        "リストの結合や繰り返しができます．"
      ],
      "metadata": {
        "id": "1wYvqLKjC1nT"
      }
    },
    {
      "cell_type": "markdown",
      "source": [
        "### 1) 結合の例  \n",
        "```\n",
        "numbersA = [20, 40, 60]\n",
        "numbersB = [30, 50, 10]\n",
        "print(numbersA+numbersB)\n",
        "```\n",
        "[50, 90, 70]になるわけではないことに注意すること．"
      ],
      "metadata": {
        "id": "F8qjN5gsDBUQ"
      }
    },
    {
      "cell_type": "code",
      "source": [
        "numbersA = [20, 40, 60]\n",
        "numbersB = [30, 50, 10]\n",
        "print(numbersA+numbersB)"
      ],
      "metadata": {
        "colab": {
          "base_uri": "https://localhost:8080/"
        },
        "id": "Vrti--WRDPrz",
        "outputId": "00f26c80-305d-485d-c180-79399de2eb6e"
      },
      "execution_count": 27,
      "outputs": [
        {
          "output_type": "stream",
          "name": "stdout",
          "text": [
            "[20, 40, 60, 30, 50, 10]\n"
          ]
        }
      ]
    },
    {
      "cell_type": "markdown",
      "source": [
        "###2) 繰り返しの例\n",
        "```\n",
        "numbersC = [20, 40]\n",
        "print(numbersC * 4)\n",
        "```\n",
        "[80,160]になるわけではないことに注意すること．"
      ],
      "metadata": {
        "id": "rKcrpxEcDSNq"
      }
    },
    {
      "cell_type": "code",
      "source": [],
      "metadata": {
        "id": "hIsAYZlsDsRu"
      },
      "execution_count": null,
      "outputs": []
    },
    {
      "cell_type": "markdown",
      "metadata": {
        "id": "qPMhSDc1yKpa"
      },
      "source": [
        "## 2.2.6リストのメソッド  \n",
        "「メソッド」といって，変数のあとにピリオド.を書き，その後に関数のようなものを書く方法がある．例えば：  \n",
        "\n",
        "### 1)リストの末尾に要素を追加\n",
        "\n",
        "```\n",
        "リスト.append(追加する要素)\n",
        "```\n",
        "### 2)リスト要素の削除\n",
        "\n",
        "```\n",
        "リスト.remove(リストから削除したい要素)\n",
        "```\n",
        "### 3)リストの要素を変更\n",
        "\n",
        "```\n",
        "リスト[変更する要素の添え字] = 変更後の値\n",
        "```  \n",
        "### 4)リストの中の特定の数値を検索\n",
        "```\n",
        "リスト.index(探したい数)\n",
        "```  \n",
        "### 5)リストの並べ替え  \n",
        "```\n",
        "リスト.sort()\n",
        "```\n",
        "  \n",
        "次のコードで確認してみよう．\n",
        "\n",
        "\n",
        "```\n",
        "numbers = [30, 50, 10, 20, 40, 60]\n",
        "print(numbers)\n",
        "\n",
        "# 70という数値を末尾に加える\n",
        "numbers.append(70)\n",
        "print(numbers)\n",
        "\n",
        "# 30という要素を除去する\n",
        "numbers.remove(30)\n",
        "print(numbers)\n",
        "\n",
        "# 3番目の要素(最初から4番目の40)を100に変更する\n",
        "numbers[3] = 100\n",
        "print(numbers)\n",
        "\n",
        "# 20という値が何番目にあるかを表示する\n",
        "print(numbers.index(20))\n",
        "\n",
        "# 小さい順に並べ替える\n",
        "numbers.sort()\n",
        "print(numbers)\n",
        "```\n",
        "\n",
        "\n",
        "\n",
        "\n",
        "\n"
      ]
    },
    {
      "cell_type": "code",
      "source": [],
      "metadata": {
        "id": "zrSCtni1F1BE"
      },
      "execution_count": null,
      "outputs": []
    },
    {
      "cell_type": "markdown",
      "metadata": {
        "id": "UEEEEteP9InA"
      },
      "source": [
        "複数の値をまとめる方法としてPythonではリストの他にディクショナリー，タプル，セットというものもあります．"
      ]
    },
    {
      "cell_type": "markdown",
      "metadata": {
        "id": "xJCI2SHRqZId"
      },
      "source": [
        "# 3.1プログラムの流れ"
      ]
    },
    {
      "cell_type": "markdown",
      "metadata": {
        "id": "VAywqSvPqif4"
      },
      "source": [
        "## 3.1.1文と制御構造\n",
        "ここは読み流しても良いが，p.122に紹介されている「一行が1つの文とならない書き方」と，次のセクションで使用される「フローチャート」について簡単に説明する．"
      ]
    },
    {
      "cell_type": "markdown",
      "metadata": {
        "id": "e8jzbB60tPMq"
      },
      "source": [
        "### 1)一行が1つの文とならない書き方\n",
        "次のコードを「そのまま」入力し，実行してみよう．\n",
        "```\n",
        "n = 1 + 2\n",
        "+ 3\n",
        "print(n)\n",
        "```"
      ]
    },
    {
      "cell_type": "code",
      "metadata": {
        "id": "JELd2Tn6tiBD"
      },
      "source": [],
      "execution_count": null,
      "outputs": []
    },
    {
      "cell_type": "markdown",
      "metadata": {
        "id": "VI_InT70trN4"
      },
      "source": [
        "1+2+3を計算したはずなのに，答えが6にならずに3になってしまったのは，1行目と2行目が連続した文であるとは認識されなかったことによる．  \n",
        "このように，Pythonではうかつに行の途中で改行してはいけない．  \n",
        "スペースが足らず，どうしても改行したい場合は，バックスラッシュ(＼)を使う．なおバックスラッシュは初回に述べたとおり，環境により￥(円記号)になる．  \n",
        "では，次のコードを入力し，実行してみよう．6になるだろうか？\n",
        "```\n",
        "n = 1 + 2 \\\n",
        "+ 3\n",
        "print(n)\n",
        "```"
      ]
    },
    {
      "cell_type": "code",
      "metadata": {
        "id": "YJbn7FtLuuby"
      },
      "source": [],
      "execution_count": null,
      "outputs": []
    },
    {
      "cell_type": "markdown",
      "metadata": {
        "id": "1VitmJoBrorm"
      },
      "source": [
        "### 2)フローチャート\n",
        "プログラムや作業などの実行手続きの流れを図に示したもので，「流れ図」とも呼ばれる．  \n",
        "最低限，以下の2つを理解する．  \n",
        "\n",
        "*   菱形の記号が，この章で学ぶ「分岐」を示す\n",
        "*   処理は上から下へ，左から右へ．なお，→がある場合にはそれに従う．\n",
        "\n",
        "\n",
        "\n",
        "記号の意味などはJIS規格で決まっている(JIS X 0121:1986)  \n",
        "参考：http://www.coco.inago.jp/teacher/print_data/joho3/joho09-10b.pdf\n"
      ]
    },
    {
      "cell_type": "markdown",
      "metadata": {
        "id": "4E4uVMxvu848"
      },
      "source": [
        "# 3.2条件分岐の基本構造\n",
        "if文の基本について学ぶ．"
      ]
    },
    {
      "cell_type": "markdown",
      "metadata": {
        "id": "MptbMAPQvLjv"
      },
      "source": [
        "## 3.2.1if文\n",
        "まず，教科書p.123の**コード3-1**をそのまま入力し，実行してみよう．  \n",
        "**ただし，教科書では3行目の途中で改行しているが，改行せずに下記のように入力すること．**  \n",
        "(改行しても正しく動作するが，初心者の学習上は好ましくない)\n",
        "```\n",
        "name = input('あなたの名前を教えてください >>')\n",
        "print('{}さん，こんにちは'.format(name))\n",
        "food = input('{}さんの好きな食べ物を教えてください >>'.format(name))\n",
        "print('私も{}が好きですよ'.format(food))\n",
        "```"
      ]
    },
    {
      "cell_type": "code",
      "metadata": {
        "id": "rpMPDpavqUdc"
      },
      "source": [],
      "execution_count": null,
      "outputs": []
    },
    {
      "cell_type": "markdown",
      "metadata": {
        "id": "cKDAu_etxL_N"
      },
      "source": [
        "このコードは，名前と好きな食べ物をオウム返しするだけで，いつも同じ処理を行う．  \n",
        "そこで，好きな食べ物によって返答を変えるコードにする．教科書p.124の**コード3-2**を入力し，実行してみよう．ただし，**重要な注意点がある**．  \n",
        "1.   先ほどと同様に，3行目(foodではじまる行)は途中で改行しないこと．\n",
        "2.   後半の5行目と7行目(printではじまる行)は，**半角スペース4個分によって字下げ**する．\n",
        "3.   4行目の```if food == 'カレー':```の，foodの後のイコールは，間にスペースを入れずに2つ並べる．\n",
        "4.   4行目と6行目の最後は: (コロン)である．\n",
        "\n",
        "```\n",
        "name = input('あなたの名前を教えてください >>')\n",
        "print('{}さん、こんにちは'.format(name))\n",
        "food = input('{}さんの好きな食べ物を教えてください >>'.format(name))\n",
        "if food == 'カレー':\n",
        "    print('素敵です。カレーは最高ですよね!!')\n",
        "else:\n",
        "    print('私も{}が好きですよ'.format(food))\n",
        "```\n",
        "\n"
      ]
    },
    {
      "cell_type": "code",
      "metadata": {
        "id": "typN5P6Ixqi4"
      },
      "source": [],
      "execution_count": null,
      "outputs": []
    },
    {
      "cell_type": "markdown",
      "metadata": {
        "id": "1s22sYL--QSx"
      },
      "source": [
        "「カレー」と入力した場合と，カレー以外を入力した場合で，返答が異なることを各自確認する．  \n",
        "もし上手くいかない場合は，先ほどの4つの注意点の他，括弧の種類の間違い(丸括弧と波括弧)もよく確認すること．  "
      ]
    },
    {
      "cell_type": "markdown",
      "metadata": {
        "id": "zsP_Rmxt-x7j"
      },
      "source": [
        "新しく，「if」と「else」というキーワードが登場した．また，イコールを並べる==という表示も初めて登場した．  \n",
        "if文は，教科書p.125のフローチャートの通り，ある条件を満たすかどうかでその次に実行される内容を変えることができる．\n",
        "\n",
        "\n",
        "*   ifの後ろに処理が分岐する条件を書く\n",
        "*   条件が成立していたら，ifからelseの前までの文が実行される\n",
        "*   条件が成立していなかったら，else以降の文が実行される\n",
        "ブロックとは，複数の文のまとまりを示す．先ほどの，「条件が成立していたら実行される部分」をifブロック，「条件が成立していなかったら実行される部分」をelseブロックとよぶ．\n",
        "\n"
      ]
    },
    {
      "cell_type": "markdown",
      "metadata": {
        "id": "FvmBlMyX_6gc"
      },
      "source": [
        "## 3.2.2ブロックとインデント\n",
        "さて，ifブロックとelseブロックの各々が半角スペース4個分で字下げされているののは，単に見栄えのためではない．教科書p.127のコード3-3は間違いの例であるが，正しいバージョンは次のコードなので，先に実行してみよう．  \n",
        "点数が80の場合と50の場合を試し，結果を確認すること．\n",
        "```\n",
        "score = int(input('試験の点数を入力してください >>'))\n",
        "if score >= 60:\n",
        "    print('合格')\n",
        "    print('よくがんばりましたね')\n",
        "else:\n",
        "    print('残念ながら不合格です')\n",
        "    print('追試を受けて下さい')\n",
        "```"
      ]
    },
    {
      "cell_type": "code",
      "metadata": {
        "id": "CRESB0FIAyW9"
      },
      "source": [],
      "execution_count": null,
      "outputs": []
    },
    {
      "cell_type": "markdown",
      "metadata": {
        "id": "SHsevX3JBBIL"
      },
      "source": [
        "では，教科書p.127の**コード3-3**を試してみる．先ほどのコードの最後の```    print('追試を受けて下さい')```の前のスペース4個分を消去して，実行してみよう．点数は80(合格のはず)を入れてみる．\n",
        "\n",
        "```\n",
        "score = int(input('試験の点数を入力してください >>'))\n",
        "if score >= 60:\n",
        "    print('合格')\n",
        "    print('よくがんばりましたね')\n",
        "else:\n",
        "    print('残念ながら不合格です')\n",
        "print('追試を受けて下さい')\n",
        "```"
      ]
    },
    {
      "cell_type": "code",
      "metadata": {
        "id": "zNfZYhT6Bl1p"
      },
      "source": [],
      "execution_count": null,
      "outputs": []
    },
    {
      "cell_type": "markdown",
      "metadata": {
        "id": "9sjDQB9KBmPj"
      },
      "source": [
        "実行結果が\n",
        "```\n",
        "試験の点数を入力してください >>80\n",
        "合格\n",
        "よくがんばりましたね\n",
        "追試を受けて下さい\n",
        "```\n",
        "となっただろうか？  \n",
        "その理由は教科書にあるように，字下げを解除したことにより，最後の行がelseブロックから外れてしまい，if文の条件の成立・不成立にかかわらず，必ず実行されることになるからである．  \n",
        "このように，ブロックを指定するために行う字下げのことを「インデント」とよぶ．  \n",
        "\n",
        "\n",
        "> C言語，Java，JavaScriptなどの言語では，ブロック指定に括弧 { } を使うので，これらの言語の経験のある人は間違わないように気をつけよう．\n",
        "\n"
      ]
    },
    {
      "cell_type": "markdown",
      "metadata": {
        "id": "5SdtMo1_xtld"
      },
      "source": [
        "## 半角と全角\n",
        "ところで，次の「コードA」を「そのままコピペして」入力し，実行してみよう．\n",
        "```\n",
        "#コードA\n",
        "x=3\n",
        "if x==4:\n",
        "    print('yes')\n",
        "else:\n",
        "    print('no')\n",
        "```"
      ]
    },
    {
      "cell_type": "code",
      "metadata": {
        "id": "hogjALD78Pkt"
      },
      "source": [],
      "execution_count": null,
      "outputs": []
    },
    {
      "cell_type": "markdown",
      "metadata": {
        "id": "9TzuIgmG8aIN"
      },
      "source": [
        "このコードは，xの値が4のときにyes，そうでなければnoと表示する．最初にxを3としたので，noと表示される．  \n",
        "では，次の「コードB」を「そのままコピペして」入力し，実行してみよう．\n",
        "```\n",
        "#コードB\n",
        "x=3\n",
        "if x==4:\n",
        "　　print('yes')\n",
        "else:\n",
        "　　print('no')\n",
        "```"
      ]
    },
    {
      "cell_type": "code",
      "metadata": {
        "id": "7ys0j1aU8uIf"
      },
      "source": [],
      "execution_count": null,
      "outputs": []
    },
    {
      "cell_type": "markdown",
      "metadata": {
        "id": "zeaQLLa49ChZ"
      },
      "source": [
        "SyntaxErrorというエラーメッセージが表示される．では，コードAとコードB，どこが違うのだろうか？  \n",
        "実は，コードAの2つのprint文の前には**半角**スペースが4つ，コードBの2つのprint文の前には**全角**スペースが2つ入っている．  \n",
        "見た目では全く区別が付かないが，十分に注意して欲しい(先輩たちも，最初の頃はよく間違えました)．  \n",
        "半角と全角を間違える他の例では，: ; . , { } \\[ \\] ( )といった記号が挙げられる．日本語入力をした後に，それを解除することを忘れないようにしよう．"
      ]
    },
    {
      "cell_type": "markdown",
      "metadata": {
        "id": "Bf38R9vuDEfL"
      },
      "source": [
        "# 3.3条件式\n",
        "比較演算子（ひかくえんざんし）と論理演算子について学ぶ．その他に，in演算子などが登場する．"
      ]
    },
    {
      "cell_type": "markdown",
      "metadata": {
        "id": "CvklYJGKDuZU"
      },
      "source": [
        "## 3.3.1比較演算子\n",
        "連続するイコール==，これは「比較演算子」の一つであり，「左辺と右辺が等しい(か？)」という意味になる．  \n",
        "教科書p.131の表にある6つの比較演算子は**必ず暗記する！**  \n",
        "では早速，次のコードを入力し，実行してみよう．  \n",
        "```\n",
        "x = 3\n",
        "y = 4\n",
        "if x == y:\n",
        "    print('赤')\n",
        "else:\n",
        "    print('青')\n",
        "```"
      ]
    },
    {
      "cell_type": "code",
      "metadata": {
        "id": "IniOJ4P2E1a9"
      },
      "source": [],
      "execution_count": null,
      "outputs": []
    },
    {
      "cell_type": "markdown",
      "metadata": {
        "id": "ydHmSGizE3tQ"
      },
      "source": [
        "xとyが等しい場合にifブロック，等しくない場合にelseブロックがされるので，今回はelseブロックが実行され，「青」と出力される．  \n",
        "  \n",
        "では，3行目の```if x == y:```の==を!=にして実行してみよう．"
      ]
    },
    {
      "cell_type": "code",
      "metadata": {
        "id": "MSLkvnHOFMSj"
      },
      "source": [],
      "execution_count": null,
      "outputs": []
    },
    {
      "cell_type": "markdown",
      "metadata": {
        "id": "9yny5G6OFQul"
      },
      "source": [
        "今度は「赤」と出力される．  \n",
        "!=は「等しく**ない**かどうか」なので，xとyは等しくないからifブロックが実行されるのである．  \n",
        "  \n",
        "最後に，==を<にして実行してみよう．"
      ]
    },
    {
      "cell_type": "code",
      "metadata": {
        "id": "zgENI4TrFn3W"
      },
      "source": [],
      "execution_count": null,
      "outputs": []
    },
    {
      "cell_type": "markdown",
      "metadata": {
        "id": "AiCc4ihaFrLV"
      },
      "source": [
        "今度も「赤」と出力される．\n",
        "<は「左辺(x)は右辺(y)より小さいかどうか」なので，xはyより小さいからifブロックが実行されるのである．"
      ]
    },
    {
      "cell_type": "markdown",
      "metadata": {
        "id": "uiT8FpuiHPM2"
      },
      "source": [
        "## 3.3.2 in演算子\n",
        "**注意！：inはfor文(教科書第4章)でも登場する．むしろfor文で用いられることが多い．**  \n"
      ]
    },
    {
      "cell_type": "markdown",
      "metadata": {
        "id": "ShSn68ekKPNH"
      },
      "source": [
        "### 1)in演算子の基本\n",
        "  \n",
        "  \n",
        "早速，教科書p.132の**コード3-4**を入力し，実行してみよう．例によって3行目と次の.formatの行は続けて同じ行内に書くこと．  \n",
        "好きな食べ物として，「チキンカレー」「カレーうどん」「かれいの煮付け」を入力し，出力がどうなるかを確認する．\n",
        "\n",
        "```\n",
        "name = input('あなたの名前を教えてください >>')\n",
        "print('{}さん、こんにちは'.format(name))\n",
        "food = input('{}さんの好きな食べ物を教えてください >>'.format(name))\n",
        "if 'カレー' in food:\n",
        "    print('素敵です。カレーは最高ですよね!!')\n",
        "else:\n",
        "    print('私も{}が好きですよ'.format(food))\n",
        "```"
      ]
    },
    {
      "cell_type": "code",
      "metadata": {
        "id": "yDRA3LXwILJG"
      },
      "source": [],
      "execution_count": null,
      "outputs": []
    },
    {
      "cell_type": "markdown",
      "metadata": {
        "id": "jrJ1BZDdJbup"
      },
      "source": [
        "どの食べ物の場合に「素敵です．カレーは最高ですよね！」と表示されただろうか．  \n",
        "入力したfoodという文字列の中に「カレー」という言葉が入っていればifブロックを，そうでなければelseブロックが実行される．  \n",
        "このin演算子を使ったif文の文法は次の通りとなる．順番を間違えないように気をつけよう．\n",
        "```\n",
        "if 探したいもの in 調べたい変数:\n",
        "```"
      ]
    },
    {
      "cell_type": "markdown",
      "metadata": {
        "id": "whWTK8gAKbpA"
      },
      "source": [
        "### 2)in演算子とリスト\n",
        "第2章で習ったコンテナ(データの集まり)の中に，特定の値が含まれているかどうかを探すのにin演算子が使える  \n",
        "リスト(配列)との組合せについて，教科書p.133の**コード3-5**を入力し，実行してみよう．\n",
        "\n",
        "```\n",
        "scores = [80, 100, 20, 60]\n",
        "if 100 in scores:\n",
        "    print('100点満点の試験があったんですね。おめでとう!')\n",
        "else:\n",
        "    print('次はどれか1つでも100点満点をとろう')\n",
        "```"
      ]
    },
    {
      "cell_type": "code",
      "metadata": {
        "id": "GaStDUVhK2Yu"
      },
      "source": [],
      "execution_count": null,
      "outputs": []
    },
    {
      "cell_type": "markdown",
      "metadata": {
        "id": "m5PydwOfK8zU"
      },
      "source": [
        "### in演算子とディクショナリ\n",
        "ディクショナリの探索にもin演算子が使える．ただし，探せるのはキーであって値ではない(キーが何かについては2章を復習すること)．  \n",
        "教科書p.134の**コード3-6**を入力し，実行してみよう．  \n",
        "入力する値としては，教科書通り，'python'と'network'を試してほしい．'python'はディクショナリscoresのキーではないが，'network'はキーとして存在する．  \n",
        "7行目の```scores[key] = data```の意味も，2章を復習すること．\n",
        "\n",
        "```\n",
        "scores = {'network': 60, 'database': 80, 'security': 50}\n",
        "key = input('追加する科目名を入力してください >>')\n",
        "if key in scores:\n",
        "    print('すでに登録済みです')\n",
        "else:\n",
        "    data = int(input('得点を入力してください >>'))\n",
        "    scores[key] = data\n",
        "print(scores)\n",
        "```"
      ]
    },
    {
      "cell_type": "code",
      "metadata": {
        "id": "wClfPlBKLjbD"
      },
      "source": [],
      "execution_count": null,
      "outputs": []
    },
    {
      "cell_type": "markdown",
      "metadata": {
        "id": "lCQTPE_kMAG2"
      },
      "source": [
        "## 3.3.3 真偽値\n",
        "ここはテキストを読んでほしい．Trueは真，Falseは偽である．"
      ]
    },
    {
      "cell_type": "markdown",
      "metadata": {
        "id": "fPQdrBEVMP1G"
      },
      "source": [
        "## 3.3.4 論理演算子\n",
        "**重要！暗記すること**  \n",
        "複数の条件を組み合わせる（かつ，または）方法として，3.4.5で取り上げる「ネスト(入れ子)」を使う方法と，論理演算子を使う方法がある．  \n",
        "論理演算子を理解するには，論理学で出たand,or,notを思い出すと良い．Pythonでもそのままの意味となるので，たとえば：\n",
        "```\n",
        "# 1) もしscoreが60以上，かつ，100以下なら\n",
        "if score >= 60 and score <= 100:\n",
        "\n",
        "# 2) もしscoreが60未満，または100より大きかったら\n",
        "if score < 60 or score > 100:\n",
        "\n",
        "# 3) もしscoreが「60未満，または100より大きい」でなければ\n",
        "if not (score < 60 or score > 100):\n",
        "```\n",
        "という表現ができる．  \n",
        "なお，1)と3)は結果的に同一である(なぜそうなるか，良く考えよう)．  \n",
        "  \n",
        "Pythonでは，ある一つの変数が取り得る値を判定する場合に，andを用いないで記述することもできる(p.140 Column)．たとえば1)は次のように記述できる．\n",
        "```\n",
        "if 60 <= score <= 100:\n",
        "```\n",
        "このような表現はC言語ではできない．"
      ]
    },
    {
      "cell_type": "markdown",
      "metadata": {
        "id": "KDU-KFUNOtYu"
      },
      "source": [
        "# 3.4分岐構文のバリエーション\n",
        "もう少し複雑なif文を取り扱う．elifが登場する．"
      ]
    },
    {
      "cell_type": "markdown",
      "metadata": {
        "id": "UfR2TVA0O4Ce"
      },
      "source": [
        "## 3.4.1 3種類のif文\n",
        "ここはテキストを読んで欲しい．"
      ]
    },
    {
      "cell_type": "markdown",
      "metadata": {
        "id": "5FYTU2HbO_vA"
      },
      "source": [
        "## 3.4.2 if-else構文\n",
        "ここも既出である．  \n",
        "この次に，if-else構文で「ifブロックのみの場合」「elseブロックのみの場合(教科書にはない)」を取り上げる．"
      ]
    },
    {
      "cell_type": "markdown",
      "metadata": {
        "id": "qp6dZlKGPk-U"
      },
      "source": [
        "## 3.4.3 ifブロックのみの場合/elseブロックのみの場合\n"
      ]
    },
    {
      "cell_type": "markdown",
      "metadata": {
        "id": "drqjTm_PQG5O"
      },
      "source": [
        "### 1) ifブロックのみの場合\n",
        "(簡単なのでコードの例は紹介しない)  \n",
        "  \n",
        "方法1：ifブロックしか書かない\n",
        "```\n",
        "if 条件式:\n",
        "    ifブロック\n",
        "```\n",
        "方法2：elseブロックにpassと書く（「空ブロック」）\n",
        "```\n",
        "if 条件式:\n",
        "    ifブロック\n",
        "else:\n",
        "    pass\n",
        "```"
      ]
    },
    {
      "cell_type": "markdown",
      "metadata": {
        "id": "IQtSBi1GQsg5"
      },
      "source": [
        "### 2) elseブロックのみの場合\n",
        "  \n",
        "(簡単なのでコードの例は紹介しない)  \n",
        "  \n",
        "ifブロックにpassと書く\n",
        "```\n",
        "if 条件式:\n",
        "    pass\n",
        "else:\n",
        "    elseブロック\n",
        "```"
      ]
    },
    {
      "cell_type": "markdown",
      "metadata": {
        "id": "rB-fiNbiRPgq"
      },
      "source": [
        "## 3.4.4 if-elif構文\n",
        "分岐が3つ以上になる場合は，elifブロックを使用する．'elif'は'else if（そうでなければ，もし～）'の略称であり，実際，C言語では'else if'と書く．  \n",
        "だんだん複雑になるので，**ぜひフローチャート(p.147)を見て，条件の判定過程を追っていってほしい**．  \n",
        "どの条件も満たさなかった場合，最後のelseブロックが実行される．もちろん，elseブロックが必要無い場合は省略しても良い．\n",
        "```\n",
        "if 条件式1:\n",
        "    条件式1が成立したときの処理\n",
        "elif 条件式2:\n",
        "    条件式1が成立せず，条件式2が成立したときの処理\n",
        "    ...\n",
        "elif 条件式n:\n",
        "    条件式1～n-1がすべて成立せず，条件式nが成立したときの処理\n",
        "else\n",
        "    すべての条件式が成立しなかったときの処理\n",
        "```"
      ]
    },
    {
      "cell_type": "markdown",
      "metadata": {
        "id": "a5Avz0fLTGsj"
      },
      "source": [
        "## if文のネスト\n",
        "**最高に複雑なので，p.150のフローチャートをよく見てほしい．**  \n",
        "教科書p.151の**コード3-10**を入力し，実行してみよう．なお，質問に答えるときにyかnを入力するが，半角アルファベット小文字で正確に入力するようにしよう．\n",
        "\n",
        "```\n",
        "print('すべての質問に y または n で答えてください')\n",
        "okane_aruka = input('お金に余裕はありますか? >>')\n",
        "if okane_aruka == 'y':\n",
        "    onaka_suiteruka = input('お腹がすごく空いてますか? >>')\n",
        "    nomitai_kibunka = input('ビールを飲みたいですか? >>')\n",
        "    if onaka_suiteruka == 'y' and nomitai_kibunka == 'y':\n",
        "        print('焼き肉はいかがですか')\n",
        "    elif onaka_suiteruka == 'y':\n",
        "        print('カレーはいかがですか')\n",
        "    elif nomitai_kibunka == 'y':\n",
        "        print('焼き鳥はいかがですか')\n",
        "    else:\n",
        "        print('パスタはいかがですか')\n",
        "    yashoku_iruka = input('夜食は必要ですか? >>')\n",
        "    if yashoku_iruka == 'y':\n",
        "        print('コンビニのチキンはいかがですか')\n",
        "else:\n",
        "    print('家で食べましょう')\n",
        "```"
      ]
    },
    {
      "cell_type": "code",
      "metadata": {
        "id": "l9FucDwCUJ-U"
      },
      "source": [],
      "execution_count": null,
      "outputs": []
    },
    {
      "cell_type": "markdown",
      "metadata": {
        "id": "Vo9El_HJULNO"
      },
      "source": [
        "**解説**  \n",
        "コード3-10は，大きなif-else構文で「お金に余裕があるかどうか」を判定し，yと答えるとifブロック(4～16行目)を実行し，いろいろ質問してくる．nと答えるとelseブロック(18行目)を実行し，「家で食べましょう」と出力し，終了する．  \n",
        "  \n",
        "4～16行目のifブロックは，その中にif文が二つある．\n",
        "\n",
        "\n",
        "*   最初のif文(6～13行目)は，if-elif構文である．elifが2つある，4分岐である．\n",
        "*   次のif文(15,16行目…夜食を聞いてくる)は，elseブロックのないif文である．\n",
        "\n"
      ]
    },
    {
      "cell_type": "markdown",
      "metadata": {
        "id": "wBB7qoaVVyya"
      },
      "source": [
        "**発展**  \n",
        "6～13行目のif-elif構文は，次のようなネストに書き換えることができる．たぶんこちらの方が分かりやすい．\n",
        "```\n",
        "    if onaka_suiteruka == 'y':\n",
        "        if nomitai_kibunka == 'y':\n",
        "            print('焼き肉はいかがですか')\n",
        "        else:\n",
        "            print('カレーはいかがですか')\n",
        "    else:\n",
        "        if nomitai_kibunka == 'y':\n",
        "            print('焼き鳥はいかがですか')\n",
        "        else:\n",
        "            print('パスタはいかがですか')\n",
        "```"
      ]
    },
    {
      "cell_type": "code",
      "source": [],
      "metadata": {
        "id": "AytFwlrpab_r"
      },
      "execution_count": null,
      "outputs": []
    },
    {
      "cell_type": "markdown",
      "metadata": {
        "id": "Ir-Px1MMtU80"
      },
      "source": [
        "第4章では，処理を繰り返すwhile文とfor文を学ぶ．  \n",
        "ポイントは**「繰り返しがいつ終わるのか」**である．  \n",
        "永遠に繰り返したい処理(例えば呼吸数を常に計測してベッドサイドモニタに表示する)も確かにあるが，通常は，繰り返しの処理はいずれ終わり，次の処理に進む必要がある．"
      ]
    },
    {
      "cell_type": "markdown",
      "source": [
        "# コラム：デバッグ  \n",
        "デバッグ(debug)とは，コードの「バグ(bug)」，つまり間違いや意図しない結果を生む部分を修正することである．  \n",
        "そのためにはコードの実行を途中で止めて，動作や変数の中身を確認する必要がある．  \n",
        "途中(停止点を「ブレークポイント」とよぶ)で止めるには，止めたい場所に次のコマンドを置く．  \n",
        "\n",
        "```\n",
        "from IPython.core.debugger import Pdb; Pdb().set_trace()\n",
        "```\n",
        "* h (help) でヘルプが出る．（help <コマンド> でコマンドの説明が出る．）\n",
        "* q (quit) でデバッガを終了する．（デバッガをちゃんと終了させないとカーネルが暴走するので注意！）\n",
        "* p (print) でプリント（コマンドと同じ変数でなければ，それを入れるだけでプリントしてくれる．）\n",
        "* n (next) で次の行に進む．\n",
        "* c (continue) で次の停止位置（ブレークポイント）まで進む．\n",
        "* s (step into) で呼び出した先に移動する．\n",
        "* l (list) で現在の近所のプログラムリストを表示する．"
      ],
      "metadata": {
        "id": "sveok6TRMx83"
      }
    },
    {
      "cell_type": "markdown",
      "metadata": {
        "id": "c6G2F6Cl9QMk"
      },
      "source": [
        "# ------第4章 繰り返し------"
      ]
    },
    {
      "cell_type": "markdown",
      "metadata": {
        "id": "38B4JZEBuP8q"
      },
      "source": [
        "# 4.1繰り返しの基本構造"
      ]
    },
    {
      "cell_type": "markdown",
      "metadata": {
        "id": "0_GZsdP1uVtO"
      },
      "source": [
        "## 4.1.1 while文\n",
        "同じ処理を繰り返したければ，繰り返したい回数だけ処理の文章を書けば良い．その例が教科書のp.154のコード4-1である．  \n",
        "しかし，例えば100回繰り返したい場合，同じ文章を100回書かねばならないのであろうか．また，繰返し回数があらかじめ分かっていない場合(例えば心拍数を毎秒計測し，150を超えたらアラームを鳴らす，など)はどうするのであろうか．"
      ]
    },
    {
      "cell_type": "markdown",
      "metadata": {
        "id": "Ohd5zHSIvETS"
      },
      "source": [
        "while文の例である，教科書p.155の**コード4-2**をそのまま実行してみよう．\n",
        "```\n",
        "count = 0\n",
        "while count < 3:\n",
        "    count += 1\n",
        "    print('ひつじが{}匹'.format(count))\n",
        "print('おやすみなさい')\n",
        "```"
      ]
    },
    {
      "cell_type": "code",
      "metadata": {
        "id": "379akspwtQhC"
      },
      "source": [],
      "execution_count": null,
      "outputs": []
    },
    {
      "cell_type": "markdown",
      "metadata": {
        "id": "DgN23l2OvyJA"
      },
      "source": [
        "3行目と4行目がインデントされているのに気をつけてほしい．  \n",
        "if文で学んだように，これは「ブロック」であり，どうやらこのブロックが3回繰り返されているようである．  \n",
        "  \n",
        "while文の基本構造は次の通りである．  \n",
        "```\n",
        "while 条件式:\n",
        "    条件が成立したときの処理(whileブロック)\n",
        "```\n",
        "\n",
        "*   whileの後ろに処理を繰り返す条件式を書く．\n",
        "*   条件が成立している間(例では変数countが3未満のとき)は，直後のブロックを繰り返し実行する．\n",
        "*   条件が成立していなかったら，繰り返しが終わる．\n",
        "\n",
        "よって，例での実際の処理は次の順に行われる．\n",
        "```\n",
        "1.   countに0が代入される．\n",
        "2.   countは3未満なので，whileブロックを実行する．\n",
        "     countに1を加える(結果として1となる)．\n",
        "     'ひつじが1匹'と表示する．\n",
        "3.   countは3未満なので，whileブロックを実行する．\n",
        "     countに1を加える(結果として2となる)．\n",
        "     'ひつじが2匹'と表示する．\n",
        "4.   countは3未満なので，whileブロックを実行する．\n",
        "     countに1を加える(結果として3となる)．\n",
        "     'ひつじが3匹'と表示する．\n",
        "5.   countは3未満ではなくなるので，繰り返しを終了する(whileブロックを実行しない)．\n",
        "6.   'おやすみなさい'と表示する．\n",
        "```\n",
        "whileブロックを実行する度に変数countが変化することに注目する．このような変数を**「カウンタ変数」「ループ変数」「ループカウンタ」**とよび，while文では重要な役割を果たす．もちろん，カウンタ変数だからといってcountという変数名である必要は無い．  \n",
        "countの初期値が1ではなくて0である点も注意する．"
      ]
    },
    {
      "cell_type": "markdown",
      "metadata": {
        "id": "KnZGzKxQzBpF"
      },
      "source": [
        "## 4.1.2 無限ループ\n",
        "教科書p.158のコード4-3は，先ほどの3行目```count += 1```を除去したものである．入力し，実行してみよう．  \n",
        "**ただし，実行開始したらすぐに，クリックした□印を再度クリックし，実行を強制停止すること！**  \n",
        "またはマウスの右クリックで表示されるメニューで「実行を中断」を選ぶ．\n",
        "```\n",
        "count = 0\n",
        "while count < 3:\n",
        "    print('ひつじが{}匹'.format(count))\n",
        "print('おやすみなさい')\n",
        "```"
      ]
    },
    {
      "cell_type": "code",
      "metadata": {
        "id": "RFJu960KzP8K"
      },
      "source": [],
      "execution_count": null,
      "outputs": []
    },
    {
      "cell_type": "markdown",
      "metadata": {
        "id": "xyqybCVi0SIt"
      },
      "source": [
        "**これが「無限ループ」である**  \n",
        "うっかり無限ループに陥ってしまったときの開発者の叫び声をコードにすると，次のようになる．  \n",
        "各自，実行しないでほしい．\n",
        "```\n",
        "while True:\n",
        "    print('あ゛',end='')\n",
        "```"
      ]
    },
    {
      "cell_type": "code",
      "metadata": {
        "id": "f7IKILcr1Api"
      },
      "source": [],
      "execution_count": null,
      "outputs": []
    },
    {
      "cell_type": "markdown",
      "metadata": {
        "id": "wRb_pllF16Xp"
      },
      "source": [
        "## 4.1.3 状態による繰り返し\n",
        "「3回」など，決まった回数ではなく，ある条件によって繰り返しをするかどうか判定する方法もある．  \n",
        "早速，教科書p.160の**コード4-4**を入力し，実行してみよう．今度は無限ループでは無いので安心してほしい．\n",
        "```\n",
        "is_awake = True\n",
        "count = 0\n",
        "while is_awake == True:\n",
        "   count += 1\n",
        "   print('ひつじが{}匹…'.format(count))\n",
        "   key = input('もう眠りそうですか？(y/n) >>')\n",
        "   if key == 'y':\n",
        "       is_awake = False\n",
        "print('おやすみなさい')\n",
        "```"
      ]
    },
    {
      "cell_type": "code",
      "metadata": {
        "id": "UsUOWVAW2-k6"
      },
      "source": [],
      "execution_count": null,
      "outputs": []
    },
    {
      "cell_type": "markdown",
      "metadata": {
        "id": "EYJWJjUA3F15"
      },
      "source": [
        "このコードの解説は教科書を読んで欲しいが，重要なのは，繰り返しの条件が整数型の変数countではなくてbool型の変数is_awakeである点である．  \n",
        "countは，たしかに先ほどと同じように，whileブロックの実行時に1ずつ増えているが，これは単に「ひつじが3匹…」などと表示するためであって，繰り返しの条件には使われていない．  \n",
        "繰り返しの条件に使われている変数is_awakeは，True(真)かFalse(偽)のどちらかの値しか持たない．もし入力者がyと答えると，8行目でis_awakeは偽になり，3行目の条件を満たさないので，whileブロックの繰り返しは終了する．  \n",
        "  \n",
        "  このis_awakeのように，2つの状態のどちらか(多くの場合はbool型)を持ち，これがある状態になった時に処理の流れを変えるというテクニックは一般的であり，このような変数のことを**「フラグ」**とよぶ．  \n",
        "  **実は，漫画や小説で使われる表現「フラグが立つ」のフラグの語源である．**  \n",
        "  折角なので次のコードを入力し，実行してみよう．\n",
        "```\n",
        "is_alive = True\n",
        "while is_alive == True:\n",
        "    print('a.隣村に行ってグレネードランチャーをゲットするぜ')\n",
        "    print('b.あの谷には敵が潜んでいるから気をつけな')\n",
        "    print('c.俺，この戦争終わったら彼女と結婚するんだ')\n",
        "    key = input('主人公のセリフを選べ！(a/b/c) >>')\n",
        "    if key == 'c':\n",
        "        is_alive = False\n",
        "print('主人公は死亡しました')\n",
        "```"
      ]
    },
    {
      "cell_type": "code",
      "metadata": {
        "id": "norgA0Cr6zWO"
      },
      "source": [],
      "execution_count": null,
      "outputs": []
    },
    {
      "cell_type": "markdown",
      "metadata": {
        "id": "UsmS12DE9BDl"
      },
      "source": [
        "## 4.1.4 繰り返しによるリストの作成\n",
        "**繰り返しとリストは良い関係**  \n",
        "繰り返しを使い，得点リストを作成してみる．  \n",
        "得点リストの初期状態は空っぽだが，一つ一つ入力し，リストを長くしていく．データベースを作成するイメージである．  \n",
        "教科書p.161の**コード4-5**を入力し，実行してみよう．  \n",
        "ただし，最初の入力「学生の数を入力 >>」に大きな数を入れてしまうとなかなか終われないので，せいぜい3程度にするとよい．\n",
        "```\n",
        "count = 0                                  # カウンタ変数\n",
        "student_num = int(input('学生の数を入力 >>')) # 学生の数\n",
        "score_list = list()                        # 得点リスト\n",
        "while count < student_num:\n",
        "    count += 1\n",
        "    score = int(input('{}人目の試験の得点を入力 >>'.format(count)))\n",
        "    score_list.append(score)\n",
        "print(score_list)\n",
        "total = sum(score_list)\n",
        "print('平均点は{}点です'.format(total / student_num))\n",
        "```\n",
        "注意点は以下の通りである．**1章・2章で学んだことを思い出すこと．**\n",
        "*   2行目のinputの前にintがなぜついているのかは，教科書1.3.2「データ型の変換」あたりを復習する．\n",
        "*   3行目の右辺list()は，空っぽのリストscore_listを作成している(教科書2.5.1にひっそりと書いてある)．\n",
        "*   リストの末尾への追加.append()については教科書2.2.5を復習する．\n",
        "*   合計を計算する関数sum()は教科書2.2.4を復習する．"
      ]
    },
    {
      "cell_type": "code",
      "metadata": {
        "id": "hPHVliD5_cCc"
      },
      "source": [],
      "execution_count": null,
      "outputs": []
    },
    {
      "cell_type": "markdown",
      "metadata": {
        "id": "0qs0BuTZ_jje"
      },
      "source": [
        "## 4.1.5 繰り返しによるリスト要素の利用\n",
        "次に，既にある得点リストを利用することにする．  \n",
        "教科書p.163の**コード4-6**を入力し，実行してみよう．  \n",
        "なお，このような処理は4.2節で取り上げるfor文を使用するのが普通である(コード4-7)．\n",
        "```\n",
        "scores = [80, 20, 75, 60]\n",
        "count = 0\n",
        "while count < len(scores):\n",
        "    if scores[count] >= 60:\n",
        "        print('合格')\n",
        "    else:\n",
        "        print('不合格')\n",
        "    count += 1\n",
        "```\n",
        "注意点は以下の通りである．\n",
        "*   3行目のlen()関数は，リストの要素の数をカウントする関数だった(教科書2.2.4)．\n",
        "*   if文は3章を見直すこと．'>='はどういう条件だったかな．\n",
        "*   リストの添え字は0からはじまることに注意する(教科書p.164の図4-2を参照)"
      ]
    },
    {
      "cell_type": "code",
      "metadata": {
        "id": "y_en0JTSB6by"
      },
      "source": [],
      "execution_count": null,
      "outputs": []
    },
    {
      "cell_type": "markdown",
      "metadata": {
        "id": "PRrzTGSNDCZk"
      },
      "source": [
        "ところで，リストの要素の数len(scores)だけ繰り返すのであれば，3行目の\n",
        "```\n",
        "while count < len(scores):\n",
        "```\n",
        "は，なぜ\n",
        "```\n",
        "while count <= len(scores):\n",
        "```\n",
        "ではないのだろうか．  \n",
        "これについては，教科書2.2.3のコード2-4(エラー発生)を復習してほしい．"
      ]
    },
    {
      "cell_type": "markdown",
      "metadata": {
        "id": "s3P0CP2SC6VW"
      },
      "source": [
        "# 4.2 for文"
      ]
    },
    {
      "cell_type": "markdown",
      "metadata": {
        "id": "322CBWGmDvl4"
      },
      "source": [
        "## 4.2.1 for文による繰り返し\n",
        "早速だが，先ほどのコード4-6の内容を，for文で記述すると次の**コード4-7**となる．実行結果が同じになるか，確認すること．\n",
        "```\n",
        "scores = [80, 20, 75, 60]\n",
        "for data in scores:\n",
        "    if data >= 60:\n",
        "        print('合格')\n",
        "    else:\n",
        "        print('不合格')\n",
        "```"
      ]
    },
    {
      "cell_type": "code",
      "metadata": {
        "id": "pRcUQEoDEGSv"
      },
      "source": [],
      "execution_count": null,
      "outputs": []
    },
    {
      "cell_type": "markdown",
      "metadata": {
        "id": "6-q7AY-uFnoh"
      },
      "source": [
        "コード4-6より2行短く，カウンタ変数countも無く，シンプルである．仕組みはどうなっているのだろうか．  "
      ]
    },
    {
      "cell_type": "markdown",
      "metadata": {
        "id": "qAtO5OovEKvb"
      },
      "source": [
        "## 4.2.2 for文の基本構造\n",
        "典型的なfor文の構文は次の通りである．\n",
        "```\n",
        "for 変数 in リスト:\n",
        "    forブロック\n",
        "```\n",
        "教科書p.167の図4-3を合わせて見てほしいが，この構文は，リストの要素を先頭から順に変数に代入した上で，forブロックの処理が繰り返し実行される．  \n",
        "コード4-7の例では，まずdataに80が代入されてからブロックが実行され，次に20が代入されてからブロックが実行され，次に75が代入されてからブロックが実行され，次に60が代入されてからブロックが実行される．リストはこれでおしまいなので，forブロックはこれ以上繰り返されない．"
      ]
    },
    {
      "cell_type": "markdown",
      "metadata": {
        "id": "wEIYXXVpF0QR"
      },
      "source": [
        "## 4.2.3 for文による決まった回数の繰り返し"
      ]
    },
    {
      "cell_type": "markdown",
      "metadata": {
        "id": "0xP8p23IF9Zc"
      },
      "source": [
        "### range()関数\n",
        "その前に，range()関数を取り上げる．range()関数は，数列を作る関数で，for文としばしば一緒に用いられる．  \n",
        "  まず，0,1,2,3,4という数列を作ってみよう．なお，最終的にリストに変換している(教科書2.5.1)．\n",
        "```\n",
        "r = list(range(5))\n",
        "print(r)\n",
        "```"
      ]
    },
    {
      "cell_type": "code",
      "metadata": {
        "id": "LP60rXXLJXtP"
      },
      "source": [],
      "execution_count": null,
      "outputs": []
    },
    {
      "cell_type": "markdown",
      "metadata": {
        "id": "3kF2EnVTI0Ds"
      },
      "source": [
        "range(5)は「**0からはじまる**5つの整数」を生成する．  \n",
        "その他，次のコードも試してみよう．\n",
        "```\n",
        "range(3,7)   # 3からはじまり7未満で終わる数列\n",
        "range(0,100,10)   # 0からはじまり10おきに100未満で終わる数列\n",
        "range(1,10,2)   # 1からはじまり10未満の奇数\n",
        "```"
      ]
    },
    {
      "cell_type": "markdown",
      "metadata": {
        "id": "lxCvU9bqKgXV"
      },
      "source": [
        "### range()関数を使ったn回繰り返し\n",
        "次の構文となる．4.2.2との違いは，リストの代わりにrange(n)を用いる点である．\n",
        "```\n",
        "for 変数 in range(n)\n",
        "    forブロック\n",
        "```\n",
        "教科書p.167のコード4-8をアレンジした，次のコードを入力し，実行してみよう．変数numの変化も理解できると思う．\n",
        "```\n",
        "for num in range(3):\n",
        "    print('Pythonは楽しい×{}'.format(num))\n",
        "```"
      ]
    },
    {
      "cell_type": "code",
      "metadata": {
        "id": "Ya3liZxNLHWd"
      },
      "source": [],
      "execution_count": null,
      "outputs": []
    },
    {
      "cell_type": "markdown",
      "metadata": {
        "id": "Tv0Jbx5PLTG_"
      },
      "source": [
        "## 4.2.4 while文とfor文の使い分け\n",
        "教科書を読んでほしい．"
      ]
    },
    {
      "cell_type": "markdown",
      "metadata": {
        "id": "lMN2MCnLLjhc"
      },
      "source": [
        "# 4.3 繰り返しの制御\n",
        "breakとcontinueは，whileやforによる繰り返しを途中で強制的に抜け出す方法であるが，初心者にはこの2つの区別が難しい．\n",
        "比較のため，ここでは両方を同時に説明する．   \n",
        "教科書p.175の図4-5の説明が簡潔で分かりやすいので，そちらも参照すると良いだろう．  \n",
        "*   breakは繰り返し全体を即時中止して次に進む(脱出し繰り返さない)．\n",
        "*   continueは「繰り返し処理内の」それ以降の処理をスキップするが，繰り返し自体は中止しない(脱出するが繰り返す)．  \n",
        "\n",
        "  \n",
        "  次のコードを入力し，実行してみよう．\n",
        "```\n",
        "print('正の整数値を加算します（終了は-9999）．')\n",
        "sum = 0\n",
        "while True:\n",
        "    n = int(input('整数値：'))\n",
        "    if n == -9999:\n",
        "        break\n",
        "    if n <= 0:\n",
        "        continue\n",
        "    sum += n\n",
        "print('正の整数の合計は{}です．'.format(sum))\n",
        "```\n",
        "実行結果は，たとえば：\n",
        "```\n",
        "正の整数値を加算します（終了は-9999）．\n",
        "整数値：4\n",
        "整数値：-2\n",
        "整数値：8\n",
        "整数値：9\n",
        "整数値：-9999\n",
        "正の整数の合計は21です．\n",
        "```"
      ]
    },
    {
      "cell_type": "code",
      "metadata": {
        "id": "ygrtAZ-NN8HV"
      },
      "source": [],
      "execution_count": null,
      "outputs": []
    },
    {
      "cell_type": "markdown",
      "metadata": {
        "id": "u5JCV8YyOWgn"
      },
      "source": [
        "入力値によってどのような振る舞いを行うだろうか．  \n",
        "\n",
        "\n",
        "1.   入力が4,8,9の場合：2つのif文のどちらの条件も満たさないので，**sum += nを実行して**，whileブロックが繰り返される．\n",
        "2.   入力が-2の場合：最初のif文の条件は満たさないので次に進む．2番目のif文の条件(n <= 0)を満たしてしまうので，そのあとの**sum += nを実行せずに**whileブロックが繰り返される．\n",
        "3.   入力が-9999の場合：最初のif文の条件(n == -9999)を満たしてしまうので，**whileブロックのその後の処理を実行せず，かつwhileブロックも繰り返さずに**最後の行(合計の表示)を実行する．\n",
        "\n"
      ]
    },
    {
      "cell_type": "markdown",
      "metadata": {
        "id": "pmtZU39cQ2HM"
      },
      "source": [
        "※教科書p.175のisinstance関数の説明は省略する．"
      ]
    },
    {
      "cell_type": "markdown",
      "metadata": {
        "id": "uW-fR-z1VurN"
      },
      "source": [
        "第5章では，関数について学ぶ．  \n",
        "鍵となる概念は「引数」と「戻り値」である．\n",
        "Pythonの文法の基本は，この第5章でほぼ終了するので，挫折せず学んでほしい．  \n",
        "\n",
        "\n",
        "---\n",
        "\n",
        "### セルの実行順番の問題  \n",
        "なお，これまでは必要なコードを(基本的に)すべて1つの「セル」に記述してきたが，ここからは教科書では「関数の定義」と「関数の呼び出し」は別のセルに記述している(例：コード5-3と5-4)．そのため，両方のセルを順番に実行する必要がある．  \n",
        "一方でこのノートブックでは分かりやすさを重視して，2つのセルに分けずに1つのセルに記述してもらう．  \n",
        "これを理解するために，次の練習をしてみよう．  \n",
        "  \n",
        "*   まず次の＜セル2＞だけ実行してみよう．エラーが表示されるはずである．これは，変数hensuが「現時点では」存在しないからである．  \n",
        "*   次に，＜セル1＞＜セル2＞の順番に実行してみよう．正しく「7」と表示されるはずである．\n",
        "*   再度＜セル2＞だけ実行してみよう．今度は最初と異なり，エラーは発生しない．先ほど＜セル1＞を既に実行し，変数hensuが存在するからである．"
      ]
    },
    {
      "cell_type": "markdown",
      "metadata": {
        "id": "55sK6vQHW5yD"
      },
      "source": [
        "＜セル1＞"
      ]
    },
    {
      "cell_type": "code",
      "metadata": {
        "id": "zX6Oc0d2Vac1"
      },
      "source": [
        "hensu = 7"
      ],
      "execution_count": null,
      "outputs": []
    },
    {
      "cell_type": "markdown",
      "metadata": {
        "id": "tLi5qPwXW8bb"
      },
      "source": [
        "＜セル2＞"
      ]
    },
    {
      "cell_type": "code",
      "metadata": {
        "id": "2HFOfwrjW-l4"
      },
      "source": [
        "print(hensu)"
      ],
      "execution_count": null,
      "outputs": []
    },
    {
      "cell_type": "markdown",
      "metadata": {
        "id": "vPV9j0rP9Y1Z"
      },
      "source": [
        "# ------第5章 関数------"
      ]
    },
    {
      "cell_type": "markdown",
      "metadata": {
        "id": "6BJmEax-ZTu0"
      },
      "source": [
        "# 5.1 オリジナルの関数"
      ]
    },
    {
      "cell_type": "markdown",
      "metadata": {
        "id": "XTNZrr0cZW1W"
      },
      "source": [
        "## 5.1.1 関数の必要性とメリット\n",
        "教科書よりもシンプルなコードで比較してみる．  \n",
        "次のコードAとBは，どちらもリストの合計を計算する．どちらがシンプルだろうか？  \n",
        "このように，関数を使うメリットは，コードをスッキリと見通せることにある．そのことにより，次のようなメリットがある：  \n",
        "*   バグの発生を防ぐ\n",
        "  *   同じ処理を何度も書くとプログラムが長くなる\n",
        "  *   長いプログラムはバグ(間違い)の元\n",
        "*   処理の再利用\n",
        "  *   自分が作成した処理を他のプログラムで再利用しやすい\n",
        "  *   他人の書いたコード(「オープンソース」など)を容易に使える"
      ]
    },
    {
      "cell_type": "markdown",
      "metadata": {
        "id": "JEPss1GwZhX3"
      },
      "source": [
        "A) 関数を使わないで合計の計算  \n",
        "```\n",
        "scores = [88,21,65,160,57]\n",
        "total = 0\n",
        "for item in scores:\n",
        "   total += scores[item]\n",
        "print('合計は {}'.format(total))\n",
        "```\n",
        "B) 関数sumを使った合計の計算\n",
        "```\n",
        "scores = [88,21,65,160,57]\n",
        "total = sum(scores)\n",
        "print('合計は {}'.format(total))\n",
        "```"
      ]
    },
    {
      "cell_type": "code",
      "metadata": {
        "id": "KpysOUo6aKDZ"
      },
      "source": [],
      "execution_count": null,
      "outputs": []
    },
    {
      "cell_type": "markdown",
      "metadata": {
        "id": "e9BRrn2ocCmK"
      },
      "source": [
        "**この章では，関数を「自作」する方法を学ぶ．**  \n",
        "コード全体を，機能により分割して複数の関数に分け，それぞれの処理を担当させる．このことを「部品化」とよぶ(教科書p.198図5-1)．"
      ]
    },
    {
      "cell_type": "markdown",
      "metadata": {
        "id": "zXRSt8QpcbM8"
      },
      "source": [
        "## 5.1.2 関数を使うための2ステップ\n",
        "自作の関数を使うには，まずその関数を「定義」し，「呼び出す」必要がある．\n",
        "*   定義：呼び出されたらどのような動作を行うかを記述し，名前を付ける\n",
        "*   呼び出し：関数の名前を記述して関数を呼び出し，定義された動作が実行される．\n",
        "  \n",
        "教科書の例を入力し，実行してみよう．まずセルに，次のように記載する．2行目はインデントすること．\n",
        "```\n",
        "def hello():\n",
        "    print('こんにちは．工藤です．')\n",
        "```\n",
        "次に，次のように記載する．\n",
        "```\n",
        "hello()\n",
        "```\n",
        "次のようになるので，これを実行する．  \n",
        "```\n",
        "# 関数の定義\n",
        "def hello():\n",
        "    print('こんにちは．工藤です．')\n",
        "# 関数の呼び出し\n",
        "hello()\n",
        "```\n",
        "*(#からはじまるコメント文は省略しても良い)*  \n",
        "  \n",
        "**教科書では＜関数の定義＞と＜関数の呼び出し＞を別々のセルに記述し，順番に実行するようにしているが，ここでは同じセルに記述する．**"
      ]
    },
    {
      "cell_type": "code",
      "metadata": {
        "id": "pCBAy92LdHPs"
      },
      "source": [],
      "execution_count": null,
      "outputs": []
    },
    {
      "cell_type": "markdown",
      "metadata": {
        "id": "ppMtwQUVeOw0"
      },
      "source": [
        "## 5.1.3 関数定義と呼び出し\n",
        "関数の定義(最もシンプルな形式)は次の通りである．\n",
        "```\n",
        "def 関数名():\n",
        "    処理\n",
        "```\n",
        "defは，英語のdefine(定義する)の略．関数名の後の括弧は丸括弧であることに注意．  \n",
        "  \n",
        "なお，教科書p.202にあるように，既にPythonが備えている関数と同じ名前の関数(例：input,sum)を使わないように気をつける．"
      ]
    },
    {
      "cell_type": "markdown",
      "metadata": {
        "id": "75ow1w1SfMN1"
      },
      "source": [
        "## 5.1.4 ローカル変数と独立性\n",
        "教科書よりもシンプルな例を示す．名前を聞いて表示する，次のコードを入力し，実行してみよう．  \n",
        "\n",
        "＜関数の定義＞\n",
        "```\n",
        "def input_scores():\n",
        "    name = input('あなたの名前は？ >>')\n",
        "```\n",
        "＜関数の呼び出し＞\n",
        "```\n",
        "name = '田中'\n",
        "input_scores()\n",
        "print(name)\n",
        "```"
      ]
    },
    {
      "cell_type": "code",
      "metadata": {
        "id": "OHt-c9qYfhwC"
      },
      "source": [],
      "execution_count": null,
      "outputs": []
    },
    {
      "cell_type": "markdown",
      "metadata": {
        "id": "BWejt4IUgXN9"
      },
      "source": [
        "どんな名前を入力しても，「田中」と表示するのではないだろうか．  \n",
        "これは，「関数内で準備された変数は，その関数の中でしか読み書きできない」というルール(ローカル変数の独立性)による(教科書p.205図5-2)．  \n",
        "関数で値のやりとり(この場合はname)を行うには，次に紹介する「引数と戻り値」を使う．"
      ]
    },
    {
      "cell_type": "markdown",
      "metadata": {
        "id": "3EVH62SyhKiT"
      },
      "source": [
        "# 5.2 引数と戻り値\n",
        "先にまとめると：\n",
        "*   呼び出し元→引数→関数\n",
        "*   呼び出し元←戻り値←関数\n",
        "  \n",
        "ここでは，3つのパターンを学ぶ．\n",
        "1.   引数だけ\n",
        "2.   戻り値だけ\n",
        "3.   引数と戻り値"
      ]
    },
    {
      "cell_type": "markdown",
      "metadata": {
        "id": "_UsUViDBi9Qk"
      },
      "source": [
        "## 5.2.1 引数だけ(基本形)\n",
        "引数を1つだけ関数に渡す．\n",
        "```\n",
        "def 関数名(引数):\n",
        "    処理\n",
        "```\n",
        "教科書コード5-7,8を入力し，実行してみよう．  \n",
        "渡された文字列(浅木，松田)が，関数内の引数nameに渡され，表示されている．  \n",
        "\n",
        "＜関数の定義＞\n",
        "```\n",
        "def hello(name):\n",
        "    print('こんにちは．{}です'.format(name))\n",
        "```\n",
        "＜関数の呼び出し＞\n",
        "```\n",
        "hello('浅木')\n",
        "hello('松田')\n",
        "```"
      ]
    },
    {
      "cell_type": "code",
      "metadata": {
        "id": "uV0r_UCcjkDv"
      },
      "source": [],
      "execution_count": null,
      "outputs": []
    },
    {
      "cell_type": "markdown",
      "metadata": {
        "id": "M9SE8h-KkT19"
      },
      "source": [
        "## 5.2.2 引数だけ(複数の引数)\n",
        "複数の引数を使いたい場合は，関数の括弧内に引数を複数記述すれば良い．\n",
        "```\n",
        "def 関数名(引数1,引数2,...,引数n):\n",
        "    処理\n",
        "```\n",
        "関数を呼び出して利用する側はこのようになる．\n",
        "```\n",
        "関数名(引数1,引数2,...,引数n)\n",
        "```\n",
        "  \n",
        "  教科書**コード5-9,10**を入力し，実行してみよう．  \n",
        "＜関数の定義＞\n",
        "```\n",
        "def profile(name, age, hobby):\n",
        "    print('私の名前は{}です。'.format(name))\n",
        "    print('年齢は{}歳です。'.format(age))\n",
        "    print('趣味は{}です。'.format(hobby))\n",
        "```\n",
        "＜関数の呼び出し＞\n",
        "```\n",
        "profile('浅木', 24, 'カフェ巡り')\n",
        "```"
      ]
    },
    {
      "cell_type": "code",
      "metadata": {
        "id": "sg858K6MlS5j"
      },
      "source": [],
      "execution_count": null,
      "outputs": []
    },
    {
      "cell_type": "markdown",
      "metadata": {
        "id": "8Ve8ZaxTl53d"
      },
      "source": [
        "## 戻り値だけ(教科書には無い)\n",
        "関数から呼び出し元へデータを渡すには，「戻り値」というものを使う(教科書p.213図5-6)．\n",
        "```\n",
        "def 関数名():\n",
        "    処理\n",
        "    return 戻り値\n",
        "```\n",
        "最後の行を，通称return文とよぶ．  \n",
        "戻り値だけの例を次に示す．なお，実際には次の「引数と戻り値のある場合」がほとんどであり，引数を渡さずに戻り値だけ戻る例はあまりない．  \n",
        "＜関数の定義＞\n",
        "```\n",
        "def year():\n",
        "    days = 365\n",
        "    return days\n",
        "```\n",
        "＜関数の呼び出し＞\n",
        "```\n",
        "days = year()\n",
        "print('一年は{}日です'.format(days))\n",
        "```"
      ]
    },
    {
      "cell_type": "code",
      "metadata": {
        "id": "nAEkdQIOnTNt"
      },
      "source": [],
      "execution_count": null,
      "outputs": []
    },
    {
      "cell_type": "markdown",
      "metadata": {
        "id": "qlX0Ypsjn0qc"
      },
      "source": [
        "## 5.2.3 引数と戻り値\n",
        "これまでの組合せで，引数と戻り値の両方ある場合の関数を作ることができる．  \n",
        "  \n",
        "＜関数の定義＞\n",
        "```\n",
        "def 関数名(引数1,引数2,...,引数n):\n",
        "    処理\n",
        "    return 戻り値\n",
        "```\n",
        "＜関数の呼び出し＞\n",
        "```\n",
        "変数 = 関数名(引数1,引数2,...,引数n)\n",
        "```\n"
      ]
    },
    {
      "cell_type": "markdown",
      "metadata": {
        "id": "PWTs5HRDoptn"
      },
      "source": [
        "教科書の**コード5-14,15**を入力し，実行してみよう．  \n",
        "これは，2つの数字の和を求める関数plus(x,y)である．  \n",
        "総合的にどのような動作を行うのかは，教科書p.216の図5-7を参考にする．  \n",
        "\n",
        "＜関数の定義＞\n",
        "```\n",
        "def plus(x, y):\n",
        "    answer = x + y\n",
        "    return answer\n",
        "```\n",
        "＜関数の呼び出し＞\n",
        "```\n",
        "answer = plus(100, 50)\n",
        "print('足し算の答えは{}です'.format(answer))    \n",
        "```"
      ]
    },
    {
      "cell_type": "code",
      "metadata": {
        "id": "TX7xiSEopH1S"
      },
      "source": [],
      "execution_count": null,
      "outputs": []
    },
    {
      "cell_type": "markdown",
      "metadata": {
        "id": "O5-JRJWLpjTp"
      },
      "source": [
        "## 5.2.4 関数呼び出しの正体\n",
        "戻り値の変数answerであるが，5.1.4で学んだ「ローカル変数の独立性」に基づき，＜関数の定義＞でのanswerと，＜関数の呼び出し＞でのanswerは，名前が同じであるが別物である．  \n",
        "試しに，次のコードを入力し，実行してみよう．呼び出し側の変数名をkotaeに変えてあるが，実行結果は変わらない．    \n",
        "＜関数の定義＞\n",
        "```\n",
        "def plus(x, y):\n",
        "    answer = x + y\n",
        "    return answer\n",
        "```\n",
        "＜関数の呼び出し＞\n",
        "```\n",
        "kotae = plus(100, 50)\n",
        "print('足し算の答えは{}です'.format(kotae))    \n",
        "```"
      ]
    },
    {
      "cell_type": "code",
      "metadata": {
        "id": "DvcZ8HRrqOnz"
      },
      "source": [],
      "execution_count": null,
      "outputs": []
    },
    {
      "cell_type": "markdown",
      "metadata": {
        "id": "kzkYLbJ_qfzm"
      },
      "source": [
        "## 5.2.5 関数の連携\n",
        "各自読んでほしい．"
      ]
    },
    {
      "cell_type": "markdown",
      "metadata": {
        "id": "iG0ty0CH0sRx"
      },
      "source": [
        "# 5.3 関数の応用テクニック\n",
        "関数については，5.1および5.2で大体使えるようになるはずである．  \n",
        "この5.3節については，5.3.1(複数の戻り値)以外は必ずしも自分が使いこなせる必要はないが，他人が書いたソースコードにそのようなテクニックが使われている可能性があるので，一応紹介する．"
      ]
    },
    {
      "cell_type": "markdown",
      "metadata": {
        "id": "BxiOnmMt1dbY"
      },
      "source": [
        "## 5.3.1 暗黙のタプルによる複数の戻り値\n",
        "5.2.2で「複数の引数」を学んだが，「複数の戻り値」はどのように実現するのであろうか．  \n",
        "教科書にあるように，技術的には「タプル」を用いた「アンパック代入」を用いるが，そう複雑に考えず，丸括弧で複数の戻り値を指定する，と理解する．  \n",
        "  \n",
        "＜関数の定義＞\n",
        "```\n",
        "def 関数名(引数1,引数2,...,引数n):\n",
        "    処理\n",
        "    return (戻り値1,戻り値2,...,戻り値n)\n",
        "```\n",
        "＜関数の呼び出し＞\n",
        "```\n",
        "(戻り値1,戻り値2,...,戻り値n) = 関数名(引数1,引数2,...,引数n)\n",
        "```\n",
        "  \n",
        "教科書p.221のコード5-19を修正した次のコードを入力し，実行してみよう．\n",
        "```\n",
        "#定義\n",
        "def plus_and_minus(a, b):\n",
        "    return (a + b, a - b)\n",
        "#呼び出し\n",
        "(next, prev) = plus_and_minus(1978, 1)\n",
        "print('足すと{}，引くと{}'.format(next,prev))\n",
        "```"
      ]
    },
    {
      "cell_type": "code",
      "metadata": {
        "id": "NUsNSaDX6EGR"
      },
      "source": [],
      "execution_count": null,
      "outputs": []
    },
    {
      "cell_type": "markdown",
      "source": [
        "> 複数の戻り値を使う方法として，タプル(丸括弧)をつかう方法を教科書では紹介していますが\n",
        "```\n",
        "return (x,y)\n",
        "...\n",
        "(x,y) = function(a,b)\n",
        "```\n",
        "丸括弧が無くても実行可能です．\n",
        "```\n",
        "return x,y      # returnのあとの丸括弧も無くても動きます\n",
        "...\n",
        "x,y = function(a,b)  # 引数の丸括弧は必要です！\n",
        "```\n",
        "また，タプルなので次のような戻り値の使い方も可能です\n",
        "```\n",
        "c = function(a,b)\n",
        "x = c[0]\n",
        "y = c[1]\n",
        "```\n",
        "なお，一般的に，変数の前後にスペースがあってもなくても構いませんが，ToyoNet-ACEの自動採点ではスペースの有無を含めて正解かどうかを判断してしまいます．本当に正答かどうかは自分で確かめてください．  \n",
        ">>例：(x,y)でも( x, y )でも同じ\n",
        "\n"
      ],
      "metadata": {
        "id": "4JeoO4tInaEI"
      }
    },
    {
      "cell_type": "markdown",
      "metadata": {
        "id": "gbEZxa4l7Mkz"
      },
      "source": [
        "## 5.3.2 デフォルト引数\n",
        "必須項目では無いので，各自読んでほしい．  \n",
        "「デフォルト」とは，「規定の」という意味で，「特段指定しなければこの値にする」という必要がある場合に，デフォルト引数を使用する．"
      ]
    },
    {
      "cell_type": "markdown",
      "metadata": {
        "id": "mI60MED6-Fe7"
      },
      "source": [
        "## 5.3.3 引数のキーワード指定\n",
        "必須項目では無いので，各自読んでほしい．  \n",
        "引数の順番は，関数側と呼び出す側が同じにならなければならないが，それをあえて変えたい場合，この方法を使用する．**誤解の元なのであまりお薦めしない**．  \n",
        "先ほどのコード5-19(改)をもとにして，2つの変数a,bの順をあえて入れ替えると次のようになる．\n",
        "```\n",
        "# 定義\n",
        "def plus_and_minus(a, b):\n",
        "    return (a + b, a - b)\n",
        "# 呼び出し\n",
        "(next, prev) = plus_and_minus(b=1,a=1978)\n",
        "print('足すと{}，引くと{}'.format(next,prev))\n",
        "```"
      ]
    },
    {
      "cell_type": "code",
      "metadata": {
        "id": "22FTZy67_BpA"
      },
      "source": [],
      "execution_count": null,
      "outputs": []
    },
    {
      "cell_type": "markdown",
      "metadata": {
        "id": "OM5guMu1_WSB"
      },
      "source": [
        "## 5.3.4 可変長引数\n",
        "必須項目では無いので，各自読んでほしい．  "
      ]
    },
    {
      "cell_type": "markdown",
      "metadata": {
        "id": "eoPbbgGT_xem"
      },
      "source": [
        "# 5.4 独立性の破れ(グローバル変数)\n",
        "5.1.4で「ローカル(local)変数」という，その関数の中でしか利用できない変数を紹介したが，これとは逆に，**どこでも使える「グローバル(global)変数」**というものがある．  \n",
        "あくまで一般論としては，グローバル変数は濫用してはならない(教科書p.233-235)が，実際のところ，ニューラルネットワークなど機械学習のコードを読むとバリバリに使われている．  \n",
        "適切な使いこなしは難しいが，ローカル変数の概念と対で覚えると良い．"
      ]
    },
    {
      "cell_type": "markdown",
      "metadata": {
        "id": "H61iZGQ_FXrR"
      },
      "source": [
        "## 5.4.1 グローバル変数\n",
        "まずは，教科書の**コード5-31,32**を入力し，実行してみよう．ただし，**このコードはあくまでもグローバル変数の説明のためのコードであり，良い使い方では無い**．\n",
        "```\n",
        "# 定義\n",
        "name = '松田'\n",
        "def hello():\n",
        "    print('こんにちは' + name + 'さん')\n",
        "    \n",
        "# 呼び出し\n",
        "hello()\n",
        "```"
      ]
    },
    {
      "cell_type": "code",
      "metadata": {
        "id": "b8dmWbbpF6Ld"
      },
      "source": [],
      "execution_count": null,
      "outputs": []
    },
    {
      "cell_type": "markdown",
      "metadata": {
        "id": "HpdU4la_G1rR"
      },
      "source": [
        "このように，1行目，つまり関数の「外」で定義した変数nameが，関数helloの「中」で参照できる．  \n",
        "これに対してローカル変数は関数の「中」で定義される変数であった．  \n",
        "グローバル変数は関数の外であれば，必ずしもコードの冒頭に書かねばならないということは無い(この点は教科書には書いていない)．  \n",
        "  \n",
        "なお，その変数がそのまま通用する範囲のことを「スコープ」とよぶ．"
      ]
    },
    {
      "cell_type": "markdown",
      "metadata": {
        "id": "UdN5PzuMHMEn"
      },
      "source": [
        "さて，関数の外で定義された変数が関数の中で参照できるということだが，代入もできるのだろうか．  \n",
        "次の教科書の**コード5-33,34**は，関数change_nameにおいてグローバル変数nameに「浅木」と代入することを意図したコードであるが，意図に反して「松田」と表示されてしまう．  \n",
        "入力し，実行してみよう．\n",
        "```\n",
        "# 関数の定義とグローバル変数\n",
        "name = '松田'\n",
        "def change_name():\n",
        "    name = '浅木' # ここで代入しているつもりだが…\n",
        "\n",
        "def hello():\n",
        "    print('こんにちは' + name + 'さん')\n",
        "    \n",
        "# 呼び出し\n",
        "change_name()\n",
        "hello()\n",
        "```"
      ]
    },
    {
      "cell_type": "code",
      "metadata": {
        "id": "PVJK5QwGIpd5"
      },
      "source": [],
      "execution_count": null,
      "outputs": []
    },
    {
      "cell_type": "markdown",
      "metadata": {
        "id": "Q8q4EErBKS_q"
      },
      "source": [
        "つまり，関数の中ではグローバル変数を参照できても代入できない．  \n",
        "代入するためには，**代入前に**global文というものを使用する．\n",
        "```\n",
        "global 変数名\n",
        "```\n",
        "では，先ほどのコードが正しく動くようにした，次のコードを入力し，実行してみよう(**コード5-35**)．\n",
        "```\n",
        "# 関数の定義とグローバル変数\n",
        "name = '松田'\n",
        "def change_name():\n",
        "    global name\n",
        "    name = '浅木'\n",
        "def hello():\n",
        "    print('こんにちは' + name + 'さん')\n",
        "     \n",
        "# 呼び出し\n",
        "change_name()\n",
        "hello()\n",
        "```"
      ]
    },
    {
      "cell_type": "code",
      "metadata": {
        "id": "GDOTVtHHLF39"
      },
      "source": [],
      "execution_count": null,
      "outputs": []
    },
    {
      "cell_type": "markdown",
      "metadata": {
        "id": "IWCeBZKfLUaa"
      },
      "source": [
        "```\n",
        "global name\n",
        "```\n",
        "は，nameという変数がグローバル変数であるということを明示する．これにより，関数内でnameに代入することができる．  \n",
        "しかし…"
      ]
    },
    {
      "cell_type": "markdown",
      "metadata": {
        "id": "N1E0pWrXMw6p"
      },
      "source": [
        "## 5.4.2 引数と戻り値の存在価値\n",
        "教科書にもあるとおり，関数の「引数と戻り値」が面倒くさいからといって，**その代わりにグローバル変数を使うことはあまり推奨できない**．理由については教科書の通りであるが，これは実際に目的意識を持ってプログラム開発しないと実感できないので，最初は理屈抜きで遵守していくことを勧める．"
      ]
    },
    {
      "cell_type": "markdown",
      "metadata": {
        "id": "C3n3lk1R9fOx"
      },
      "source": [
        "# ------第6章(省略)------"
      ]
    },
    {
      "cell_type": "markdown",
      "metadata": {
        "id": "G0O_tWLc9lVP"
      },
      "source": [
        "# ------第7章 モジュール------"
      ]
    },
    {
      "cell_type": "markdown",
      "metadata": {
        "id": "I8viaSdE-Ve3"
      },
      "source": [
        "# 7.1部品を使おう"
      ]
    },
    {
      "cell_type": "markdown",
      "metadata": {
        "id": "Fp3xZ415-aRh"
      },
      "source": [
        "## 7.1.1 Pythonで使える部品たち  \n",
        "各自教科書を読むこと"
      ]
    },
    {
      "cell_type": "markdown",
      "metadata": {
        "id": "b0QUBdHA-9BX"
      },
      "source": [
        "# 7.2 組み込み関数"
      ]
    },
    {
      "cell_type": "markdown",
      "metadata": {
        "id": "ogsXM_Pk-kOF"
      },
      "source": [
        "## 7.2.1 組み込み関数とは  \n",
        "各自教科書を読むこと"
      ]
    },
    {
      "cell_type": "markdown",
      "metadata": {
        "id": "tQGHkGraVBNj"
      },
      "source": [
        "## 7.2.2 ファイル入出力  \n",
        "計測したデータをプログラムで分析したり，分析結果を保存したい場合，「ファイル入出力」が必要となる．  \n",
        "ファイル入出力(読み書き)のポイントは，**「開く(open)」「読み(read)書き(write)する」「閉じる(close)」**である．これはPythonに限らずC言語など他の言語でも同じであり，開いていないファイルには書けないし，書いたファイルは閉じなければならない．  \n",
        "    \n",
        "**Google Colab特有の変更点があります！**  \n",
        "教科書のコード7-1について，Google Colab特有の変更がある．  \n",
        "ファイル入出力を扱うために，追加のコマンドを実行する必要がある．このコードを実行すると，テキストファイルdiary.txtが使用中のブラウザによってダウンロードされるので，そのファイルを開いて中身を確認してほしい(iPad，スマホでの動作は不明)．  \n",
        "もしJupyterLabを使ってこの教材を実行している場合は，教科書通りのコードで構わない．  \n",
        "\n",
        "\n",
        "> *解説：教科書では'diary.txt'というファイルがあなたのPCに保存される事になっているが，Google Colabを使う場合は，'diary.txt'はPCやGoogle Driveに直接保存されないので，Google Colabからのダウンロードが必要となる．*\n",
        "\n",
        "\n",
        "```\n",
        "from google.colab import files  # この行を追加\n",
        "text = input('何を記録しますか? >>')\n",
        "f = open('diary.txt', 'a')    # filesと区別するためfileをfに変更\n",
        "f.write(text + '\\n')\n",
        "f.close()\n",
        "files.download('diary.txt')  # この行を追加\n",
        "```\n",
        "ToyoNet-ACEのコンテンツにある「ファイル入出力の補足説明」も参照のこと．"
      ]
    },
    {
      "cell_type": "code",
      "metadata": {
        "id": "M0mBI6YvPSuV"
      },
      "source": [],
      "execution_count": null,
      "outputs": []
    },
    {
      "cell_type": "markdown",
      "metadata": {
        "id": "bk4Apqn8Vv12"
      },
      "source": [
        "教科書のコード7-2についても，同様に前後に追加のコマンドを実行する必要がある．  \n",
        "各自実行し，確認すること．\n",
        "```\n",
        "from google.colab import files  # この行を追加\n",
        "text = input('今日は何をした? >>')\n",
        "with open('diary.txt', 'a') as f:    # filesと区別するためfileをfに変更\n",
        "    f.write(text + '\\n')\n",
        "files.download('diary.txt')  # この行を追加\n",
        "```"
      ]
    },
    {
      "cell_type": "code",
      "metadata": {
        "id": "EMC0UFz0UunR"
      },
      "source": [],
      "execution_count": null,
      "outputs": []
    },
    {
      "cell_type": "markdown",
      "metadata": {
        "id": "Gfx9QA7DAS1j"
      },
      "source": [
        "# 7.3 モジュールの利用  \n",
        "**Pythonのむちゃくちゃ便利な点は，この「モジュール」にあるといってもよい**．つまり，標準では装備されていない便利機能を追加可能な点である．もちろん，C言語など他の言語でも「ライブラリ」という方法で機能拡張できたが，Pythonはそれがもっとお気軽にでき，最新の機械学習の機能すら手に入れることができる．"
      ]
    },
    {
      "cell_type": "markdown",
      "metadata": {
        "id": "Pf3ahrU6A3Db"
      },
      "source": [
        "## 7.3.1 モジュールとは  \n",
        "各自教科書を読むこと．"
      ]
    },
    {
      "cell_type": "markdown",
      "metadata": {
        "id": "fTQB9AwQBAXX"
      },
      "source": [
        "## 7.3.2 標準ライブラリ  \n",
        "教科書では次の標準ライブラリが紹介されている．  \n",
        "\n",
        "|モジュール|用途|\n",
        "|---|---|\n",
        "|math|数学計算|\n",
        "|random|乱数|\n",
        "|datetime|日付と時間|\n",
        "|email|電子メール|\n",
        "|csv|csvファイル|\n",
        "|json|JSONファイル|\n",
        "|os|OS操作|\n",
        "\n",
        "ちなみにcsvファイルとは，データをカンマ区切りで区切ったテキストファイルのことである．たとえば：  \n",
        "```\n",
        "吉野屋,牛丼\n",
        "いきなりステーキ,ステーキ\n",
        "日高屋,中華\n",
        "```\n",
        "JSONファイルもまた，データを記述したテキストファイルであるが，最近PythonやJavaScriptなどでサポートされるようになり，流行のフォーマットである．たとえば先ほどの例では次のようになる：\n",
        "```\n",
        "{\n",
        "  \"吉野屋\":\"牛丼\",\n",
        "  \"いきなりステーキ\":\"ステーキ\",\n",
        "  \"日高屋\":\"中華\"\n",
        "}\n",
        "```\n",
        "\n",
        "ところで，「標準ライブラリ」があるということは，「標準ではないライブラリ」があるということである．それが7.5節で取り上げる「外部ライブラリ」である．"
      ]
    },
    {
      "cell_type": "markdown",
      "metadata": {
        "id": "dHG4qhc-DXOh"
      },
      "source": [
        "## 7.3.3モジュールの取り込み  \n",
        "モジュールを使うには，取り込み(import)が必要である．詳細は置いておき，とりあえず**コード7-3**を入力し実行してみよう．\n",
        "```\n",
        "import math\n",
        "print('円周率は{}です'.format(math.pi))\n",
        "print('小数点以下を切り捨てれば{}です'.format(math.floor(math.pi)))\n",
        "print('小数点以下を切り上げれば{}です'.format(math.ceil(math.pi)))\n",
        "```"
      ]
    },
    {
      "cell_type": "code",
      "metadata": {
        "id": "7zWTK9PEAxlC"
      },
      "source": [],
      "execution_count": null,
      "outputs": []
    },
    {
      "cell_type": "markdown",
      "metadata": {
        "id": "3BjXea84D3mL"
      },
      "source": [
        "最初の行に**import**というキーワードがあるが，これでmathという数学計算のモジュールを取り込んでいる．  \n",
        "モジュールには変数と関数がある．たとえばpiという変数(円周率)を使いたい場合は：\n",
        "```\n",
        "math.pi\n",
        "```\n",
        "floorという関数(小数点以下切り捨て)を使いたい場合は：\n",
        "```\n",
        "math.floor(数値)\n",
        "```\n",
        "と書く．  \n",
        "一般的には教科書にあるように，  \n",
        "  \n",
        "**モジュールを取り込む**\n",
        "```\n",
        "import モジュール\n",
        "```\n",
        "**モジュール内の変数(一般的には数学・物理定数)を参照する**\n",
        "```\n",
        "モジュール名.変数名\n",
        "```\n",
        "**モジュール内の関数を呼び出す**\n",
        "```\n",
        "モジュール名.関数名(引数,...)\n",
        "```\n",
        "である．"
      ]
    },
    {
      "cell_type": "markdown",
      "metadata": {
        "id": "WhV049IyFOOB"
      },
      "source": [
        "\n",
        "\n",
        "> ところで，mathというモジュールにはどんな変数や関数があるのだろうか？  \n",
        "> Pythonのドキュメントhttps://docs.python.org/ja/3/library/math.html を見てみよう．  \n",
        "> 自然対数の底eを示すmath.eや，サインを計算するmath.sin(x)など，様々な関数や定数が用意されているのが分かるだろう．\n",
        "\n",
        "\n",
        "\n"
      ]
    },
    {
      "cell_type": "markdown",
      "metadata": {
        "id": "NvahqJbzGS8R"
      },
      "source": [
        "cos(60°)を計算してみよう．いったんラジアンに変換する必要があることに注意すると，\n",
        "```\n",
        "import math\n",
        "x = math.cos(math.radians(60))\n",
        "print(x)\n",
        "```\n",
        "答えは0.5になる(計算誤差の影響でぴったりにはならない)．"
      ]
    },
    {
      "cell_type": "code",
      "metadata": {
        "id": "nd6eZjkuFD-5"
      },
      "source": [],
      "execution_count": null,
      "outputs": []
    },
    {
      "cell_type": "markdown",
      "metadata": {
        "id": "BVC3bSo3G7KX"
      },
      "source": [
        "取り込んだモジュールに別の名前を付ける方法が教科書p.291に紹介されているが，**むしろ，別の名前を付けることのほうが一般的である**．しかもどのような名前を付けるかは暗黙の流儀があるようである．  \n",
        "```\n",
        "import モジュール名 as 別名\n",
        "```\n",
        "**コード7-4**ではmathモジュールに別名**m**をつけて利用している．入力し，実行してみよう．\n",
        "```\n",
        "import math as m\n",
        "print('円周率は{}です'.format(m.pi))\n",
        "print('小数点以下を切り捨てれば{}です'.format(m.floor(m.pi)))\n",
        "print('小数点以下を切り上げれば{}です'.format(m.ceil(m.pi)))\n",
        "```"
      ]
    },
    {
      "cell_type": "code",
      "metadata": {
        "id": "0lPk9f1uHHuj"
      },
      "source": [],
      "execution_count": null,
      "outputs": []
    },
    {
      "cell_type": "markdown",
      "metadata": {
        "id": "4uBXsEiTHugp"
      },
      "source": [
        "## 7.3.4 特定の変数や関数だけを取り込む  \n",
        "コード7-3や7-4では，pi，floor，ceilしか使っていないので，それだけを取り込むという方法もある．この場合，\n",
        "```\n",
        "from モジュール名 import 変数名(または関数名)\n",
        "```\n",
        "と記述する．  \n",
        "では**コード7-5**を入力し実行してみよう．  \n",
        "```\n",
        "from math import pi\n",
        "from math import floor\n",
        "print('円周率は{}'.format(pi))\n",
        "print('小数点以下を切り捨てれば{}です'.format(floor(pi)))\n",
        "```\n",
        "ここでは，piとfloorだけを使うようにしている．"
      ]
    },
    {
      "cell_type": "code",
      "metadata": {
        "id": "vL7maBHRIWUG"
      },
      "source": [],
      "execution_count": null,
      "outputs": []
    },
    {
      "cell_type": "markdown",
      "metadata": {
        "id": "F6Gg20vtItUh"
      },
      "source": [
        "このfromを使う方法には利点と注意点がある．  \n",
        "利点としては，記述が簡単になると言える．たとえば円周率はmath.piではなくpiと書くだけでよくなる．  \n",
        "注意点としては，\n",
        "\n",
        "*   選んだ変数(関数)以外が使えない（先ほどの例では，ceilは使えない）\n",
        "*   簡単になるが故に，モジュールから取り込んだことすら忘れてしまい，うっかり同じ名前の変数(関数)を定義してしまう(教科書コード7-6)．対策としては更に別名を付ける(コード7-7)などがあるが，お薦めしない．\n",
        "\n"
      ]
    },
    {
      "cell_type": "markdown",
      "metadata": {
        "id": "gLrCH0ajJsoM"
      },
      "source": [
        "## 7.3.5 ワイルドカードインポート\n",
        "**教科書では『非推奨』となっているが，現実にはよく見かける記述なので取り上げる**．  \n",
        "特定の変数や関数でなく，すべての変数や関数を取り込みたい場合は，ワイルドカード(*)を用いて，次のように記述する．\n",
        "```\n",
        "from モジュール名 import *\n",
        "```\n",
        "たとえば，\n",
        "```\n",
        "from math import *\n",
        "```\n",
        "とすれば，piもfloorもceilも，単独で使用できる．**コード7-8**を入力し実行してみよう．\n",
        "```\n",
        "from math import *\n",
        "print('円周率は{}です'.format(pi))\n",
        "print('小数点以下を切り捨てれば{}です'.format(floor(pi)))\n",
        "print('小数点以下を切り上げれば{}です'.format(ceil(pi)))\n",
        "```"
      ]
    },
    {
      "cell_type": "code",
      "metadata": {
        "id": "2Tnkvv2pKVi8"
      },
      "source": [],
      "execution_count": null,
      "outputs": []
    },
    {
      "cell_type": "markdown",
      "metadata": {
        "id": "6nQtht1lMRtq"
      },
      "source": [
        "# 7.4 パッケージの利用\n",
        "この節は読むだけ．"
      ]
    },
    {
      "cell_type": "markdown",
      "metadata": {
        "id": "Viu5tyc0MVDs"
      },
      "source": [
        "## 7.4.1 パッケージとは\n",
        "ここは基本的に教科書を読むこと．  \n",
        "イメージとしては，ある種類(例：数学計算)の定数や関数をまとめたものがモジュール，それを更に類似のものをまとめたのがパッケージ．"
      ]
    },
    {
      "cell_type": "markdown",
      "metadata": {
        "id": "g8pSuIzbNGDi"
      },
      "source": [
        "## 7.4.2 パッケージ内のモジュールを取り込む\n",
        "方法は，モジュールから変数や関数を利用する方法と基本的に同じである．  \n",
        "1)→3)になるほど，取り込むときのコード(1行目)は長く，取り込んだ関数(conn)を呼び出すときのコード(2行目)が短くなるのが分かるだろうか．"
      ]
    },
    {
      "cell_type": "markdown",
      "metadata": {
        "id": "v_AWdp-6NfVg"
      },
      "source": [
        "### 1) パッケージ内のモジュールを取り込む\n",
        "```\n",
        "import パッケージ名.モジュール名\n",
        "```\n",
        "例(**コード7-9**)\n",
        "```\n",
        "import http.client\n",
        "conn = http.client.HTTPConnection('www.python.org')\n",
        "```"
      ]
    },
    {
      "cell_type": "markdown",
      "metadata": {
        "id": "Ht9bFLc7N3PV"
      },
      "source": [
        "### 2) fromを用いた方法\n",
        "```\n",
        "from パッケージ名 import モジュール名\n",
        "```\n",
        "例(**コード7-10**)\n",
        "```\n",
        "from http import client\n",
        "conn = client.HTTPConnection('www.python.org')\n",
        "```\n"
      ]
    },
    {
      "cell_type": "markdown",
      "metadata": {
        "id": "DurWxA7xOIM4"
      },
      "source": [
        "### 3) パッケージ内のモジュール内の特定の変数(関数)だけを取り込む\n",
        "```\n",
        "from パッケージ名.モジュール名 import 変数名(または関数名)\n",
        "```\n",
        "例(**コード7-11**)\n",
        "```\n",
        "from http.client import HTTPConnection\n",
        "conn = HTTPConnection('www.python.org')\n",
        "```"
      ]
    },
    {
      "cell_type": "markdown",
      "metadata": {
        "id": "afQEBYbAPK1r"
      },
      "source": [
        "# 7.5 外部ライブラリの利用"
      ]
    },
    {
      "cell_type": "markdown",
      "metadata": {
        "id": "f0Ywje4mPO9R"
      },
      "source": [
        "## 7.5.1 外部ライブラリとは\n",
        "この表7-4で紹介されている，代表的な外部ライブラリのうち，**matplotlib,Pandas,NumPy,SciPy**はデータ解析でよく使われるので，名前を頭の片隅に置いておくと良い．  \n",
        "各ライブラリの使い道・使い方であるが，各々のライブラリで本が1冊書けるぐらいボリュームがある．教科書にもあるが，やみくもに勉強するのではなく，自分がやりたい事を実現してくれるライブラリを選択するのが良い．ネット検索して，開発したいソフトに近いソフトのPythonコードを入手し，そこで使用されているライブラリについて勉強するのが良い．"
      ]
    },
    {
      "cell_type": "markdown",
      "metadata": {
        "id": "2mI96OEMQgtd"
      },
      "source": [
        "## 7.5.2 外部ライブラリの準備(不要)\n",
        "初心者には鬼門であるが，標準ではないライブラリを使用するには，そのライブラリをインストールする必要がある．  \n",
        "> 幸い，Google ColabやAnacondaを使用している場合，デフォルトで著名な外部ライブラリはインストールされている．  \n",
        "もし手動でインストールしたい場合はそれなりの情報収集が必要となる．pipとかcondaとかいう，インストール用のコマンドが出てくるので，それを手がかりにすると良い．"
      ]
    },
    {
      "cell_type": "markdown",
      "metadata": {
        "id": "EgLMJCZiRQyv"
      },
      "source": [
        "## 7.5.3 matplotlib(グラフの描画)\n",
        "**コード7-12**を入力し実行してみよう．  \n",
        "ただし，教科書の1行目はJupyterLabを使う場合に必要なコードなので，**Google Colabを使用している皆さんは次のように2行目からで十分**である．\n",
        "```\n",
        "import matplotlib.pyplot as plt\n",
        "weight = [68.4, 68.0, 69.5, 68.4, 68.6, 70.2, 71.4, 70.8, 68.5, 68.6, 68.3, 68.4]\n",
        "plt.plot(weight)\n",
        "```"
      ]
    },
    {
      "cell_type": "code",
      "metadata": {
        "id": "OCVLUdlEPqB2"
      },
      "source": [],
      "execution_count": null,
      "outputs": []
    },
    {
      "cell_type": "markdown",
      "metadata": {
        "id": "sTlZPiaZSMW-"
      },
      "source": [
        "ちょっと変えてみよう．このグラフは月ごとの体重を示すので，凡例を入れることにする．折れ線グラフをもっと太くしてみる．\n",
        "```\n",
        "import matplotlib.pyplot as plt\n",
        "weight = [68.4, 68.0, 69.5, 68.4, 68.6, 70.2, 71.4, 70.8, 68.5, 68.6, 68.3, 68.4]\n",
        "plt.plot(weight,lw=3,label='weight') #凡例はアルファベットのみ\n",
        "plt.legend() # 凡例を表示するにはこの1行が必要となる\n",
        "```"
      ]
    },
    {
      "cell_type": "code",
      "metadata": {
        "id": "vJwzJPl5VLJZ"
      },
      "source": [],
      "execution_count": null,
      "outputs": []
    },
    {
      "cell_type": "markdown",
      "metadata": {
        "id": "6GCkOyHVVLnO"
      },
      "source": [
        "更に，縦軸横軸の名称を入れる．これはfigureオブジェクトという方法を使う．結果がどうなるのか分かれば良いので，下記をコピペして実行してみよう．\n",
        "```\n",
        "import matplotlib.pyplot as plt\n",
        "weight = [68.4, 68.0, 69.5, 68.4, 68.6, 70.2, 71.4, 70.8, 68.5, 68.6, 68.3, 68.4]\n",
        "\n",
        "# Figureの初期化\n",
        "fig = plt.figure(figsize=(8, 6))\n",
        "\n",
        "# Figure内にAxesを追加()\n",
        "ax = fig.add_subplot(111)\n",
        "ax.plot(weight,lw=3,label='weight')\n",
        "ax.set_title('weight')\n",
        "ax.set_xlabel('month')\n",
        "ax.set_ylabel('kg')\n",
        "\n",
        "# 凡例の表示\n",
        "plt.legend()\n",
        "\n",
        "# プロット表示(設定の反映)\n",
        "plt.show()\n",
        "```"
      ]
    },
    {
      "cell_type": "code",
      "metadata": {
        "id": "6uO_fEMATHaV"
      },
      "source": [],
      "execution_count": null,
      "outputs": []
    },
    {
      "cell_type": "markdown",
      "metadata": {
        "id": "a8MbP03WVCMu"
      },
      "source": [
        "matplotlibのドキュメントは：  \n",
        "https://matplotlib.org/stable/index.html"
      ]
    },
    {
      "cell_type": "markdown",
      "metadata": {
        "id": "kXzaPvT9XtLA"
      },
      "source": [
        "**この手の資料はネット上に多数あるが，最新で完璧な情報はすべて英語である．ITでは，日本語しか分からないと最新情報を取り逃すことになる．ただし，IT用語は幸いに機械翻訳もかなり正確である．**"
      ]
    },
    {
      "cell_type": "markdown",
      "metadata": {
        "id": "ngXtNqBXV7iW"
      },
      "source": [
        "## 7.5.4 requests (Webページへのアクセス)\n",
        "Webページ(HTMLファイル)の中身をゲットしたい場合に使用する．  \n",
        "教科書の**コード7-13**を一部改変した，次のコードを入力し，実行してみよう．\n",
        "```\n",
        "import requests\n",
        "response = requests.get('https://www.toyo.ac.jp/')\n",
        "text = response.text\n",
        "print(text)\n",
        "```\n",
        "だいたい察しが付くと思うが，これは東洋大学の公式サイトのトップページを読み込むコードである．"
      ]
    },
    {
      "cell_type": "code",
      "execution_count": null,
      "metadata": {
        "id": "PFBIz9bYmrNj"
      },
      "outputs": [],
      "source": []
    },
    {
      "cell_type": "markdown",
      "metadata": {
        "id": "2W_h9WxGXja8"
      },
      "source": [
        "requestsのドキュメントは：  \n",
        "https://pypi.org/project/requests/"
      ]
    },
    {
      "cell_type": "markdown",
      "metadata": {
        "id": "jHI4C18-9rjT"
      },
      "source": [
        "# ------第8章(省略)------  \n",
        "(終わり)"
      ]
    }
  ]
}