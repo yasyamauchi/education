{
  "nbformat": 4,
  "nbformat_minor": 0,
  "metadata": {
    "colab": {
      "provenance": [],
      "name": "python2025.ipynb",
      "toc_visible": true,
      "include_colab_link": true
    },
    "kernelspec": {
      "name": "python371jvsc74a57bd03ff8f296cdd6c8f89543126c845a3f6be0a6dccb4f7f505a5e8fa6a672893e8c",
      "display_name": "Python 3.7.1 64-bit ('base': conda)"
    },
    "language_info": {
      "codemirror_mode": {
        "name": "ipython",
        "version": 3
      },
      "file_extension": ".py",
      "mimetype": "text/x-python",
      "name": "python",
      "nbconvert_exporter": "python",
      "pygments_lexer": "ipython3",
      "version": "3.7.1"
    }
  },
  "cells": [
    {
      "cell_type": "markdown",
      "metadata": {
        "id": "view-in-github",
        "colab_type": "text"
      },
      "source": [
        "<a href=\"https://colab.research.google.com/github/yasyamauchi/education/blob/main/python2025.ipynb\" target=\"_parent\"><img src=\"https://colab.research.google.com/assets/colab-badge.svg\" alt=\"Open In Colab\"/></a>"
      ]
    },
    {
      "cell_type": "markdown",
      "source": [],
      "metadata": {
        "id": "IE6uL1Adtil1"
      }
    },
    {
      "cell_type": "markdown",
      "metadata": {
        "id": "Zr24eHcF-uDX"
      },
      "source": [
        "「生体医工学実験Ⅱ(山内)」演習資料 Ver. 2025/10/03"
      ]
    },
    {
      "cell_type": "markdown",
      "source": [
        "**この資料は[東京大学 数理・情報教育研究センター「Pythonプログラミング入門」](https://utokyo-ipp.github.io/index.html)および「スッキリわかるPython入門」に基づいています．**  \n",
        "節の番号は「Pythonプログラミング入門」の番号に対応付けしていますが，一部順番を入れ替えています．"
      ],
      "metadata": {
        "id": "pMDHyWRT3wlh"
      }
    },
    {
      "cell_type": "markdown",
      "metadata": {
        "id": "itbVOvI1uMIu"
      },
      "source": [
        "# ようこそPythonの世界へ"
      ]
    },
    {
      "cell_type": "markdown",
      "metadata": {
        "id": "u9Qx1l6lsda3"
      },
      "source": [
        "### プログラミング言語修得の心構え  \n",
        "\n",
        "\n",
        "1.   上から順に\n",
        "2.   途中を飛ばさない\n",
        "3.   間違いの半分は理解不足，残りの半分は凡ミス\n",
        "4.   打て！打て！打て！\n",
        "5.   真似るは学ぶ\n",
        "\n",
        "\n",
        "\n",
        "\n",
        "\n"
      ]
    },
    {
      "cell_type": "markdown",
      "metadata": {
        "id": "ts353sIvuEh3"
      },
      "source": [
        "# 1.0 Colaboratory(Colab)の使い方"
      ]
    },
    {
      "cell_type": "markdown",
      "source": [
        "## 1.0.0 学習のための初期設定  \n",
        "Google ColabでPythonの学習を行うために，いくつかのお節介な機能を停止させます．"
      ],
      "metadata": {
        "id": "dMc3jykwstmy"
      }
    },
    {
      "cell_type": "markdown",
      "source": [
        "「ツール」から「設定」を開く  \n",
        "![colab1.png](https://github.com/yasyamauchi/education/blob/main/img/colab1.png?raw=1)  \n",
        "「エディタ」で「コンテキストに基づくコード補完を表示」のチェックを**外す**  →保存をクリック  \n",
        "![colab1.png](https://github.com/yasyamauchi/education/blob/main/img/colab2.png?raw=1)  \n",
        "「AIアシスタント」で「生成AI機能を非表示」にチェックを入れ，それ以外のチェックを**外す**  →閉じるをクリック  \n",
        "![colab1.png](https://github.com/yasyamauchi/education/blob/main/img/colab3.png?raw=1)"
      ],
      "metadata": {
        "id": "lh2ycqJpr4JF"
      }
    },
    {
      "cell_type": "markdown",
      "metadata": {
        "id": "xWUKsszXZ13f"
      },
      "source": [
        "## 1.0.1 はじめてのプログラミング\n",
        "まず，次のコードを下の灰色の四角い枠内に入力してみる．  \n",
        "`print('Hello, World')`  \n",
        "\n",
        "入力できたら，枠の左に表示されている![image.png](data:image/png;base64,iVBORw0KGgoAAAANSUhEUgAAADcAAAA0CAYAAAAuT6DoAAADZklEQVRoBeWazU7yQBSGuTa3uJUtbL0HuAguQMJCFq5AjQt2CIGNUTASxBBQUPkNvyoqgse8TQ4Zay20Ur5hvsWbqbW28+Q9PWfsGdfn5yeJms1mxJpOp8T6+PggI00mE5JVrkVgDCQCvL+/0yZoDqd3Sw/FMG9vbyTq9fWVZJUGZwQGpwAEEEx+PB7Ty8uLpufnZxL19PREMuoHHBwDFAMBAhMfDoeaBoMB9fv9b+r1eiSjXKJrAGOn4NLd3d1GSf96aHCcERGKgINbcEgZOHYNjiEEW62WOnDsGt6vbrdLDw8Pmw+HkOQkgowI15rNJpXLZTXgOO0jJJEJHx8fqVgsqgXHIXl/f0/5fF4dOKRRwHU6HapWq3R5eakmHEpANptVA45XJEgmcA5wFxcXmw/HmRJhCbh2u023t7d0fn6uHhyK96rhkskkBYNB2t3d/Sacw+9WtRL6sfzSOwe4SqWyEufi8Th5PB7a2toylc/nI1z7V8i1wfn9flMgI+BAIPAnwLXAeb1ey2AMCxftOug4nB3HGIxHuw46Cof3hif419HOO+go3M7Ozq9wCFUrrtoJT8fgkNLN3EIZwLsUiUTI7XabXsv3sVomHINDzeJJGY0MB0BMepmkg3taSS6OwWHyRlB8ToTDhAuFwsIw1f/NIlBp4HiiZmGqBNz29rah6xsLh7BEPeOwNRqlgbOaUJDqjYDEc9IkFCul4LcwFMFwLE0pQIIwK+JwalEYinAoFZx0lh0dy5aYgNLLLwBaWWKJTonHuMeybonXOeocP2iZ1YcIIx7bCUd+7lrg8DA7Dtp1bO1weCDewWVcxDV2/sVhKB7X5hw/ECNSOmoWirIonLOa7sX76o//CZx+Ek79/H/BoYUlfnFW6qOsCDcajeZfnJX4nA449OcQr8rCodEvwinT5RH74dzlUao/B+e4+Vir1dRpPnIzRLm2MXYQMRx2M6DhX6/X1Wj4i3DImLxVo1Qqad3VRCJBx8fHdHBwQPv7+xQOhykUChlqb2+PZNJ8e5RYDpBU8N5dX1/T2dkZnZ6eagvbk5MTOjo6osPDQ4rFYhSNRqWWtmtP3GjDe1Gw0QYdVgDmcjkNMpPJUDqdplQqpQmLXpk1h9MXc2yRajQamoPYTXRzc6OBYn8K6+rqimTWF3AWZCtGRidUAAAAAElFTkSuQmCC)をクリックする．  \n",
        "この記号は，枠内にマウスポインタ(カーソル)を持ってこないと表示されないことがある．"
      ]
    },
    {
      "cell_type": "markdown",
      "metadata": {
        "id": "b1n07oDObV4C"
      },
      "source": [
        "注意する点：  \n",
        "\n",
        "\n",
        "*   最初の ( や ' を入力した時点で，行末の ' や ) が自動的に挿入される\n",
        "*   すべて半角文字で入力する(**Hello, World**以外)\n",
        "*   シングルクォーテーション( ' )でもダブルクォーテーション( \" )でもよい（いまのところは）\n",
        "*   初回のクリックは，実行まで時間がかかる\n",
        "*   書籍などでは左端に行番号が表示されていることが多いが，Google Colabではデフォルトでは表示されない．「ツール」→「設定」→「エディタ」の「行番号を表示」のチェックを入れると，行番号が表示される．\n",
        "\n",
        "\n",
        "\n"
      ]
    },
    {
      "cell_type": "markdown",
      "metadata": {
        "id": "vbjWvo6_wOB4"
      },
      "source": [
        "↓↓↓ここに記入する↓↓↓"
      ]
    },
    {
      "cell_type": "code",
      "metadata": {
        "id": "Nh-X5P9EZjzk"
      },
      "source": [],
      "execution_count": null,
      "outputs": []
    },
    {
      "cell_type": "markdown",
      "metadata": {
        "id": "YxMJcvtobKOA"
      },
      "source": [
        "`Hello, World  `\n",
        "と表示されたら成功．"
      ]
    },
    {
      "cell_type": "markdown",
      "metadata": {
        "id": "wVnKc76ccpib"
      },
      "source": [
        "次に，自分の名前を表示してみる．  \n",
        "先ほどのHello, Worldの部分を自分の名前に入れ替えて実行してみる．"
      ]
    },
    {
      "cell_type": "code",
      "metadata": {
        "id": "YsEADqNBeFDz"
      },
      "source": [],
      "execution_count": null,
      "outputs": []
    },
    {
      "cell_type": "markdown",
      "metadata": {
        "id": "1jJc05dbegdF"
      },
      "source": [
        "## 1.0.2 セルとノートブック\n",
        "プログラムを入力する四角い枠を「セル」という．  \n",
        "セルをまとめたファイルのことをノートブック(ipynbファイル)とよぶ．  \n",
        "セルには複数の行を書くことができる．  \n",
        "次のコードを入力し，実行してみよう．  \n",
        "\n",
        "```\n",
        "print('井上円了')  \n",
        "print('163歳')  \n",
        "print('妖怪が好き')\n",
        "```\n",
        "\n",
        "\n",
        "\n"
      ]
    },
    {
      "cell_type": "code",
      "metadata": {
        "id": "mddf29VDe7Gb"
      },
      "source": [
        "print()"
      ],
      "execution_count": null,
      "outputs": []
    },
    {
      "cell_type": "markdown",
      "source": [
        "## 1.0.3 トラブルシューティング  "
      ],
      "metadata": {
        "id": "esrNd5vMKdOD"
      }
    },
    {
      "cell_type": "markdown",
      "metadata": {
        "id": "Zf3mms9TdEYz"
      },
      "source": [
        "### 1)エラー    \n",
        "わざとエラーを出してみる．次のコードを入力し，実行してみる．  \n",
        "`print('松田くん，かっこいい！　最高！)`"
      ]
    },
    {
      "cell_type": "code",
      "metadata": {
        "id": "Q_xZdoUOdbWK"
      },
      "source": [],
      "execution_count": null,
      "outputs": []
    },
    {
      "cell_type": "markdown",
      "metadata": {
        "id": "u2o3E78YdyqU"
      },
      "source": [
        "エラーメッセージ(エラーの内容)が表示され，左の△印が赤くなる．  \n",
        "\n",
        "SyntexErrorとは，「構文エラー(文法エラー)」という意味であるが，具体的にどのようなエラーなのかはPythonは教えてくれない(直訳しても今は訳が分からないと思う)ので，自分で考えるしかない．  \n",
        "この場合，最後のシングルクォーテーション( ' )が足らない．  \n",
        "他の例を挙げる．何がエラーの原因なのか分かるだろうか？？"
      ]
    },
    {
      "cell_type": "markdown",
      "source": [
        "### 2)セルの実行が止まらないとき  \n",
        "セルの左端の●の中に□が表示され，その周りを円弧が回り続けているなら，コードは実行中です．いつまでたっても実行が終わらない場合は，そのアイコンを押して強制終了させることができます．  \n",
        "次の例で練習してみよう．passの前には半角のスペースが入る．構文の意味はwhileの節で説明する．   \n",
        "```\n",
        "while True:\n",
        "    pass\n",
        "```"
      ],
      "metadata": {
        "id": "oFQnOZXCdOS0"
      }
    },
    {
      "cell_type": "code",
      "metadata": {
        "id": "yOExZUoD8NMR"
      },
      "source": [],
      "execution_count": null,
      "outputs": []
    },
    {
      "cell_type": "markdown",
      "metadata": {
        "id": "cbNaDUGUh7Q7"
      },
      "source": [
        "## 1.0.4 Pythonで使用される記号文字  \n",
        "Pythonのコーディングでは記号，とくに括弧と引用符，バックラッシュなどに注意して欲しい．必ず半角で入力すること．日本語入力モードと英数字入力モードの切替を確認する．\n",
        "\n",
        "```\n",
        "(   ) 丸括弧  \n",
        "{   } 波括弧  \n",
        "[   ] 角括弧\n",
        "'   ' シングルクォーテーション\n",
        "\"   \" ダブルクォーテーション\n",
        "/     スラッシュ\n",
        "\\     円記号\n",
        "＼    バックスラッシュ(実際には半角)\n",
        "```\n",
        "\n",
        "<u>Windowsユーザは，バックスラッシュ \\ は円記号で読み替えること</u>．"
      ]
    },
    {
      "cell_type": "markdown",
      "source": [
        "\n",
        "\n",
        "> 教科書では，文字列はシングルクォーテーション(')で囲い，たとえば```print('Hello')```と記載している．  \n",
        "> 実際には```print(\"Hello\")```のようにダブルクォーテーション(\")で囲ってもよい．  \n",
        "  \n",
        "> 通常はシングルクォーテーションを用いて，文字列にシングルクォーテーションやダブルクォーテーションを含む場合に使い分けするとよい．  \n",
        "```print('She's a girl.')```…エラーとなる  \n",
        "```print(\"She's a girl.\")```…エラーとならない  \n",
        "```print(\"\"http://www.toyo.ac.jp/\"\")```…エラーとなる  \n",
        "```print('\"http://www.toyo.ac.jp/\"')```…エラーとならない\n",
        "\n",
        "\n",
        "\n",
        "\n"
      ],
      "metadata": {
        "id": "3EEq61Jl3Mpp"
      }
    },
    {
      "cell_type": "markdown",
      "metadata": {
        "id": "sjaYEyenzAv6"
      },
      "source": [
        "# 1.1 数値演算"
      ]
    },
    {
      "cell_type": "markdown",
      "metadata": {
        "id": "EXpNK4VJmSuH"
      },
      "source": [
        "## 1.1.1数値の演算\n",
        "算術演算を試してみる．まずは教科書通りに，次のコードを入力し，実行してみる．  \n",
        "\n",
        "\n",
        "```\n",
        "print(1)\n",
        "print(10)\n",
        "print(1+1)\n",
        "print(10-2)\n",
        "```\n",
        "\n"
      ]
    },
    {
      "cell_type": "code",
      "metadata": {
        "id": "RWmoY6Ith0Bz"
      },
      "source": [],
      "execution_count": null,
      "outputs": []
    },
    {
      "cell_type": "markdown",
      "metadata": {
        "id": "bivfomZznTku"
      },
      "source": [
        "電卓代わりに使えるのが分かっただろうか．  \n",
        "もちろん，足し算引き算だけでなく，四則演算ができる．  \n",
        "次のコードを入力し，実行してみよう．上から：  \n",
        "* 乗算\n",
        "* 割り算(実数)\n",
        "* 割り算(整数)\n",
        "* 割り算の余り\n",
        "* べき乗\n",
        "\n",
        "```\n",
        "print(7*4)\n",
        "print(7/4)\n",
        "print(7//4)\n",
        "print(7%4)\n",
        "print(7**4)\n",
        "```\n",
        "\n",
        "\n"
      ]
    },
    {
      "cell_type": "code",
      "metadata": {
        "id": "6i_LK-VQnS1m"
      },
      "source": [],
      "execution_count": null,
      "outputs": []
    },
    {
      "cell_type": "markdown",
      "metadata": {
        "id": "-cTR_P0Hn1__"
      },
      "source": [
        "ここで計算のために用いる*や/などの記号を<u>「算術演算子」</u>とよぶ．この中で要注意は/と//の区別(後者は結果が整数となる)，//と%の区別(後者は割り算の余り)である．"
      ]
    },
    {
      "cell_type": "markdown",
      "metadata": {
        "id": "3RSl63TdnXkx"
      },
      "source": [
        "## 1.1.2 コメント"
      ]
    },
    {
      "cell_type": "markdown",
      "metadata": {
        "id": "f8h25Ej1n1FH"
      },
      "source": [
        "次のコードを入力し，実行してみよう．\n",
        "\n",
        "```\n",
        "\"\"\"  \n",
        "自己紹介プログラム  \n",
        "作成者：井上円了\n",
        "作成日：2021年1月26日\n",
        "\"\"\"  \n",
        "#名前と特技を表示  \n",
        "print('僕の名前は井上円了')  \n",
        "print('妖怪が好き')\n",
        "```\n",
        "\n"
      ]
    },
    {
      "cell_type": "code",
      "source": [],
      "metadata": {
        "id": "tQTUbj5olGXW"
      },
      "execution_count": null,
      "outputs": []
    },
    {
      "cell_type": "markdown",
      "metadata": {
        "id": "7MlNWahZod-x"
      },
      "source": [
        "\n",
        "\n",
        "```\n",
        "僕の名前は井上円了\n",
        "妖怪が好き\n",
        "```\n",
        "だけが表示されるのが確認できるだろうか．  \n",
        "コメント(comment)とは，解説文であり，実行時は無視される．  \n",
        "しかしこれを入れることにより，そのソースコードを作成した経緯や用途，各行の意味合いを理解することができる．  \n",
        "ソースコードは，未来の自分や他人が読んでも理解できるように心がけて欲しい．\n"
      ]
    },
    {
      "cell_type": "markdown",
      "metadata": {
        "id": "HJ3vsCXvpKeY"
      },
      "source": [
        "コメントの記述方法は2種類ある．  \n",
        "**1.単一行(行末まで)  (行内の#以降がコメント)**\n",
        "\n",
        "\n",
        "```\n",
        "# コメント\n",
        "print('Hello')\n",
        "```\n",
        "\n",
        "\n",
        "```\n",
        "print('Hello') # コメント\n",
        "```\n",
        "\n",
        "**2.複数行　(ダブルクォーテーションまたはシングルクォーテーション3個)**\n",
        "\n",
        "```\n",
        "\"\"\"\n",
        "コメント1\n",
        "コメント2\n",
        "\"\"\"\n",
        "print('Hello')\n",
        "```\n",
        "\n",
        "\n",
        "\n"
      ]
    },
    {
      "cell_type": "markdown",
      "metadata": {
        "id": "nm1-VQIj69nW"
      },
      "source": [
        "## 1.1.3 整数と実数(データ型)  \n",
        "整数(int)[いんと、いんてじゃー]，実数(小数)(float)[ふろーと]，文字列(str)[すとりんぐ]，真偽値(bool)[ぶーる]の4種類．  \n",
        "「同じ「1」でも1と1.0は別である．次のコードを入力し，実行してみよう．\n",
        "\n",
        "```\n",
        "x = 1\n",
        "print(x)\n",
        "x = 1.0\n",
        "print(x)\n",
        "```\n",
        "\n"
      ]
    },
    {
      "cell_type": "code",
      "source": [],
      "metadata": {
        "id": "_ptGJMMFlv3_"
      },
      "execution_count": null,
      "outputs": []
    },
    {
      "cell_type": "markdown",
      "metadata": {
        "id": "tawyfv_G9IwT"
      },
      "source": [
        "## 1.1.4 整数と実数の変換\n",
        "Pythonでは，データ型の名前をそのまま使用して，データ型の変換を行う関数とする．つまり，\n",
        "\n",
        "*   int(x)は変数xをint型(整数)にする\n",
        "*   float(x)は変数xをfloat型(実数)にする\n",
        "\n",
        "では，次のコードを実行してみよう．\n",
        "\n",
        "```\n",
        "x = 3.14\n",
        "y = int(x)\n",
        "print(y)\n",
        "print(type(y))\n",
        "```\n",
        "\n",
        "\n"
      ]
    },
    {
      "cell_type": "code",
      "source": [],
      "metadata": {
        "id": "kOw06M8Vl3-x"
      },
      "execution_count": null,
      "outputs": []
    },
    {
      "cell_type": "markdown",
      "source": [
        "## 1.1.5 実数のべき表示と数値誤差  \n",
        "10の60乗を計算する．  \n",
        "最初は整数として計算するため，正しい値となる．  \n",
        "それを実数に変換すると「べき表示」1e+60(1x10<sup>60</sup>)という表記になるが，実際にはわずかに誤差が生ずる．  \n",
        "誤差があるかどうかを確認するために，わざと整数に再変換してみる．\n",
        "```\n",
        "print(10**60)\n",
        "print(float(10**60))\n",
        "print(int(float(10**60)))\n",
        "```"
      ],
      "metadata": {
        "id": "YSNag3VJhoPQ"
      }
    },
    {
      "cell_type": "code",
      "source": [],
      "metadata": {
        "id": "IPM-ZF59mEjR"
      },
      "execution_count": null,
      "outputs": []
    },
    {
      "cell_type": "markdown",
      "metadata": {
        "id": "hnBqaDHCrwHa"
      },
      "source": [
        "## 1.1.6 演算子の優先順位と括弧    \n",
        "式の評価と優先順位は，基本的に数学と同じである．たとえば：  \n",
        "3＋5×2＝3＋10＝13  \n",
        "(3＋5)×2＝8×2＝16  \n",
        "5<sup>2</sup>＋10＝25＋10＝35  \n",
        "これらをPythonで実行すると(各自試す)：  \n",
        "\n",
        "\n",
        "```\n",
        "print(3+5*2)\n",
        "print((3+5)*2)\n",
        "print(5**2+10)\n",
        "```\n",
        "\n"
      ]
    },
    {
      "cell_type": "code",
      "metadata": {
        "id": "HetSqmTarfmq"
      },
      "source": [],
      "execution_count": null,
      "outputs": []
    },
    {
      "cell_type": "markdown",
      "source": [
        "## 1.1.7 空白  \n",
        "* 複数の文字からなる演算子，たとえば**や//の間に空白を入れてはならない．  \n",
        "* 「全角の」空白は空白とはみなされない．  \n",
        "  \n",
        "7の2乗を計算しようとする，次の4つのコードを試してみよう．(ここではコードはコピペすること)．  \n",
        "```\n",
        "print(7**2)\n",
        "```"
      ],
      "metadata": {
        "id": "J7iFNUqymrNv"
      }
    },
    {
      "cell_type": "code",
      "source": [],
      "metadata": {
        "id": "Av_5ZSirnQV7"
      },
      "execution_count": null,
      "outputs": []
    },
    {
      "cell_type": "markdown",
      "source": [
        "```\n",
        "print(7 **2)\n",
        "```"
      ],
      "metadata": {
        "id": "DdaqW4jfnXXr"
      }
    },
    {
      "cell_type": "code",
      "source": [],
      "metadata": {
        "id": "hYj2iBwnnmAA"
      },
      "execution_count": null,
      "outputs": []
    },
    {
      "cell_type": "markdown",
      "source": [
        "```\n",
        "print(7* *2)\n",
        "```"
      ],
      "metadata": {
        "id": "Hd8qedDXnXPJ"
      }
    },
    {
      "cell_type": "code",
      "source": [],
      "metadata": {
        "id": "T4Dm8BZ0niqf"
      },
      "execution_count": null,
      "outputs": []
    },
    {
      "cell_type": "markdown",
      "source": [
        "```\n",
        "print(7　**2)\n",
        "```"
      ],
      "metadata": {
        "id": "aXJcp0W4nW50"
      }
    },
    {
      "cell_type": "code",
      "source": [],
      "metadata": {
        "id": "EHcGrjY6niNN"
      },
      "execution_count": null,
      "outputs": []
    },
    {
      "cell_type": "markdown",
      "source": [
        "なお，文中のピリオドの前後にもスペースを入れてはいけない．  \n",
        "```math.sqrt(2)```はOK  \n",
        "``` math. sqrt(2)```や```math .sqrt(2)```はNG"
      ],
      "metadata": {
        "id": "pq66JoTfklMD"
      }
    },
    {
      "cell_type": "markdown",
      "source": [
        "## 1.1.8 数学関数(モジュールのインポート)  \n",
        "モジュールの解説はあとで行うが，数学関係の各種関数や定数(円周率など)はモジュール(ライブラリ)として提供されている．  \n",
        "いまのところは「おまじない」として覚えておく．"
      ],
      "metadata": {
        "id": "1w3-soRSoQzn"
      }
    },
    {
      "cell_type": "markdown",
      "source": [
        "```\n",
        "import math\n",
        "print(math.sqrt(2))\n",
        "print(math.pi)\n",
        "print(math.sin(math.pi))\n",
        "print(math.sin(math.pi/2))"
      ],
      "metadata": {
        "id": "prfnOAIDooml"
      }
    },
    {
      "cell_type": "code",
      "source": [],
      "metadata": {
        "id": "OVNHxUUKouZk"
      },
      "execution_count": null,
      "outputs": []
    },
    {
      "cell_type": "markdown",
      "source": [
        "3番目のコードは本当は0にならないとおかしいが，数値誤差のために0にならない．"
      ],
      "metadata": {
        "id": "R-Aa1Qwso-ie"
      }
    },
    {
      "cell_type": "markdown",
      "metadata": {
        "id": "UybwSglqy7jA"
      },
      "source": [
        "# 1.2 変数と関数の基礎(変数)"
      ]
    },
    {
      "cell_type": "markdown",
      "metadata": {
        "id": "KMMeL1datbLd"
      },
      "source": [
        "## 1.2.1変数の利用  \n",
        "この「変数」の概念も，数学と同じである(今のところは！)．  \n",
        "数学では，iやxといった一文字で変数を表現するが，プログラミング言語ではnameやageといった単語を変数とすることができる．  \n",
        "けっして，<u>ageはa×g×eの意味ではない</u>．    \n",
        "  \n",
        "次のコードは，身長(cm)を変数hに，体重(kg)を変数wに代入し，BMIを計算した結果を変数bmiに代入し，表示するコードである．  \n",
        "```\n",
        "h = 188.0\n",
        "print(h)\n",
        "w = 104.0\n",
        "print(w)\n",
        "bmi = w/(h/100.0) ** 2\n",
        "print(bmi)\n",
        "```\n",
        "\n"
      ]
    },
    {
      "cell_type": "code",
      "source": [],
      "metadata": {
        "id": "dhFIPyn_q2vf"
      },
      "execution_count": null,
      "outputs": []
    },
    {
      "cell_type": "markdown",
      "metadata": {
        "id": "SzWcIoszu1pt"
      },
      "source": [
        "なお，未知の変数を式の中で用いるとエラーとなる．  \n",
        "```\n",
        "z = abc + def\n",
        "```"
      ]
    },
    {
      "cell_type": "code",
      "source": [],
      "metadata": {
        "id": "2QvuVk1aq0kT"
      },
      "execution_count": null,
      "outputs": []
    },
    {
      "cell_type": "markdown",
      "metadata": {
        "id": "SitL8y02zi97"
      },
      "source": [
        "## 1.2.2代入文\n",
        "これは<u>数学とは全く異なるので，最初は非常に気味が悪い</u>かもしれない．  \n",
        "とりあえず次のコードを入力し，実行してみよう．  \n",
        "\n",
        "\n",
        "```\n",
        "age = 24\n",
        "age = age + 1\n",
        "print(age)\n",
        "```\n",
        "\n"
      ]
    },
    {
      "cell_type": "code",
      "metadata": {
        "id": "1BwbwMdxz9sT"
      },
      "source": [],
      "execution_count": null,
      "outputs": []
    },
    {
      "cell_type": "markdown",
      "metadata": {
        "id": "6a68G3b00ALj"
      },
      "source": [
        "「25」と表示されたが，2行目の「age = age + 1」とは何だろうか．以前，「= は数学と異なり代入を示す」と説明したことがここで生きてくる．つまりこれは，「ageに1を足した結果である25をageに代入する」という意味になる．  \n",
        "では演習として，次のコードを入力し，実行してみよう．  \n",
        "\n",
        "\n",
        "```\n",
        "x = 24\n",
        "x = x - 7\n",
        "print(x)\n",
        "x = x * 3\n",
        "print(x)\n",
        "```\n",
        "\n"
      ]
    },
    {
      "cell_type": "code",
      "metadata": {
        "id": "WK7CEQ2J0vhc"
      },
      "source": [],
      "execution_count": null,
      "outputs": []
    },
    {
      "cell_type": "markdown",
      "metadata": {
        "id": "kV0MS4Cd0x6h"
      },
      "source": [
        "はい．17と51と表示されただろうか．  \n",
        "まず2行目で，24から7を引いた結果である17がxに代入され，表示される．  \n",
        "4行目で，その17に3をかけた結果である51がxに代入され，表示される．  "
      ]
    },
    {
      "cell_type": "markdown",
      "metadata": {
        "id": "QElMAWXg1GLv"
      },
      "source": [
        "## 1.2.3累積代入文(複合代入演算子)  \n",
        "もっと気持ち悪いが，必ず理解して欲しい．  \n",
        "先ほどの例を書き直すと：  \n",
        "\n",
        "\n",
        "```\n",
        "x = 24\n",
        "x -= 7  # 自らから7を引く\n",
        "print(x)\n",
        "x *= 3  # 自らに3をかける\n",
        "print(x)\n",
        "```\n",
        "\n"
      ]
    },
    {
      "cell_type": "code",
      "metadata": {
        "id": "puDqvLRT1ThZ"
      },
      "source": [],
      "execution_count": null,
      "outputs": []
    },
    {
      "cell_type": "markdown",
      "metadata": {
        "id": "po2892pv1me2"
      },
      "source": [
        "他の複合代入演算子(+=，/=)も覚えておくこと．  \n",
        "```\n",
        "y = 5\n",
        "y += 3     # 自らに3を足す\n",
        "print(y)\n",
        "y /= 4     # 自らを4で割る\n",
        "print(y)\n",
        "```"
      ]
    },
    {
      "cell_type": "code",
      "source": [],
      "metadata": {
        "id": "EVmr2C_5_dlt"
      },
      "execution_count": null,
      "outputs": []
    },
    {
      "cell_type": "markdown",
      "metadata": {
        "id": "hOBcyMpeoR76"
      },
      "source": [
        "# 2.2リスト"
      ]
    },
    {
      "cell_type": "markdown",
      "metadata": {
        "id": "7Y2P0fudoW1u"
      },
      "source": [
        "## 2.2.1リストの特徴  \n",
        "ポイント\n",
        "*   複数の値(「要素」)を一列に並べて管理する\n",
        "*   番号(添え字，インデックス)で管理するが，**0番から始まる(0,1,2,3...)！**\n",
        "\n"
      ]
    },
    {
      "cell_type": "markdown",
      "metadata": {
        "id": "ZRFuFjBAp3l0"
      },
      "source": [
        "## 2.2.2リストの作成  \n",
        "\n",
        "\n",
        "```\n",
        "変数 = [要素0, 要素1, 要素2,...]\n",
        "```\n",
        "\n",
        "\n",
        "* 角括弧[  ]を使うことにまず注意する  \n",
        "  * Pythonでは{  }や(   )も出現するので，目を凝らして見ること！  \n",
        "* 各々の要素はカンマ,で区切る．  \n",
        "  \n",
        "それでは実行してみよう．\n",
        "\n",
        "```\n",
        "numbers = [0, 10, 20, 30, 40, 50]\n",
        "numbers\n",
        "```\n",
        "\n",
        "\n"
      ]
    },
    {
      "cell_type": "code",
      "metadata": {
        "id": "aMIbr5Etmbfc"
      },
      "source": [],
      "execution_count": null,
      "outputs": []
    },
    {
      "cell_type": "markdown",
      "source": [
        "```\n",
        "type(numbers)\n",
        "```"
      ],
      "metadata": {
        "id": "JyO1K-q0Aczr"
      }
    },
    {
      "cell_type": "code",
      "source": [],
      "metadata": {
        "id": "5eM1h4_mAhOV"
      },
      "execution_count": null,
      "outputs": []
    },
    {
      "cell_type": "markdown",
      "source": [
        "文字列もリストにできる．  \n",
        "```\n",
        "fruits = ['apple', 'banana', 'chelly']\n",
        "fruits\n",
        "```"
      ],
      "metadata": {
        "id": "ngL6UthBAit-"
      }
    },
    {
      "cell_type": "code",
      "source": [],
      "metadata": {
        "id": "Y4kZULw0AoBD"
      },
      "execution_count": null,
      "outputs": []
    },
    {
      "cell_type": "markdown",
      "source": [
        "何も入っていないリスト（空リスト）をあえて作るなら…  \n",
        "```\n",
        "empty=[]\n",
        "empty\n",
        "```\n",
        "注：リストの変数名はemptyでなくても何でも良い．"
      ],
      "metadata": {
        "id": "CUaXNxp0Aq5k"
      }
    },
    {
      "cell_type": "code",
      "source": [],
      "metadata": {
        "id": "GPxox1fVA5NA"
      },
      "execution_count": null,
      "outputs": []
    },
    {
      "cell_type": "markdown",
      "metadata": {
        "id": "_91zcATOsE_u"
      },
      "source": [
        "## 2.2.3リストとインデックス  \n",
        "先ほど，print(members)を実行すると，リスト内のすべての要素が表示されたが，たとえば0番目(最初の要素)だけを取り出したいときはどうするのか？  \n",
        "\n",
        "\n",
        "```\n",
        "リスト[添え字]\n",
        "```\n",
        "とする．では，次のコードをセルに入力して実行し，リストfruitsの0番目の要素を表示してみよう．\n",
        "\n",
        "\n",
        "```\n",
        "print(fruits[0])\n",
        "```\n",
        "\n"
      ]
    },
    {
      "cell_type": "code",
      "source": [],
      "metadata": {
        "id": "FqzraucsBGWL"
      },
      "execution_count": null,
      "outputs": []
    },
    {
      "cell_type": "markdown",
      "metadata": {
        "id": "vtstcQpvum4O"
      },
      "source": [
        "**リストの要素の添え字(番号)は0から始まる**．だから，要素が3つの場合，添え字は0から2である．試しに，次のコードをセルに入力し，実行してみよう．\n",
        "\n",
        "```\n",
        "print(fruits[1])\n",
        "print(fruits[2])\n",
        "print(fruits[3])\n",
        "```\n",
        "\n"
      ]
    },
    {
      "cell_type": "code",
      "metadata": {
        "id": "OGyI7pjhvDgI"
      },
      "source": [],
      "execution_count": null,
      "outputs": []
    },
    {
      "cell_type": "markdown",
      "metadata": {
        "id": "LMZ4gTUcvI-t"
      },
      "source": [
        "banana，chellyは表示できたが，その後にIndexErrorというエラーが生じるはずである．"
      ]
    },
    {
      "cell_type": "markdown",
      "metadata": {
        "id": "UEEEEteP9InA"
      },
      "source": [
        "複数の値をまとめる方法としてPythonではリストの他にディクショナリー，タプル，セットというものもあります．"
      ]
    },
    {
      "cell_type": "markdown",
      "metadata": {
        "id": "4E4uVMxvu848"
      },
      "source": [
        "# 1.3論理・比較演算と条件分岐の基礎"
      ]
    },
    {
      "cell_type": "markdown",
      "metadata": {
        "id": "MptbMAPQvLjv"
      },
      "source": [
        "## 1.3.1 if文による条件分岐(基本形)\n",
        "次のコードを実行してみよう\n",
        "```\n",
        "a = 7\n",
        "b = 10\n",
        "if a > b:\n",
        "    print('aが大きい')\n",
        "else:\n",
        "    print('同じ，またはbが大きい')\n",
        "```"
      ]
    },
    {
      "cell_type": "code",
      "metadata": {
        "id": "rpMPDpavqUdc"
      },
      "source": [],
      "execution_count": null,
      "outputs": []
    },
    {
      "cell_type": "markdown",
      "source": [
        "bの値をaより小さく，例えば5にするとどうなるか，実行してみよう．"
      ],
      "metadata": {
        "id": "w1vEKkxeJfa5"
      }
    },
    {
      "cell_type": "code",
      "source": [],
      "metadata": {
        "id": "hVX2nFN6Jls0"
      },
      "execution_count": null,
      "outputs": []
    },
    {
      "cell_type": "markdown",
      "metadata": {
        "id": "zsP_Rmxt-x7j"
      },
      "source": [
        "新しく，「if」と「else」というキーワードが登場した．また，不等号「>」も初めて登場した．  \n",
        "if文は，ある条件を満たすかどうかでその次に実行される内容を変えることができる．\n",
        "\n",
        "\n",
        "*   ifの後ろに処理が分岐する条件を書く\n",
        "*   条件が成立していたら，ifからelseの前までの文が実行される\n",
        "*   条件が成立していなかったら，else以降の文が実行される\n",
        "ブロックとは，複数の文のまとまりを示す．先ほどの，「条件が成立していたら実行される部分」をifブロック，「条件が成立していなかったら実行される部分」をelseブロックとよぶ．\n",
        "\n"
      ]
    },
    {
      "cell_type": "markdown",
      "metadata": {
        "id": "FvmBlMyX_6gc"
      },
      "source": [
        "## 1.3.2 インデントによる構文  \n",
        "条件分岐の前にPythonの「インデント」(字下げ)について説明する．  \n",
        "次のコードで，ifブロックとelseブロックの各々が半角スペースで字下げされているののは，単に見栄えのためではない．\n",
        "これらは実行文を一定のグループにまとめる機能を有する．  \n",
        "\n",
        "```\n",
        "score = int(input('試験の点数を入力してください >>'))\n",
        "if score >= 60:\n",
        "    print('合格')\n",
        "    print('よくがんばりましたね')\n",
        "else:\n",
        "    print('残念ながら不合格です')\n",
        "    print('追試を受けて下さい')\n",
        "```\n",
        "インデントで最低限気をつける点は以下の通り．  \n",
        "* インデントは何文字でも良い(一般的には4文字)が，**必ず半角スペース**で開けること．  \n",
        "* インデントの前の行の最後には**必ず:(コロン)がある**．;(セミコロン)ではない．\n",
        "* 複数段のインデントも存在する．"
      ]
    },
    {
      "cell_type": "markdown",
      "source": [
        "先程のコードで，もしインデントが無いとどうなるか．実行してみよう\n",
        "```\n",
        "a = 7\n",
        "b = 10\n",
        "if a > b:\n",
        "print('aが大きい')\n",
        "else:\n",
        "print('同じ，またはbが大きい')\n",
        "```"
      ],
      "metadata": {
        "id": "N6PWOUZjKRpI"
      }
    },
    {
      "cell_type": "code",
      "source": [],
      "metadata": {
        "id": "59cxOqk-Klcf"
      },
      "execution_count": null,
      "outputs": []
    },
    {
      "cell_type": "markdown",
      "metadata": {
        "id": "Bf38R9vuDEfL"
      },
      "source": [
        "## 1.3.3 様々な条件式\n",
        "比較演算子（ひかくえんざんし）と論理演算子について学ぶ．"
      ]
    },
    {
      "cell_type": "markdown",
      "metadata": {
        "id": "CvklYJGKDuZU"
      },
      "source": [
        "### 1)比較演算子\n",
        "連続するイコール==，これは「比較演算子」の一つであり，「左辺と右辺が等しい(か？)」という意味になる．  \n",
        "では早速，次のコードを入力し，実行してみよう．  \n",
        "```\n",
        "x = 3\n",
        "y = 4\n",
        "if x == y:\n",
        "    print('赤')\n",
        "else:\n",
        "    print('青')\n",
        "```"
      ]
    },
    {
      "cell_type": "code",
      "metadata": {
        "id": "IniOJ4P2E1a9"
      },
      "source": [],
      "execution_count": null,
      "outputs": []
    },
    {
      "cell_type": "markdown",
      "metadata": {
        "id": "ydHmSGizE3tQ"
      },
      "source": [
        "xとyが等しい場合にifブロック，等しくない場合にelseブロックがされるので，今回はelseブロックが実行され，「青」と出力される．  \n",
        "  \n",
        "では，3行目の```if x == y:```の==を!=にして実行してみよう．"
      ]
    },
    {
      "cell_type": "code",
      "metadata": {
        "id": "MSLkvnHOFMSj"
      },
      "source": [],
      "execution_count": null,
      "outputs": []
    },
    {
      "cell_type": "markdown",
      "metadata": {
        "id": "9yny5G6OFQul"
      },
      "source": [
        "今度は「赤」と出力される．  \n",
        "!=は「等しく**ない**かどうか」なので，xとyは等しくないからifブロックが実行されるのである．  \n",
        "  \n",
        "最後に，==を<にして実行してみよう．"
      ]
    },
    {
      "cell_type": "code",
      "metadata": {
        "id": "zgENI4TrFn3W"
      },
      "source": [],
      "execution_count": null,
      "outputs": []
    },
    {
      "cell_type": "markdown",
      "metadata": {
        "id": "AiCc4ihaFrLV"
      },
      "source": [
        "今度も「赤」と出力される．\n",
        "<は「左辺(x)は右辺(y)より小さいかどうか」なので，xはyより小さいからifブロックが実行されるのである．  \n",
        "なお，比較演算子を使った式の値はTrueかFalseの2択である．次のコードを実行して確認してみよう．\n",
        "```\n",
        "print(30 > 40)\n",
        "print(40 > 30)\n",
        "```"
      ]
    },
    {
      "cell_type": "code",
      "source": [],
      "metadata": {
        "id": "wEomT6m2mIQE"
      },
      "execution_count": null,
      "outputs": []
    },
    {
      "cell_type": "markdown",
      "source": [
        "比較演算子をまとめる．\n",
        "```\n",
        "x < y         # x は y より小さい\n",
        "x <= y        # x は y 以下\n",
        "x > y         # x は y より大きい\n",
        "x >= y        # x は y 以上\n",
        "x == y        # x と y は等しい\n",
        "x != y        # x と y は等しくない\n",
        "```"
      ],
      "metadata": {
        "id": "A4uyOU--LLhw"
      }
    },
    {
      "cell_type": "markdown",
      "metadata": {
        "id": "fPQdrBEVMP1G"
      },
      "source": [
        "### 2)論理演算子 (and,or,not)\n",
        "複数の条件を組み合わせる（かつ，または）方法として，論理演算子を使う方法がある．  \n",
        "論理演算子を理解するには，論理学で出たand,or,notを思い出すと良い．Pythonでもそのままの意味となるので，たとえば：\n",
        "```\n",
        "# 1) もしscoreが60以上，かつ，100以下なら\n",
        "if score >= 60 and score <= 100:\n",
        "\n",
        "# 2) もしscoreが60未満，または100より大きかったら\n",
        "if score < 60 or score > 100:\n",
        "\n",
        "# 3) もしscoreが「60未満，または100より大きい」でなければ\n",
        "if not (score < 60 or score > 100):\n",
        "```\n",
        "という表現ができる．  \n",
        "なお，1)と3)は結果的に同一である(なぜそうなるか，良く考えよう)．  \n",
        "  \n",
        "Pythonでは，ある一つの変数が取り得る値を判定する場合に，andを用いないで記述することもできる．たとえば1)は次のように記述できる．\n",
        "```\n",
        "if 60 <= score <= 100:\n",
        "```\n",
        "このような表現はC言語ではできない．"
      ]
    },
    {
      "cell_type": "markdown",
      "metadata": {
        "id": "KDU-KFUNOtYu"
      },
      "source": [
        "## 1.3.4分岐構文のバリエーション\n",
        "もう少し複雑なif文を取り扱う．elifが登場する．"
      ]
    },
    {
      "cell_type": "markdown",
      "metadata": {
        "id": "drqjTm_PQG5O"
      },
      "source": [
        "### 1) ifブロックのみの場合\n",
        "else:ブロックがない状態  \n",
        "  \n",
        "```\n",
        "if 条件式:\n",
        "    ifブロック\n",
        "```\n",
        "次の「1限に間に合ったかどうかを確認する」コードを実行してみよう．\n",
        "このまま実行したあと，```time = 10```を```time = 8```にして結果を確認しよう．    \n",
        "```\n",
        "time = 10\n",
        "if time > 9:\n",
        "    print('遅刻です')\n",
        "```"
      ]
    },
    {
      "cell_type": "code",
      "source": [],
      "metadata": {
        "id": "Zm_Jw_kQAivE"
      },
      "execution_count": null,
      "outputs": []
    },
    {
      "cell_type": "markdown",
      "metadata": {
        "id": "rB-fiNbiRPgq"
      },
      "source": [
        "### 2) if-elif構文\n",
        "分岐が3つ以上になる場合は，elifブロックを使用する．'elif'は'else if（そうでなければ，もし～）'の略称であり，実際，C言語では'else if'と書く．  \n",
        "だんだん複雑になるので，**条件の判定過程を追っていってほしい**．  \n",
        "どの条件も満たさなかった場合，最後のelseブロックが実行される．もちろん，elseブロックが必要無い場合は省略しても良い．\n",
        "```\n",
        "if 条件式1:\n",
        "    条件式1が成立したときの処理\n",
        "elif 条件式2:\n",
        "    条件式1が成立せず，条件式2が成立したときの処理\n",
        "    ...\n",
        "elif 条件式n:\n",
        "    条件式1～n-1がすべて成立せず，条件式nが成立したときの処理\n",
        "else:\n",
        "    すべての条件式が成立しなかったときの処理\n",
        "```\n",
        "女子100m走の記録を判定する，次のコードを実行してみよう．また，変数```time```を任意の値にして再実行してみよう．  \n",
        "```\n",
        "time = 11.1\n",
        "if time < 10.49:\n",
        "    print('女子世界新記録ですね')\n",
        "elif time < 10.79:\n",
        "    print('女子アジア新記録ですね')\n",
        "elif time < 11.21:\n",
        "    print('女子日本新記録ですね')\n",
        "elif time < 11.32:\n",
        "    print('女子日本学生新記録ですね')\n",
        "else:\n",
        "    print('どの記録にも到達しません')\n",
        "    \n",
        "```"
      ]
    },
    {
      "cell_type": "code",
      "source": [],
      "metadata": {
        "id": "qxFo8fL1Edgd"
      },
      "execution_count": null,
      "outputs": []
    },
    {
      "cell_type": "markdown",
      "metadata": {
        "id": "38B4JZEBuP8q"
      },
      "source": [
        "# 3.2繰り返し"
      ]
    },
    {
      "cell_type": "markdown",
      "metadata": {
        "id": "qAtO5OovEKvb"
      },
      "source": [
        "## 3.2.1 for文による繰り返し\n",
        "典型的なfor文の構文は次の通りである．\n",
        "```\n",
        "for 変数 in リスト:\n",
        "    forブロック\n",
        "```\n",
        "「リスト」は復習してほしい．   \n",
        "この構文は，リストの要素を先頭から順に変数に代入した上で，forブロックの処理が繰り返し実行される．  \n",
        "次の例では，  \n",
        "1. まずdataに80が代入されてからブロックが実行され，  \n",
        "2. 次に20が代入されてからブロックが実行され，\n",
        "  \n",
        "3. 次に75が代入されてからブロックが実行され，  \n",
        "4. 次に60が代入されてからブロックが実行される．  \n",
        "\n",
        "リストはこれでおしまいなので，forブロックはこれ以上繰り返されない．  \n",
        "\n",
        "次に4人の試験の点数について，60点以上を合格，未満を不合格とするコードを示す．forブロックは当然**インデントすること**．また，このコードの場合，forブロックの中にif-else文があるので，**インデントが二重**になっている．\n",
        "さっそく実行してみよう．\n",
        "```\n",
        "scores = [80, 20, 75, 60]\n",
        "for data in scores:\n",
        "    if data >= 60:\n",
        "        print('合格')\n",
        "    else:\n",
        "        print('不合格')\n",
        "```"
      ]
    },
    {
      "cell_type": "code",
      "source": [],
      "metadata": {
        "id": "SAddGI9nG0u5"
      },
      "execution_count": null,
      "outputs": []
    },
    {
      "cell_type": "markdown",
      "metadata": {
        "id": "0xP8p23IF9Zc"
      },
      "source": [
        "## 3.2.2 range\n",
        "range()関数は，数列を作る関数で，for文としばしば一緒に用いられる．  \n",
        "  まず，0,1,2,3,4という数列を作ってみよう．なお，list()によって最終的にリストに変換している．\n",
        "```\n",
        "r = list(range(5))\n",
        "print(r)\n",
        "```"
      ]
    },
    {
      "cell_type": "code",
      "metadata": {
        "id": "LP60rXXLJXtP"
      },
      "source": [],
      "execution_count": null,
      "outputs": []
    },
    {
      "cell_type": "markdown",
      "metadata": {
        "id": "3kF2EnVTI0Ds"
      },
      "source": [
        "range(5)は「**0からはじまる**5つの整数」を生成する．  \n",
        "その他，次のコードも試してみよう．先程のコードの```range(5)```の部分を書き換えると良い．\n",
        "```\n",
        "range(3,7)   # 3からはじまり7未満で終わる数列\n",
        "range(0,100,10)   # 0からはじまり10おきに100未満で終わる数列\n",
        "range(1,10,2)   # 1からはじまり10未満の奇数\n",
        "```"
      ]
    },
    {
      "cell_type": "code",
      "source": [],
      "metadata": {
        "id": "93t8OyxkJDYD"
      },
      "execution_count": null,
      "outputs": []
    },
    {
      "cell_type": "markdown",
      "metadata": {
        "id": "lxCvU9bqKgXV"
      },
      "source": [
        "## 3.2.3range()関数を使ったn回繰り返し\n",
        "特定の回数の繰り返し処理が必要なときは，for文とrange関数を組み合わせる．\n",
        "```\n",
        "for 変数 in range(n):\n",
        "    forブロック\n",
        "```\n",
        "次のコードを入力し，実行してみよう．```range(3)```の3を任意の値にして再実行してみよう．\n",
        "```\n",
        "for num in range(3):\n",
        "    print('Pythonは楽しい')\n",
        "```"
      ]
    },
    {
      "cell_type": "code",
      "metadata": {
        "id": "Ya3liZxNLHWd"
      },
      "source": [],
      "execution_count": null,
      "outputs": []
    },
    {
      "cell_type": "markdown",
      "source": [
        "このとき，変数numはどうなっているか，numの中身を観察する次のコードを実行してみよう．  \n",
        "```\n",
        "for num in range(3):\n",
        "    print(num)\n",
        "```"
      ],
      "metadata": {
        "id": "syY2yA4TIXav"
      }
    },
    {
      "cell_type": "code",
      "source": [],
      "metadata": {
        "id": "RU1IKCCXIt9S"
      },
      "execution_count": null,
      "outputs": []
    },
    {
      "cell_type": "markdown",
      "source": [
        "変数x,y間(x,y自身を含む)の整数の総和を計算するコードをfor文で作成する．  \n",
        "なぜ```range(x,y)```ではないのか，各自で考えてみよう．  \n",
        "```\n",
        "x = 1\n",
        "y = 9\n",
        "sum = 0\n",
        "for i in range(x,y+1):\n",
        "    sum += i\n",
        "print(sum)\n",
        "```"
      ],
      "metadata": {
        "id": "gqXgWuh_JU97"
      }
    },
    {
      "cell_type": "code",
      "source": [],
      "metadata": {
        "id": "SNnFJztyKG9D"
      },
      "execution_count": null,
      "outputs": []
    },
    {
      "cell_type": "markdown",
      "metadata": {
        "id": "Tv0Jbx5PLTG_"
      },
      "source": [
        "## 3.2.4 while文による無限ループ\n",
        "既に「1.0.3 2)セルの実行が止まらないとき」で紹介しているが，繰り返しにはfor文の他にwhile文というものもある．詳細は今回は省略するが，M5StickCのプログラミングにてwhile文による無限ループが使用されるので，改めて紹介する．  \n",
        "次の構文ではwhileブロックの内容が無限に繰り返されるので，何らかの方法で人為的に停止する必要がある．  \n",
        "```\n",
        "while True:\n",
        "   whileブロック\n",
        "```"
      ]
    },
    {
      "cell_type": "markdown",
      "source": [
        "# 1.2 変数と関数の基礎(関数)"
      ],
      "metadata": {
        "id": "qY9c0Vx9c2dq"
      }
    },
    {
      "cell_type": "markdown",
      "metadata": {
        "id": "XTNZrr0cZW1W"
      },
      "source": [
        "## 1.2.4 関数の必要性とメリット\n",
        "教科書よりもシンプルなコードで比較してみる．  \n",
        "次のコードAとBは，どちらもリストの合計を計算する．どちらがシンプルだろうか？  \n",
        "このように，関数を使うメリットは，コードをスッキリと見通せることにある．そのことにより，次のようなメリットがある：  \n",
        "*   バグの発生を防ぐ\n",
        "  *   同じ処理を何度も書くとプログラムが長くなる\n",
        "  *   長いプログラムはバグ(間違い)の元\n",
        "*   処理の再利用\n",
        "  *   自分が作成した処理を他のプログラムで再利用しやすい\n",
        "  *   他人の書いたコード(「オープンソース」など)を容易に使える"
      ]
    },
    {
      "cell_type": "markdown",
      "metadata": {
        "id": "JEPss1GwZhX3"
      },
      "source": [
        "A) 関数を使わないで合計の計算  \n",
        "```\n",
        "scores = [88,21,65,160,57]\n",
        "total = 0\n",
        "for item in scores:\n",
        "   total += scores[item]\n",
        "print('合計は {}'.format(total))\n",
        "```\n",
        "B) 関数sumを使った合計の計算\n",
        "```\n",
        "scores = [88,21,65,160,57]\n",
        "total = sum(scores)\n",
        "print('合計は {}'.format(total))\n",
        "```"
      ]
    },
    {
      "cell_type": "markdown",
      "metadata": {
        "id": "e9BRrn2ocCmK"
      },
      "source": [
        "**この章では，関数を「自作」する方法を学ぶ．**  \n",
        "コード全体を，機能により分割して複数の関数に分け，それぞれの処理を担当させる．"
      ]
    },
    {
      "cell_type": "markdown",
      "metadata": {
        "id": "zXRSt8QpcbM8"
      },
      "source": [
        "## 1.2.5 関数の定義と呼び出し\n",
        "自作の関数を使うには，まずその関数を「定義」し，「呼び出す」必要がある．\n",
        "*   定義：呼び出されたらどのような動作を行うかを記述し，名前を付ける\n",
        "*   呼び出し：関数の名前を記述して関数を呼び出し，定義された動作が実行される．\n",
        "  \n",
        "**定義**  \n",
        "インデントに注意！！\n",
        "```\n",
        "def hello():\n",
        "    print('こんにちは．工藤です．')\n",
        "```\n",
        "**呼び出し**\n",
        "```\n",
        "hello()\n",
        "```\n",
        "合わせると，次のように記載する．  \n",
        "```\n",
        "# 関数の定義\n",
        "def hello():\n",
        "    print('こんにちは．工藤です．')\n",
        "# 関数の呼び出し\n",
        "hello()\n",
        "```\n",
        "実行してみよう．なお，#からはじまるコメント分は省略可．\n"
      ]
    },
    {
      "cell_type": "code",
      "source": [],
      "metadata": {
        "id": "giTSw5TnQnG1"
      },
      "execution_count": null,
      "outputs": []
    },
    {
      "cell_type": "markdown",
      "metadata": {
        "id": "ppMtwQUVeOw0"
      },
      "source": [
        "このように，Pythonでの関数の定義(最もシンプルな形式)は次の通りである．\n",
        "```\n",
        "def 関数名():\n",
        "    処理\n",
        "```\n",
        "defは，英語のdefine(定義する)の略．関数名の後の括弧は丸括弧であることに注意．  \n"
      ]
    },
    {
      "cell_type": "markdown",
      "source": [
        "## 1.2.6 予約語  \n",
        "  \n",
        "既にPythonが備えている関数などと同じ名前の関数(予約語)(例：input,sum,def,return)を作らないように気をつける．"
      ],
      "metadata": {
        "id": "ZagA2CPUQ06B"
      }
    },
    {
      "cell_type": "markdown",
      "metadata": {
        "id": "3EVH62SyhKiT"
      },
      "source": [
        "## 1.2.7 引数と戻り値\n",
        "先程の例と異なり，関数が値を受け取ったり，逆に値を元に返すことについて学ぶ．  \n",
        "まとめると：\n",
        "*   呼び出し元→引数→関数\n",
        "*   呼び出し元←戻り値(返値)←関数"
      ]
    },
    {
      "cell_type": "markdown",
      "metadata": {
        "id": "qlX0Ypsjn0qc"
      },
      "source": [
        "returnという構文が登場する．returnのあとに呼び出し元に返す値(変数など)が記載される．  \n",
        "なお，下記の構文では引数が複数ある例を示しているが，もちろん1個でもよい．引数なしでも成り立つが，あまり実用的ではない．\n",
        "  \n",
        "＜関数の定義＞\n",
        "```\n",
        "def 関数名(引数1,引数2,...,引数n):\n",
        "    処理\n",
        "    return 戻り値\n",
        "```\n",
        "＜関数の呼び出し＞\n",
        "```\n",
        "変数 = 関数名(引数1,引数2,...,引数n)\n",
        "```\n"
      ]
    },
    {
      "cell_type": "markdown",
      "metadata": {
        "id": "PWTs5HRDoptn"
      },
      "source": [
        "BMIを計算する関数bmiを入力し，実行してみよう．  \n",
        "計算方法は「変数」のところで既に紹介している．関数bmiは第1引数を身長(cm)，第2引数を体重(kg)として，bmiを計算し，呼び出し元に戻す．  \n",
        "\n",
        "＜関数の定義＞\n",
        "```\n",
        "def bmi(height, weight):\n",
        "    return weight / (height/100.0) ** 2\n",
        "```\n",
        "＜関数の呼び出し＞\n",
        "```\n",
        "print(bmi(188.0,104.0))\n",
        "```\n",
        "実際にコードを書くときは両方を合わせて次のようになる．```bmi(188.0,104.0)```の188.0,104.0を任意の数字にしてみよう．  \n",
        "```\n",
        "def bmi(height, weight):\n",
        "    return weight / (height/100.0) ** 2\n",
        "\n",
        "print(bmi(188.0,104.0))\n",
        "```\n",
        "なお，読みやすくするためにこの例では関数の定義と関数の呼び出しの間に1行の空行があるが，無くても問題ない．"
      ]
    },
    {
      "cell_type": "code",
      "metadata": {
        "id": "TX7xiSEopH1S"
      },
      "source": [],
      "execution_count": null,
      "outputs": []
    },
    {
      "cell_type": "markdown",
      "metadata": {
        "id": "Gfx9QA7DAS1j"
      },
      "source": [
        "# 5.1 モジュールの使い方\n",
        "**Pythonのむちゃくちゃ便利な点は，この「モジュール」にあるといってもよい**．つまり，標準では装備されていない便利機能を追加可能な点である．もちろん，C言語など他の言語でも「ライブラリ」という方法で機能拡張できたが，Pythonはそれがもっとお気軽にでき，最新の機械学習の機能すら手に入れることができる．"
      ]
    },
    {
      "cell_type": "markdown",
      "metadata": {
        "id": "fTQB9AwQBAXX"
      },
      "source": [
        "## 5.1.1 標準ライブラリ  \n",
        "教科書では次の標準ライブラリが紹介されている．  \n",
        "\n",
        "|モジュール|用途|\n",
        "|---|---|\n",
        "|math|数学計算|\n",
        "|random|乱数|\n",
        "|datetime|日付と時間|\n",
        "|email|電子メール|\n",
        "|csv|csvファイル|\n",
        "|json|JSONファイル|\n",
        "|os|OS操作|\n",
        "\n",
        "ちなみにcsvファイルとは，データをカンマ区切りで区切ったテキストファイルのことである．たとえば：  \n",
        "```\n",
        "吉野屋,牛丼\n",
        "いきなりステーキ,ステーキ\n",
        "日高屋,中華\n",
        "```\n",
        "JSONファイルもまた，データを記述したテキストファイルであるが，最近PythonやJavaScriptなどでサポートされるようになり，流行のフォーマットである．たとえば先ほどの例では次のようになる：\n",
        "```\n",
        "{\n",
        "  \"吉野屋\":\"牛丼\",\n",
        "  \"いきなりステーキ\":\"ステーキ\",\n",
        "  \"日高屋\":\"中華\"\n",
        "}\n",
        "```\n",
        "\n",
        "ところで，「標準ライブラリ」があるということは，「標準ではないライブラリ」があるということになる．それらを「外部ライブラリ」とよび，AI系など更に高等な機能を実現することができる．"
      ]
    },
    {
      "cell_type": "markdown",
      "metadata": {
        "id": "dHG4qhc-DXOh"
      },
      "source": [
        "## 5.1.2モジュールの取り込み(インポート)  \n",
        "モジュールを使うには，取り込み(import)が必要である．詳細は置いておき，とりあえずこのコードを入力し実行してみよう．  \n",
        "順に：  \n",
        "* sqrt():平方根\n",
        "* pi:円周率\n",
        "* sin():sin関数\n",
        "* cos():cos関数\n",
        "* log(a,b):bを底とするaの対数  \n",
        "  \n",
        "なお，角度関係は度ではなくラジアン単位であることに注意する．  \n",
        "```\n",
        "import math\n",
        "\n",
        "print(math.sqrt(2))\n",
        "print(math.pi)\n",
        "print(math.sin(math.pi/4))\n",
        "print(math.cos(0))\n",
        "print(math.log(32,2))\n",
        "```"
      ]
    },
    {
      "cell_type": "code",
      "metadata": {
        "id": "7zWTK9PEAxlC"
      },
      "source": [],
      "execution_count": null,
      "outputs": []
    },
    {
      "cell_type": "markdown",
      "metadata": {
        "id": "3BjXea84D3mL"
      },
      "source": [
        "最初の行に**import**というキーワードがあるが，これでmathという数学計算のモジュールを取り込んでいる．  \n",
        "モジュールには変数(例：円周率)と関数がある．    \n",
        "一般的には，  \n",
        "  \n",
        "**モジュールを取り込む**\n",
        "```\n",
        "import モジュール\n",
        "```\n",
        "**モジュール内の変数(一般的には数学・物理定数)を参照する**\n",
        "```\n",
        "モジュール名.変数名\n",
        "```\n",
        "**モジュール内の関数を呼び出す**\n",
        "```\n",
        "モジュール名.関数名(引数,...)\n",
        "```\n",
        "である．"
      ]
    },
    {
      "cell_type": "markdown",
      "metadata": {
        "id": "NvahqJbzGS8R"
      },
      "source": [
        "cos(60°)を計算してみよう．度をラジアンに変換する必要があるので，関数radiansを使う．\n",
        "```\n",
        "import math\n",
        "x = math.cos(math.radians(60))\n",
        "print(x)\n",
        "```\n",
        "答えは0.5になる(計算誤差の影響でぴったりにはならない)．"
      ]
    },
    {
      "cell_type": "code",
      "metadata": {
        "id": "nd6eZjkuFD-5"
      },
      "source": [],
      "execution_count": null,
      "outputs": []
    },
    {
      "cell_type": "markdown",
      "metadata": {
        "id": "4uBXsEiTHugp"
      },
      "source": [
        "## 5.1.3 from(特定の変数や関数だけを取り込む)**＜解説のみ＞**    \n",
        "  \n",
        "いちいち**math**.piとか**math**.sinと書くのが面倒な場合，mathを省略する方法がある．\n",
        "```\n",
        "from モジュール名 import 変数名(または関数名)\n",
        "```\n",
        "と記述する．  \n",
        "たとえば\n",
        "```\n",
        "import math\n",
        "\n",
        "print(math.sqrt(2))\n",
        "print(math.pi)\n",
        "print(math.sin(math.pi/4))\n",
        "print(math.cos(0))\n",
        "print(math.log(32,2))\n",
        "```\n",
        "は，次のように書き換えられる．    \n",
        "```\n",
        "from math import sqrt\n",
        "from math import pi\n",
        "from math import sin\n",
        "from math import cos\n",
        "from math import log\n",
        "\n",
        "print(sqrt(2))\n",
        "print(pi)\n",
        "print(sin(pi/4))\n",
        "print(cos(0))\n",
        "print(log(32,2))\n",
        "```\n",
        "あるいはこう．  \n",
        "```\n",
        "from math import sqrt,pi,sin,cos,log\n",
        "\n",
        "print(sqrt(2))\n",
        "print(pi)\n",
        "print(sin(pi/4))\n",
        "print(cos(0))\n",
        "print(log(32,2))\n",
        "```\n",
        "あくまでもfromを使って使いたい関数や定数を一つ一つ指名する必要があることに注意してほしい．  \n",
        "  \n",
        "更に面倒な場合，ワイルドカード * を使う方法がある．\n",
        "```\n",
        "from math import *\n",
        "\n",
        "print(sqrt(2))\n",
        "print(pi)\n",
        "print(sin(pi/4))\n",
        "print(cos(0))\n",
        "print(log(32,2))\n",
        "```\n",
        "この場合は，モジュールmathにある関数や定数がすべて省略可能である．"
      ]
    },
    {
      "cell_type": "markdown",
      "metadata": {
        "id": "F6Gg20vtItUh"
      },
      "source": [
        "このfromを使う方法には利点と注意点がある．  \n",
        "利点としては，記述が簡単になると言える．たとえば円周率はmath.piではなくpiと書くだけでよくなる．  \n",
        "注意点としては，\n",
        "\n",
        "*   選んだ変数(関数)以外が使えない（先ほどの例では，ceilは使えない）\n",
        "*   簡単になるが故に，モジュールから取り込んだことすら忘れてしまい，うっかり同じ名前の変数(関数)を定義してしまう．\n",
        "  \n",
        "このような理由から，とくにワイルドカードを使用する方法はあまり推奨されていないが，便利あるために現実には多くのコードで使用されている．\n",
        "\n"
      ]
    },
    {
      "cell_type": "markdown",
      "metadata": {
        "id": "BVC3bSo3G7KX"
      },
      "source": [
        "## 5.1.4 as(取り込んだモジュールに別の名前を付ける)**＜解説のみ＞**  \n",
        "モジュール名が長過ぎるなどの理由から別の名前をつけたい場合，asを利用することが多い．  \n",
        "```\n",
        "import モジュール名 as 別名\n",
        "```\n",
        "例えばAI系でほぼ必ず利用される**numpy**というモジュールであるが，\n",
        "```\n",
        "import numpy as np\n",
        "```\n",
        "**np**と省略されることが暗黙の了解になっている．"
      ]
    }
  ]
}