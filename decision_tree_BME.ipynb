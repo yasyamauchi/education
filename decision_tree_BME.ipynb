{
  "nbformat": 4,
  "nbformat_minor": 0,
  "metadata": {
    "colab": {
      "provenance": [],
      "toc_visible": true,
      "gpuType": "T4",
      "authorship_tag": "ABX9TyO4D6pAvs1VugjN8eCgGjYI",
      "include_colab_link": true
    },
    "kernelspec": {
      "name": "python3",
      "display_name": "Python 3"
    },
    "language_info": {
      "name": "python"
    },
    "accelerator": "GPU"
  },
  "cells": [
    {
      "cell_type": "markdown",
      "metadata": {
        "id": "view-in-github",
        "colab_type": "text"
      },
      "source": [
        "<a href=\"https://colab.research.google.com/github/yasyamauchi/education/blob/main/decision_tree_BME.ipynb\" target=\"_parent\"><img src=\"https://colab.research.google.com/assets/colab-badge.svg\" alt=\"Open In Colab\"/></a>"
      ]
    },
    {
      "cell_type": "markdown",
      "source": [
        "# 決定木 (けっていぎ，decision tree)  \n",
        "  \n",
        "[Google Machine Learning: 上級コース: デシジョンフォレスト](https://developers.google.com/machine-learning/decision-forests/practice?hl=ja)より  "
      ],
      "metadata": {
        "id": "ZRC0RQrO7BpQ"
      }
    },
    {
      "cell_type": "markdown",
      "source": [
        "TF-DF（TensorFlow デシジョン フォレスト）ライブラリを使用する．"
      ],
      "metadata": {
        "id": "2RHGB-FV7fTc"
      }
    },
    {
      "cell_type": "markdown",
      "source": [
        "## 準備  \n",
        "  \n",
        "  メッセージがたくさん出るが気にしない．"
      ],
      "metadata": {
        "id": "yB3ahEEf7mFw"
      }
    },
    {
      "cell_type": "code",
      "execution_count": null,
      "metadata": {
        "id": "wSN7UlNt4vDC"
      },
      "outputs": [],
      "source": [
        "!pip install tensorflow_decision_forests"
      ]
    },
    {
      "cell_type": "code",
      "source": [
        "import numpy as np\n",
        "import pandas as pd\n",
        "import tensorflow_decision_forests as tfdf"
      ],
      "metadata": {
        "id": "9nVAznA05HiY"
      },
      "execution_count": null,
      "outputs": []
    },
    {
      "cell_type": "markdown",
      "source": [
        "## データの読み込み  \n",
        "  \n",
        "  この例では\"Palmer Penguins\"データセットを使用する．  \n",
        "### データの中身  \n",
        "3種類のペンギン(合計344羽)  \n",
        "* チンストラップ(Chinstrap)\n",
        "* ジェンツー(Gentoo)\n",
        "* アデリー(Adelie)  \n",
        "  \n",
        "の，次のデータを使用する．  \n",
        "* 生息地 (island)\n",
        "* くちばしの長さ (bill_length)\n",
        "* くちばしの上下幅 (bill_depth)\n",
        "* 羽の長さ (flipper_length)\n",
        "* 体重 (body_mass)\n",
        "* 性別 (sex)\n",
        "* 誕生年？ (year)  \n",
        "  \n",
        "最初の3羽のデータを表示する．"
      ],
      "metadata": {
        "id": "9zDu5q857xf0"
      }
    },
    {
      "cell_type": "code",
      "source": [
        "path = \"https://storage.googleapis.com/download.tensorflow.org/data/palmer_penguins/penguins.csv\"\n",
        "pandas_dataset = pd.read_csv(path)\n",
        "\n",
        "# Display the first 3 examples.\n",
        "pandas_dataset.head(3)"
      ],
      "metadata": {
        "id": "NJKUmB-q5Ivr"
      },
      "execution_count": null,
      "outputs": []
    },
    {
      "cell_type": "markdown",
      "source": [
        "ラベルを確認する．文字列のままではわかりづらいので，ペンギンの種については整数ラベルに変換する．"
      ],
      "metadata": {
        "id": "4n8CLbpp-AAy"
      }
    },
    {
      "cell_type": "code",
      "source": [
        "label = \"species\"\n",
        "\n",
        "classes = list(pandas_dataset[label].unique())\n",
        "print(f\"Label classes: {classes}\")\n",
        "# >> Label classes: ['Adelie', 'Gentoo', 'Chinstrap']\n",
        "\n",
        "pandas_dataset[label] = pandas_dataset[label].map(classes.index)"
      ],
      "metadata": {
        "id": "zEBLLX345Ln1"
      },
      "execution_count": null,
      "outputs": []
    },
    {
      "cell_type": "markdown",
      "source": [
        "整数に変換した様子を見る．"
      ],
      "metadata": {
        "id": "6rwIP32U_1Xu"
      }
    },
    {
      "cell_type": "code",
      "source": [
        "print(pandas_dataset[label])"
      ],
      "metadata": {
        "id": "suWgUk7k_far"
      },
      "execution_count": null,
      "outputs": []
    },
    {
      "cell_type": "markdown",
      "source": [
        "## 訓練データと検証データに分ける  \n",
        "  \n",
        "344のデータの約1割を検証データに，残りを訓練データに分ける．ランダムに分けるので実行するたびに結果は異なる．"
      ],
      "metadata": {
        "id": "-5jeiwNT-UZv"
      }
    },
    {
      "cell_type": "code",
      "source": [
        "np.random.seed(1)\n",
        "# Use the ~10% of the examples as the testing set\n",
        "# and the remaining ~90% of the examples as the training set.\n",
        "test_indices = np.random.rand(len(pandas_dataset)) < 0.1\n",
        "pandas_train_dataset = pandas_dataset[~test_indices]\n",
        "pandas_test_dataset = pandas_dataset[test_indices]\n",
        "\n",
        "print(\"Training examples: \", len(pandas_train_dataset))\n",
        "# >> Training examples: 309\n",
        "\n",
        "print(\"Testing examples: \", len(pandas_test_dataset))\n",
        "# >> Testing examples: 35"
      ],
      "metadata": {
        "id": "9zPYYhAP5NBz"
      },
      "execution_count": null,
      "outputs": []
    },
    {
      "cell_type": "markdown",
      "source": [
        "## モデルの学習  \n",
        "  \n",
        "デフォルト値で行う．学習はすぐ終わる．"
      ],
      "metadata": {
        "id": "HG4ssIWm_-tw"
      }
    },
    {
      "cell_type": "code",
      "source": [
        "tf_train_dataset = tfdf.keras.pd_dataframe_to_tf_dataset(pandas_train_dataset, label=label)\n",
        "model = tfdf.keras.CartModel()\n",
        "model.fit(tf_train_dataset)"
      ],
      "metadata": {
        "id": "xjiQlEGv5O5Q"
      },
      "execution_count": null,
      "outputs": []
    },
    {
      "cell_type": "markdown",
      "source": [
        "## モデルの評価\n",
        "  \n",
        "  まず決定木を表示する．見方は次の通り．  \n",
        "* 左から右に見る\n",
        "* 赤(0)がアデリー，青(1)がジェンツー，緑(2)がチンストラップ\n",
        "* 分類された結果が棒グラフで表示されており，その上に条件が示されている．例えば最初の**flipper_length_mm >= 206.500**は**「羽の長さが206.5mm以上かどうか」**を意味する．Yesが上でNoが下．\n",
        "* マウスを用いると，詳細な数字が表示される．"
      ],
      "metadata": {
        "id": "TKvegn9kAXNU"
      }
    },
    {
      "cell_type": "code",
      "source": [
        "tfdf.model_plotter.plot_model_in_colab(model, max_depth=10)"
      ],
      "metadata": {
        "id": "oiEpoImD5QLl"
      },
      "execution_count": null,
      "outputs": []
    },
    {
      "cell_type": "markdown",
      "source": [
        "精度を計算する．訓練データ・検証データで共に97％程度となる．実際の精度は実行するたびにわずかに異なる(理由は考えること)．"
      ],
      "metadata": {
        "id": "ya2wPntjCQet"
      }
    },
    {
      "cell_type": "code",
      "source": [
        "model.compile(\"accuracy\")\n",
        "print(\"Train evaluation: \", model.evaluate(tf_train_dataset, return_dict=True))\n",
        "# >> Train evaluation:  {'loss': 0.0, 'accuracy': 0.96116}\n",
        "\n",
        "tf_test_dataset = tfdf.keras.pd_dataframe_to_tf_dataset(pandas_test_dataset, label=label)\n",
        "print(\"Test evaluation: \", model.evaluate(tf_test_dataset, return_dict=True))\n",
        "# >> Test evaluation:  {'loss': 0.0, 'accuracy': 0.97142}"
      ],
      "metadata": {
        "id": "kRte2MRw5TL2"
      },
      "execution_count": null,
      "outputs": []
    },
    {
      "cell_type": "markdown",
      "source": [
        "## モデルの改良(Keras tunerの利用)"
      ],
      "metadata": {
        "id": "OZUwpm8WDPBd"
      }
    },
    {
      "cell_type": "markdown",
      "source": [
        "### Keras-tunerのインストール"
      ],
      "metadata": {
        "id": "YBkFjFEJDa00"
      }
    },
    {
      "cell_type": "code",
      "source": [
        "!pip install keras-tuner"
      ],
      "metadata": {
        "id": "4sLMuT0I5WSl"
      },
      "execution_count": null,
      "outputs": []
    },
    {
      "cell_type": "markdown",
      "source": [
        "### 最適化するパラメータの指定\n",
        "  \n",
        "次のパラメータをいくつかの候補を設けて検討する\n",
        "* 決定木の深さ (min_examples)\n",
        "* 検証データの割合 (validation_ratio)"
      ],
      "metadata": {
        "id": "jnbyfroeDhqz"
      }
    },
    {
      "cell_type": "code",
      "source": [
        "import keras_tuner as kt\n",
        "\n",
        "def build_model(hp):\n",
        "  model = tfdf.keras.CartModel(\n",
        "      min_examples=hp.Choice(\"min_examples\",\n",
        "          # Try four possible values for \"min_examples\" hyperparameter.\n",
        "          # min_examples=10 would limit the growth of the decision tree,\n",
        "          # while min_examples=1 would lead to deeper decision trees.\n",
        "         [1, 2, 5, 10]),\n",
        "      validation_ratio=hp.Choice(\"validation_ratio\",\n",
        "         # Three possible values for the \"validation_ratio\" hyperparameter.\n",
        "         [0.0, 0.05, 0.10]),\n",
        "      )\n",
        "  model.compile(\"accuracy\")\n",
        "  return model\n",
        "\n",
        "tuner = kt.RandomSearch(\n",
        "    build_model,\n",
        "    objective=\"val_accuracy\",\n",
        "    max_trials=10,\n",
        "    directory=\"/tmp/tuner\",\n",
        "    project_name=\"tune_cart\")\n",
        "\n",
        "tuner.search(x=tf_train_dataset, validation_data=tf_test_dataset)\n",
        "best_model = tuner.get_best_models()[0]\n",
        "\n",
        "print(\"Best hyperparameters: \", tuner.get_best_hyperparameters()[0].values)\n",
        "# >> Best hyperparameters:  {'min_examples': 2, 'validation_ratio': 0.0}"
      ],
      "metadata": {
        "id": "3BldxH6n5X0e"
      },
      "execution_count": null,
      "outputs": []
    },
    {
      "cell_type": "markdown",
      "source": [
        "### 改良したモデルの評価"
      ],
      "metadata": {
        "id": "ed69VSX9ERh0"
      }
    },
    {
      "cell_type": "markdown",
      "source": [
        "残念ながら精度はさほど上がっていない．決定木は以前よりも深くなっている．"
      ],
      "metadata": {
        "id": "HiFtxMXUEhKl"
      }
    },
    {
      "cell_type": "code",
      "source": [
        "model = tfdf.keras.CartModel(min_examples=2, validation_ratio=0.0)\n",
        "model.fit(tf_train_dataset)\n",
        "\n",
        "model.compile(\"accuracy\")\n",
        "print(\"Test evaluation: \", model.evaluate(tf_test_dataset, return_dict=True))\n",
        "# >> Test evaluation:  {'loss': 0.0, 'accuracy': 1.0}"
      ],
      "metadata": {
        "id": "JfvaHeOm5ZHj"
      },
      "execution_count": null,
      "outputs": []
    },
    {
      "cell_type": "code",
      "source": [
        "tfdf.model_plotter.plot_model_in_colab(model, max_depth=10)"
      ],
      "metadata": {
        "id": "T1OcCPNX5aHG"
      },
      "execution_count": null,
      "outputs": []
    },
    {
      "cell_type": "markdown",
      "source": [
        "# ランダムフォレスト (random forest)\n",
        "  \n",
        "  [In Depth: Decision Trees and Random Forests](https://colab.research.google.com/github/jakevdp/PythonDataScienceHandbook/blob/master/notebooks/05.08-Random-Forests.ipynb#scrollTo=hxFuYYC3G3eL)より  \n",
        "  \n",
        "  この例では決定木の例と異なり，scikit-learn(sklearn)を使用するので，コードは異なる．"
      ],
      "metadata": {
        "id": "s2-wWc_qJp_e"
      }
    },
    {
      "cell_type": "markdown",
      "source": [
        "## 決定木と過学習"
      ],
      "metadata": {
        "id": "HuKGnSdSJv3H"
      }
    },
    {
      "cell_type": "markdown",
      "source": [
        "分類用データを準備する．scikit-learnで4クラス・300個の二次元データを人工的に発生させる．"
      ],
      "metadata": {
        "id": "5Lhk81GHJ7F4"
      }
    },
    {
      "cell_type": "code",
      "source": [
        "%matplotlib inline\n",
        "import numpy as np\n",
        "import matplotlib.pyplot as plt\n",
        "plt.style.use('seaborn-whitegrid')"
      ],
      "metadata": {
        "id": "YvvPArdyIkzA"
      },
      "execution_count": null,
      "outputs": []
    },
    {
      "cell_type": "code",
      "source": [
        "from sklearn.datasets import make_blobs\n",
        "\n",
        "X, y = make_blobs(n_samples=300, centers=4,\n",
        "                  random_state=0, cluster_std=1.0)\n",
        "plt.scatter(X[:, 0], X[:, 1], c=y, s=50, cmap='rainbow');"
      ],
      "metadata": {
        "id": "ghP7KbIiInur"
      },
      "execution_count": null,
      "outputs": []
    },
    {
      "cell_type": "markdown",
      "source": [
        "決定木でモデルを作成する．"
      ],
      "metadata": {
        "id": "7Sgh-x9aKN5r"
      }
    },
    {
      "cell_type": "code",
      "source": [
        "from sklearn.tree import DecisionTreeClassifier\n",
        "tree = DecisionTreeClassifier().fit(X, y)"
      ],
      "metadata": {
        "id": "T5tNqi3SJdFQ"
      },
      "execution_count": null,
      "outputs": []
    },
    {
      "cell_type": "code",
      "source": [
        "def visualize_classifier(model, X, y, ax=None, cmap='rainbow'):\n",
        "    ax = ax or plt.gca()\n",
        "\n",
        "    # Plot the training points\n",
        "    ax.scatter(X[:, 0], X[:, 1], c=y, s=30, cmap=cmap,\n",
        "               clim=(y.min(), y.max()), zorder=3)\n",
        "    ax.axis('tight')\n",
        "    ax.axis('off')\n",
        "    xlim = ax.get_xlim()\n",
        "    ylim = ax.get_ylim()\n",
        "\n",
        "    # fit the estimator\n",
        "    model.fit(X, y)\n",
        "    xx, yy = np.meshgrid(np.linspace(*xlim, num=200),\n",
        "                         np.linspace(*ylim, num=200))\n",
        "    Z = model.predict(np.c_[xx.ravel(), yy.ravel()]).reshape(xx.shape)\n",
        "\n",
        "    # Create a color plot with the results\n",
        "    n_classes = len(np.unique(y))\n",
        "    contours = ax.contourf(xx, yy, Z, alpha=0.3,\n",
        "                           levels=np.arange(n_classes + 1) - 0.5,\n",
        "                           cmap=cmap, zorder=1)\n",
        "\n",
        "    ax.set(xlim=xlim, ylim=ylim)"
      ],
      "metadata": {
        "id": "AuxALGx4JeQx"
      },
      "execution_count": null,
      "outputs": []
    },
    {
      "cell_type": "markdown",
      "source": [
        "学習結果を見てみよう．"
      ],
      "metadata": {
        "id": "yC_EK9luLBqV"
      }
    },
    {
      "cell_type": "code",
      "source": [
        "visualize_classifier(DecisionTreeClassifier(), X, y)"
      ],
      "metadata": {
        "id": "eRjZMVCQJiVF"
      },
      "execution_count": null,
      "outputs": []
    },
    {
      "cell_type": "markdown",
      "source": [
        "おおむね正しく分類されているが，一部分で明らかな過学習(恣意的に見える分類区画)があるのが分かるだろうか．決定木は深くなれば深くなるほど精度は向上するが，このような過学習が発生する．"
      ],
      "metadata": {
        "id": "mJhk5I0hLSVZ"
      }
    },
    {
      "cell_type": "markdown",
      "source": [
        "## ランダムフォレストの適用"
      ],
      "metadata": {
        "id": "g86TuK5LLowX"
      }
    },
    {
      "cell_type": "markdown",
      "source": [
        "ここでは「バギング」(bagging)という方法を用いる．バギングはデータの一部分を抽出して学習することを繰り返し(ランダムな決定木)，最後に平均化する方法である．  \n",
        "次の例では決定木の数を100として，各々で全体の8割のデータをランダムに抽出する．"
      ],
      "metadata": {
        "id": "efjburPnMyWJ"
      }
    },
    {
      "cell_type": "code",
      "source": [
        "from sklearn.tree import DecisionTreeClassifier\n",
        "from sklearn.ensemble import BaggingClassifier\n",
        "\n",
        "tree = DecisionTreeClassifier()\n",
        "bag = BaggingClassifier(tree, n_estimators=100, max_samples=0.8,\n",
        "                        random_state=1)\n",
        "\n",
        "bag.fit(X, y)\n",
        "visualize_classifier(bag, X, y)"
      ],
      "metadata": {
        "id": "iyvWbAATLq8_"
      },
      "execution_count": null,
      "outputs": []
    },
    {
      "cell_type": "markdown",
      "source": [
        "精度を求める．分類誤りは1個ぐらいのはず．"
      ],
      "metadata": {
        "id": "rmRFTmxxQ2Ja"
      }
    },
    {
      "cell_type": "code",
      "source": [
        "z = bag.predict(X)\n",
        "nerror = 0\n",
        "for i in range(len(y)):\n",
        "  if y[i] != z[i]:\n",
        "    nerror += 1\n",
        "print(\"accuracy={}\".format(1-nerror/len(y)))"
      ],
      "metadata": {
        "id": "RErlGrnfPPLY"
      },
      "execution_count": null,
      "outputs": []
    }
  ]
}