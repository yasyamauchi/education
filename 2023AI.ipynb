{
  "nbformat": 4,
  "nbformat_minor": 0,
  "metadata": {
    "colab": {
      "provenance": [],
      "authorship_tag": "ABX9TyPsp8t/O+IKoxZ0yulmwPXq",
      "include_colab_link": true
    },
    "kernelspec": {
      "name": "python3",
      "display_name": "Python 3"
    },
    "language_info": {
      "name": "python"
    }
  },
  "cells": [
    {
      "cell_type": "markdown",
      "metadata": {
        "id": "view-in-github",
        "colab_type": "text"
      },
      "source": [
        "<a href=\"https://colab.research.google.com/github/yasyamauchi/education/blob/main/2023AI.ipynb\" target=\"_parent\"><img src=\"https://colab.research.google.com/assets/colab-badge.svg\" alt=\"Open In Colab\"/></a>"
      ]
    },
    {
      "cell_type": "markdown",
      "source": [
        "# 2023年 人工知能 補助教材  \n",
        "### 東洋大学理工学部生体医工学科"
      ],
      "metadata": {
        "id": "FjrN8zP10tX-"
      }
    },
    {
      "cell_type": "markdown",
      "source": [
        "# Google Colabの練習  \n",
        "角括弧[  ]をクリックして実行(その日の初回は時間がかかる)  "
      ],
      "metadata": {
        "id": "qUd7M-NiOQAV"
      }
    },
    {
      "cell_type": "code",
      "source": [
        "print(\"こんにちは！\")"
      ],
      "metadata": {
        "id": "nRb06ttoOTqp"
      },
      "execution_count": null,
      "outputs": []
    },
    {
      "cell_type": "markdown",
      "source": [
        "# 3-2 AIと社会"
      ],
      "metadata": {
        "id": "lhDYmqOA4fdh"
      }
    },
    {
      "cell_type": "markdown",
      "source": [
        "## スクレイピングの例"
      ],
      "metadata": {
        "id": "hPUlBs785PWC"
      }
    },
    {
      "cell_type": "code",
      "execution_count": null,
      "metadata": {
        "id": "4bx0l8cY0mI1"
      },
      "outputs": [],
      "source": [
        "import requests\n",
        "response = requests.get('https://www.kantei.go.jp/jp/headline/kansensho/vaccine.html')\n",
        "response.encoding = response.apparent_encoding  # そのままだと文字化けするので対策\n",
        "text = response.text\n",
        "ippan_start = text.find('総接種回数')             # 「総接種接種」という文字を探す\n",
        "number_start = text.find('bold',ippan_start)+7     # 接種者数の数字の最初の位置を探す\n",
        "number_end = text.find('<',number_start)        # 接種者数の数字の終わる位置を探す\n",
        "print(text[number_start:number_end])            # 接種者数を表示する"
      ]
    },
    {
      "cell_type": "markdown",
      "source": [
        "## オープンソースデータの例"
      ],
      "metadata": {
        "id": "C1O4AMXA5TbA"
      }
    },
    {
      "cell_type": "markdown",
      "source": [
        "* PhysioNet https://www.physionet.org  \n",
        "生理学的データ（多くはECG）を数多く集めたデータセット  \n",
        "* HealthData.gov https://healthdata.gov  \n",
        "米国の医療データ(またはそこへのリンク)  \n",
        "* e-GOV data portal https://data.e-gov.go.jp/info/ja  \n",
        "日本の行政機関のオープンデータのポータルサイト\n",
        "\n"
      ],
      "metadata": {
        "id": "jZQIJzHN5mkb"
      }
    },
    {
      "cell_type": "markdown",
      "source": [
        "# 3-3 機械学習の基礎と展望(前半：教師あり学習)"
      ],
      "metadata": {
        "id": "AlK8TJZzRjve"
      }
    },
    {
      "cell_type": "markdown",
      "source": [
        "グラフで日本語を表示するために一度だけ実行"
      ],
      "metadata": {
        "id": "wMcFOCQzUPjJ"
      }
    },
    {
      "cell_type": "code",
      "source": [
        "!pip install japanize-matplotlib"
      ],
      "metadata": {
        "id": "hRF0W45DT6QV"
      },
      "execution_count": null,
      "outputs": []
    },
    {
      "cell_type": "markdown",
      "source": [
        "## 例題：A社の複数の商品について，広告費(cost)と売上(sales)のデータを得た\n",
        "広告費から売上を予測したい．"
      ],
      "metadata": {
        "id": "Wh6Jupe7UWvW"
      }
    },
    {
      "cell_type": "markdown",
      "source": [
        "### まずデータを可視化する"
      ],
      "metadata": {
        "id": "WVleaCHVZeaw"
      }
    },
    {
      "cell_type": "code",
      "source": [
        "import numpy as np\n",
        "import matplotlib.pyplot as plt\n",
        "import japanize_matplotlib\n",
        "\n",
        "# xが広告費，yが売上高\n",
        "x = [173,\t191,\t134,\t100,\t117,\t112,\t35,\t87,\t203,\t50,\t26,\t163,\t270,\t160,\t160,\t60,\t199,\t237,\t215,\t145]\n",
        "y = [1497,\t1488,\t1176,\t1002,\t1155,\t1161,\t933,\t930,\t1554,\t978,\t999,\t1278,\t1971,\t1203,\t1284,\t960,\t1569,\t1779,\t1614,\t1230]\n",
        "\n",
        "# 散布図を描画\n",
        "plt.grid()\n",
        "plt.xlim(0,300)\n",
        "plt.xlabel(\"広告費(x)\")\n",
        "plt.ylabel(\"売上高(y)\")\n",
        "plt.scatter(x, y)"
      ],
      "metadata": {
        "id": "pJCuj_-u1Z2M",
        "outputId": "2ede75ce-7a28-4ea2-fee4-ccde4150cef3",
        "colab": {
          "base_uri": "https://localhost:8080/",
          "height": 466
        }
      },
      "execution_count": 29,
      "outputs": [
        {
          "output_type": "execute_result",
          "data": {
            "text/plain": [
              "<matplotlib.collections.PathCollection at 0x7fd61fd3c3a0>"
            ]
          },
          "metadata": {},
          "execution_count": 29
        },
        {
          "output_type": "display_data",
          "data": {
            "text/plain": [
              "<Figure size 640x480 with 1 Axes>"
            ],
            "image/png": "[encoded data removed]"
          },
          "metadata": {}
        }
      ]
    },
    {
      "cell_type": "markdown",
      "source": [
        "### 線形回帰モデル"
      ],
      "metadata": {
        "id": "HgId-1cyZYPS"
      }
    },
    {
      "cell_type": "markdown",
      "source": [
        "y = ax + bのaとbを変えて，赤い線をデータに近づけてみよう．  \n",
        "誤差Jがどうなるか観察しよう．"
      ],
      "metadata": {
        "id": "uRHVNH_rZKGc"
      }
    },
    {
      "cell_type": "code",
      "source": [
        "fig, axe = plt.subplots()\n",
        "axe.set_xlabel('広告費(x)')  # x軸ラベル\n",
        "axe.set_ylabel('売上高(y)')  # y軸ラベル\n",
        "\n",
        "a = 2    # **********この数字を適当に変えてみる**********\n",
        "b = 800  # **********この数字を適当に変えてみる**********\n",
        "\n",
        "ylin = [a*i + b for i in x]  # y = ax + b\n",
        "\n",
        "# 誤差を合計する\n",
        "J = 0\n",
        "for i in range(len(x)):\n",
        "    J += (ylin[i]-y[i])**2\n",
        "    axe.plot([x[i],x[i]],[y[i],ylin[i]],color=\"g\",linestyle = \"dashed\")\n",
        "print('J={}'.format(J))\n",
        "\n",
        "# グラフの描画\n",
        "axe.grid()            # 罫線\n",
        "axe.set_xlim([0, 300]) # x方向の描画範囲を指定\n",
        "axe.scatter(x,y)\n",
        "axe.plot(x,ylin,color=\"r\")\n",
        "\n",
        "fig.tight_layout()  # レイアウトの設定\n",
        "plt.show()"
      ],
      "metadata": {
        "id": "w80Kic6fSzcj",
        "outputId": "8ecbc56e-a2fb-4a65-b694-94ee8d638ecc",
        "colab": {
          "base_uri": "https://localhost:8080/",
          "height": 504
        }
      },
      "execution_count": 44,
      "outputs": [
        {
          "output_type": "stream",
          "name": "stdout",
          "text": [
            "J=1432989\n"
          ]
        },
        {
          "output_type": "display_data",
          "data": {
            "text/plain": [
              "<Figure size 640x480 with 1 Axes>"
            ],
            "image/png": "[encoded data removed]"
          },
          "metadata": {}
        }
      ]
    },
    {
      "cell_type": "markdown",
      "source": [
        "上の図でaとbを変えながら，誤差(ここではJ)を求めよう"
      ],
      "metadata": {
        "id": "-DQBtbYCZm12"
      }
    },
    {
      "cell_type": "code",
      "source": [
        "J = 0\n",
        "for i in range(len(x)):\n",
        "    J += (ylin[i]-y[i])**2\n",
        "print('J={}'.format(J))"
      ],
      "metadata": {
        "id": "GRzDt4sDVfvs",
        "outputId": "f05c4517-d629-48bd-c05a-1e8dd9b1b687",
        "colab": {
          "base_uri": "https://localhost:8080/"
        }
      },
      "execution_count": 37,
      "outputs": [
        {
          "output_type": "stream",
          "name": "stdout",
          "text": [
            "J=1432989\n"
          ]
        }
      ]
    },
    {
      "cell_type": "code",
      "source": [],
      "metadata": {
        "id": "NEimZ9era65J"
      },
      "execution_count": null,
      "outputs": []
    }
  ]
}