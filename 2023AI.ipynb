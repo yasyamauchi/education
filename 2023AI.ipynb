{
  "nbformat": 4,
  "nbformat_minor": 0,
  "metadata": {
    "colab": {
      "provenance": [],
      "authorship_tag": "ABX9TyOvtrBfMfCLiSuFPAwrllMG",
      "include_colab_link": true
    },
    "kernelspec": {
      "name": "python3",
      "display_name": "Python 3"
    },
    "language_info": {
      "name": "python"
    }
  },
  "cells": [
    {
      "cell_type": "markdown",
      "metadata": {
        "id": "view-in-github",
        "colab_type": "text"
      },
      "source": [
        "<a href=\"https://colab.research.google.com/github/yasyamauchi/education/blob/main/2023AI.ipynb\" target=\"_parent\"><img src=\"https://colab.research.google.com/assets/colab-badge.svg\" alt=\"Open In Colab\"/></a>"
      ]
    },
    {
      "cell_type": "markdown",
      "source": [
        "# 2023年 人工知能 補助教材  \n",
        "### 東洋大学理工学部生体医工学科"
      ],
      "metadata": {
        "id": "FjrN8zP10tX-"
      }
    },
    {
      "cell_type": "markdown",
      "source": [
        "## Google Colabの練習  \n",
        "角括弧[  ]をクリックして実行(その日の初回は時間がかかる)  "
      ],
      "metadata": {
        "id": "qUd7M-NiOQAV"
      }
    },
    {
      "cell_type": "code",
      "source": [
        "print(\"こんにちは！\")"
      ],
      "metadata": {
        "id": "nRb06ttoOTqp"
      },
      "execution_count": null,
      "outputs": []
    },
    {
      "cell_type": "markdown",
      "source": [
        "## 3-2 AIと社会"
      ],
      "metadata": {
        "id": "lhDYmqOA4fdh"
      }
    },
    {
      "cell_type": "markdown",
      "source": [
        "### スクレイピングの例"
      ],
      "metadata": {
        "id": "hPUlBs785PWC"
      }
    },
    {
      "cell_type": "code",
      "execution_count": null,
      "metadata": {
        "id": "4bx0l8cY0mI1"
      },
      "outputs": [],
      "source": [
        "import requests\n",
        "response = requests.get('https://www.kantei.go.jp/jp/headline/kansensho/vaccine.html')\n",
        "response.encoding = response.apparent_encoding  # そのままだと文字化けするので対策\n",
        "text = response.text\n",
        "ippan_start = text.find('総接種回数')             # 「総接種接種」という文字を探す\n",
        "number_start = text.find('bold',ippan_start)+7     # 接種者数の数字の最初の位置を探す\n",
        "number_end = text.find('<',number_start)        # 接種者数の数字の終わる位置を探す\n",
        "print(text[number_start:number_end])            # 接種者数を表示する"
      ]
    },
    {
      "cell_type": "markdown",
      "source": [
        "### オープンソースデータの例"
      ],
      "metadata": {
        "id": "C1O4AMXA5TbA"
      }
    },
    {
      "cell_type": "markdown",
      "source": [
        "* PhysioNet https://www.physionet.org  \n",
        "生理学的データ（多くはECG）を数多く集めたデータセット  \n",
        "* HealthData.gov https://healthdata.gov  \n",
        "米国の医療データ(またはそこへのリンク)  \n",
        "* e-GOV data portal https://data.e-gov.go.jp/info/ja  \n",
        "日本の行政機関のオープンデータのポータルサイト\n",
        "\n"
      ],
      "metadata": {
        "id": "jZQIJzHN5mkb"
      }
    },
    {
      "cell_type": "code",
      "source": [],
      "metadata": {
        "id": "pJCuj_-u1Z2M"
      },
      "execution_count": null,
      "outputs": []
    }
  ]
}