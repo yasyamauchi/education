{
  "nbformat": 4,
  "nbformat_minor": 0,
  "metadata": {
    "colab": {
      "provenance": [],
      "toc_visible": true,
      "authorship_tag": "ABX9TyPFVlIesSzU460imkQkK8Wq",
      "include_colab_link": true
    },
    "kernelspec": {
      "name": "python3",
      "display_name": "Python 3"
    },
    "language_info": {
      "name": "python"
    }
  },
  "cells": [
    {
      "cell_type": "markdown",
      "metadata": {
        "id": "view-in-github",
        "colab_type": "text"
      },
      "source": [
        "<a href=\"https://colab.research.google.com/github/yasyamauchi/education/blob/main/2023AI.ipynb\" target=\"_parent\"><img src=\"https://colab.research.google.com/assets/colab-badge.svg\" alt=\"Open In Colab\"/></a>"
      ]
    },
    {
      "cell_type": "markdown",
      "source": [
        "# 2023年 人工知能 補助教材  \n",
        "### 東洋大学理工学部生体医工学科"
      ],
      "metadata": {
        "id": "FjrN8zP10tX-"
      }
    },
    {
      "cell_type": "markdown",
      "source": [
        "# Google Colabの練習  \n",
        "角括弧[  ]をクリックして実行(その日の初回は時間がかかる)  "
      ],
      "metadata": {
        "id": "qUd7M-NiOQAV"
      }
    },
    {
      "cell_type": "code",
      "source": [
        "print(\"こんにちは！\")"
      ],
      "metadata": {
        "id": "nRb06ttoOTqp"
      },
      "execution_count": null,
      "outputs": []
    },
    {
      "cell_type": "markdown",
      "source": [
        "# 3-2 AIと社会"
      ],
      "metadata": {
        "id": "lhDYmqOA4fdh"
      }
    },
    {
      "cell_type": "markdown",
      "source": [
        "## スクレイピングの例"
      ],
      "metadata": {
        "id": "hPUlBs785PWC"
      }
    },
    {
      "cell_type": "code",
      "execution_count": null,
      "metadata": {
        "id": "4bx0l8cY0mI1"
      },
      "outputs": [],
      "source": [
        "import requests\n",
        "response = requests.get('https://www.kantei.go.jp/jp/headline/kansensho/vaccine.html')\n",
        "response.encoding = response.apparent_encoding  # そのままだと文字化けするので対策\n",
        "text = response.text\n",
        "ippan_start = text.find('総接種回数')             # 「総接種接種」という文字を探す\n",
        "number_start = text.find('bold',ippan_start)+7     # 接種者数の数字の最初の位置を探す\n",
        "number_end = text.find('<',number_start)        # 接種者数の数字の終わる位置を探す\n",
        "print(text[number_start:number_end])            # 接種者数を表示する"
      ]
    },
    {
      "cell_type": "markdown",
      "source": [
        "## オープンソースデータの例"
      ],
      "metadata": {
        "id": "C1O4AMXA5TbA"
      }
    },
    {
      "cell_type": "markdown",
      "source": [
        "* PhysioNet https://www.physionet.org  \n",
        "生理学的データ（多くはECG）を数多く集めたデータセット  \n",
        "* HealthData.gov https://healthdata.gov  \n",
        "米国の医療データ(またはそこへのリンク)  \n",
        "* e-GOV data portal https://data.e-gov.go.jp/info/ja  \n",
        "日本の行政機関のオープンデータのポータルサイト\n",
        "\n"
      ],
      "metadata": {
        "id": "jZQIJzHN5mkb"
      }
    },
    {
      "cell_type": "markdown",
      "source": [
        "# 3-3 機械学習の基礎と展望(前半：教師あり学習)"
      ],
      "metadata": {
        "id": "AlK8TJZzRjve"
      }
    },
    {
      "cell_type": "markdown",
      "source": [
        "グラフで日本語を表示するために一度だけ実行"
      ],
      "metadata": {
        "id": "wMcFOCQzUPjJ"
      }
    },
    {
      "cell_type": "code",
      "source": [
        "!pip install japanize-matplotlib"
      ],
      "metadata": {
        "id": "hRF0W45DT6QV",
        "outputId": "7294d685-5da4-4dda-eb3a-3e70a9176787",
        "colab": {
          "base_uri": "https://localhost:8080/"
        }
      },
      "execution_count": 2,
      "outputs": [
        {
          "output_type": "stream",
          "name": "stdout",
          "text": [
            "Collecting japanize-matplotlib\n",
            "  Downloading japanize-matplotlib-1.1.3.tar.gz (4.1 MB)\n",
            "\u001b[2K     \u001b[90m━━━━━━━━━━━━━━━━━━━━━━━━━━━━━━━━━━━━━━━━\u001b[0m \u001b[32m4.1/4.1 MB\u001b[0m \u001b[31m36.8 MB/s\u001b[0m eta \u001b[36m0:00:00\u001b[0m\n",
            "\u001b[?25h  Preparing metadata (setup.py) ... \u001b[?25l\u001b[?25hdone\n",
            "Requirement already satisfied: matplotlib in /usr/local/lib/python3.10/dist-packages (from japanize-matplotlib) (3.7.1)\n",
            "Requirement already satisfied: contourpy>=1.0.1 in /usr/local/lib/python3.10/dist-packages (from matplotlib->japanize-matplotlib) (1.1.1)\n",
            "Requirement already satisfied: cycler>=0.10 in /usr/local/lib/python3.10/dist-packages (from matplotlib->japanize-matplotlib) (0.12.1)\n",
            "Requirement already satisfied: fonttools>=4.22.0 in /usr/local/lib/python3.10/dist-packages (from matplotlib->japanize-matplotlib) (4.43.1)\n",
            "Requirement already satisfied: kiwisolver>=1.0.1 in /usr/local/lib/python3.10/dist-packages (from matplotlib->japanize-matplotlib) (1.4.5)\n",
            "Requirement already satisfied: numpy>=1.20 in /usr/local/lib/python3.10/dist-packages (from matplotlib->japanize-matplotlib) (1.23.5)\n",
            "Requirement already satisfied: packaging>=20.0 in /usr/local/lib/python3.10/dist-packages (from matplotlib->japanize-matplotlib) (23.2)\n",
            "Requirement already satisfied: pillow>=6.2.0 in /usr/local/lib/python3.10/dist-packages (from matplotlib->japanize-matplotlib) (9.4.0)\n",
            "Requirement already satisfied: pyparsing>=2.3.1 in /usr/local/lib/python3.10/dist-packages (from matplotlib->japanize-matplotlib) (3.1.1)\n",
            "Requirement already satisfied: python-dateutil>=2.7 in /usr/local/lib/python3.10/dist-packages (from matplotlib->japanize-matplotlib) (2.8.2)\n",
            "Requirement already satisfied: six>=1.5 in /usr/local/lib/python3.10/dist-packages (from python-dateutil>=2.7->matplotlib->japanize-matplotlib) (1.16.0)\n",
            "Building wheels for collected packages: japanize-matplotlib\n",
            "  Building wheel for japanize-matplotlib (setup.py) ... \u001b[?25l\u001b[?25hdone\n",
            "  Created wheel for japanize-matplotlib: filename=japanize_matplotlib-1.1.3-py3-none-any.whl size=4120257 sha256=fab3d220b7ee0a3365569ad42d860f7d9100503ca2eabaa23e4f5f329537f581\n",
            "  Stored in directory: /root/.cache/pip/wheels/61/7a/6b/df1f79be9c59862525070e157e62b08eab8ece27c1b68fbb94\n",
            "Successfully built japanize-matplotlib\n",
            "Installing collected packages: japanize-matplotlib\n",
            "Successfully installed japanize-matplotlib-1.1.3\n"
          ]
        }
      ]
    },
    {
      "cell_type": "markdown",
      "source": [
        "## 回帰  \n",
        "例題：A社の複数の商品について，広告費(cost)と売上(sales)のデータを得た\n",
        "広告費から売上を予測したい．"
      ],
      "metadata": {
        "id": "Wh6Jupe7UWvW"
      }
    },
    {
      "cell_type": "markdown",
      "source": [
        "### まずデータを可視化する"
      ],
      "metadata": {
        "id": "WVleaCHVZeaw"
      }
    },
    {
      "cell_type": "code",
      "source": [
        "import numpy as np\n",
        "import matplotlib.pyplot as plt\n",
        "import japanize_matplotlib\n",
        "\n",
        "# xが広告費，yが売上高\n",
        "x = [26,35,50,60,87,100,112,117,134,145,160,160,163,173,191,199,203,215,237,270]\n",
        "y = [999,933,978,960,930,1002,1161,1155,1176,1230,1203,1284,1278,1497,1488,1569,1554,1614,1779,1971]\n",
        "\n",
        "# 散布図を描画\n",
        "plt.grid()\n",
        "plt.xlim(0,300)\n",
        "plt.xlabel(\"広告費(x)\")\n",
        "plt.ylabel(\"売上高(y)\")\n",
        "plt.scatter(x, y)"
      ],
      "metadata": {
        "id": "pJCuj_-u1Z2M"
      },
      "execution_count": null,
      "outputs": []
    },
    {
      "cell_type": "markdown",
      "source": [
        "### 線形回帰モデル(単回帰分析)"
      ],
      "metadata": {
        "id": "HgId-1cyZYPS"
      }
    },
    {
      "cell_type": "markdown",
      "source": [
        "$y = ax + b$ のaとbを変えて，赤い線をデータに近づけてみよう．  \n",
        "誤差Jがどうなるか観察しよう．"
      ],
      "metadata": {
        "id": "uRHVNH_rZKGc"
      }
    },
    {
      "cell_type": "code",
      "source": [
        "import numpy as np\n",
        "import matplotlib.pyplot as plt\n",
        "import japanize_matplotlib\n",
        "\n",
        "# xが広告費，yが売上高\n",
        "x = [26,35,50,60,87,100,112,117,134,145,160,160,163,173,191,199,203,215,237,270]\n",
        "y = [999,933,978,960,930,1002,1161,1155,1176,1230,1203,1284,1278,1497,1488,1569,1554,1614,1779,1971]\n",
        "\n",
        "a = float(input('a= '))  # 最初は2あたりから試す\n",
        "b = float(input('b= '))  # 最初は800あたりから試す\n",
        "\n",
        "ylin = [a*i + b for i in x]  # y = ax + b\n",
        "\n",
        "# 誤差を合計する\n",
        "J = 0\n",
        "for i in range(len(x)):\n",
        "    J += (ylin[i]-y[i])**2\n",
        "print('J={}'.format(J))\n",
        "\n",
        "# グラフの描画\n",
        "fig, axe = plt.subplots()\n",
        "axe.set_xlabel('広告費(x)')  # x軸ラベル\n",
        "axe.set_ylabel('売上高(y)')  # y軸ラベル\n",
        "axe.grid()            # 罫線\n",
        "axe.set_xlim([0, 300]) # x方向の描画範囲を指定\n",
        "axe.scatter(x,y)\n",
        "for i in range(len(x)):\n",
        "    axe.plot([x[i],x[i]],[y[i],ylin[i]],color=\"g\",linestyle = \"dashed\")\n",
        "axe.plot(x,ylin,color=\"r\")\n",
        "fig.tight_layout()  # レイアウトの設定\n",
        "plt.show()"
      ],
      "metadata": {
        "id": "w80Kic6fSzcj"
      },
      "execution_count": null,
      "outputs": []
    },
    {
      "cell_type": "markdown",
      "source": [
        "scipyライブラリを使って最小二乗法を実行してみる．\n",
        "\n"
      ],
      "metadata": {
        "id": "-DQBtbYCZm12"
      }
    },
    {
      "cell_type": "code",
      "source": [
        "import numpy as np\n",
        "import matplotlib.pyplot as plt\n",
        "import japanize_matplotlib\n",
        "from scipy import optimize\n",
        "\n",
        "# xが広告費，yが売上高\n",
        "x = [26,35,50,60,87,100,112,117,134,145,160,160,163,173,191,199,203,215,237,270]\n",
        "y = [999,933,978,960,930,1002,1161,1155,1176,1230,1203,1284,1278,1497,1488,1569,1554,1614,1779,1971]\n",
        "\n",
        "# ここからscipy.optimizeによるフィッテイング\n",
        "def func1(param,x,y):\n",
        "    residual = y - (param[0]*x + param[1])\n",
        "    return residual\n",
        "\n",
        "param1 = [0, 0]\n",
        "result = optimize.leastsq(func1, param1, args=(np.array(x), np.array(y)))\n",
        "# フィッテイング終了\n",
        "\n",
        "a = result[0][0]\n",
        "b = result[0][1]\n",
        "print('a={},b={}'.format(a,b))\n",
        "\n",
        "ylin = [a*i + b for i in x]  # y = ax + b\n",
        "\n",
        "# 誤差を合計する\n",
        "J = 0\n",
        "for i in range(len(x)):\n",
        "    J += (ylin[i]-y[i])**2\n",
        "    axe.plot([x[i],x[i]],[y[i],ylin[i]],color=\"g\",linestyle = \"dashed\")\n",
        "print('J={}'.format(J))\n",
        "\n",
        "# グラフの描画\n",
        "fig, axe = plt.subplots()\n",
        "axe.set_xlabel('広告費(x)')  # x軸ラベル\n",
        "axe.set_ylabel('売上高(y)')  # y軸ラベル\n",
        "axe.grid()            # 罫線\n",
        "axe.set_xlim([0, 300]) # x方向の描画範囲を指定\n",
        "axe.scatter(x,y)\n",
        "for i in range(len(x)):\n",
        "    axe.plot([x[i],x[i]],[y[i],ylin[i]],color=\"g\",linestyle = \"dashed\")\n",
        "axe.plot(x,ylin,color=\"r\")\n",
        "fig.tight_layout()  # レイアウトの設定\n",
        "plt.show()"
      ],
      "metadata": {
        "id": "GRzDt4sDVfvs"
      },
      "execution_count": null,
      "outputs": []
    },
    {
      "cell_type": "markdown",
      "source": [
        "### 多項式回帰モデル(単回帰分析)"
      ],
      "metadata": {
        "id": "4PoelUa18YVN"
      }
    },
    {
      "cell_type": "markdown",
      "source": [
        "$y = ax^2 + bx + c$ のaとbとcを変えて，赤い線をデータに近づけてみよう．  \n",
        "誤差Jがどうなるか観察しよう．"
      ],
      "metadata": {
        "id": "vsHU363N9Big"
      }
    },
    {
      "cell_type": "code",
      "source": [
        "import numpy as np\n",
        "import matplotlib.pyplot as plt\n",
        "import japanize_matplotlib\n",
        "\n",
        "# xが広告費，yが売上高\n",
        "x = [26,35,50,60,87,100,112,117,134,145,160,160,163,173,191,199,203,215,237,270]\n",
        "y = [999,933,978,960,930,1002,1161,1155,1176,1230,1203,1284,1278,1497,1488,1569,1554,1614,1779,1971]\n",
        "\n",
        "a = float(input('a= '))  # 最初は0.03あたりから試す\n",
        "b = float(input('b= '))  # 最初は0.2あたりから試す\n",
        "c = float(input('c= '))  # 最初は700あたりから試す\n",
        "\n",
        "ylin = [a*i*i + b*i + c for i in x]  # y = ax^2 + bx + c\n",
        "\n",
        "# 誤差を合計する\n",
        "J = 0\n",
        "for i in range(len(x)):\n",
        "    J += (ylin[i]-y[i])**2\n",
        "print('J={}'.format(J))\n",
        "\n",
        "# グラフの描画\n",
        "fig, axe = plt.subplots()\n",
        "axe.set_xlabel('広告費(x)')  # x軸ラベル\n",
        "axe.set_ylabel('売上高(y)')  # y軸ラベル\n",
        "axe.grid()            # 罫線\n",
        "axe.set_xlim([0, 300]) # x方向の描画範囲を指定\n",
        "axe.scatter(x,y)\n",
        "for i in range(len(x)):\n",
        "    axe.plot([x[i],x[i]],[y[i],ylin[i]],color=\"g\",linestyle = \"dashed\")\n",
        "axe.plot(x,ylin,color=\"r\")\n",
        "fig.tight_layout()  # レイアウトの設定\n",
        "plt.show()"
      ],
      "metadata": {
        "id": "7lzWKOUKi4bZ"
      },
      "execution_count": null,
      "outputs": []
    },
    {
      "cell_type": "markdown",
      "source": [
        "これもscipyライブラリを使って最小二乗法を実行してみる．"
      ],
      "metadata": {
        "id": "L3qwijKeA0Dk"
      }
    },
    {
      "cell_type": "code",
      "source": [
        "import numpy as np\n",
        "import matplotlib.pyplot as plt\n",
        "import japanize_matplotlib\n",
        "from scipy import optimize\n",
        "\n",
        "# xが広告費，yが売上高\n",
        "x = [26,35,50,60,87,100,112,117,134,145,160,160,163,173,191,199,203,215,237,270]\n",
        "y = [999,933,978,960,930,1002,1161,1155,1176,1230,1203,1284,1278,1497,1488,1569,1554,1614,1779,1971]\n",
        "\n",
        "# ここからscipy.optimizeによるフィッテイング\n",
        "def func1(param,x,y):\n",
        "    residual = y - (param[0]*x*x + param[1]*x + param[2])\n",
        "    return residual\n",
        "\n",
        "param1 = [0.03, 0.2, 700]\n",
        "result = optimize.leastsq(func1, param1, args=(np.array(x), np.array(y)))\n",
        "# フィッテイング終了\n",
        "\n",
        "a = result[0][0]\n",
        "b = result[0][1]\n",
        "c = result[0][2]\n",
        "print('a={},b={},c={}'.format(a,b,c))\n",
        "\n",
        "ylin = [a*i*i + b*i + c for i in x]\n",
        "\n",
        "fig, axe = plt.subplots()\n",
        "\n",
        "# 誤差を合計する\n",
        "J = 0\n",
        "for i in range(len(x)):\n",
        "    J += (ylin[i]-y[i])**2\n",
        "    axe.plot([x[i],x[i]],[y[i],ylin[i]],color=\"g\",linestyle = \"dashed\")\n",
        "print('J={}'.format(J))\n",
        "\n",
        "# グラフの描画\n",
        "axe.set_xlabel('広告費(x)')  # x軸ラベル\n",
        "axe.set_ylabel('売上高(y)')  # y軸ラベル\n",
        "axe.grid()            # 罫線\n",
        "axe.set_xlim([0, 300]) # x方向の描画範囲を指定\n",
        "axe.scatter(x,y)\n",
        "for i in range(len(x)):\n",
        "    axe.plot([x[i],x[i]],[y[i],ylin[i]],color=\"g\",linestyle = \"dashed\")\n",
        "axe.plot(x,ylin,color=\"r\")\n",
        "fig.tight_layout()  # レイアウトの設定\n",
        "plt.show()"
      ],
      "metadata": {
        "id": "NEimZ9era65J",
        "colab": {
          "base_uri": "https://localhost:8080/",
          "height": 539
        },
        "outputId": "2a777aeb-388e-41e0-e386-304f4315ee5e"
      },
      "execution_count": 9,
      "outputs": [
        {
          "output_type": "stream",
          "name": "stdout",
          "text": [
            "(array([ 1.58969310e-02, -2.45609238e-01,  9.32566759e+02]), 1)\n",
            "a=0.01589693100476773,b=-0.24560923772845644,c=932.5667594436436\n",
            "J=58668.154113541335\n"
          ]
        },
        {
          "output_type": "display_data",
          "data": {
            "text/plain": [
              "<Figure size 640x480 with 1 Axes>"
            ],
            "image/png": "[encoded data removed]"
          },
          "metadata": {}
        }
      ]
    },
    {
      "cell_type": "code",
      "source": [
        "import numpy as np\n",
        "import matplotlib.pyplot as plt\n",
        "import japanize_matplotlib\n",
        "from scipy import optimize\n",
        "\n",
        "# xが広告費，yが売上高\n",
        "x = [26,35,50,60,87,100,112,117,134,145,160,160,163,173,191,199,203,215,237,270]\n",
        "y = [999,933,978,960,930,1002,1161,1155,1176,1230,1203,1284,1278,1497,1488,1569,1554,1614,1779,1971]\n",
        "\n",
        "# ここからscipy.optimizeによるフィッテイング\n",
        "def func1(param,x,y):\n",
        "    residual = y - (param[0]*x*x + param[1]*x + param[2])\n",
        "    return residual\n",
        "\n",
        "param1 = [0.03, 0.2, 700]\n",
        "result = optimize.least_squares(func1, param1, args=(np.array(x), np.array(y)))\n",
        "# フィッテイング終了\n",
        "\n",
        "a = result.x[0]\n",
        "b = result.x[1]\n",
        "c = result.x[2]\n",
        "print('a={},b={},c={}'.format(a,b,c))\n",
        "\n",
        "ylin = [a*i*i + b*i + c for i in x]\n",
        "\n",
        "fig, axe = plt.subplots()\n",
        "\n",
        "# 誤差を合計する (J = result.cost*len(x)でも直接計算可能)\n",
        "J = 0\n",
        "for i in range(len(x)):\n",
        "    J += (ylin[i]-y[i])**2\n",
        "    axe.plot([x[i],x[i]],[y[i],ylin[i]],color=\"g\",linestyle = \"dashed\")\n",
        "print('J={}'.format(J))\n",
        "\n",
        "# グラフの描画\n",
        "axe.set_xlabel('広告費(x)')  # x軸ラベル\n",
        "axe.set_ylabel('売上高(y)')  # y軸ラベル\n",
        "axe.grid()            # 罫線\n",
        "axe.set_xlim([0, 300]) # x方向の描画範囲を指定\n",
        "axe.scatter(x,y)\n",
        "for i in range(len(x)):\n",
        "    axe.plot([x[i],x[i]],[y[i],ylin[i]],color=\"g\",linestyle = \"dashed\")\n",
        "axe.plot(x,ylin,color=\"r\")\n",
        "fig.tight_layout()  # レイアウトの設定\n",
        "plt.show()"
      ],
      "metadata": {
        "id": "J9a5QkSiwhJW",
        "outputId": "57020dbe-70a5-474a-bac3-b19e494e713f",
        "colab": {
          "base_uri": "https://localhost:8080/",
          "height": 522
        }
      },
      "execution_count": 14,
      "outputs": [
        {
          "output_type": "stream",
          "name": "stdout",
          "text": [
            "a=0.015896927324749965,b=-0.24560814185640495,c=932.5666944052218\n",
            "J=58668.154113534634\n"
          ]
        },
        {
          "output_type": "display_data",
          "data": {
            "text/plain": [
              "<Figure size 640x480 with 1 Axes>"
            ],
            "image/png": "[encoded data removed]"
          },
          "metadata": {}
        }
      ]
    },
    {
      "cell_type": "markdown",
      "source": [],
      "metadata": {
        "id": "gdz5BKA2wfkq"
      }
    },
    {
      "cell_type": "markdown",
      "source": [
        "**よっしゃ！6次関数にしてみよう！**  \n",
        "$y = ax^6 + bx^5 + cx^4 + dx^3 + ex^2 + fx + g$"
      ],
      "metadata": {
        "id": "2uLM3IGVCREF"
      }
    },
    {
      "cell_type": "code",
      "source": [
        "import numpy as np\n",
        "import matplotlib.pyplot as plt\n",
        "import japanize_matplotlib\n",
        "from scipy import optimize\n",
        "\n",
        "# xが広告費，yが売上高\n",
        "x = [26,35,50,60,87,100,112,117,134,145,160,160,163,173,191,199,203,215,237,270]\n",
        "y = [999,933,978,960,930,1002,1161,1155,1176,1230,1203,1284,1278,1497,1488,1569,1554,1614,1779,1971]\n",
        "\n",
        "# ここからscipy.optimizeによるフィッテイング\n",
        "def func1(param,x,y):\n",
        "    residual = y - (param[0]*x*x*x*x*x*x + param[1]*x*x*x*x*x + param[2]*x*x*x*x + param[3]*x*x*x + param[4]*x*x + param[5]*x + param[6])\n",
        "    return residual\n",
        "\n",
        "param1 = [0,0,0,0,0,0,0]\n",
        "result = optimize.leastsq(func1, param1, args=(np.array(x), np.array(y)))\n",
        "# フィッテイング終了\n",
        "\n",
        "a = result[0][0]\n",
        "b = result[0][1]\n",
        "c = result[0][2]\n",
        "d = result[0][3]\n",
        "e = result[0][4]\n",
        "f = result[0][5]\n",
        "g = result[0][6]\n",
        "print('a={:.5},b={:.5},c={:.5},d={:.5},e={:.5},f={:.5},g={:.5}'.format(a,b,c,d,e,f,g))\n",
        "\n",
        "ylin = [a*i*i*i*i*i*i + b*i*i*i*i*i + c*i*i*i*i + d*i*i*i + e*i*i + f*i + g for i in x]\n",
        "\n",
        "# 誤差を合計する\n",
        "J = 0\n",
        "for i in range(len(x)):\n",
        "    J += (ylin[i]-y[i])**2\n",
        "    axe.plot([x[i],x[i]],[y[i],ylin[i]],color=\"g\",linestyle = \"dashed\")\n",
        "print('J={}'.format(J))\n",
        "\n",
        "# グラフの描画\n",
        "fig, axe = plt.subplots()\n",
        "axe.set_xlabel('広告費(x)')  # x軸ラベル\n",
        "axe.set_ylabel('売上高(y)')  # y軸ラベル\n",
        "axe.grid()            # 罫線\n",
        "axe.set_xlim([0, 300]) # x方向の描画範囲を指定\n",
        "axe.scatter(x,y)\n",
        "for i in range(len(x)):\n",
        "    axe.plot([x[i],x[i]],[y[i],ylin[i]],color=\"g\",linestyle = \"dashed\")\n",
        "axe.plot(x,ylin,color=\"r\")\n",
        "fig.tight_layout()  # レイアウトの設定\n",
        "plt.show()"
      ],
      "metadata": {
        "id": "bTurBVfeCEVp"
      },
      "execution_count": null,
      "outputs": []
    },
    {
      "cell_type": "markdown",
      "source": [
        "あんまり変わらない…"
      ],
      "metadata": {
        "id": "XFNV_GU6EAEb"
      }
    },
    {
      "cell_type": "markdown",
      "source": [
        "## 分類  \n",
        "例題：ある昆虫のホルモン成分AとBの含有量から，雄と雌を分類する\n"
      ],
      "metadata": {
        "id": "bk0XO1AaEnCD"
      }
    },
    {
      "cell_type": "markdown",
      "source": [
        "### まずデータを可視化する"
      ],
      "metadata": {
        "id": "vNw1POeAE5sE"
      }
    },
    {
      "cell_type": "code",
      "source": [
        "import numpy as np\n",
        "import matplotlib.pyplot as plt\n",
        "import japanize_matplotlib\n",
        "from scipy import optimize\n",
        "\n",
        "# xが成分A，yが成分B，tが性別(-1がメス，1がオス)\n",
        "x = [41,76,168,235,133,248,414,394,91,489,435,520,411,499,444,301,418,267,512,278]\n",
        "y = [208,488,447,277,229,445,448,431,178,399,80,426,336,364,274,235,315,49,387,127]\n",
        "t = [-1,-1,-1,-1,-1,-1,-1,-1,-1,1,1,1,1,1,1,1,1,1,1,1]\n",
        "\n",
        "# グラフの描画\n",
        "fig, axe = plt.subplots()\n",
        "axe.set_xlabel('成分A(x)')  # x軸ラベル\n",
        "axe.set_ylabel('成分B(y)')  # y軸ラベル\n",
        "axe.grid()            # 罫線\n",
        "axe.set_xlim([0, 600]) # x方向の描画範囲を指定\n",
        "axe.scatter(x[:9],y[:9],color=\"r\")\n",
        "axe.scatter(x[9:],y[9:],color=\"b\")\n",
        "#for i in range(len(x)):\n",
        "#    axe.plot([x[i],x[i]],[y[i],ylin[i]],color=\"g\",linestyle = \"dashed\")\n",
        "#axe.plot(x,ylin,color=\"r\")\n",
        "fig.tight_layout()  # レイアウトの設定\n",
        "plt.show()"
      ],
      "metadata": {
        "id": "FwHSweoyDJ7U"
      },
      "execution_count": null,
      "outputs": []
    },
    {
      "cell_type": "markdown",
      "source": [
        "### 一次直線で分類してみる"
      ],
      "metadata": {
        "id": "7H1P0YFzLWH0"
      }
    },
    {
      "cell_type": "markdown",
      "source": [
        "$y = ax + b$ のaとbを変えて，緑の線で性別(赤と青の点)を分けてみよう．"
      ],
      "metadata": {
        "id": "iFsTUw6WHc3B"
      }
    },
    {
      "cell_type": "code",
      "source": [
        "import numpy as np\n",
        "import matplotlib.pyplot as plt\n",
        "import japanize_matplotlib\n",
        "from scipy import optimize\n",
        "\n",
        "# xが成分A，yが成分B，tが性別(-1がメス，1がオス)\n",
        "x = [41,76,168,235,133,248,414,394,91,489,435,520,411,499,444,301,418,267,512,278]\n",
        "y = [208,488,447,277,229,445,448,431,178,399,80,426,336,364,274,235,315,49,387,127]\n",
        "t = [-1,-1,-1,-1,-1,-1,-1,-1,-1,1,1,1,1,1,1,1,1,1,1,1]\n",
        "\n",
        "a = float(input('a= '))  # 最初は1.8あたりから試す\n",
        "b = float(input('b= '))  # 最初は-100あたりから試す\n",
        "\n",
        "ylin = [a*i + b for i in x]  # y = ax + b\n",
        "\n",
        "residual = [p - q for p, q in zip(y, ylin)]\n",
        "\n",
        "# 間違いのカウント\n",
        "nerror = 0\n",
        "for i in range(len(x)):\n",
        "    if t[i]*residual[i]>0:\n",
        "        nerror += 1\n",
        "print('{}個が誤り'.format(nerror))\n",
        "\n",
        "# グラフの描画\n",
        "fig, axe = plt.subplots()\n",
        "axe.set_xlabel('成分A(x)')  # x軸ラベル\n",
        "axe.set_ylabel('成分B(y)')  # y軸ラベル\n",
        "axe.grid()            # 罫線\n",
        "axe.set_xlim([0, 600]) # x方向の描画範囲を指定\n",
        "axe.scatter(x[:9],y[:9],color=\"r\")\n",
        "axe.scatter(x[9:],y[9:],color=\"b\")\n",
        "#for i in range(len(x)):\n",
        "#    axe.plot([x[i],x[i]],[y[i],ylin[i]],color=\"g\",linestyle = \"dashed\")\n",
        "axe.plot(x,ylin,color=\"g\")\n",
        "fig.tight_layout()  # レイアウトの設定\n",
        "plt.show()"
      ],
      "metadata": {
        "id": "kWOG51upHoa6"
      },
      "execution_count": null,
      "outputs": []
    },
    {
      "cell_type": "markdown",
      "source": [
        "＜より複雑な分類に関する参考文献＞  \n",
        "https://free.kikagaku.ai/tutorial/basic_of_machine_learning/learn/machine_learning_classification\n"
      ],
      "metadata": {
        "id": "TZh_5gO9FZ2u"
      }
    },
    {
      "cell_type": "markdown",
      "source": [
        "## コラム：予測と正解の差を表す名称  \n",
        "* 損失関数 (loss function)  \n",
        "* 誤差関数 (error function)  \n",
        "* コスト関数 (cost function)  \n",
        "* 目的関数 (objective function)  \n",
        "\n",
        "ぶっちゃけ，最初はこれらは同じだと思って結構です．いずれも訓練時に用いられ，パラメータを変化させて最小化することによりモデルを向上させます．具体的な関数の名称(例えば平方根とか)ではないことに注意してください．  \n",
        "  \n",
        "これらとは別に「評価関数」(evaluation function)という言葉があります．損失関数らとは「いつ使うか」が異なります．訓練データではなく，実際のデータ(この後に取り扱う「検証データ」)を用いて，そのモデルの良し悪しを評価するときに使用します．\n",
        "\n",
        "[わかりやすい説明はここ](https://zenn.dev/nekoallergy/articles/machinelearning-func)"
      ],
      "metadata": {
        "id": "UZfGugjAz23k"
      }
    },
    {
      "cell_type": "code",
      "source": [],
      "metadata": {
        "id": "B61W22Bs0nvs"
      },
      "execution_count": null,
      "outputs": []
    }
  ]
}