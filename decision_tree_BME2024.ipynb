{
  "nbformat": 4,
  "nbformat_minor": 0,
  "metadata": {
    "colab": {
      "provenance": [],
      "authorship_tag": "ABX9TyM/vXwR8CeHAkVKy+tj2Ier",
      "include_colab_link": true
    },
    "kernelspec": {
      "name": "python3",
      "display_name": "Python 3"
    },
    "language_info": {
      "name": "python"
    }
  },
  "cells": [
    {
      "cell_type": "markdown",
      "metadata": {
        "id": "view-in-github",
        "colab_type": "text"
      },
      "source": [
        "<a href=\"https://colab.research.google.com/github/yasyamauchi/education/blob/main/decision_tree_BME2024.ipynb\" target=\"_parent\"><img src=\"https://colab.research.google.com/assets/colab-badge.svg\" alt=\"Open In Colab\"/></a>"
      ]
    },
    {
      "cell_type": "markdown",
      "source": [
        "# 決定木 (けっていぎ，decision tree)  \n",
        "  \n",
        "  2024新版  \n",
        "[Google Machine Learning: 上級コース: デシジョンフォレスト](https://developers.google.com/machine-learning/decision-forests/practice?hl=ja)より  "
      ],
      "metadata": {
        "id": "ZRC0RQrO7BpQ"
      }
    },
    {
      "cell_type": "markdown",
      "source": [
        "YDF（Yggdrasil）を使用する．"
      ],
      "metadata": {
        "id": "2RHGB-FV7fTc"
      }
    },
    {
      "cell_type": "code",
      "execution_count": null,
      "metadata": {
        "id": "xQa1gh_d_hmB"
      },
      "outputs": [],
      "source": [
        "!pip install ydf -U"
      ]
    },
    {
      "cell_type": "code",
      "source": [
        "import ydf\n",
        "import numpy as np\n",
        "import pandas as pd"
      ],
      "metadata": {
        "id": "tEa5ARYlAF02"
      },
      "execution_count": null,
      "outputs": []
    },
    {
      "cell_type": "markdown",
      "source": [
        "## データの読み込み  \n",
        "  \n",
        "  この例では\"Palmer Penguins\"データセットを使用する．  \n",
        "### データの中身  \n",
        "3種類のペンギン(合計344羽)  \n",
        "* チンストラップ(Chinstrap)\n",
        "* ジェンツー(Gentoo)\n",
        "* アデリー(Adelie)  \n",
        "  \n",
        "の，次のデータを使用する．  \n",
        "* 生息地 (island)\n",
        "* くちばしの長さ (bill_length)\n",
        "* くちばしの上下幅 (bill_depth)\n",
        "* 羽の長さ (flipper_length)\n",
        "* 体重 (body_mass)\n",
        "* 性別 (sex)\n",
        "* 誕生年？ (year)  \n",
        "  \n",
        "最初の3羽のデータを表示する．"
      ],
      "metadata": {
        "id": "9zDu5q857xf0"
      }
    },
    {
      "cell_type": "code",
      "source": [
        "path = \"https://storage.googleapis.com/download.tensorflow.org/data/palmer_penguins/penguins.csv\"\n",
        "dataset = pd.read_csv(path)\n",
        "label = \"species\"\n",
        "\n",
        "# Display the first 3 examples.\n",
        "dataset.head(3)"
      ],
      "metadata": {
        "id": "6qXWFmPUAJNV"
      },
      "execution_count": null,
      "outputs": []
    },
    {
      "cell_type": "markdown",
      "source": [
        "## 訓練データと検証データに分ける  \n",
        "  \n",
        "344のデータの約1割を検証データに，残りを訓練データに分ける．ランダムに分けるので実行するたびに結果は異なる．"
      ],
      "metadata": {
        "id": "-5jeiwNT-UZv"
      }
    },
    {
      "cell_type": "code",
      "source": [
        "# Use the ~20% of the examples as the testing set\n",
        "# and the remaining ~80% of the examples as the training set.\n",
        "np.random.seed(1)\n",
        "is_test = np.random.rand(len(dataset)) < 0.2\n",
        "\n",
        "train_dataset = dataset[~is_test]\n",
        "test_dataset = dataset[is_test]\n",
        "\n",
        "print(\"Training examples: \", len(train_dataset))\n",
        "# >> Training examples: 272\n",
        "\n",
        "print(\"Testing examples: \", len(test_dataset))\n",
        "# >> Testing examples: 72"
      ],
      "metadata": {
        "id": "tDL8SngSAMi0"
      },
      "execution_count": null,
      "outputs": []
    },
    {
      "cell_type": "markdown",
      "source": [
        "## モデルの学習  \n",
        "  \n",
        "デフォルト値で行う．学習はすぐ終わる．"
      ],
      "metadata": {
        "id": "HG4ssIWm_-tw"
      }
    },
    {
      "cell_type": "code",
      "source": [
        "model = ydf.CartLearner(label=label).train(train_dataset)"
      ],
      "metadata": {
        "id": "4EzVLg04APuS"
      },
      "execution_count": null,
      "outputs": []
    },
    {
      "cell_type": "markdown",
      "source": [
        "## モデルの評価\n",
        "  \n",
        "  まず決定木を表示する．見方は次の通り．  \n",
        "* 左から右に見る\n",
        "* 赤(0)がアデリー，青(1)がジェンツー，緑(2)がチンストラップ\n",
        "* 分類された結果が棒グラフで表示されており，その上に条件が示されている．例えば最初の**flipper_length_mm >= 207.500**は**「羽の長さが207.5mm以上かどうか」**を意味する．Yesが上でNoが下．\n",
        "* マウスを用いると，詳細な数字が表示される．"
      ],
      "metadata": {
        "id": "TKvegn9kAXNU"
      }
    },
    {
      "cell_type": "code",
      "source": [
        "model.plot_tree()"
      ],
      "metadata": {
        "id": "-OlpqDxYASMP"
      },
      "execution_count": null,
      "outputs": []
    },
    {
      "cell_type": "markdown",
      "source": [
        "精度を計算する．訓練データ93%・検証データで92％程度となる．実際の精度は実行するたびにわずかに異なる(理由は考えること)．"
      ],
      "metadata": {
        "id": "ya2wPntjCQet"
      }
    },
    {
      "cell_type": "code",
      "source": [
        "train_evaluation = model.evaluate(train_dataset)\n",
        "print(\"train accuracy:\", train_evaluation.accuracy)\n",
        "# >> train accuracy:  0.9338\n",
        "\n",
        "test_evaluation = model.evaluate(test_dataset)\n",
        "print(\"test accuracy:\", test_evaluation.accuracy)\n",
        "# >> test accuracy:  0.9167"
      ],
      "metadata": {
        "id": "ZfEfb1E-AWSw"
      },
      "execution_count": null,
      "outputs": []
    },
    {
      "cell_type": "markdown",
      "source": [
        "木の深さを最大2とする"
      ],
      "metadata": {
        "id": "xZoCx3V6Cf01"
      }
    },
    {
      "cell_type": "code",
      "source": [
        "model = ydf.CartLearner(label=label, max_depth=2).train(train_dataset)\n",
        "print(model.evaluate(test_dataset).accuracy)\n",
        "# >> 0.97222"
      ],
      "metadata": {
        "id": "QB8bgzIWAZpb"
      },
      "execution_count": null,
      "outputs": []
    },
    {
      "cell_type": "code",
      "source": [
        "model.plot_tree()"
      ],
      "metadata": {
        "id": "NYMzOAqfDUhU"
      },
      "execution_count": null,
      "outputs": []
    },
    {
      "cell_type": "markdown",
      "source": [
        "ランダムフォレスト法【後述】を適用する  \n",
        "精度はかなり改善するはず"
      ],
      "metadata": {
        "id": "UbF8k-ftCqpb"
      }
    },
    {
      "cell_type": "code",
      "source": [
        "model = ydf.RandomForestLearner(label=label).train(train_dataset)\n",
        "model.plot_tree()\n",
        "print(\"Test accuracy: \", model.evaluate(test_dataset).accuracy)\n",
        "# >> Test accuracy: 0.986111"
      ],
      "metadata": {
        "id": "Wy5NkPqrAhCZ"
      },
      "execution_count": null,
      "outputs": []
    },
    {
      "cell_type": "code",
      "source": [
        "model.plot_tree()"
      ],
      "metadata": {
        "id": "_N8pbfwgDYFX"
      },
      "execution_count": null,
      "outputs": []
    }
  ]
}