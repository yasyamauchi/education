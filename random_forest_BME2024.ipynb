{
  "nbformat": 4,
  "nbformat_minor": 0,
  "metadata": {
    "colab": {
      "provenance": [],
      "toc_visible": true,
      "gpuType": "T4",
      "name": "random_forest_BME2024.ipynb",
      "authorship_tag": "ABX9TyOdOCtZAmWUIhtDxcgkRvo1",
      "include_colab_link": true
    },
    "kernelspec": {
      "name": "python3",
      "display_name": "Python 3"
    },
    "language_info": {
      "name": "python"
    },
    "accelerator": "GPU"
  },
  "cells": [
    {
      "cell_type": "markdown",
      "metadata": {
        "id": "view-in-github",
        "colab_type": "text"
      },
      "source": [
        "<a href=\"https://colab.research.google.com/github/yasyamauchi/education/blob/main/random_forest_BME2024.ipynb\" target=\"_parent\"><img src=\"https://colab.research.google.com/assets/colab-badge.svg\" alt=\"Open In Colab\"/></a>"
      ]
    },
    {
      "cell_type": "markdown",
      "source": [
        "# ランダムフォレスト (random forest)\n",
        "  \n",
        "  [In Depth: Decision Trees and Random Forests](https://colab.research.google.com/github/jakevdp/PythonDataScienceHandbook/blob/master/notebooks/05.08-Random-Forests.ipynb#scrollTo=hxFuYYC3G3eL)より  \n",
        "  \n",
        "  この例では決定木の例と異なり，scikit-learn(sklearn)を使用するので，コードは異なる．"
      ],
      "metadata": {
        "id": "s2-wWc_qJp_e"
      }
    },
    {
      "cell_type": "markdown",
      "source": [
        "## 決定木と過学習"
      ],
      "metadata": {
        "id": "HuKGnSdSJv3H"
      }
    },
    {
      "cell_type": "markdown",
      "source": [
        "分類用データを準備する．scikit-learnで4クラス・300個の二次元データを人工的に発生させる．"
      ],
      "metadata": {
        "id": "5Lhk81GHJ7F4"
      }
    },
    {
      "cell_type": "code",
      "source": [
        "%matplotlib inline\n",
        "import numpy as np\n",
        "import matplotlib.pyplot as plt"
      ],
      "metadata": {
        "id": "YvvPArdyIkzA"
      },
      "execution_count": null,
      "outputs": []
    },
    {
      "cell_type": "code",
      "source": [
        "from sklearn.datasets import make_blobs\n",
        "\n",
        "X, y = make_blobs(n_samples=300, centers=4,\n",
        "                  random_state=0, cluster_std=1.0)\n",
        "plt.scatter(X[:, 0], X[:, 1], c=y, s=50, cmap='rainbow');"
      ],
      "metadata": {
        "id": "ghP7KbIiInur"
      },
      "execution_count": null,
      "outputs": []
    },
    {
      "cell_type": "markdown",
      "source": [
        "決定木でモデルを作成する．"
      ],
      "metadata": {
        "id": "7Sgh-x9aKN5r"
      }
    },
    {
      "cell_type": "code",
      "source": [
        "from sklearn.tree import DecisionTreeClassifier\n",
        "tree = DecisionTreeClassifier().fit(X, y)"
      ],
      "metadata": {
        "id": "T5tNqi3SJdFQ"
      },
      "execution_count": null,
      "outputs": []
    },
    {
      "cell_type": "code",
      "source": [
        "def visualize_classifier(model, X, y, ax=None, cmap='rainbow'):\n",
        "    ax = ax or plt.gca()\n",
        "\n",
        "    # Plot the training points\n",
        "    ax.scatter(X[:, 0], X[:, 1], c=y, s=30, cmap=cmap,\n",
        "               clim=(y.min(), y.max()), zorder=3)\n",
        "    ax.axis('tight')\n",
        "    ax.axis('off')\n",
        "    xlim = ax.get_xlim()\n",
        "    ylim = ax.get_ylim()\n",
        "\n",
        "    # fit the estimator\n",
        "    model.fit(X, y)\n",
        "    xx, yy = np.meshgrid(np.linspace(*xlim, num=200),\n",
        "                         np.linspace(*ylim, num=200))\n",
        "    Z = model.predict(np.c_[xx.ravel(), yy.ravel()]).reshape(xx.shape)\n",
        "\n",
        "    # Create a color plot with the results\n",
        "    n_classes = len(np.unique(y))\n",
        "    contours = ax.contourf(xx, yy, Z, alpha=0.3,\n",
        "                           levels=np.arange(n_classes + 1) - 0.5,\n",
        "                           cmap=cmap, zorder=1)\n",
        "\n",
        "    ax.set(xlim=xlim, ylim=ylim)"
      ],
      "metadata": {
        "id": "AuxALGx4JeQx"
      },
      "execution_count": null,
      "outputs": []
    },
    {
      "cell_type": "markdown",
      "source": [
        "学習結果を見てみよう．"
      ],
      "metadata": {
        "id": "yC_EK9luLBqV"
      }
    },
    {
      "cell_type": "code",
      "source": [
        "visualize_classifier(DecisionTreeClassifier(), X, y)"
      ],
      "metadata": {
        "id": "eRjZMVCQJiVF"
      },
      "execution_count": null,
      "outputs": []
    },
    {
      "cell_type": "markdown",
      "source": [
        "おおむね正しく分類されているが，一部分で明らかな過学習(恣意的に見える分類区画)があるのが分かるだろうか．決定木は深くなれば深くなるほど精度は向上するが，このような過学習が発生する．"
      ],
      "metadata": {
        "id": "mJhk5I0hLSVZ"
      }
    },
    {
      "cell_type": "markdown",
      "source": [
        "## ランダムフォレストの適用"
      ],
      "metadata": {
        "id": "g86TuK5LLowX"
      }
    },
    {
      "cell_type": "markdown",
      "source": [
        "ここでは「バギング」(bagging)という方法を用いる．バギングはデータの一部分を抽出して学習することを繰り返し(ランダムな決定木)，最後に平均化する方法である．  \n",
        "次の例では決定木の数を100として，各々で全体の8割のデータをランダムに抽出する．"
      ],
      "metadata": {
        "id": "efjburPnMyWJ"
      }
    },
    {
      "cell_type": "code",
      "source": [
        "from sklearn.tree import DecisionTreeClassifier\n",
        "from sklearn.ensemble import BaggingClassifier\n",
        "\n",
        "tree = DecisionTreeClassifier()\n",
        "bag = BaggingClassifier(tree, n_estimators=100, max_samples=0.8,\n",
        "                        random_state=1)\n",
        "\n",
        "bag.fit(X, y)\n",
        "visualize_classifier(bag, X, y)"
      ],
      "metadata": {
        "id": "iyvWbAATLq8_"
      },
      "execution_count": null,
      "outputs": []
    },
    {
      "cell_type": "markdown",
      "source": [
        "精度を求める．分類誤りは1個ぐらいのはず．"
      ],
      "metadata": {
        "id": "rmRFTmxxQ2Ja"
      }
    },
    {
      "cell_type": "code",
      "source": [
        "z = bag.predict(X)\n",
        "nerror = 0\n",
        "for i in range(len(y)):\n",
        "  if y[i] != z[i]:\n",
        "    nerror += 1\n",
        "print(\"accuracy={}\".format(1-nerror/len(y)))"
      ],
      "metadata": {
        "id": "RErlGrnfPPLY"
      },
      "execution_count": null,
      "outputs": []
    }
  ]
}