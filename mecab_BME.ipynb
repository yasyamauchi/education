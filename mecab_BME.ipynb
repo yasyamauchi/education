{
  "nbformat": 4,
  "nbformat_minor": 0,
  "metadata": {
    "colab": {
      "provenance": [],
      "include_colab_link": true
    },
    "kernelspec": {
      "name": "python3",
      "display_name": "Python 3"
    }
  },
  "cells": [
    {
      "cell_type": "markdown",
      "metadata": {
        "id": "view-in-github",
        "colab_type": "text"
      },
      "source": [
        "<a href=\"https://colab.research.google.com/github/yasyamauchi/education/blob/main/mecab_BME.ipynb\" target=\"_parent\"><img src=\"https://colab.research.google.com/assets/colab-badge.svg\" alt=\"Open In Colab\"/></a>"
      ]
    },
    {
      "cell_type": "code",
      "metadata": {
        "colab": {
          "base_uri": "https://localhost:8080/"
        },
        "id": "LuqcLxHy-Y50",
        "outputId": "6d074be3-0a12-4c3a-fe3f-b3e69ffa93ad"
      },
      "source": [
        "!pip install mecab-python3\n",
        "!pip install unidic"
      ],
      "execution_count": null,
      "outputs": [
        {
          "output_type": "stream",
          "text": [
            "Collecting mecab-python3\n",
            "\u001b[?25l  Downloading https://files.pythonhosted.org/packages/b4/f0/b57bfb29abd6b898d7137f4a276a338d2565f28a2098d60714388d119f3e/mecab_python3-1.0.3-cp36-cp36m-manylinux1_x86_64.whl (487kB)\n",
            "\r\u001b[K     |▊                               | 10kB 15.4MB/s eta 0:00:01\r\u001b[K     |█▍                              | 20kB 12.8MB/s eta 0:00:01\r\u001b[K     |██                              | 30kB 8.3MB/s eta 0:00:01\r\u001b[K     |██▊                             | 40kB 8.3MB/s eta 0:00:01\r\u001b[K     |███▍                            | 51kB 5.1MB/s eta 0:00:01\r\u001b[K     |████                            | 61kB 5.5MB/s eta 0:00:01\r\u001b[K     |████▊                           | 71kB 5.9MB/s eta 0:00:01\r\u001b[K     |█████▍                          | 81kB 6.2MB/s eta 0:00:01\r\u001b[K     |██████                          | 92kB 6.6MB/s eta 0:00:01\r\u001b[K     |██████▊                         | 102kB 6.3MB/s eta 0:00:01\r\u001b[K     |███████▍                        | 112kB 6.3MB/s eta 0:00:01\r\u001b[K     |████████                        | 122kB 6.3MB/s eta 0:00:01\r\u001b[K     |████████▊                       | 133kB 6.3MB/s eta 0:00:01\r\u001b[K     |█████████▍                      | 143kB 6.3MB/s eta 0:00:01\r\u001b[K     |██████████                      | 153kB 6.3MB/s eta 0:00:01\r\u001b[K     |██████████▊                     | 163kB 6.3MB/s eta 0:00:01\r\u001b[K     |███████████▍                    | 174kB 6.3MB/s eta 0:00:01\r\u001b[K     |████████████                    | 184kB 6.3MB/s eta 0:00:01\r\u001b[K     |████████████▊                   | 194kB 6.3MB/s eta 0:00:01\r\u001b[K     |█████████████▍                  | 204kB 6.3MB/s eta 0:00:01\r\u001b[K     |██████████████                  | 215kB 6.3MB/s eta 0:00:01\r\u001b[K     |██████████████▉                 | 225kB 6.3MB/s eta 0:00:01\r\u001b[K     |███████████████▌                | 235kB 6.3MB/s eta 0:00:01\r\u001b[K     |████████████████▏               | 245kB 6.3MB/s eta 0:00:01\r\u001b[K     |████████████████▉               | 256kB 6.3MB/s eta 0:00:01\r\u001b[K     |█████████████████▌              | 266kB 6.3MB/s eta 0:00:01\r\u001b[K     |██████████████████▏             | 276kB 6.3MB/s eta 0:00:01\r\u001b[K     |██████████████████▉             | 286kB 6.3MB/s eta 0:00:01\r\u001b[K     |███████████████████▌            | 296kB 6.3MB/s eta 0:00:01\r\u001b[K     |████████████████████▏           | 307kB 6.3MB/s eta 0:00:01\r\u001b[K     |████████████████████▉           | 317kB 6.3MB/s eta 0:00:01\r\u001b[K     |█████████████████████▌          | 327kB 6.3MB/s eta 0:00:01\r\u001b[K     |██████████████████████▏         | 337kB 6.3MB/s eta 0:00:01\r\u001b[K     |██████████████████████▉         | 348kB 6.3MB/s eta 0:00:01\r\u001b[K     |███████████████████████▌        | 358kB 6.3MB/s eta 0:00:01\r\u001b[K     |████████████████████████▏       | 368kB 6.3MB/s eta 0:00:01\r\u001b[K     |████████████████████████▉       | 378kB 6.3MB/s eta 0:00:01\r\u001b[K     |█████████████████████████▌      | 389kB 6.3MB/s eta 0:00:01\r\u001b[K     |██████████████████████████▏     | 399kB 6.3MB/s eta 0:00:01\r\u001b[K     |██████████████████████████▉     | 409kB 6.3MB/s eta 0:00:01\r\u001b[K     |███████████████████████████▌    | 419kB 6.3MB/s eta 0:00:01\r\u001b[K     |████████████████████████████▏   | 430kB 6.3MB/s eta 0:00:01\r\u001b[K     |████████████████████████████▉   | 440kB 6.3MB/s eta 0:00:01\r\u001b[K     |█████████████████████████████▋  | 450kB 6.3MB/s eta 0:00:01\r\u001b[K     |██████████████████████████████▎ | 460kB 6.3MB/s eta 0:00:01\r\u001b[K     |███████████████████████████████ | 471kB 6.3MB/s eta 0:00:01\r\u001b[K     |███████████████████████████████▋| 481kB 6.3MB/s eta 0:00:01\r\u001b[K     |████████████████████████████████| 491kB 6.3MB/s \n",
            "\u001b[?25hInstalling collected packages: mecab-python3\n",
            "Successfully installed mecab-python3-1.0.3\n",
            "Collecting unidic\n",
            "  Downloading https://files.pythonhosted.org/packages/86/04/c18832fd9959a78fc60eeaa9e7fb37ef31a250e8645cc2897eb1f07939ee/unidic-1.0.3.tar.gz\n",
            "Requirement already satisfied: requests<3.0.0,>=2.22.0 in /usr/local/lib/python3.6/dist-packages (from unidic) (2.23.0)\n",
            "Requirement already satisfied: tqdm<5.0.0,>=4.41.1 in /usr/local/lib/python3.6/dist-packages (from unidic) (4.41.1)\n",
            "Requirement already satisfied: wasabi<1.0.0,>=0.6.0 in /usr/local/lib/python3.6/dist-packages (from unidic) (0.8.1)\n",
            "Requirement already satisfied: plac<2.0.0,>=1.1.3 in /usr/local/lib/python3.6/dist-packages (from unidic) (1.1.3)\n",
            "Requirement already satisfied: idna<3,>=2.5 in /usr/local/lib/python3.6/dist-packages (from requests<3.0.0,>=2.22.0->unidic) (2.10)\n",
            "Requirement already satisfied: urllib3!=1.25.0,!=1.25.1,<1.26,>=1.21.1 in /usr/local/lib/python3.6/dist-packages (from requests<3.0.0,>=2.22.0->unidic) (1.24.3)\n",
            "Requirement already satisfied: certifi>=2017.4.17 in /usr/local/lib/python3.6/dist-packages (from requests<3.0.0,>=2.22.0->unidic) (2020.12.5)\n",
            "Requirement already satisfied: chardet<4,>=3.0.2 in /usr/local/lib/python3.6/dist-packages (from requests<3.0.0,>=2.22.0->unidic) (3.0.4)\n",
            "Building wheels for collected packages: unidic\n",
            "  Building wheel for unidic (setup.py) ... \u001b[?25l\u001b[?25hdone\n",
            "  Created wheel for unidic: filename=unidic-1.0.3-cp36-none-any.whl size=5498 sha256=11c3279d6e76c23870c4cffe44e73ecd04aea6d13288a85a53d3dd6d2895bda6\n",
            "  Stored in directory: /root/.cache/pip/wheels/d3/26/e2/fb76c79fd14391eb994eab021c9129c24814125298e1e5b96a\n",
            "Successfully built unidic\n",
            "Installing collected packages: unidic\n",
            "Successfully installed unidic-1.0.3\n"
          ],
          "name": "stdout"
        }
      ]
    },
    {
      "cell_type": "code",
      "metadata": {
        "colab": {
          "base_uri": "https://localhost:8080/"
        },
        "id": "9Z8v3tCpDnX5",
        "outputId": "65c9d75b-31b8-4d26-e1be-2a1434001eae"
      },
      "source": [
        "!python -m unidic download"
      ],
      "execution_count": null,
      "outputs": [
        {
          "output_type": "stream",
          "text": [
            "download url: https://cotonoha-dic.s3-ap-northeast-1.amazonaws.com/unidic.zip\n",
            "Dictionary version: 2.3.0+2020-10-08\n",
            "Downloading UniDic v2.3.0+2020-10-08...\n",
            "unidic.zip: 100% 608M/608M [00:26<00:00, 23.0MB/s]\n",
            "Finished download.\n",
            "Downloaded UniDic v2.3.0+2020-10-08 to /usr/local/lib/python3.6/dist-packages/unidic/dicdir\n"
          ],
          "name": "stdout"
        }
      ]
    },
    {
      "cell_type": "code",
      "metadata": {
        "colab": {
          "base_uri": "https://localhost:8080/"
        },
        "id": "YatVIXSnEzZ8",
        "outputId": "f067c963-909e-49e3-faf5-064566177b41"
      },
      "source": [
        "!ls /usr/local/lib/python3.6/dist-packages/unidic/dicdir"
      ],
      "execution_count": null,
      "outputs": [
        {
          "output_type": "stream",
          "text": [
            "char.bin  dicrc  matrix.bin  mecabrc  model.bin  sys.dic  unk.dic  version\n"
          ],
          "name": "stdout"
        }
      ]
    },
    {
      "cell_type": "code",
      "metadata": {
        "colab": {
          "base_uri": "https://localhost:8080/"
        },
        "id": "U7I0nFpjE8oi",
        "outputId": "9946101d-eec0-4273-bad1-acad66412fae"
      },
      "source": [
        "import MeCab\n",
        "import unidic\n",
        "\n",
        "tagger = MeCab.Tagger()  # 「tagger = MeCab.Tagger('-d ' + unidic.DICDIR)」\n",
        "sample_txt = 'くるまでまつ'\n",
        "result = tagger.parse(sample_txt)\n",
        "print(result)"
      ],
      "execution_count": null,
      "outputs": [
        {
          "output_type": "stream",
          "text": [
            "くる\t動詞,非自立可能,,,カ行変格,連体形-一般,クル,来る,くる,クル,くる,クル,和,,,,,,,用,クル,クル,クル,クル,1,C1,,2891174448865985,10518\n",
            "まで\t助詞,副助詞,,,,,マデ,まで,まで,マデ,まで,マデ,和,,,,,,,副助,マデ,マデ,マデ,マデ,,名詞%F2@1,形容詞%F2@1,動詞%F2@1,,9865651581755904,35891\n",
            "まつ\t助動詞,,,,助動詞-マス,終止形-一般,マス,ます,まつ,マツ,まつ,マツ,和,,,,,,,助動,マツ,マツ,マツ,マツ,,動詞%F4@1,,9812333857743841,35697\n",
            "EOS\n",
            "\n"
          ],
          "name": "stdout"
        }
      ]
    },
    {
      "cell_type": "code",
      "metadata": {
        "colab": {
          "base_uri": "https://localhost:8080/"
        },
        "id": "pc50sLN_HKK0",
        "outputId": "01b05eb8-dfc3-41c8-b151-c2deeb21cd6e"
      },
      "source": [
        "wakati = MeCab.Tagger('-Owakati')\n",
        "result = wakati.parse(sample_txt)\n",
        "print(sample_txt)\n",
        "print(result)"
      ],
      "execution_count": null,
      "outputs": [
        {
          "output_type": "stream",
          "text": [
            "くるまでまつ\n",
            "くる まで まつ \n",
            "\n"
          ],
          "name": "stdout"
        }
      ]
    },
    {
      "cell_type": "code",
      "metadata": {
        "colab": {
          "base_uri": "https://localhost:8080/"
        },
        "id": "H9oZJ78lGz7x",
        "outputId": "36d50dbc-548e-4532-f180-d361eff34e8d"
      },
      "source": [
        "sample_txt = '鬼滅の刃もいいけれど、約束のネバーランドもね'\n",
        "result = tagger.parse(sample_txt)\n",
        "print(result)"
      ],
      "execution_count": null,
      "outputs": [
        {
          "output_type": "stream",
          "text": [
            "鬼\t名詞,普通名詞,一般,,,,オニ,鬼,鬼,オニ,鬼,オニ,和,,,,,,,体,オニ,オニ,オニ,オニ,2,C3,,1408208140902912,5123\n",
            "滅\t名詞,普通名詞,一般,,,\n",
            "の\t助詞,格助詞,,,,,ノ,の,の,ノ,の,ノ,和,,,,,,,格助,ノ,ノ,ノ,ノ,,名詞%F1,,7968444268028416,28989\n",
            "刃\t名詞,普通名詞,一般,,,,ハ,刃,刃,ハ,刃,ハ,和,ハ濁,基本形,,,,,体,ハ,ハ,ハ,ハ,1,C3,,8060803244761600,29325\n",
            "も\t助詞,係助詞,,,,,モ,も,も,モ,も,モ,和,,,,,,,係助,モ,モ,モ,モ,,動詞%F2@-1,形容詞%F4@-2,名詞%F1,,10324972564259328,37562\n",
            "いい\t形容詞,非自立可能,,,形容詞,終止形-一般,ヨイ,良い,いい,イー,いい,イー,和,,,,,,,相,イイ,イイ,イイ,イイ,1,C3,,10716948459561643,38988\n",
            "けれど\t助詞,接続助詞,,,,,ケレド,けれど,けれど,ケレド,けれど,ケレド,和,,,,,,,接助,ケレド,ケレド,ケレド,ケレド,,動詞%F2@0,形容詞%F2@-1,,3089095131800064,11238\n",
            "、\t補助記号,読点,,,,,,、,、,,、,,記号,,,,,,,補助,,,,,,,,6605693395456,24\n",
            "約束\t名詞,普通名詞,サ変可能,,,,ヤクソク,約束,約束,ヤクソク,約束,ヤクソク,漢,,,,,,,体,ヤクソク,ヤクソク,ヤクソク,ヤクソク,0,C2,,10495396866564608,38182\n",
            "の\t助詞,格助詞,,,,,ノ,の,の,ノ,の,ノ,和,,,,,,,格助,ノ,ノ,ノ,ノ,,名詞%F1,,7968444268028416,28989\n",
            "ネバー\t名詞,普通名詞,一般,,,,ネバー,ネバー-never,ネバー,ネバー,ネバー,ネバー,外,,,,,,,体,ネバー,ネバー,ネバー,ネバー,1,C1,,22987498225541632,83628\n",
            "ランド\t名詞,普通名詞,一般,,,,ランド,ランド-land,ランド,ランド,ランド,ランド,外,,,,,,,体,ランド,ランド,ランド,ランド,1,C1,,10950044924649984,39836\n",
            "も\t助詞,係助詞,,,,,モ,も,も,モ,も,モ,和,,,,,,,係助,モ,モ,モ,モ,,動詞%F2@-1,形容詞%F4@-2,名詞%F1,,10324972564259328,37562\n",
            "ね\t助詞,終助詞,,,,,ネ,ね,ね,ネ,ね,ネ,和,,,,,,,終助,ネ,ネ,ネ,ネ,,動詞%F1,名詞%F1,形容詞%F1,,7903847959896576,28754\n",
            "EOS\n",
            "\n"
          ],
          "name": "stdout"
        }
      ]
    },
    {
      "cell_type": "code",
      "metadata": {
        "colab": {
          "base_uri": "https://localhost:8080/"
        },
        "id": "Ovclo0BvIpVL",
        "outputId": "43d81e74-37c2-44d9-c3fd-1357cf3e25d2"
      },
      "source": [
        "result = wakati.parse(sample_txt)\n",
        "print(result)"
      ],
      "execution_count": null,
      "outputs": [
        {
          "output_type": "stream",
          "text": [
            "鬼 滅 の 刃 も いい けれど 、 約束 の ネバー ランド も ね \n",
            "\n"
          ],
          "name": "stdout"
        }
      ]
    },
    {
      "cell_type": "code",
      "metadata": {
        "colab": {
          "base_uri": "https://localhost:8080/"
        },
        "id": "-hYjSDVKZap0",
        "outputId": "c68c385d-71fa-4b5d-aa06-24615b64241f"
      },
      "source": [
        "!apt-get -q -y install mecab libmecab-dev file\n",
        "!git clone --depth 1 https://github.com/neologd/mecab-unidic-neologd.git\n",
        "!echo yes | mecab-unidic-neologd/bin/install-mecab-unidic-neologd -n"
      ],
      "execution_count": null,
      "outputs": [
        {
          "output_type": "stream",
          "text": [
            "Reading package lists...\n",
            "Building dependency tree...\n",
            "Reading state information...\n",
            "The following additional packages will be installed:\n",
            "  libmagic-mgc libmagic1 libmecab2 mecab-jumandic mecab-jumandic-utf8\n",
            "  mecab-utils\n",
            "The following NEW packages will be installed:\n",
            "  file libmagic-mgc libmagic1 libmecab-dev libmecab2 mecab mecab-jumandic\n",
            "  mecab-jumandic-utf8 mecab-utils\n",
            "0 upgraded, 9 newly installed, 0 to remove and 15 not upgraded.\n",
            "Need to get 17.1 MB of archives.\n",
            "After this operation, 227 MB of additional disk space will be used.\n",
            "Get:1 http://archive.ubuntu.com/ubuntu bionic-updates/main amd64 libmagic-mgc amd64 1:5.32-2ubuntu0.4 [184 kB]\n",
            "Get:2 http://archive.ubuntu.com/ubuntu bionic-updates/main amd64 libmagic1 amd64 1:5.32-2ubuntu0.4 [68.6 kB]\n",
            "Get:3 http://archive.ubuntu.com/ubuntu bionic-updates/main amd64 file amd64 1:5.32-2ubuntu0.4 [22.1 kB]\n",
            "Get:4 http://archive.ubuntu.com/ubuntu bionic/universe amd64 libmecab2 amd64 0.996-5 [257 kB]\n",
            "Get:5 http://archive.ubuntu.com/ubuntu bionic/universe amd64 libmecab-dev amd64 0.996-5 [308 kB]\n",
            "Get:6 http://archive.ubuntu.com/ubuntu bionic/universe amd64 mecab-utils amd64 0.996-5 [4,856 B]\n",
            "Get:7 http://archive.ubuntu.com/ubuntu bionic/universe amd64 mecab-jumandic-utf8 all 7.0-20130310-4 [16.2 MB]\n",
            "Get:8 http://archive.ubuntu.com/ubuntu bionic/universe amd64 mecab-jumandic all 7.0-20130310-4 [2,212 B]\n",
            "Get:9 http://archive.ubuntu.com/ubuntu bionic/universe amd64 mecab amd64 0.996-5 [132 kB]\n",
            "Fetched 17.1 MB in 2s (9,479 kB/s)\n",
            "Selecting previously unselected package libmagic-mgc.\n",
            "(Reading database ... 146456 files and directories currently installed.)\n",
            "Preparing to unpack .../0-libmagic-mgc_1%3a5.32-2ubuntu0.4_amd64.deb ...\n",
            "Unpacking libmagic-mgc (1:5.32-2ubuntu0.4) ...\n",
            "Selecting previously unselected package libmagic1:amd64.\n",
            "Preparing to unpack .../1-libmagic1_1%3a5.32-2ubuntu0.4_amd64.deb ...\n",
            "Unpacking libmagic1:amd64 (1:5.32-2ubuntu0.4) ...\n",
            "Selecting previously unselected package file.\n",
            "Preparing to unpack .../2-file_1%3a5.32-2ubuntu0.4_amd64.deb ...\n",
            "Unpacking file (1:5.32-2ubuntu0.4) ...\n",
            "Selecting previously unselected package libmecab2:amd64.\n",
            "Preparing to unpack .../3-libmecab2_0.996-5_amd64.deb ...\n",
            "Unpacking libmecab2:amd64 (0.996-5) ...\n",
            "Selecting previously unselected package libmecab-dev.\n",
            "Preparing to unpack .../4-libmecab-dev_0.996-5_amd64.deb ...\n",
            "Unpacking libmecab-dev (0.996-5) ...\n",
            "Selecting previously unselected package mecab-utils.\n",
            "Preparing to unpack .../5-mecab-utils_0.996-5_amd64.deb ...\n",
            "Unpacking mecab-utils (0.996-5) ...\n",
            "Selecting previously unselected package mecab-jumandic-utf8.\n",
            "Preparing to unpack .../6-mecab-jumandic-utf8_7.0-20130310-4_all.deb ...\n",
            "Unpacking mecab-jumandic-utf8 (7.0-20130310-4) ...\n",
            "Selecting previously unselected package mecab-jumandic.\n",
            "Preparing to unpack .../7-mecab-jumandic_7.0-20130310-4_all.deb ...\n",
            "Unpacking mecab-jumandic (7.0-20130310-4) ...\n",
            "Selecting previously unselected package mecab.\n",
            "Preparing to unpack .../8-mecab_0.996-5_amd64.deb ...\n",
            "Unpacking mecab (0.996-5) ...\n",
            "Setting up libmecab2:amd64 (0.996-5) ...\n",
            "Setting up libmagic-mgc (1:5.32-2ubuntu0.4) ...\n",
            "Setting up libmagic1:amd64 (1:5.32-2ubuntu0.4) ...\n",
            "Setting up mecab-utils (0.996-5) ...\n",
            "Setting up libmecab-dev (0.996-5) ...\n",
            "Setting up file (1:5.32-2ubuntu0.4) ...\n",
            "Setting up mecab-jumandic-utf8 (7.0-20130310-4) ...\n",
            "Compiling Juman dictionary for Mecab.\n",
            "reading /usr/share/mecab/dic/juman/unk.def ... 37\n",
            "emitting double-array: 100% |###########################################| \n",
            "reading /usr/share/mecab/dic/juman/Noun.hukusi.csv ... 81\n",
            "reading /usr/share/mecab/dic/juman/Suffix.csv ... 2128\n",
            "reading /usr/share/mecab/dic/juman/Auto.csv ... 18931\n",
            "reading /usr/share/mecab/dic/juman/Assert.csv ... 34\n",
            "reading /usr/share/mecab/dic/juman/Rengo.csv ... 1118\n",
            "reading /usr/share/mecab/dic/juman/Special.csv ... 158\n",
            "reading /usr/share/mecab/dic/juman/Noun.suusi.csv ... 49\n",
            "reading /usr/share/mecab/dic/juman/AuxV.csv ... 593\n",
            "reading /usr/share/mecab/dic/juman/Noun.keishiki.csv ... 8\n",
            "reading /usr/share/mecab/dic/juman/Noun.koyuu.csv ... 7964\n",
            "reading /usr/share/mecab/dic/juman/Prefix.csv ... 90\n",
            "reading /usr/share/mecab/dic/juman/Postp.csv ... 108\n",
            "reading /usr/share/mecab/dic/juman/Emoticon.csv ... 972\n",
            "reading /usr/share/mecab/dic/juman/Wikipedia.csv ... 167709\n",
            "reading /usr/share/mecab/dic/juman/Demonstrative.csv ... 97\n",
            "reading /usr/share/mecab/dic/juman/ContentW.csv ... 551145\n",
            "emitting double-array: 100% |###########################################| \n",
            "reading /usr/share/mecab/dic/juman/matrix.def ... 1876x1876\n",
            "emitting matrix      : 100% |###########################################| \n",
            "\n",
            "done!\n",
            "update-alternatives: using /var/lib/mecab/dic/juman-utf8 to provide /var/lib/mecab/dic/debian (mecab-dictionary) in auto mode\n",
            "Setting up mecab (0.996-5) ...\n",
            "Setting up mecab-jumandic (7.0-20130310-4) ...\n",
            "Processing triggers for man-db (2.8.3-2ubuntu0.1) ...\n",
            "Processing triggers for libc-bin (2.27-3ubuntu1.3) ...\n",
            "/sbin/ldconfig.real: /usr/local/lib/python3.6/dist-packages/ideep4py/lib/libmkldnn.so.0 is not a symbolic link\n",
            "\n",
            "Cloning into 'mecab-unidic-neologd'...\n",
            "remote: Enumerating objects: 20, done.\u001b[K\n",
            "remote: Counting objects: 100% (20/20), done.\u001b[K\n",
            "remote: Compressing objects: 100% (19/19), done.\u001b[K\n",
            "remote: Total 20 (delta 3), reused 7 (delta 0), pack-reused 0\u001b[K\n",
            "Unpacking objects: 100% (20/20), done.\n",
            "[install-mecab-unidic-neologd] : Start..\n",
            "[install-mecab-unidic-neologd] : Check the existance of libraries\n",
            "[install-mecab-unidic-neologd] : find => ok\n",
            "[install-mecab-unidic-neologd] : sort => ok\n",
            "[install-mecab-unidic-neologd] : head => ok\n",
            "[install-mecab-unidic-neologd] : cut => ok\n",
            "[install-mecab-unidic-neologd] : egrep => ok\n",
            "[install-mecab-unidic-neologd] : mecab => ok\n",
            "[install-mecab-unidic-neologd] : mecab-config => ok\n",
            "[install-mecab-unidic-neologd] : make => ok\n",
            "[install-mecab-unidic-neologd] : curl => ok\n",
            "[install-mecab-unidic-neologd] : sed => ok\n",
            "[install-mecab-unidic-neologd] : cat => ok\n",
            "[install-mecab-unidic-neologd] : diff => ok\n",
            "[install-mecab-unidic-neologd] : tar => ok\n",
            "[install-mecab-unidic-neologd] : unzip => ok\n",
            "[install-mecab-unidic-neologd] : unxz => ok\n",
            "[install-mecab-unidic-neologd] : xargs => ok\n",
            "[install-mecab-unidic-neologd] : grep => ok\n",
            "[install-mecab-unidic-neologd] : iconv => ok\n",
            "[install-mecab-unidic-neologd] : patch => ok\n",
            "[install-mecab-unidic-neologd] : which => ok\n",
            "[install-mecab-unidic-neologd] : file => ok\n",
            "[install-mecab-unidic-neologd] : openssl => ok\n",
            "\n",
            "[install-mecab-unidic-neologd] : mecab-unidic-NEologd is already up-to-date\n",
            "\n",
            "[install-mecab-unidic-neologd] : mecab-unidic-neologd will be install to /usr/lib/x86_64-linux-gnu/mecab/dic/mecab-unidic-neologd\n",
            "\n",
            "[install-mecab-unidic-neologd] : Make mecab-unidic-neologd\n",
            "[make-mecab-unidic-neologd] : Start..\n",
            "[make-mecab-unidic-neologd] : Check local seed directory\n",
            "[make-mecab-unidic-neologd] : Check local seed file\n",
            "[make-mecab-unidic-neologd] : Check local build directory\n",
            "[make-mecab-unidic-neologd] : create /content/mecab-unidic-neologd/libexec/../build\n",
            "[make-mecab-unidic-neologd] : Download original unidic-mecab file\n",
            "  % Total    % Received % Xferd  Average Speed   Time    Time     Time  Current\n",
            "                                 Dload  Upload   Total   Spent    Left  Speed\n",
            "100     2    0     2    0     0      5      0 --:--:-- --:--:-- --:--:--     5\n",
            "  0     0    0     0    0     0      0      0 --:--:-- --:--:-- --:--:--     0\n",
            "100  134M  100  134M    0     0  4962k      0  0:00:27  0:00:27 --:--:-- 5660k\n",
            "[make-mecab-unidic-neologd] : Decompress original mecab-unidic file\n",
            "Archive:  /content/mecab-unidic-neologd/libexec/../build/unidic-mecab-2.1.2_src.zip\n",
            " extracting: /content/mecab-unidic-neologd/libexec/../build/unidic-mecab-2.1.2_src/AUTHORS  \n",
            "  inflating: /content/mecab-unidic-neologd/libexec/../build/unidic-mecab-2.1.2_src/BSD  \n",
            "  inflating: /content/mecab-unidic-neologd/libexec/../build/unidic-mecab-2.1.2_src/COPYING  \n",
            "  inflating: /content/mecab-unidic-neologd/libexec/../build/unidic-mecab-2.1.2_src/ChangeLog  \n",
            "  inflating: /content/mecab-unidic-neologd/libexec/../build/unidic-mecab-2.1.2_src/GPL  \n",
            " extracting: /content/mecab-unidic-neologd/libexec/../build/unidic-mecab-2.1.2_src/INSTALL  \n",
            "  inflating: /content/mecab-unidic-neologd/libexec/../build/unidic-mecab-2.1.2_src/LGPL  \n",
            "  inflating: /content/mecab-unidic-neologd/libexec/../build/unidic-mecab-2.1.2_src/Makefile.am  \n",
            "  inflating: /content/mecab-unidic-neologd/libexec/../build/unidic-mecab-2.1.2_src/Makefile.bat  \n",
            "  inflating: /content/mecab-unidic-neologd/libexec/../build/unidic-mecab-2.1.2_src/Makefile.in  \n",
            " extracting: /content/mecab-unidic-neologd/libexec/../build/unidic-mecab-2.1.2_src/NEWS  \n",
            " extracting: /content/mecab-unidic-neologd/libexec/../build/unidic-mecab-2.1.2_src/README  \n",
            "  inflating: /content/mecab-unidic-neologd/libexec/../build/unidic-mecab-2.1.2_src/aclocal.m4  \n",
            "  inflating: /content/mecab-unidic-neologd/libexec/../build/unidic-mecab-2.1.2_src/char.def  \n",
            "  inflating: /content/mecab-unidic-neologd/libexec/../build/unidic-mecab-2.1.2_src/configure  \n",
            "  inflating: /content/mecab-unidic-neologd/libexec/../build/unidic-mecab-2.1.2_src/configure.ac  \n",
            "  inflating: /content/mecab-unidic-neologd/libexec/../build/unidic-mecab-2.1.2_src/dicrc  \n",
            "  inflating: /content/mecab-unidic-neologd/libexec/../build/unidic-mecab-2.1.2_src/feature.def  \n",
            "  inflating: /content/mecab-unidic-neologd/libexec/../build/unidic-mecab-2.1.2_src/install-sh  \n",
            "  inflating: /content/mecab-unidic-neologd/libexec/../build/unidic-mecab-2.1.2_src/left-id.def  \n",
            "  inflating: /content/mecab-unidic-neologd/libexec/../build/unidic-mecab-2.1.2_src/lex.csv  \n",
            "  inflating: /content/mecab-unidic-neologd/libexec/../build/unidic-mecab-2.1.2_src/matrix.def  \n",
            "  inflating: /content/mecab-unidic-neologd/libexec/../build/unidic-mecab-2.1.2_src/missing  \n",
            "  inflating: /content/mecab-unidic-neologd/libexec/../build/unidic-mecab-2.1.2_src/rewrite.def  \n",
            "  inflating: /content/mecab-unidic-neologd/libexec/../build/unidic-mecab-2.1.2_src/right-id.def  \n",
            "  inflating: /content/mecab-unidic-neologd/libexec/../build/unidic-mecab-2.1.2_src/unidic-mecab.pdf  \n",
            "  inflating: /content/mecab-unidic-neologd/libexec/../build/unidic-mecab-2.1.2_src/unk.def  \n",
            "[make-mecab-unidic-neologd] : Configure custom system dictionary on /content/mecab-unidic-neologd/libexec/../build/unidic-mecab-2.1.2_src-neologd-20200910\n",
            "checking for a BSD-compatible install... /usr/bin/install -c\n",
            "checking whether build environment is sane... yes\n",
            "checking for a thread-safe mkdir -p... /bin/mkdir -p\n",
            "checking for gawk... no\n",
            "checking for mawk... mawk\n",
            "checking whether make sets $(MAKE)... yes\n",
            "checking whether ln -s works... yes\n",
            "checking for mecab-config... /usr/bin/mecab-config\n",
            "configure: creating ./config.status\n",
            "config.status: creating Makefile\n",
            "[make-mecab-unidic-neologd] : Copy user dictionary resource\n",
            "[make-mecab-unidic-neologd] : Re-Index system dictionary\n",
            "./pos-id.def is not found. minimum setting is used\n",
            "reading ./unk.def ... 35\n",
            "emitting double-array: 100% |###########################################| \n",
            "./model.def is not found. skipped.\n",
            "./pos-id.def is not found. minimum setting is used\n",
            "tcmalloc: large alloc 1124081664 bytes == 0x55ca3948c000 @  0x7f6617198887 0x7f6616307b8b 0x7f6616309133 0x7f6616e0da66 0x7f6616de1e53 0x7f66169c7bf7 0x55c9f569867a\n",
            "reading ./mecab-unidic-user-dict-seed.20200910.csv ... 3384963\n",
            "reading ./lex.csv ... 756463\n",
            "emitting double-array: 100% |###########################################| \n",
            "reading ./matrix.def ... 5981x5981\n",
            "emitting matrix      : 100% |###########################################| \n",
            "\n",
            "done!\n",
            "[make-mecab-unidic-neologd] : Make custom system dictionary on /content/mecab-unidic-neologd/libexec/../build/unidic-mecab-2.1.2_src-neologd-20200910\n",
            "make: Nothing to be done for 'all'.\n",
            "[make-mecab-unidic-neologd] : Finish..\n",
            "[install-mecab-unidic-neologd] : Get results of tokenize test\n",
            "[test-mecab-unidic-NEologd] : Start..\n",
            "[test-mecab-unidic-NEologd] : Replace timestamp from 'git clone' date to 'git commit' date\n",
            "/content/mecab-unidic-neologd/libexec/../build/unidic-mecab-2.1.2_src-neologd-20200910\n",
            "[test-mecab-unidic-NEologd] : Get buzz phrases\n",
            "  % Total    % Received % Xferd  Average Speed   Time    Time     Time  Current\n",
            "                                 Dload  Upload   Total   Spent    Left  Speed\n",
            "100 32372    0 32372    0     0  28421      0 --:--:--  0:00:01 --:--:-- 28421\n",
            "[test-mecab-unidic-NEologd] : Get difference between default system dictionary and mecab-unidic-NEologd\n",
            "[test-mecab-unidic-NEologd] : Tokenize phrase using default system dictionary\n",
            "[test-mecab-unidic-NEologd] : Tokenize phrase using mecab-unidic-NEologd\n",
            "[test-mecab-unidic-NEologd] : Get result of diff\n",
            "[test-mecab-unidic-NEologd] : Please check difference between default system dictionary and mecab-unidic-NEologd\n",
            "\n",
            "unidic-mecab 2.1.2\t     |\tmecab-unidic-NEologd\n",
            "param.cpp(69) [ifs] no such  <\n",
            "\n",
            "[test-mecab-unidic-NEologd] : Finish..\n",
            "\n",
            "[install-mecab-unidic-neologd] : Please check the list of differences in the upper part.\n",
            "\n",
            "[install-mecab-unidic-neologd] : Do you want to install mecab-unidic-neologd? Type yes or no.\n",
            "[install-mecab-unidic-neologd] : OK. Let's install mecab-unidic-neologd.\n",
            "[install-mecab-unidic-neologd] : Start..\n",
            "[install-mecab-unidic-neologd] : Sudo make install to /usr/lib/x86_64-linux-gnu/mecab/dic/mecab-unidic-neologd\n",
            "make[1]: Entering directory '/content/mecab-unidic-neologd/build/unidic-mecab-2.1.2_src-neologd-20200910'\n",
            "make[1]: Nothing to be done for 'install-exec-am'.\n",
            "test -z \"/usr/lib/x86_64-linux-gnu/mecab/dic/mecab-unidic-neologd\" || /bin/mkdir -p \"/usr/lib/x86_64-linux-gnu/mecab/dic/mecab-unidic-neologd\"\n",
            " /usr/bin/install -c -m 644 'dicrc' '/usr/lib/x86_64-linux-gnu/mecab/dic/mecab-unidic-neologd/dicrc'\n",
            " /usr/bin/install -c -m 644 'char.bin' '/usr/lib/x86_64-linux-gnu/mecab/dic/mecab-unidic-neologd/char.bin'\n",
            " /usr/bin/install -c -m 644 'unk.dic' '/usr/lib/x86_64-linux-gnu/mecab/dic/mecab-unidic-neologd/unk.dic'\n",
            " /usr/bin/install -c -m 644 'sys.dic' '/usr/lib/x86_64-linux-gnu/mecab/dic/mecab-unidic-neologd/sys.dic'\n",
            " /usr/bin/install -c -m 644 'matrix.bin' '/usr/lib/x86_64-linux-gnu/mecab/dic/mecab-unidic-neologd/matrix.bin'\n",
            "make[1]: Leaving directory '/content/mecab-unidic-neologd/build/unidic-mecab-2.1.2_src-neologd-20200910'\n",
            "\n",
            "[install-mecab-unidic-neologd] : Install completed.\n",
            "[install-mecab-unidic-neologd] : When you use MeCab, you can set '/usr/lib/x86_64-linux-gnu/mecab/dic/mecab-unidic-neologd' as a value of '-d' option of MeCab.\n",
            "[install-mecab-unidic-neologd] : Usage of mecab-unidic-neologd is here.\n",
            "Usage:\n",
            "    $ mecab -d /usr/lib/x86_64-linux-gnu/mecab/dic/mecab-unidic-neologd ...\n",
            "\n",
            "[install-mecab-unidic-neologd] : Finish..\n",
            "[install-mecab-unidic-neologd] : Finish..\n"
          ],
          "name": "stdout"
        }
      ]
    },
    {
      "cell_type": "code",
      "metadata": {
        "colab": {
          "base_uri": "https://localhost:8080/"
        },
        "id": "40ieuSrOaz-8",
        "outputId": "222e2ffd-9ed8-4698-deb2-ac82ff41adb2"
      },
      "source": [
        "tagger1 = MeCab.Tagger()\n",
        "dicdir = '-d /usr/lib/x86_64-linux-gnu/mecab/dic/mecab-unidic-neologd'\n",
        "tagger2 = MeCab.Tagger(dicdir)\n",
        "\n",
        "sample_txt = '鬼滅の刃もいいけれど、約束のネバーランドもね'\n",
        "print(tagger1.parse(sample_txt))\n",
        "print(tagger2.parse(sample_txt))"
      ],
      "execution_count": null,
      "outputs": [
        {
          "output_type": "stream",
          "text": [
            "鬼\t名詞,普通名詞,一般,,,,オニ,鬼,鬼,オニ,鬼,オニ,和,,,,,,,体,オニ,オニ,オニ,オニ,2,C3,,1408208140902912,5123\n",
            "滅\t名詞,普通名詞,一般,,,\n",
            "の\t助詞,格助詞,,,,,ノ,の,の,ノ,の,ノ,和,,,,,,,格助,ノ,ノ,ノ,ノ,,名詞%F1,,7968444268028416,28989\n",
            "刃\t名詞,普通名詞,一般,,,,ハ,刃,刃,ハ,刃,ハ,和,ハ濁,基本形,,,,,体,ハ,ハ,ハ,ハ,1,C3,,8060803244761600,29325\n",
            "も\t助詞,係助詞,,,,,モ,も,も,モ,も,モ,和,,,,,,,係助,モ,モ,モ,モ,,動詞%F2@-1,形容詞%F4@-2,名詞%F1,,10324972564259328,37562\n",
            "いい\t形容詞,非自立可能,,,形容詞,終止形-一般,ヨイ,良い,いい,イー,いい,イー,和,,,,,,,相,イイ,イイ,イイ,イイ,1,C3,,10716948459561643,38988\n",
            "けれど\t助詞,接続助詞,,,,,ケレド,けれど,けれど,ケレド,けれど,ケレド,和,,,,,,,接助,ケレド,ケレド,ケレド,ケレド,,動詞%F2@0,形容詞%F2@-1,,3089095131800064,11238\n",
            "、\t補助記号,読点,,,,,,、,、,,、,,記号,,,,,,,補助,,,,,,,,6605693395456,24\n",
            "約束\t名詞,普通名詞,サ変可能,,,,ヤクソク,約束,約束,ヤクソク,約束,ヤクソク,漢,,,,,,,体,ヤクソク,ヤクソク,ヤクソク,ヤクソク,0,C2,,10495396866564608,38182\n",
            "の\t助詞,格助詞,,,,,ノ,の,の,ノ,の,ノ,和,,,,,,,格助,ノ,ノ,ノ,ノ,,名詞%F1,,7968444268028416,28989\n",
            "ネバー\t名詞,普通名詞,一般,,,,ネバー,ネバー-never,ネバー,ネバー,ネバー,ネバー,外,,,,,,,体,ネバー,ネバー,ネバー,ネバー,1,C1,,22987498225541632,83628\n",
            "ランド\t名詞,普通名詞,一般,,,,ランド,ランド-land,ランド,ランド,ランド,ランド,外,,,,,,,体,ランド,ランド,ランド,ランド,1,C1,,10950044924649984,39836\n",
            "も\t助詞,係助詞,,,,,モ,も,も,モ,も,モ,和,,,,,,,係助,モ,モ,モ,モ,,動詞%F2@-1,形容詞%F4@-2,名詞%F1,,10324972564259328,37562\n",
            "ね\t助詞,終助詞,,,,,ネ,ね,ね,ネ,ね,ネ,和,,,,,,,終助,ネ,ネ,ネ,ネ,,動詞%F1,名詞%F1,形容詞%F1,,7903847959896576,28754\n",
            "EOS\n",
            "\n",
            "鬼滅の刃\tキメツノヤイバ\tキメツノヤイバ\t鬼滅の刃\t名詞-固有名詞-一般\t\t\n",
            "も\tモ\tモ\tも\t助詞-係助詞\t\t\n",
            "いい\tイー\tヨイ\t良い\t形容詞-非自立可能\t形容詞\t終止形-一般\n",
            "けれど\tケレド\tケレド\tけれど\t助詞-接続助詞\t\t\n",
            "、\t\t\t、\t補助記号-読点\t\t\n",
            "約束のネバーランド\tヤクソクノネバーランド\tヤクソクノネバーランド\t約束のネバーランド\t名詞-固有名詞-一般\t\t\n",
            "も\tモ\tモ\tも\t助詞-係助詞\t\t\n",
            "ね\tネ\tネ\tね\t助詞-終助詞\t\t\n",
            "EOS\n",
            "\n"
          ],
          "name": "stdout"
        }
      ]
    },
    {
      "cell_type": "code",
      "metadata": {
        "colab": {
          "base_uri": "https://localhost:8080/"
        },
        "id": "G-6kBybpO1qX",
        "outputId": "d2ee6416-6359-4a2f-9919-8b862d61ca6d"
      },
      "source": [
        "wakati1 = MeCab.Tagger('-Owakati')\n",
        "dicdir = '-d /usr/lib/x86_64-linux-gnu/mecab/dic/mecab-unidic-neologd'\n",
        "wakati2 = MeCab.Tagger('-Owakati ' + dicdir)\n",
        "\n",
        "sample_txt = '鬼滅の刃もいいけれど、約束のネバーランドもね'\n",
        "print(wakati1.parse(sample_txt))\n",
        "print(wakati2.parse(sample_txt))"
      ],
      "execution_count": null,
      "outputs": [
        {
          "output_type": "stream",
          "text": [
            "鬼 滅 の 刃 も いい けれど 、 約束 の ネバー ランド も ね \n",
            "\n",
            "鬼滅の刃 も いい けれど 、 約束のネバーランド も ね \n",
            "\n"
          ],
          "name": "stdout"
        }
      ]
    }
  ]
}