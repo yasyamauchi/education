{
  "cells": [
    {
      "cell_type": "markdown",
      "metadata": {
        "id": "view-in-github",
        "colab_type": "text"
      },
      "source": [
        "<a href=\"https://colab.research.google.com/github/yasyamauchi/education/blob/main/m5stack_imu2025.ipynb\" target=\"_parent\"><img src=\"https://colab.research.google.com/assets/colab-badge.svg\" alt=\"Open In Colab\"/></a>"
      ]
    },
    {
      "cell_type": "markdown",
      "id": "7793ecc4",
      "metadata": {
        "id": "7793ecc4"
      },
      "source": [
        "# プロジェクトⅤ用(2025) m5stackのIMUデータ処理"
      ]
    },
    {
      "cell_type": "markdown",
      "id": "69d6edc8",
      "metadata": {
        "id": "69d6edc8"
      },
      "source": [
        "2025/03/31　山内  \n",
        "  \n",
        "  2023年のものを以下のように改造  \n",
        "  * サンプリング周波数は40Hzに上げる\n",
        "  * X(前後方向)とY(左右方向)の回転角を扱う\n",
        "  * スペクトログラムとフーリエ変換を行う"
      ]
    },
    {
      "cell_type": "markdown",
      "id": "d25ce589",
      "metadata": {
        "id": "d25ce589"
      },
      "source": [
        "### Scipyの参考：  https://atatat.hatenablog.com/entry/data_proc_python4"
      ]
    },
    {
      "cell_type": "markdown",
      "source": [
        "# 1) m5Stack Fireで得られたファイル\"A.csv\", \"B.csv\", \"C.csv\"(ある場合)をGoogle Colabにアップロードする  \n",
        "方法は別途指示する．"
      ],
      "metadata": {
        "id": "4ZMqK-e0O0vJ"
      },
      "id": "4ZMqK-e0O0vJ"
    },
    {
      "cell_type": "markdown",
      "source": [
        "# 2)下のメニューから処理するファイル名を選択する  \n",
        "2025年度の場合，\n",
        "\n",
        "\n",
        "*   A.csv: 介助あり　下スロープ\n",
        "*   B.csv: 介助なし　上スロープ\n",
        "*   C.csv: 使用しない(予備)\n",
        "\n"
      ],
      "metadata": {
        "id": "qIaxqJjrOUIF"
      },
      "id": "qIaxqJjrOUIF"
    },
    {
      "cell_type": "code",
      "source": [
        "filename = 'A.csv' #@param [\"A.csv\", \"B.csv\", \"C.csv\"] {allow-input: true}"
      ],
      "metadata": {
        "id": "JeuK7Z9ZOdPF"
      },
      "id": "JeuK7Z9ZOdPF",
      "execution_count": null,
      "outputs": []
    },
    {
      "cell_type": "markdown",
      "source": [
        "# 3) メニューの「ランタイム」→「すべてのセルを実行」を選ぶ"
      ],
      "metadata": {
        "id": "dhBxA73uPLhr"
      },
      "id": "dhBxA73uPLhr"
    },
    {
      "cell_type": "code",
      "execution_count": null,
      "id": "4dc168fc",
      "metadata": {
        "id": "4dc168fc"
      },
      "outputs": [],
      "source": [
        "import numpy as np\n",
        "from scipy import signal\n",
        "from matplotlib import pyplot as plt"
      ]
    },
    {
      "cell_type": "markdown",
      "id": "ad30f8e0",
      "metadata": {
        "id": "ad30f8e0"
      },
      "source": [
        "## ローパスフィルタの関数"
      ]
    },
    {
      "cell_type": "code",
      "execution_count": null,
      "id": "91937123",
      "metadata": {
        "id": "91937123"
      },
      "outputs": [],
      "source": [
        "def lowpass(x, samplerate, fp, fs, gpass, gstop):\n",
        "    fn = samplerate / 2   #ナイキスト周波数\n",
        "    wp = fp / fn  #ナイキスト周波数で通過域端周波数を正規化\n",
        "    ws = fs / fn  #ナイキスト周波数で阻止域端周波数を正規化\n",
        "    N, Wn = signal.buttord(wp, ws, gpass, gstop)  #オーダーとバターワースの正規化周波数を計算\n",
        "    b, a = signal.butter(N, Wn, \"low\")            #フィルタ伝達関数の分子と分母を計算\n",
        "    y = signal.filtfilt(b, a, x)                  #信号に対してフィルタをかける\n",
        "    return y"
      ]
    },
    {
      "cell_type": "markdown",
      "id": "76f5ad1c",
      "metadata": {
        "id": "76f5ad1c"
      },
      "source": [
        "## データファイルの読み込み"
      ]
    },
    {
      "cell_type": "code",
      "execution_count": null,
      "id": "eeed32b0",
      "metadata": {
        "id": "eeed32b0"
      },
      "outputs": [],
      "source": [
        "m5stack = np.loadtxt(filename,delimiter=',',skiprows=1)"
      ]
    },
    {
      "cell_type": "markdown",
      "source": [
        "# 4) 結果を観察する"
      ],
      "metadata": {
        "id": "Oy_ORRyZTzNy"
      },
      "id": "Oy_ORRyZTzNy"
    },
    {
      "cell_type": "markdown",
      "id": "e2608be9",
      "metadata": {
        "id": "e2608be9"
      },
      "source": [
        "## 結果１：生データを観察する  \n",
        "上からRotX(前後の傾き)，RotY(左右の傾き)，AccZ(上下の加速度)  \n",
        "赤線はローパスフィルター処理後"
      ]
    },
    {
      "cell_type": "code",
      "execution_count": null,
      "id": "d74953c1",
      "metadata": {
        "id": "d74953c1"
      },
      "outputs": [],
      "source": [
        "samplerate = 40 # サンプリング周波数は10Hz\n",
        "fp = 0.08 # 通過域端周波数[Hz]\n",
        "fs = 0.2 # 阻止域端周波数[Hz]\n",
        "gpass = 3 # 通過域端最大損失[dB]\n",
        "gstop = 40 # 阻止域端最小損失[dB]\n",
        "\n",
        "x = np.arange(0, m5stack.shape[0]) / samplerate\n",
        "AccX = m5stack[:,4]\n",
        "AccY = m5stack[:,5]\n",
        "AccZ = m5stack[:,6]\n",
        "RotX = m5stack[:,7]\n",
        "RotY = m5stack[:,8]\n",
        "\n",
        "# ローパスをする関数を実行\n",
        "RotX_lofilt = lowpass(RotX, samplerate, fp, fs, gpass, gstop)\n",
        "RotY_lofilt = lowpass(RotY, samplerate, fp, fs, gpass, gstop)\n",
        "AccZ_lofilt = lowpass(AccZ, samplerate, fp, fs, gpass, gstop)\n",
        "\n",
        "# グラフ描画\n",
        "fig = plt.figure(figsize=(16,14))\n",
        "ax1 = fig.add_subplot(3, 1, 1)\n",
        "ax2 = fig.add_subplot(3, 1, 2)\n",
        "ax3 = fig.add_subplot(3, 1, 3)\n",
        "\n",
        "ax1.plot(x,RotX)\n",
        "ax1.plot(x,RotX_lofilt,'r')\n",
        "ax1.legend(['Raw','Lowpass'])\n",
        "ax1.set_title('X axis Rotation', y=-0.2)\n",
        "ax1.set_xlabel('Time (s)')\n",
        "ax1.set_ylabel('Rot. (deg)')\n",
        "ax1.set_ylim(-10,10)\n",
        "ax1.minorticks_on()\n",
        "ax1.grid(color=\"black\", linestyle=\"--\")\n",
        "\n",
        "ax2.plot(x,RotY)\n",
        "ax2.plot(x,RotY_lofilt,'r')\n",
        "ax2.legend(['Raw','Lowpass'])\n",
        "ax2.set_title('Y axis Rotation', y=-0.2)\n",
        "ax2.set_xlabel('Time (s)')\n",
        "ax2.set_ylabel('Rot. (deg)')\n",
        "ax2.set_ylim(-10,10)\n",
        "ax2.minorticks_on()\n",
        "ax2.grid(color=\"black\", linestyle=\"--\")\n",
        "\n",
        "ax3.plot(x,AccZ)\n",
        "ax3.plot(x,AccZ_lofilt,'r')\n",
        "ax3.legend(['Raw','Lowpass'])\n",
        "ax3.set_title('Z axis Acceleration', y=-0.2)\n",
        "ax3.set_xlabel('Time (s)')\n",
        "ax3.set_ylabel('Acc. (mG)')\n",
        "ax3.set_ylim(0,2000)\n",
        "ax3.minorticks_on()\n",
        "ax3.grid(color=\"black\", linestyle=\"--\")\n",
        "\n",
        "fig.tight_layout(h_pad=4)              #レイアウトの設定\n",
        "plt.show()"
      ]
    },
    {
      "cell_type": "markdown",
      "id": "63604382",
      "metadata": {
        "id": "63604382"
      },
      "source": [
        "## 結果２：フーリエ変換を実行する  \n",
        "上からRotX(前後の傾き)，RotY(左右の傾き)"
      ]
    },
    {
      "cell_type": "code",
      "source": [
        "from scipy.fft import fft, fftfreq\n",
        "\n",
        "N = len(RotX) # Length of the AccY data\n",
        "yf1 = fft(RotX) # Perform the Fourier Transform on RotX\n",
        "xf1 = fftfreq(N, 1 / samplerate) # Generate frequency axis for the transformed data\n",
        "\n",
        "# Plot the single-sided amplitude spectrum\n",
        "fig = plt.figure(figsize=(10, 6))\n",
        "plt.plot(xf1[0:N//2], np.abs(yf1[0:N//2])) # Plot the positive frequencies\n",
        "fig.suptitle('FFT of X axis Rotation', y=0.0)\n",
        "plt.xlabel('Frequency [Hz]')\n",
        "plt.ylabel('Amplitude')\n",
        "plt.ylim(0,8000)\n",
        "plt.grid()"
      ],
      "metadata": {
        "id": "nUSOBfBHRv8R"
      },
      "execution_count": null,
      "outputs": [],
      "id": "nUSOBfBHRv8R"
    },
    {
      "cell_type": "code",
      "source": [
        "from scipy.fft import fft, fftfreq\n",
        "\n",
        "N = len(RotY) # Length of the AccY data\n",
        "yf1 = fft(RotY) # Perform the Fourier Transform on RotX\n",
        "xf1 = fftfreq(N, 1 / samplerate) # Generate frequency axis for the transformed data\n",
        "\n",
        "# Plot the single-sided amplitude spectrum\n",
        "fig = plt.figure(figsize=(10, 6))\n",
        "plt.plot(xf1[0:N//2], np.abs(yf1[0:N//2])) # Plot the positive frequencies\n",
        "fig.suptitle('FFT of Y axis Rotation', y=0.0)\n",
        "plt.xlabel('Frequency [Hz]')\n",
        "plt.ylabel('Amplitude')\n",
        "plt.ylim(0,8000)\n",
        "plt.grid()"
      ],
      "metadata": {
        "id": "dB9iPlgdSWAp"
      },
      "execution_count": null,
      "outputs": [],
      "id": "dB9iPlgdSWAp"
    },
    {
      "cell_type": "markdown",
      "source": [
        "## 結果３：スペクトログラムを観察する  \n",
        "上からRotX(前後の傾き)，RotY(左右の傾き)  \n",
        "条件：窓関数サイズ512，ホップサイズ128"
      ],
      "metadata": {
        "id": "nOMittE4QbiP"
      },
      "id": "nOMittE4QbiP"
    },
    {
      "cell_type": "code",
      "source": [
        "# 参考：https://nettyukobo.com/python_scipy_signal_spectrogram/\n",
        "\n",
        "# 窓関数作成\n",
        "win = signal.windows.hann(512)  # 窓関数\n",
        "\n",
        "# スぺクトログラム作成\n",
        "SFT = signal.ShortTimeFFT(win, hop=128, fs=samplerate, fft_mode='onesided2X', scale_to='magnitude')\n",
        "Sxx = SFT.spectrogram(RotX)\n",
        "Sxx_dB = 10 * np.log10(np.fmax(Sxx, 1e-8))\n",
        "\n",
        "# 時間軸と周波数軸の作成\n",
        "N_t = np.arange(Sxx.shape[1])\n",
        "t = SFT.delta_t * N_t\n",
        "f = SFT.f\n",
        "\n",
        "# グラフ作成\n",
        "fig = plt.figure(figsize=(12,6))\n",
        "fig.suptitle('Spectrogram of X axis Rotation', y=0.0)\n",
        "plt.pcolormesh(t, f, Sxx_dB, cmap=\"jet\")\n",
        "plt.colorbar(label=\"Power [dbFS]\")\n",
        "plt.ylabel('Frequency [Hz]')\n",
        "plt.xlabel('Time [sec]')"
      ],
      "metadata": {
        "id": "mhvYE3tvE2qV"
      },
      "id": "mhvYE3tvE2qV",
      "execution_count": null,
      "outputs": []
    },
    {
      "cell_type": "code",
      "source": [
        "# 参考：https://nettyukobo.com/python_scipy_signal_spectrogram/\n",
        "\n",
        "# 窓関数作成\n",
        "win = signal.windows.hann(512)  # 窓関数\n",
        "\n",
        "# スぺクトログラム作成\n",
        "SFT = signal.ShortTimeFFT(win, hop=128, fs=samplerate, fft_mode='onesided2X', scale_to='magnitude')\n",
        "Sxx = SFT.spectrogram(RotY)\n",
        "Sxx_dB = 10 * np.log10(np.fmax(Sxx, 1e-8))\n",
        "\n",
        "# 時間軸と周波数軸の作成\n",
        "N_t = np.arange(Sxx.shape[1])\n",
        "t = SFT.delta_t * N_t\n",
        "f = SFT.f\n",
        "\n",
        "# グラフ作成\n",
        "fig = plt.figure(figsize=(12,6))\n",
        "fig.suptitle('Spectrogram of Y axis Rotation', y=0.0)\n",
        "plt.pcolormesh(t, f, Sxx_dB, cmap=\"jet\")\n",
        "plt.colorbar(label=\"Power [dbFS]\")\n",
        "plt.ylabel('Frequency [Hz]')\n",
        "plt.xlabel('Time [sec]')"
      ],
      "metadata": {
        "id": "G2SWvdE7MgRv"
      },
      "execution_count": null,
      "outputs": [],
      "id": "G2SWvdE7MgRv"
    },
    {
      "cell_type": "markdown",
      "source": [
        "# 5) 他のファイルを処理したい場合は2)で別のファイルを選択し，3)を改めて実行する．"
      ],
      "metadata": {
        "id": "G6s9NlpZmyoC"
      },
      "id": "G6s9NlpZmyoC"
    },
    {
      "cell_type": "markdown",
      "source": [
        "# 6) 5つの図をすべて保存して持ち帰る  \n",
        "Windowsの場合，グラフの上で右クリックして「名前をつけて画像を保存」  \n",
        "区別がつくように気をつける！"
      ],
      "metadata": {
        "id": "hmkqkEc1TfVB"
      },
      "id": "hmkqkEc1TfVB"
    },
    {
      "cell_type": "code",
      "source": [],
      "metadata": {
        "id": "YGsu6P-VUITZ"
      },
      "id": "YGsu6P-VUITZ",
      "execution_count": null,
      "outputs": []
    }
  ],
  "metadata": {
    "kernelspec": {
      "display_name": "Python 3 (ipykernel)",
      "language": "python",
      "name": "python3"
    },
    "language_info": {
      "codemirror_mode": {
        "name": "ipython",
        "version": 3
      },
      "file_extension": ".py",
      "mimetype": "text/x-python",
      "name": "python",
      "nbconvert_exporter": "python",
      "pygments_lexer": "ipython3",
      "version": "3.9.13"
    },
    "colab": {
      "provenance": [],
      "toc_visible": true,
      "include_colab_link": true
    }
  },
  "nbformat": 4,
  "nbformat_minor": 5
}