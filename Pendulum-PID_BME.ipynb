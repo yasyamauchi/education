{
  "cells": [
    {
      "cell_type": "markdown",
      "metadata": {
        "id": "view-in-github",
        "colab_type": "text"
      },
      "source": [
        "<a href=\"https://colab.research.google.com/github/yasyamauchi/education/blob/main/Pendulum-PID_BME.ipynb\" target=\"_parent\"><img src=\"https://colab.research.google.com/assets/colab-badge.svg\" alt=\"Open In Colab\"/></a>"
      ]
    },
    {
      "cell_type": "markdown",
      "source": [
        "# 倒立振子でPID制御を学ぶ"
      ],
      "metadata": {
        "id": "ODbDp4NaqkLI"
      },
      "id": "ODbDp4NaqkLI"
    },
    {
      "cell_type": "markdown",
      "source": [
        "## 倒立振子(とうりつしんし)とは？  \n",
        "  \n",
        "  [Wikipedia 倒立振子](https://ja.wikipedia.org/wiki/%E5%80%92%E7%AB%8B%E6%8C%AF%E5%AD%90)  \n",
        "支点よりも重心が高い位置にある振り子をいう．  \n",
        "![Balancer_with_wine_3_small.jpg](https://github.com/yasyamauchi/education/blob/main/img/Balancer_with_wine_3_small.jpg?raw=1)\n",
        "\n",
        "\n",
        "> *ClarkH - 投稿者自身による著作物, CC 表示-継承 3.0, https://commons.wikimedia.org/w/index.php?curid=3846878による*   \n",
        "\n",
        "この写真では，台車の上に棒があり，その上にワイングラスが乗っているが，棒は固定されていないので，もし台車が外力を受けると棒は倒れてしまい，ワインはこぼれてしまう．  \n",
        "**ワインがこぼれないようにするには？**"
      ],
      "metadata": {
        "id": "Gtn8ifaLqq_P"
      },
      "id": "Gtn8ifaLqq_P"
    },
    {
      "cell_type": "markdown",
      "source": [
        "## 倒立振子のモデル化\n",
        "\n",
        "\n",
        "![Cart-pendulum.svg](https://github.com/yasyamauchi/education/blob/main/img/Cart-pendulum.svg?raw=1)\n",
        "\n",
        "\n",
        "> *Krishnavedala - 投稿者自身による著作物, CC0, https://commons.wikimedia.org/w/index.php?curid=20347385による*   \n",
        "\n",
        "長さlの振り子の先端に質量mの重りがあり，台座の質量はM，振り子の傾きはθ（最初は0）とする．台座にほぼ瞬間的に力Fがかかるとする．  \n",
        "振り子が左に倒れようとするから，通常は台座に右向きの力を加えて振り子を戻そうとする．  \n",
        "入力はθ（＝目標との違いe）であり，それを頼りに制御することになる．  \n",
        "  \n",
        "この倒立振子は一見奇妙なシステムであるが，制御工学でPID制御を学ぶときに必ず登場するといってもよいシステムである．  \n",
        "**あなた自身(人)も倒立振子である!**\n",
        "\n"
      ],
      "metadata": {
        "id": "vTVrfqRpBh-z"
      },
      "id": "vTVrfqRpBh-z"
    },
    {
      "cell_type": "markdown",
      "id": "a3bd638b",
      "metadata": {
        "id": "a3bd638b"
      },
      "source": [
        "## 準備  \n"
      ]
    },
    {
      "cell_type": "code",
      "execution_count": null,
      "id": "0cfd559d",
      "metadata": {
        "id": "0cfd559d"
      },
      "outputs": [],
      "source": [
        "GOOGLE_COLAB = True"
      ]
    },
    {
      "cell_type": "code",
      "execution_count": null,
      "id": "4626d5c8",
      "metadata": {
        "id": "4626d5c8"
      },
      "outputs": [],
      "source": [
        "import os, pathlib\n",
        "if not GOOGLE_COLAB:\n",
        "    os.chdir(pathlib.Path(globals()['_dh'][0]).parent)\n",
        "else:\n",
        "    !pip install git+https://github.com/rland93/pendsim.git"
      ]
    },
    {
      "cell_type": "code",
      "execution_count": null,
      "id": "7129082a",
      "metadata": {
        "id": "7129082a",
        "scrolled": false
      },
      "outputs": [],
      "source": [
        "from pendsim import sim, controller, viz\n",
        "import numpy as np\n",
        "import matplotlib.pyplot as plt\n",
        "from IPython.display import HTML"
      ]
    },
    {
      "cell_type": "markdown",
      "id": "ed39741c",
      "metadata": {
        "id": "ed39741c"
      },
      "source": [
        "# PID制御とは？  \n",
        "  \n",
        "PID制御(proportional-integral-derivative: 比例・積分・微分)は，代表的なフィードバック制御である．  \n",
        "PID, or proportional-integral-derivative, control is a model-free feedback policy which uses an error signal and tunable gains to compute a control action that produces a desired system response.\n",
        "\n",
        "![PID_en.svg](https://github.com/yasyamauchi/education/blob/main/img/PID_en.svg?raw=1)\n",
        "\n",
        "\n",
        "> *Arturo Urquizo - File:PID.svg, CC 表示-継承 3.0, https://commons.wikimedia.org/w/index.php?curid=17633925による*\n",
        "\n",
        "\n",
        "  \n",
        "  難しそうに見えるが，目標値の誤差$e(t)$に対して，その値に比例した修正を加えるか(P:比例)，誤差の蓄積に比例した修正を加えるか(I:積分)，誤差の変化に比例した修正を加えるか(D:微分)の違いである．\n",
        "  また，組み合わせにより，例えばPD制御とかPI制御とかのバリエーションがある．全部盛りがPID制御となる．   \n",
        "  各々のゲイン(比例係数と考えてほしい)が$K_p, K_i$ および$K_d$である．これらを決定するのが制御の目的となる．  \n",
        "\n",
        "The block diagram of the PID system in the time domain is shown above. Given the error signal $e(t)$, we tune the three gains, $K_p, K_i$ and $K_d$, to generate the control signal, $u(t)$. The control signal reaches the physical system (the *plant / process*), which finally produces some output $y(t)$. (Graphic is sourced from Wikipedia).\n",
        "\n",
        "For more information about PID control, see [Feedback Systems:\n",
        "An Introduction for Scientists and Engineers, Ch 10](https://people.duke.edu/~hpgavin/SystemID/References/Astrom-Feedback-2006.pdf), or for a less technical introduction, [Wikipedia](https://en.wikipedia.org/wiki/PID_controller)."
      ]
    },
    {
      "cell_type": "markdown",
      "id": "367cfe9b",
      "metadata": {
        "id": "367cfe9b"
      },
      "source": [
        "---\n",
        "ここでは以下の条件とする．  \n",
        "* 台車の質量＝2kg\n",
        "* 振り子の質量＝1kg\n",
        "* 振り子の長さ＝2m\n",
        "* 基準時刻から2秒後に，(ほぼ)瞬間的な力2Nを台車に加える\n",
        "* 10秒間観測する  \n",
        "  \n",
        "To start, we create our system. Here, we have a cart/pendulum with a 2kg cart, 1kg mass, and 2-meter length. We create a PID controller that can resist the force given by the impulsive `force_func`, which peaks at $t=2$s and with magnitude 20N. The simulation lasts from $t=0$ to $t_{\\text{final}}=10$s.\n",
        "\n",
        "The feedback control policy is simple, but how can we set the gains for our controller? Fortunately, we are not too worried about the pendulum falling over, so we can experiment a bit, and hopefully gain some intuition about PID control."
      ]
    },
    {
      "cell_type": "code",
      "execution_count": null,
      "id": "adeeb64a",
      "metadata": {
        "id": "adeeb64a"
      },
      "outputs": [],
      "source": [
        "pend = sim.Pendulum(\n",
        "    2.0, # Pendulum base mass\n",
        "    1.0, # Pendulum ball mass\n",
        "    2.0, # Pendulum length\n",
        "    initial_state = np.array([0.0, 0.0, 0.0, 0.0])\n",
        ")\n",
        "\n",
        "dt, t_final = 0.01, 10\n",
        "def force_func(t):\n",
        "    return 20 * np.exp( -(  ((t-2.0)/0.1)**2) )\n",
        "simu10 = sim.Simulation(dt, t_final, force_func)"
      ]
    },
    {
      "cell_type": "markdown",
      "id": "615b91a2",
      "metadata": {
        "id": "615b91a2"
      },
      "source": [
        "## 制御なしの場合  \n",
        "何にも制御しない($K_p=K_i=K_d=0$)とどうなるか？  \n",
        "もちろん，振り子は倒れてしまう．角度$\\theta$が急激に増える．  \n",
        "  A PID controller has three gains, that we call `kp`, `ki`, `kd` here. These are also called the proportional, integral, and derivative gains.\n",
        "\n",
        "To start, we set all to zero. This zero-gain controller fails to stabilize the pendulum system against the external force that's applied, becasue all of the coefficients in front of the actuation are 0! So, with all gains 0, the controller takes no action at all. We can see that as soon as the external force starts being applied, $\\theta$ sees a sudden increase and the pendulum is knocked over."
      ]
    },
    {
      "cell_type": "code",
      "execution_count": null,
      "id": "a3f9fe71",
      "metadata": {
        "id": "a3f9fe71",
        "scrolled": false
      },
      "outputs": [],
      "source": [
        "kp, ki, kd = 0.0, 0.0, 0.0\n",
        "cont = controller.PID((kp, ki, kd))\n",
        "results = simu10.simulate(pend, cont)\n",
        "fig1, ax1 = plt.subplots()\n",
        "ax1.plot(results[('state','t')], 'k--', label='theta')\n",
        "\n",
        "plt.show()"
      ]
    },
    {
      "cell_type": "markdown",
      "id": "2c2877cc",
      "metadata": {
        "id": "2c2877cc"
      },
      "source": [
        "動画にしてみよう．台座に右向きの力を加えたとたん，振り子が反時計回りに回り，台車ごと右に進む．実際には振り子は地面に衝突して停止してしまうだろう．  \n",
        "And for a visual confirmation of our suspicion, we visualize the virtual experiment:"
      ]
    },
    {
      "cell_type": "code",
      "execution_count": null,
      "id": "07aaf68e",
      "metadata": {
        "id": "07aaf68e"
      },
      "outputs": [],
      "source": [
        "visu = viz.Visualizer(results, pend, dt)\n",
        "ani = visu.animate()\n",
        "HTML(ani.to_html5_video())"
      ]
    },
    {
      "cell_type": "markdown",
      "id": "1fa6e7bd",
      "metadata": {
        "id": "1fa6e7bd"
      },
      "source": [
        "## P制御の場合  \n",
        "次に，**P制御**，つまり誤差(振り子の傾き$\\theta$)に比例した力を(逆向きに)台車に加えることにしよう．  \n",
        "ゲイン$K_p$を2.5から80まで，2.5刻みで変えてみる．  \n",
        "$\\theta$が0で安定するのが制御の目的である．  \n",
        "To tune, we begin with the proportional gain, called `kp`. Let's start it at zero and slowly increase it, and see what happens. Let's create several controllers, increasing the gain by $k_p = k_p + 2.5$ for each controller. Our ultimate goal is to stabilize the pendulum system in the upright position. So that means we want $\\theta$ to settle at 0.\n",
        "\n",
        "For this simple PID policy, we are going to limit ourselves to stabilizing $\\theta$. So for our purposes, the input is the angle $\\theta$ and the output is the control actuation, $u$."
      ]
    },
    {
      "cell_type": "code",
      "execution_count": null,
      "id": "9038e91e",
      "metadata": {
        "id": "9038e91e"
      },
      "outputs": [],
      "source": [
        "# starting gain\n",
        "kp = 0.0\n",
        "# no of times to increase the gain\n",
        "n = 32\n",
        "# amount to increase by\n",
        "increase_by = 2.5\n",
        "# empty lists\n",
        "conts = []\n",
        "pends = [pend] * n\n",
        "gains = []\n",
        "for _ in range(n):\n",
        "    # increase the gain\n",
        "    kp += increase_by\n",
        "    # set ki, kd to 0\n",
        "    pid = kp, 0.0, 0.0\n",
        "    conts.append(controller.PID(pid))\n",
        "    gains.append(kp)\n",
        "# simulate each controller\n",
        "all_results = simu10.simulate_multiple(pends, conts)"
      ]
    },
    {
      "cell_type": "markdown",
      "id": "ba608916",
      "metadata": {
        "id": "ba608916"
      },
      "source": [
        "Now, let's see how $\\theta$ is performing for each gain."
      ]
    },
    {
      "cell_type": "code",
      "execution_count": null,
      "id": "f3a5e0b9",
      "metadata": {
        "id": "f3a5e0b9",
        "scrolled": false
      },
      "outputs": [],
      "source": [
        "nrows, ncols = 8, 4\n",
        "fig1, ax1 = plt.subplots(nrows=nrows, ncols=ncols, sharex=True, sharey=True, figsize=(15,20))\n",
        "axn, ax_idxs = 0, {}\n",
        "# index helper map for plots\n",
        "for i in range(nrows):\n",
        "    for j in range(ncols):\n",
        "        ax_idxs[axn] = (i, j)\n",
        "        axn += 1\n",
        "# create figures and set the title as the gain\n",
        "for g, (idx, res), (axi, axj) in zip(gains, all_results.groupby(level=0), ax_idxs.values()):\n",
        "    res.index = res.index.droplevel(0)\n",
        "    ax1[axi, axj].plot(res[('state', 't')])\n",
        "    ax1[axi, axj].set_title('gain=' + str(g))\n",
        "# label figures\n",
        "for i in range(nrows):\n",
        "    ax1[i, 0].set_ylabel('theta (rad)')\n",
        "for j in range(ncols):\n",
        "    ax1[-1, j].set_xlabel('time (s)')\n",
        "plt.show()"
      ]
    },
    {
      "cell_type": "markdown",
      "id": "3ff3e136",
      "metadata": {
        "id": "3ff3e136"
      },
      "source": [
        "ゲイン$k_p=50.0$あたりから安定しているのが分かるだろうか．  \n",
        "しかしよく見ると，小さな波が見えるだろうか？ひょっとして振動しているのかもしれない．  \n",
        "では，ゲイン$k_p=80.0$のケースで，もっと長く観察してみよう．例えば40秒間．  \n",
        "So, here we can see that right around $k_p=50.0$, we get a stabilization of the pendulum, instead of theta getting away faster than the controller can stabilize it. Let's tune a bit more aggressively than the marginal case and set our gain: $k_p=80.0$.\n",
        "\n",
        "These results should make intuitive sense with a bit of control systems knowledge: adding a proportional gain, in general, makes the system response faster. We also can see some instability in the system as well: as we increase the gain, so too the oscillations increase.\n",
        "\n",
        "The pendulum is (somewhat) stable around $\\theta=0$, but we still have a pesky oscillation. Can we remove it?\n",
        "\n",
        "There is one more thing going on here. It appears that the system is oscillating, but also that the oscillations are increasing in magnitude. Eventually, this instability will compound enough to topple the pendulum, despite having a proportional controller in place with a suitable gain. To see this, we can increase the simulation time, this time to 40 seconds instead of 10."
      ]
    },
    {
      "cell_type": "code",
      "execution_count": null,
      "id": "6983916e",
      "metadata": {
        "id": "6983916e"
      },
      "outputs": [],
      "source": [
        "kp = 80.0\n",
        "cont = controller.PID( (kp, 0, 0) )\n",
        "simu30 = sim.Simulation(dt, 40, force_func)\n",
        "res_proportional = simu30.simulate(pend, cont)"
      ]
    },
    {
      "cell_type": "markdown",
      "id": "78a37ca6",
      "metadata": {
        "id": "78a37ca6"
      },
      "source": [
        "And we plot our longer-term simulation:"
      ]
    },
    {
      "cell_type": "code",
      "execution_count": null,
      "id": "f97c8a1f",
      "metadata": {
        "id": "f97c8a1f",
        "scrolled": true
      },
      "outputs": [],
      "source": [
        "_, ax = plt.subplots()\n",
        "ax.plot(res_proportional[('state', 't')])\n",
        "ax.set_ylabel(\"Angle (rads)\")\n",
        "ax.set_xlabel(\"Time (s)\")\n",
        "plt.show()"
      ]
    },
    {
      "cell_type": "markdown",
      "id": "701d3fa2",
      "metadata": {
        "id": "701d3fa2"
      },
      "source": [
        "10秒では分からなかったが，だんだん振動が大きくなっていき，30秒を超えたところで破綻して結局振り子は倒れてしまった．  \n",
        "たとえて言えば，片足立ちをやってみて，最初はそれほどふらつかないが，だんだんとふらつきが大きくなり，ある時点で倒れてしまうようなものである．  \n",
        "このようにどうしても誤差そのものだけでは制御しきれない．誤差の変化の度合い，つまり微分を考慮する必要がある．  \n",
        "We do see that at around the 30 second mark, the oscillation knocks over the pendulum.\n",
        "\n",
        "We also see what looks like a response associated with a positive real pole: a steady oscillation bounded by an envelope of an increasing exponential -- that is, until the whole thing gets knocked over. Physically, what is going on here? The problem arises with the presence of the external force.\n",
        "\n",
        "The external force impacts the higher-order terms of the system. If we solve the initial value problem (i.e., simulate!) just *after* the force is applied, there is a little bit of a velocity term in the initial value. If this velocity term is 0, the P-only controller will oscillate forever -- it is *marginally* stable. But if we add even a tiny bit of velocity in the I.V.P, the system is unstable with P-only control."
      ]
    },
    {
      "cell_type": "markdown",
      "id": "e8e7aa43",
      "metadata": {
        "id": "e8e7aa43"
      },
      "source": [
        "This manifests as an oscillation: the controller pushes a little bit too hard right, and the pendulum overshoots a bit to the left; then, the controller pushes left, and the pendulum overshoots a bit (more!) to the right, and the process continues until the pendulum tips over."
      ]
    },
    {
      "cell_type": "markdown",
      "id": "28415af2",
      "metadata": {
        "id": "28415af2"
      },
      "source": [
        "ところで積分(I)制御はどうだろうか？振動する場合，その積分は0になる($sin(t)$を0から2πまで積分すると0になる)ので，このケースではあまり役に立たない．  \n",
        "The integral term, $k_i$, is not needed here; since the oscillations are centered at the zero point, there would be, if the oscillations were driven to zero, no steady state error. On the other hand, a derivative term seeks to drive the rate of change of the error closer to zero over time. Practically, this means that it can counteract the magnitude of steady oscillation we see, and as a result, bring the system to stability.\n",
        "\n",
        "## PD制御の場合  \n",
        "ということでPD制御を試みる．$K_p=80$はそのままに，$K_d$を少しずつ増やしていく．    \n",
        "Below, we follow the same experimental process for tuning: slowly increase $k_d$ and see the effects. In real-life systems, where failure can have expensive or dangerous consequences, tuning is a very delicate process, typically informed heavily by process knowledge. Here, we have no such limits."
      ]
    },
    {
      "cell_type": "code",
      "execution_count": null,
      "id": "ff3b4580",
      "metadata": {
        "id": "ff3b4580"
      },
      "outputs": [],
      "source": [
        "kp = 80.0\n",
        "kd = 0.0\n",
        "n = 16\n",
        "increase_by = 1.25\n",
        "conts = []\n",
        "pends = [pend] * n\n",
        "gains = []\n",
        "for _ in range(n):\n",
        "    # increase the gain\n",
        "    kd += increase_by\n",
        "    # set ki, kd to 0\n",
        "    pid = kp, 0.0, kd\n",
        "    conts.append(controller.PID(pid))\n",
        "    gains.append(kd)\n",
        "# simulate each controller\n",
        "all_results = simu10.simulate_multiple(pends, conts)\n",
        "\n",
        "nrows, ncols = 4, 4\n",
        "fig1, ax1 = plt.subplots(nrows=nrows, ncols=ncols, sharex=True, sharey=True, figsize=(15,12))\n",
        "axn, ax_idxs = 0, {}\n",
        "for i in range(nrows):\n",
        "    for j in range(ncols):\n",
        "        ax_idxs[axn] = (i, j)\n",
        "        axn += 1\n",
        "for g, (idx, res), (axi, axj) in zip(gains, all_results.groupby(level=0), ax_idxs.values()):\n",
        "    res.index = res.index.droplevel(0)\n",
        "    ax1[axi, axj].plot(res[('state', 't')])\n",
        "    ax1[axi, axj].set_title('gain=' + str(g))\n",
        "# label plots\n",
        "for i in range(nrows):\n",
        "    ax1[i, 0].set_ylabel('theta (rad)')\n",
        "for j in range(ncols):\n",
        "    ax1[-1, j].set_xlabel('time (s)')\n",
        "\n",
        "plt.show()"
      ]
    },
    {
      "cell_type": "markdown",
      "id": "610a331c",
      "metadata": {
        "id": "610a331c"
      },
      "source": [
        "すごく安定しました！振動がほぼ抑えられたのがわかるだろうか？  \n",
        "具体的にD制御の有無で$\\theta$がどうなるか，もう少し細かくグラフにしてみよう．  \n",
        "Now, we look again at $\\theta$. It looks significantly better! The addition of a derivative component drives the oscillations towards zero. To see the effect, we can plot the two controllers next to one another, one with the $k_d$ and one without."
      ]
    },
    {
      "cell_type": "code",
      "execution_count": null,
      "id": "80a68a33",
      "metadata": {
        "id": "80a68a33",
        "scrolled": false
      },
      "outputs": [],
      "source": [
        "res_p_10 = simu10.simulate(pend, controller.PID((80, 0.0, 0.0)))\n",
        "res_pd_10 = simu10.simulate(pend, controller.PID((80, 0.0, 10)))\n",
        "\n",
        "fig, ax = plt.subplots()\n",
        "ax.plot(res_pd_10[('state', 't')], 'b-', label='With derivative')\n",
        "ax.plot(res_p_10[('state', 't')], 'r--', label='Without Derivative')\n",
        "ax.set_ylabel('Angle (rads)')\n",
        "ax.set_xlabel('Time (s)')\n",
        "ax.legend()\n",
        "plt.show()"
      ]
    },
    {
      "cell_type": "markdown",
      "id": "a666bf38",
      "metadata": {
        "id": "a666bf38"
      },
      "source": [
        "最後に，動画にしてみよう．  \n",
        "The difference is stark!\n",
        "\n",
        "Finally, we can look at a visualization of how this controller performed."
      ]
    },
    {
      "cell_type": "code",
      "execution_count": null,
      "id": "2d2161a0",
      "metadata": {
        "id": "2d2161a0"
      },
      "outputs": [],
      "source": [
        "visu = viz.Visualizer(res_pd_10, pend, dt)\n",
        "ani = visu.animate(blit=True)\n",
        "HTML(ani.to_html5_video())"
      ]
    },
    {
      "cell_type": "markdown",
      "id": "a61daac7",
      "metadata": {
        "id": "a61daac7"
      },
      "source": [
        "Since this simulation is relatively accurate, we expect that a pendulum with the same attributes (length, mass, etc.), if controlled by a controller with the same gain (as expressed in N of force applied), would have similar stability characteristics -- so long as we could accurately measure the state!\n",
        "\n",
        "Tuning a controller in simulation is a common way to implement a controller in a physical system when the consequences of bad tuning can be disasterous. If there were serious consequences to knocking over our pendulum, we would want to use the gains we have discovered here as a starting point."
      ]
    }
  ],
  "metadata": {
    "colab": {
      "name": "PID.ipynb",
      "provenance": [],
      "toc_visible": true,
      "include_colab_link": true
    },
    "kernelspec": {
      "display_name": "pensim",
      "language": "python",
      "name": "python3"
    },
    "language_info": {
      "codemirror_mode": {
        "name": "ipython",
        "version": 3
      },
      "file_extension": ".py",
      "mimetype": "text/x-python",
      "name": "python",
      "nbconvert_exporter": "python",
      "pygments_lexer": "ipython3",
      "version": "3.7.9"
    }
  },
  "nbformat": 4,
  "nbformat_minor": 5
}