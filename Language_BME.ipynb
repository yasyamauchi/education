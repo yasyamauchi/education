{
  "nbformat": 4,
  "nbformat_minor": 0,
  "metadata": {
    "colab": {
      "provenance": [],
      "toc_visible": true,
      "authorship_tag": "ABX9TyNb8RsC40Mzm7HSJ5TTxTGu",
      "include_colab_link": true
    },
    "kernelspec": {
      "name": "python3",
      "display_name": "Python 3"
    },
    "language_info": {
      "name": "python"
    }
  },
  "cells": [
    {
      "cell_type": "markdown",
      "metadata": {
        "id": "view-in-github",
        "colab_type": "text"
      },
      "source": [
        "<a href=\"https://colab.research.google.com/github/yasyamauchi/education/blob/main/Language_BME.ipynb\" target=\"_parent\"><img src=\"https://colab.research.google.com/assets/colab-badge.svg\" alt=\"Open In Colab\"/></a>"
      ]
    },
    {
      "cell_type": "markdown",
      "source": [
        "# 事前準備  \n"
      ],
      "metadata": {
        "id": "mLWzZV9mjIaf"
      }
    },
    {
      "cell_type": "markdown",
      "source": [
        "必要なパッケージをインストールする．"
      ],
      "metadata": {
        "id": "dnPTgs90lpEA"
      }
    },
    {
      "cell_type": "code",
      "source": [
        "!apt install aptitude\n",
        "!aptitude install mecab libmecab-dev mecab-ipadic-utf8 git make curl xz-utils file -y\n",
        "!pip install mecab-python3==0.7"
      ],
      "metadata": {
        "id": "XBWKR1Zb80-n",
        "colab": {
          "base_uri": "https://localhost:8080/"
        },
        "outputId": "d957e1ef-2738-404c-e444-8867a669eda2"
      },
      "execution_count": 1,
      "outputs": [
        {
          "output_type": "stream",
          "name": "stdout",
          "text": [
            "Reading package lists... Done\n",
            "Building dependency tree... Done\n",
            "Reading state information... Done\n",
            "The following additional packages will be installed:\n",
            "  aptitude-common libcwidget4 libsigc++-2.0-0v5 libxapian30\n",
            "Suggested packages:\n",
            "  apt-xapian-index aptitude-doc-en | aptitude-doc debtags tasksel libcwidget-dev xapian-tools\n",
            "The following NEW packages will be installed:\n",
            "  aptitude aptitude-common libcwidget4 libsigc++-2.0-0v5 libxapian30\n",
            "0 upgraded, 5 newly installed, 0 to remove and 24 not upgraded.\n",
            "Need to get 3,838 kB of archives.\n",
            "After this operation, 17.3 MB of additional disk space will be used.\n",
            "Get:1 http://archive.ubuntu.com/ubuntu jammy/universe amd64 aptitude-common all 0.8.13-3ubuntu1 [1,719 kB]\n",
            "Get:2 http://archive.ubuntu.com/ubuntu jammy/main amd64 libsigc++-2.0-0v5 amd64 2.10.4-2ubuntu3 [12.1 kB]\n",
            "Get:3 http://archive.ubuntu.com/ubuntu jammy/universe amd64 libcwidget4 amd64 0.5.18-5build1 [306 kB]\n",
            "Get:4 http://archive.ubuntu.com/ubuntu jammy/universe amd64 libxapian30 amd64 1.4.18-4 [701 kB]\n",
            "Get:5 http://archive.ubuntu.com/ubuntu jammy/universe amd64 aptitude amd64 0.8.13-3ubuntu1 [1,100 kB]\n",
            "Fetched 3,838 kB in 1s (4,793 kB/s)\n",
            "Selecting previously unselected package aptitude-common.\n",
            "(Reading database ... 121666 files and directories currently installed.)\n",
            "Preparing to unpack .../aptitude-common_0.8.13-3ubuntu1_all.deb ...\n",
            "Unpacking aptitude-common (0.8.13-3ubuntu1) ...\n",
            "Selecting previously unselected package libsigc++-2.0-0v5:amd64.\n",
            "Preparing to unpack .../libsigc++-2.0-0v5_2.10.4-2ubuntu3_amd64.deb ...\n",
            "Unpacking libsigc++-2.0-0v5:amd64 (2.10.4-2ubuntu3) ...\n",
            "Selecting previously unselected package libcwidget4:amd64.\n",
            "Preparing to unpack .../libcwidget4_0.5.18-5build1_amd64.deb ...\n",
            "Unpacking libcwidget4:amd64 (0.5.18-5build1) ...\n",
            "Selecting previously unselected package libxapian30:amd64.\n",
            "Preparing to unpack .../libxapian30_1.4.18-4_amd64.deb ...\n",
            "Unpacking libxapian30:amd64 (1.4.18-4) ...\n",
            "Selecting previously unselected package aptitude.\n",
            "Preparing to unpack .../aptitude_0.8.13-3ubuntu1_amd64.deb ...\n",
            "Unpacking aptitude (0.8.13-3ubuntu1) ...\n",
            "Setting up libxapian30:amd64 (1.4.18-4) ...\n",
            "Setting up libsigc++-2.0-0v5:amd64 (2.10.4-2ubuntu3) ...\n",
            "Setting up aptitude-common (0.8.13-3ubuntu1) ...\n",
            "Setting up libcwidget4:amd64 (0.5.18-5build1) ...\n",
            "Setting up aptitude (0.8.13-3ubuntu1) ...\n",
            "update-alternatives: using /usr/bin/aptitude-curses to provide /usr/bin/aptitude (aptitude) in auto mode\n",
            "Processing triggers for man-db (2.10.2-1) ...\n",
            "Processing triggers for libc-bin (2.35-0ubuntu3.4) ...\n",
            "/sbin/ldconfig.real: /usr/local/lib/libtbb.so.12 is not a symbolic link\n",
            "\n",
            "/sbin/ldconfig.real: /usr/local/lib/libtbbbind_2_0.so.3 is not a symbolic link\n",
            "\n",
            "/sbin/ldconfig.real: /usr/local/lib/libtbbmalloc.so.2 is not a symbolic link\n",
            "\n",
            "/sbin/ldconfig.real: /usr/local/lib/libtbbbind.so.3 is not a symbolic link\n",
            "\n",
            "/sbin/ldconfig.real: /usr/local/lib/libtbbmalloc_proxy.so.2 is not a symbolic link\n",
            "\n",
            "/sbin/ldconfig.real: /usr/local/lib/libtbbbind_2_5.so.3 is not a symbolic link\n",
            "\n",
            "git is already installed at the requested version (1:2.34.1-1ubuntu1.10)\n",
            "make is already installed at the requested version (4.3-4.1build1)\n",
            "curl is already installed at the requested version (7.81.0-1ubuntu1.15)\n",
            "xz-utils is already installed at the requested version (5.2.5-2ubuntu1)\n",
            "file is already installed at the requested version (1:5.41-3ubuntu0.1)\n",
            "git is already installed at the requested version (1:2.34.1-1ubuntu1.10)\n",
            "make is already installed at the requested version (4.3-4.1build1)\n",
            "curl is already installed at the requested version (7.81.0-1ubuntu1.15)\n",
            "xz-utils is already installed at the requested version (5.2.5-2ubuntu1)\n",
            "file is already installed at the requested version (1:5.41-3ubuntu0.1)\n",
            "The following NEW packages will be installed:\n",
            "  libmecab-dev libmecab2{a} mecab mecab-ipadic{a} mecab-ipadic-utf8 mecab-jumandic{a} mecab-jumandic-utf8{a} mecab-utils{a} \n",
            "0 packages upgraded, 8 newly installed, 0 to remove and 24 not upgraded.\n",
            "Need to get 23.5 MB of archives. After unpacking 275 MB will be used.\n",
            "Get: 1 http://archive.ubuntu.com/ubuntu jammy/main amd64 libmecab2 amd64 0.996-14build9 [199 kB]\n",
            "Get: 2 http://archive.ubuntu.com/ubuntu jammy/main amd64 libmecab-dev amd64 0.996-14build9 [306 kB]\n",
            "Get: 3 http://archive.ubuntu.com/ubuntu jammy/main amd64 mecab-utils amd64 0.996-14build9 [4,850 B]\n",
            "Get: 4 http://archive.ubuntu.com/ubuntu jammy/universe amd64 mecab-jumandic-utf8 all 7.0-20130310-7 [16.2 MB]\n",
            "Get: 5 http://archive.ubuntu.com/ubuntu jammy/universe amd64 mecab-jumandic all 7.0-20130310-7 [2,204 B]\n",
            "Get: 6 http://archive.ubuntu.com/ubuntu jammy/main amd64 mecab-ipadic all 2.7.0-20070801+main-3 [6,718 kB]\n",
            "Get: 7 http://archive.ubuntu.com/ubuntu jammy/universe amd64 mecab amd64 0.996-14build9 [136 kB]\n",
            "Get: 8 http://archive.ubuntu.com/ubuntu jammy/main amd64 mecab-ipadic-utf8 all 2.7.0-20070801+main-3 [4,384 B]\n",
            "Fetched 23.5 MB in 2s (9,515 kB/s)\n",
            "Selecting previously unselected package libmecab2:amd64.\n",
            "(Reading database ... 121891 files and directories currently installed.)\n",
            "Preparing to unpack .../0-libmecab2_0.996-14build9_amd64.deb ...\n",
            "Unpacking libmecab2:amd64 (0.996-14build9) ...\n",
            "Selecting previously unselected package libmecab-dev.\n",
            "Preparing to unpack .../1-libmecab-dev_0.996-14build9_amd64.deb ...\n",
            "Unpacking libmecab-dev (0.996-14build9) ...\n",
            "Selecting previously unselected package mecab-utils.\n",
            "Preparing to unpack .../2-mecab-utils_0.996-14build9_amd64.deb ...\n",
            "Unpacking mecab-utils (0.996-14build9) ...\n",
            "Selecting previously unselected package mecab-jumandic-utf8.\n",
            "Preparing to unpack .../3-mecab-jumandic-utf8_7.0-20130310-7_all.deb ...\n",
            "Unpacking mecab-jumandic-utf8 (7.0-20130310-7) ...\n",
            "Selecting previously unselected package mecab-jumandic.\n",
            "Preparing to unpack .../4-mecab-jumandic_7.0-20130310-7_all.deb ...\n",
            "Unpacking mecab-jumandic (7.0-20130310-7) ...\n",
            "Selecting previously unselected package mecab-ipadic.\n",
            "Preparing to unpack .../5-mecab-ipadic_2.7.0-20070801+main-3_all.deb ...\n",
            "Unpacking mecab-ipadic (2.7.0-20070801+main-3) ...\n",
            "Selecting previously unselected package mecab.\n",
            "Preparing to unpack .../6-mecab_0.996-14build9_amd64.deb ...\n",
            "Unpacking mecab (0.996-14build9) ...\n",
            "Selecting previously unselected package mecab-ipadic-utf8.\n",
            "Preparing to unpack .../7-mecab-ipadic-utf8_2.7.0-20070801+main-3_all.deb ...\n",
            "Unpacking mecab-ipadic-utf8 (2.7.0-20070801+main-3) ...\n",
            "Setting up libmecab2:amd64 (0.996-14build9) ...\n",
            "Setting up libmecab-dev (0.996-14build9) ...\n",
            "Setting up mecab-utils (0.996-14build9) ...\n",
            "Setting up mecab-ipadic (2.7.0-20070801+main-3) ...\n",
            "Compiling IPA dictionary for Mecab.  This takes long time...\n",
            "reading /usr/share/mecab/dic/ipadic/unk.def ... 40\n",
            "emitting double-array: 100% |###########################################| \n",
            "/usr/share/mecab/dic/ipadic/model.def is not found. skipped.\n",
            "reading /usr/share/mecab/dic/ipadic/Postp.csv ... 146\n",
            "reading /usr/share/mecab/dic/ipadic/Prefix.csv ... 221\n",
            "reading /usr/share/mecab/dic/ipadic/Noun.nai.csv ... 42\n",
            "reading /usr/share/mecab/dic/ipadic/Symbol.csv ... 208\n",
            "reading /usr/share/mecab/dic/ipadic/Noun.adverbal.csv ... 795\n",
            "reading /usr/share/mecab/dic/ipadic/Noun.org.csv ... 16668\n",
            "reading /usr/share/mecab/dic/ipadic/Others.csv ... 2\n",
            "reading /usr/share/mecab/dic/ipadic/Noun.proper.csv ... 27328\n",
            "reading /usr/share/mecab/dic/ipadic/Noun.number.csv ... 42\n",
            "reading /usr/share/mecab/dic/ipadic/Auxil.csv ... 199\n",
            "reading /usr/share/mecab/dic/ipadic/Verb.csv ... 130750\n",
            "reading /usr/share/mecab/dic/ipadic/Conjunction.csv ... 171\n",
            "reading /usr/share/mecab/dic/ipadic/Noun.demonst.csv ... 120\n",
            "reading /usr/share/mecab/dic/ipadic/Noun.csv ... 60477\n",
            "reading /usr/share/mecab/dic/ipadic/Suffix.csv ... 1393\n",
            "reading /usr/share/mecab/dic/ipadic/Adnominal.csv ... 135\n",
            "reading /usr/share/mecab/dic/ipadic/Interjection.csv ... 252\n",
            "reading /usr/share/mecab/dic/ipadic/Noun.verbal.csv ... 12146\n",
            "reading /usr/share/mecab/dic/ipadic/Noun.name.csv ... 34202\n",
            "reading /usr/share/mecab/dic/ipadic/Filler.csv ... 19\n",
            "reading /usr/share/mecab/dic/ipadic/Noun.others.csv ... 151\n",
            "reading /usr/share/mecab/dic/ipadic/Adj.csv ... 27210\n",
            "reading /usr/share/mecab/dic/ipadic/Postp-col.csv ... 91\n",
            "reading /usr/share/mecab/dic/ipadic/Noun.place.csv ... 72999\n",
            "reading /usr/share/mecab/dic/ipadic/Adverb.csv ... 3032\n",
            "reading /usr/share/mecab/dic/ipadic/Noun.adjv.csv ... 3328\n",
            "emitting double-array: 100% |###########################################| \n",
            "reading /usr/share/mecab/dic/ipadic/matrix.def ... 1316x1316\n",
            "emitting matrix      : 100% |###########################################| \n",
            "\n",
            "done!\n",
            "update-alternatives: using /var/lib/mecab/dic/ipadic to provide /var/lib/mecab/dic/debian (mecab-dictionary) in auto mode\n",
            "Setting up mecab (0.996-14build9) ...\n",
            "Compiling IPA dictionary for Mecab.  This takes long time...\n",
            "reading /usr/share/mecab/dic/ipadic/unk.def ... 40\n",
            "emitting double-array: 100% |###########################################| \n",
            "/usr/share/mecab/dic/ipadic/model.def is not found. skipped.\n",
            "reading /usr/share/mecab/dic/ipadic/Postp.csv ... 146\n",
            "reading /usr/share/mecab/dic/ipadic/Prefix.csv ... 221\n",
            "reading /usr/share/mecab/dic/ipadic/Noun.nai.csv ... 42\n",
            "reading /usr/share/mecab/dic/ipadic/Symbol.csv ... 208\n",
            "reading /usr/share/mecab/dic/ipadic/Noun.adverbal.csv ... 795\n",
            "reading /usr/share/mecab/dic/ipadic/Noun.org.csv ... 16668\n",
            "reading /usr/share/mecab/dic/ipadic/Others.csv ... 2\n",
            "reading /usr/share/mecab/dic/ipadic/Noun.proper.csv ... 27328\n",
            "reading /usr/share/mecab/dic/ipadic/Noun.number.csv ... 42\n",
            "reading /usr/share/mecab/dic/ipadic/Auxil.csv ... 199\n",
            "reading /usr/share/mecab/dic/ipadic/Verb.csv ... 130750\n",
            "reading /usr/share/mecab/dic/ipadic/Conjunction.csv ... 171\n",
            "reading /usr/share/mecab/dic/ipadic/Noun.demonst.csv ... 120\n",
            "reading /usr/share/mecab/dic/ipadic/Noun.csv ... 60477\n",
            "reading /usr/share/mecab/dic/ipadic/Suffix.csv ... 1393\n",
            "reading /usr/share/mecab/dic/ipadic/Adnominal.csv ... 135\n",
            "reading /usr/share/mecab/dic/ipadic/Interjection.csv ... 252\n",
            "reading /usr/share/mecab/dic/ipadic/Noun.verbal.csv ... 12146\n",
            "reading /usr/share/mecab/dic/ipadic/Noun.name.csv ... 34202\n",
            "reading /usr/share/mecab/dic/ipadic/Filler.csv ... 19\n",
            "reading /usr/share/mecab/dic/ipadic/Noun.others.csv ... 151\n",
            "reading /usr/share/mecab/dic/ipadic/Adj.csv ... 27210\n",
            "reading /usr/share/mecab/dic/ipadic/Postp-col.csv ... 91\n",
            "reading /usr/share/mecab/dic/ipadic/Noun.place.csv ... 72999\n",
            "reading /usr/share/mecab/dic/ipadic/Adverb.csv ... 3032\n",
            "reading /usr/share/mecab/dic/ipadic/Noun.adjv.csv ... 3328\n",
            "emitting double-array: 100% |###########################################| \n",
            "reading /usr/share/mecab/dic/ipadic/matrix.def ... 1316x1316\n",
            "emitting matrix      : 100% |###########################################| \n",
            "\n",
            "done!\n",
            "Setting up mecab-jumandic-utf8 (7.0-20130310-7) ...\n",
            "Compiling Juman dictionary for Mecab.\n",
            "reading /usr/share/mecab/dic/juman/unk.def ... 37\n",
            "emitting double-array: 100% |###########################################| \n",
            "reading /usr/share/mecab/dic/juman/Noun.suusi.csv ... 49\n",
            "reading /usr/share/mecab/dic/juman/Postp.csv ... 108\n",
            "reading /usr/share/mecab/dic/juman/Rengo.csv ... 1118\n",
            "reading /usr/share/mecab/dic/juman/Prefix.csv ... 90\n",
            "reading /usr/share/mecab/dic/juman/ContentW.csv ... 551145\n",
            "reading /usr/share/mecab/dic/juman/Noun.hukusi.csv ... 81\n",
            "reading /usr/share/mecab/dic/juman/Noun.koyuu.csv ... 7964\n",
            "reading /usr/share/mecab/dic/juman/Special.csv ... 158\n",
            "reading /usr/share/mecab/dic/juman/Emoticon.csv ... 972\n",
            "reading /usr/share/mecab/dic/juman/Wikipedia.csv ... 167709\n",
            "reading /usr/share/mecab/dic/juman/Suffix.csv ... 2128\n",
            "reading /usr/share/mecab/dic/juman/Noun.keishiki.csv ... 8\n",
            "reading /usr/share/mecab/dic/juman/AuxV.csv ... 593\n",
            "reading /usr/share/mecab/dic/juman/Demonstrative.csv ... 97\n",
            "reading /usr/share/mecab/dic/juman/Auto.csv ... 18931\n",
            "reading /usr/share/mecab/dic/juman/Assert.csv ... 34\n",
            "emitting double-array: 100% |###########################################| \n",
            "reading /usr/share/mecab/dic/juman/matrix.def ... 1876x1876\n",
            "emitting matrix      : 100% |###########################################| \n",
            "\n",
            "done!\n",
            "Setting up mecab-ipadic-utf8 (2.7.0-20070801+main-3) ...\n",
            "Compiling IPA dictionary for Mecab.  This takes long time...\n",
            "reading /usr/share/mecab/dic/ipadic/unk.def ... 40\n",
            "emitting double-array: 100% |###########################################| \n",
            "/usr/share/mecab/dic/ipadic/model.def is not found. skipped.\n",
            "reading /usr/share/mecab/dic/ipadic/Postp.csv ... 146\n",
            "reading /usr/share/mecab/dic/ipadic/Prefix.csv ... 221\n",
            "reading /usr/share/mecab/dic/ipadic/Noun.nai.csv ... 42\n",
            "reading /usr/share/mecab/dic/ipadic/Symbol.csv ... 208\n",
            "reading /usr/share/mecab/dic/ipadic/Noun.adverbal.csv ... 795\n",
            "reading /usr/share/mecab/dic/ipadic/Noun.org.csv ... 16668\n",
            "reading /usr/share/mecab/dic/ipadic/Others.csv ... 2\n",
            "reading /usr/share/mecab/dic/ipadic/Noun.proper.csv ... 27328\n",
            "reading /usr/share/mecab/dic/ipadic/Noun.number.csv ... 42\n",
            "reading /usr/share/mecab/dic/ipadic/Auxil.csv ... 199\n",
            "reading /usr/share/mecab/dic/ipadic/Verb.csv ... 130750\n",
            "reading /usr/share/mecab/dic/ipadic/Conjunction.csv ... 171\n",
            "reading /usr/share/mecab/dic/ipadic/Noun.demonst.csv ... 120\n",
            "reading /usr/share/mecab/dic/ipadic/Noun.csv ... 60477\n",
            "reading /usr/share/mecab/dic/ipadic/Suffix.csv ... 1393\n",
            "reading /usr/share/mecab/dic/ipadic/Adnominal.csv ... 135\n",
            "reading /usr/share/mecab/dic/ipadic/Interjection.csv ... 252\n",
            "reading /usr/share/mecab/dic/ipadic/Noun.verbal.csv ... 12146\n",
            "reading /usr/share/mecab/dic/ipadic/Noun.name.csv ... 34202\n",
            "reading /usr/share/mecab/dic/ipadic/Filler.csv ... 19\n",
            "reading /usr/share/mecab/dic/ipadic/Noun.others.csv ... 151\n",
            "reading /usr/share/mecab/dic/ipadic/Adj.csv ... 27210\n",
            "reading /usr/share/mecab/dic/ipadic/Postp-col.csv ... 91\n",
            "reading /usr/share/mecab/dic/ipadic/Noun.place.csv ... 72999\n",
            "reading /usr/share/mecab/dic/ipadic/Adverb.csv ... 3032\n",
            "reading /usr/share/mecab/dic/ipadic/Noun.adjv.csv ... 3328\n",
            "emitting double-array: 100% |###########################################| \n",
            "reading /usr/share/mecab/dic/ipadic/matrix.def ... 1316x1316\n",
            "emitting matrix      : 100% |###########################################| \n",
            "\n",
            "done!\n",
            "update-alternatives: using /var/lib/mecab/dic/ipadic-utf8 to provide /var/lib/mecab/dic/debian (mecab-dictionary) in auto mode\n",
            "Setting up mecab-jumandic (7.0-20130310-7) ...\n",
            "Processing triggers for man-db (2.10.2-1) ...\n",
            "Processing triggers for libc-bin (2.35-0ubuntu3.4) ...\n",
            "/sbin/ldconfig.real: /usr/local/lib/libtbb.so.12 is not a symbolic link\n",
            "\n",
            "/sbin/ldconfig.real: /usr/local/lib/libtbbbind_2_0.so.3 is not a symbolic link\n",
            "\n",
            "/sbin/ldconfig.real: /usr/local/lib/libtbbmalloc.so.2 is not a symbolic link\n",
            "\n",
            "/sbin/ldconfig.real: /usr/local/lib/libtbbbind.so.3 is not a symbolic link\n",
            "\n",
            "/sbin/ldconfig.real: /usr/local/lib/libtbbmalloc_proxy.so.2 is not a symbolic link\n",
            "\n",
            "/sbin/ldconfig.real: /usr/local/lib/libtbbbind_2_5.so.3 is not a symbolic link\n",
            "\n",
            "                            \n",
            "Collecting mecab-python3==0.7\n",
            "  Downloading mecab-python3-0.7.tar.gz (41 kB)\n",
            "\u001b[2K     \u001b[90m━━━━━━━━━━━━━━━━━━━━━━━━━━━━━━━━━━━━━━━━\u001b[0m \u001b[32m41.6/41.6 kB\u001b[0m \u001b[31m1.2 MB/s\u001b[0m eta \u001b[36m0:00:00\u001b[0m\n",
            "\u001b[?25h  Preparing metadata (setup.py) ... \u001b[?25l\u001b[?25hdone\n",
            "Building wheels for collected packages: mecab-python3\n",
            "  Building wheel for mecab-python3 (setup.py) ... \u001b[?25l\u001b[?25hdone\n",
            "  Created wheel for mecab-python3: filename=mecab_python3-0.7-cp310-cp310-linux_x86_64.whl size=185650 sha256=9eda8b12d39e8c41c97e6b4d223e61d99e44890662434f76e389a5d5d062884d\n",
            "  Stored in directory: /root/.cache/pip/wheels/af/5c/2a/bb8c7ed306516444e25b06556edf0e8f0b82139b270eb4ce2d\n",
            "Successfully built mecab-python3\n",
            "Installing collected packages: mecab-python3\n",
            "Successfully installed mecab-python3-0.7\n"
          ]
        }
      ]
    },
    {
      "cell_type": "markdown",
      "source": [
        "あらかじめダウンロードしていたテキストファイルを，Google Colabの「ファイル」にドラッグする．  \n",
        "この講義では次のファイルを用意している．\n",
        "\n",
        "\n",
        "*   Neko.txt: 夏目漱石「吾輩は猫である」\n",
        "*   yokaidan.txt: 井上円了「妖怪談」\n",
        "  \n",
        "※いずれも[青空文庫](https://www.aozora.gr.jp)より，著作権消滅済み．\n"
      ],
      "metadata": {
        "id": "1RBLip74sCHj"
      }
    },
    {
      "cell_type": "markdown",
      "source": [
        "# N-gram  \n",
        "\n",
        "\"Ngram\"は，キーワードの出現頻度を可視化する意味で用いられることが多い．  \n",
        "[Google Ngram Viewer](https://books.google.com/ngrams) (Google Books)  \n",
        "[NDL Ngram Viewer](https://lab.ndl.go.jp/ngramviewer/) (国立国会図書館)  "
      ],
      "metadata": {
        "id": "4JR3zTzR51R1"
      }
    },
    {
      "cell_type": "markdown",
      "source": [
        "## N-gramをもとにして文章を生成してみる  \n",
        "参考：[3. Pythonによる自然言語処理　1-1. 単語N-gram](https://qiita.com/y_itoh/items/82222af50bf1f80255eb) @y_itoh(yumi ito)  \n",
        "  \n",
        "この方法は純粋に訓練データ(テキスト)の単語の統計情報から文章を生成するものである．"
      ],
      "metadata": {
        "id": "m1Xto7e9-Afc"
      }
    },
    {
      "cell_type": "markdown",
      "source": [
        "**--------別のテキストファイルで試すときはここから実行して！--------**"
      ],
      "metadata": {
        "id": "nvAPY21Vsopt"
      }
    },
    {
      "cell_type": "markdown",
      "source": [
        "Google Colabにダウンロード済みのテキストファイル(**Neko.txt**)を読み込む．  \n",
        "他のテキストにしたい場合は，たとえばyokaidan.txtにする場合は，次のようにファイル名を変更して実行する．  \n",
        "\n",
        "\n",
        "```\n",
        "with open('yokaidan.txt')\n",
        "```\n",
        "\n",
        "\n",
        "読み込んだテキストが表示される．"
      ],
      "metadata": {
        "id": "wAaSEK4bms_s"
      }
    },
    {
      "cell_type": "code",
      "execution_count": null,
      "metadata": {
        "id": "UWHr1b-15pat"
      },
      "outputs": [],
      "source": [
        "with open('Neko.txt', mode='rt', encoding='utf-8') as f:\n",
        "    read_text = f.read()\n",
        "nekotxt = read_text\n",
        "\n",
        "print(nekotxt)"
      ]
    },
    {
      "cell_type": "markdown",
      "source": [
        "### 分かち書き"
      ],
      "metadata": {
        "id": "6iELrjRQtU9V"
      }
    },
    {
      "cell_type": "markdown",
      "source": [
        "MeCabで分かち書きし，結果を表示する．"
      ],
      "metadata": {
        "id": "2qD7mnlGnUqd"
      }
    },
    {
      "cell_type": "code",
      "source": [
        "import MeCab\n",
        "tagger = MeCab.Tagger(\"-Owakati\")\n",
        "nekotxt = tagger.parse(nekotxt)\n",
        "\n",
        "# print(nekotxt)\n",
        "nekotxt = nekotxt.split()\n",
        "print(nekotxt)"
      ],
      "metadata": {
        "id": "6kfjUYY-9AYz"
      },
      "execution_count": null,
      "outputs": []
    },
    {
      "cell_type": "markdown",
      "source": [
        "### 辞書の作成"
      ],
      "metadata": {
        "id": "RRFCusQjtZCt"
      }
    },
    {
      "cell_type": "markdown",
      "source": [
        "N-gram辞書を生成する．  \n",
        "連続する2語を要素とし，その頻度をカウントしたものがdic2(2-gram)，3語をカウントしたものがdic3(3-gram)である．"
      ],
      "metadata": {
        "id": "QRpKv3pZnZ24"
      }
    },
    {
      "cell_type": "code",
      "source": [
        "from collections import Counter\n",
        "import numpy as np\n",
        "from numpy.random import *\n",
        "\n",
        "string = nekotxt\n",
        "\n",
        "# 除外する文字記号\n",
        "delimiter = ['「', '」', '…', '　']\n",
        "\n",
        "# 2語のリスト\n",
        "double = list(zip(string[:-1], string[1:]))\n",
        "double = filter((lambda x: not((x[0] in delimiter) or (x[1] in delimiter))), double)\n",
        "\n",
        "# 3語のリスト\n",
        "triple = list(zip(string[:-2], string[1:-1], string[2:]))\n",
        "triple = filter((lambda x: not((x[0] in delimiter) or (x[1] in delimiter) or (x[2] in delimiter))), triple)\n",
        "\n",
        "# 要素数をカウントして辞書を生成\n",
        "dic2 = Counter(double)\n",
        "dic3 = Counter(triple)"
      ],
      "metadata": {
        "id": "BRPof3Oi9PiI"
      },
      "execution_count": null,
      "outputs": []
    },
    {
      "cell_type": "markdown",
      "source": [
        "2-gram辞書を表示する．  \n",
        "長いので中断してしまうが問題ない．  \n",
        "  \n",
        "例えば，\n",
        "\n",
        "```\n",
        "('聞き', 'たまえ') 3\n",
        "```\n",
        "は，「聞き」の直後に「たまえ」があるパターンが3回見つかった，という意味である．\n"
      ],
      "metadata": {
        "id": "WjguFUV-oPIf"
      }
    },
    {
      "cell_type": "code",
      "source": [
        "for u,v in dic2.items():\n",
        "    print(u, v)"
      ],
      "metadata": {
        "id": "Kp9iOV5d9Va5"
      },
      "execution_count": null,
      "outputs": []
    },
    {
      "cell_type": "markdown",
      "source": [
        "3-gram辞書を表示する．  \n",
        "これも長いので中断してしまうが問題ない．  \n",
        "  \n",
        "同じく，例えば，\n",
        "\n",
        "```\n",
        "('飛び', '上っ', 'て') 2\n",
        "```\n",
        "は，「飛び」「上っ」「て」の連続パターンが2回見つかった，という意味である．\n"
      ],
      "metadata": {
        "id": "tFeg9zUBoRzW"
      }
    },
    {
      "cell_type": "code",
      "source": [
        "for u,v in dic3.items():\n",
        "    print(u, v)"
      ],
      "metadata": {
        "id": "m916dQPk9buC"
      },
      "execution_count": null,
      "outputs": []
    },
    {
      "cell_type": "markdown",
      "source": [
        "### 文章生成"
      ],
      "metadata": {
        "id": "jaN0IqfFtc68"
      }
    },
    {
      "cell_type": "markdown",
      "source": [
        "文章生成の関数を定義する．"
      ],
      "metadata": {
        "id": "mZHLpdPNqq54"
      }
    },
    {
      "cell_type": "code",
      "source": [
        "def nextword(words, dic):\n",
        "    ## ➀先頭の単語wordsの要素数gramsを取得\n",
        "    grams = len(words)\n",
        "\n",
        "    ## ➁N-gram辞書dicから一致する要素を抽出\n",
        "    # 2語の場合\n",
        "    if grams == 2:\n",
        "        matcheditems = np.array(list(filter(\n",
        "            (lambda x: x[0][0] == words[1]), #1番目が合致\n",
        "            dic.items())))\n",
        "    # 3語の場合\n",
        "    else:\n",
        "        matcheditems = np.array(list(filter(\n",
        "            (lambda x: x[0][0] == words[1]) and (lambda x: x[0][1] == words[2]), #1番目と2番目が合致\n",
        "            dic.items())))\n",
        "\n",
        "    ## ➂一致する語がない場合のエラーメッセージ\n",
        "    if(len(matcheditems) == 0):\n",
        "        print(\"No matched generator for\", words[1])\n",
        "        return ''\n",
        "\n",
        "    ## ➃重み付き出現頻度リスト\n",
        "    # matcheditemsから出現頻度を取得\n",
        "    probs = [row[1] for row in matcheditems]\n",
        "    # 0～1の疑似乱数を生成して出現頻度にかける\n",
        "    weightlist = rand(len(matcheditems)) * probs\n",
        "\n",
        "    ## ➄matcheditemsから重み付き出現頻度が最大の要素を取得\n",
        "    if grams == 2:\n",
        "        u = matcheditems[np.argmax(weightlist)][0][1]\n",
        "    else:\n",
        "        u = matcheditems[np.argmax(weightlist)][0][2]\n",
        "    return u"
      ],
      "metadata": {
        "id": "rTT5vknqqpRY"
      },
      "execution_count": null,
      "outputs": []
    },
    {
      "cell_type": "markdown",
      "source": [
        "文章生成を試す．  \n",
        "\n",
        "1)まずはそのまま実行すると，「吾輩」からはじまる文章が生成される．これは2-gram辞書を用いている．実行するたびに結果が変わるので，何度か試すとよい．  \n",
        "2)次に2行目の冒頭に半角の#を書き加え，逆に3行目の冒頭の#を消去して実行する．今度は3-gram辞書を用いている．これも実行のたびに結果が変わる．  \n",
        "\n",
        "```\n",
        "#words = ['', '吾輩'] # 2-gram\n",
        "words = ['', '吾輩', 'は'] # 3-gram\n",
        "```\n",
        "3)最後に好きな単語で文章生成する．たとえば，「吾輩は」の代わりに「猫が」にしてみる．\n",
        "```\n",
        "words = ['', '猫', 'が'] # 3-gram\n",
        "```\n",
        "\n",
        "\n",
        "\n",
        "  "
      ],
      "metadata": {
        "id": "7ykUXIyJqRmj"
      }
    },
    {
      "cell_type": "code",
      "source": [
        "# 先頭の単語wordsを入力\n",
        "words = ['', '吾輩'] # 2-gram\n",
        "#words = ['', '吾輩', 'は'] # 3-gram\n",
        "\n",
        "# 出力outputの先頭にwordsを埋め込む\n",
        "output = words[1:]\n",
        "\n",
        "# ｢次の語｣を取得\n",
        "for i in range(100):\n",
        "    # 2語の場合\n",
        "    if len(words) == 2:\n",
        "        newword = nextword(words, dic2)\n",
        "    # 3語の場合\n",
        "    else:\n",
        "        newword = nextword(words, dic3)\n",
        "\n",
        "    # 出力outputに次の語を追加\n",
        "    output.append(newword)\n",
        "    # 次の文字が終止符なら終了\n",
        "    if newword in ['', '。', '？', '！']:\n",
        "        break\n",
        "    # 次のnextwordの準備\n",
        "    words = output[-len(words):]\n",
        "    print(words)\n",
        "\n",
        "# 出力outputを表示\n",
        "for u in output:\n",
        "    print(u, end='')\n"
      ],
      "metadata": {
        "id": "0Qd8x6RC9jPs"
      },
      "execution_count": null,
      "outputs": []
    },
    {
      "cell_type": "markdown",
      "source": [
        "# 文書単語行列と文章類似度  \n",
        "参考：  \n",
        "* [scikit-learnのCountVectorizerやTfidfVectorizerの日本語での使い方について](https://qiita.com/kiyuka/items/3de09e313a75248ca029)　@kiyuka\n",
        "* [Pythonで文書類似度算出！](https://toukei-lab.com/python-mecab)　ウマたん  "
      ],
      "metadata": {
        "id": "PF9Vfl-g5tSy"
      }
    },
    {
      "cell_type": "markdown",
      "source": [
        "## 文書単語行列"
      ],
      "metadata": {
        "id": "MOtBKt-dGY5Y"
      }
    },
    {
      "cell_type": "markdown",
      "source": [
        "次の4つの文章の文書単語行列を求める．あらかじめ分かち書きする．  \n",
        "* これは最初のドキュメントです。\n",
        "* このドキュメントは2番目のドキュメントです。\n",
        "* そして、これは3番目のものです。\n",
        "* これは最初のドキュメントですか?\n",
        "  \n",
        "単に出現頻度が表になっているだけなので難しくはない．"
      ],
      "metadata": {
        "id": "WL6jg4TMGw5Q"
      }
    },
    {
      "cell_type": "code",
      "source": [
        "import pandas as pd\n",
        "from sklearn.feature_extraction.text import CountVectorizer\n",
        "from IPython.display import display\n",
        "corpus = [\n",
        "    ['これ', 'は', '最初', 'の', 'ドキュメント', 'です', '。'],\n",
        "    ['この', 'ドキュメント', 'は', '2', '番目', 'の', 'ドキュメント', 'です', '。'],\n",
        "    ['そして', '、', 'これ', 'は', '3', '番目', 'の', 'もの', 'です', '。'],\n",
        "    ['これ', 'は', '最初', 'の', 'ドキュメント', 'です', 'か', '?']\n",
        "]\n",
        "vectorizer = CountVectorizer(analyzer=lambda x: x)\n",
        "\n",
        "vec = vectorizer.fit_transform(corpus)\n",
        "feature_names = vectorizer.get_feature_names_out()\n",
        "df = pd.DataFrame(vec.toarray(), columns=feature_names)\n",
        "display(df)"
      ],
      "metadata": {
        "colab": {
          "base_uri": "https://localhost:8080/",
          "height": 175
        },
        "id": "2BkNLmmPDWPb",
        "outputId": "79b9c4b4-f565-4cc4-e482-4d053600fcce"
      },
      "execution_count": 20,
      "outputs": [
        {
          "output_type": "display_data",
          "data": {
            "text/plain": [
              "   2  3  ?  、  。  か  この  これ  そして  です  の  は  もの  ドキュメント  最初  番目\n",
              "0  0  0  0  0  1  0   0   1    0   1  1  1   0       1   1   0\n",
              "1  1  0  0  0  1  0   1   0    0   1  1  1   0       2   0   1\n",
              "2  0  1  0  1  1  0   0   1    1   1  1  1   1       0   0   1\n",
              "3  0  0  1  0  0  1   0   1    0   1  1  1   0       1   1   0"
            ],
            "text/html": [
              "\n",
              "  <div id=\"df-48853c08-c147-4b2a-a9b0-def7d24fb32e\" class=\"colab-df-container\">\n",
              "    <div>\n",
              "<style scoped>\n",
              "    .dataframe tbody tr th:only-of-type {\n",
              "        vertical-align: middle;\n",
              "    }\n",
              "\n",
              "    .dataframe tbody tr th {\n",
              "        vertical-align: top;\n",
              "    }\n",
              "\n",
              "    .dataframe thead th {\n",
              "        text-align: right;\n",
              "    }\n",
              "</style>\n",
              "<table border=\"1\" class=\"dataframe\">\n",
              "  <thead>\n",
              "    <tr style=\"text-align: right;\">\n",
              "      <th></th>\n",
              "      <th>2</th>\n",
              "      <th>3</th>\n",
              "      <th>?</th>\n",
              "      <th>、</th>\n",
              "      <th>。</th>\n",
              "      <th>か</th>\n",
              "      <th>この</th>\n",
              "      <th>これ</th>\n",
              "      <th>そして</th>\n",
              "      <th>です</th>\n",
              "      <th>の</th>\n",
              "      <th>は</th>\n",
              "      <th>もの</th>\n",
              "      <th>ドキュメント</th>\n",
              "      <th>最初</th>\n",
              "      <th>番目</th>\n",
              "    </tr>\n",
              "  </thead>\n",
              "  <tbody>\n",
              "    <tr>\n",
              "      <th>0</th>\n",
              "      <td>0</td>\n",
              "      <td>0</td>\n",
              "      <td>0</td>\n",
              "      <td>0</td>\n",
              "      <td>1</td>\n",
              "      <td>0</td>\n",
              "      <td>0</td>\n",
              "      <td>1</td>\n",
              "      <td>0</td>\n",
              "      <td>1</td>\n",
              "      <td>1</td>\n",
              "      <td>1</td>\n",
              "      <td>0</td>\n",
              "      <td>1</td>\n",
              "      <td>1</td>\n",
              "      <td>0</td>\n",
              "    </tr>\n",
              "    <tr>\n",
              "      <th>1</th>\n",
              "      <td>1</td>\n",
              "      <td>0</td>\n",
              "      <td>0</td>\n",
              "      <td>0</td>\n",
              "      <td>1</td>\n",
              "      <td>0</td>\n",
              "      <td>1</td>\n",
              "      <td>0</td>\n",
              "      <td>0</td>\n",
              "      <td>1</td>\n",
              "      <td>1</td>\n",
              "      <td>1</td>\n",
              "      <td>0</td>\n",
              "      <td>2</td>\n",
              "      <td>0</td>\n",
              "      <td>1</td>\n",
              "    </tr>\n",
              "    <tr>\n",
              "      <th>2</th>\n",
              "      <td>0</td>\n",
              "      <td>1</td>\n",
              "      <td>0</td>\n",
              "      <td>1</td>\n",
              "      <td>1</td>\n",
              "      <td>0</td>\n",
              "      <td>0</td>\n",
              "      <td>1</td>\n",
              "      <td>1</td>\n",
              "      <td>1</td>\n",
              "      <td>1</td>\n",
              "      <td>1</td>\n",
              "      <td>1</td>\n",
              "      <td>0</td>\n",
              "      <td>0</td>\n",
              "      <td>1</td>\n",
              "    </tr>\n",
              "    <tr>\n",
              "      <th>3</th>\n",
              "      <td>0</td>\n",
              "      <td>0</td>\n",
              "      <td>1</td>\n",
              "      <td>0</td>\n",
              "      <td>0</td>\n",
              "      <td>1</td>\n",
              "      <td>0</td>\n",
              "      <td>1</td>\n",
              "      <td>0</td>\n",
              "      <td>1</td>\n",
              "      <td>1</td>\n",
              "      <td>1</td>\n",
              "      <td>0</td>\n",
              "      <td>1</td>\n",
              "      <td>1</td>\n",
              "      <td>0</td>\n",
              "    </tr>\n",
              "  </tbody>\n",
              "</table>\n",
              "</div>\n",
              "    <div class=\"colab-df-buttons\">\n",
              "\n",
              "  <div class=\"colab-df-container\">\n",
              "    <button class=\"colab-df-convert\" onclick=\"convertToInteractive('df-48853c08-c147-4b2a-a9b0-def7d24fb32e')\"\n",
              "            title=\"Convert this dataframe to an interactive table.\"\n",
              "            style=\"display:none;\">\n",
              "\n",
              "  <svg xmlns=\"http://www.w3.org/2000/svg\" height=\"24px\" viewBox=\"0 -960 960 960\">\n",
              "    <path d=\"M120-120v-720h720v720H120Zm60-500h600v-160H180v160Zm220 220h160v-160H400v160Zm0 220h160v-160H400v160ZM180-400h160v-160H180v160Zm440 0h160v-160H620v160ZM180-180h160v-160H180v160Zm440 0h160v-160H620v160Z\"/>\n",
              "  </svg>\n",
              "    </button>\n",
              "\n",
              "  <style>\n",
              "    .colab-df-container {\n",
              "      display:flex;\n",
              "      gap: 12px;\n",
              "    }\n",
              "\n",
              "    .colab-df-convert {\n",
              "      background-color: #E8F0FE;\n",
              "      border: none;\n",
              "      border-radius: 50%;\n",
              "      cursor: pointer;\n",
              "      display: none;\n",
              "      fill: #1967D2;\n",
              "      height: 32px;\n",
              "      padding: 0 0 0 0;\n",
              "      width: 32px;\n",
              "    }\n",
              "\n",
              "    .colab-df-convert:hover {\n",
              "      background-color: #E2EBFA;\n",
              "      box-shadow: 0px 1px 2px rgba(60, 64, 67, 0.3), 0px 1px 3px 1px rgba(60, 64, 67, 0.15);\n",
              "      fill: #174EA6;\n",
              "    }\n",
              "\n",
              "    .colab-df-buttons div {\n",
              "      margin-bottom: 4px;\n",
              "    }\n",
              "\n",
              "    [theme=dark] .colab-df-convert {\n",
              "      background-color: #3B4455;\n",
              "      fill: #D2E3FC;\n",
              "    }\n",
              "\n",
              "    [theme=dark] .colab-df-convert:hover {\n",
              "      background-color: #434B5C;\n",
              "      box-shadow: 0px 1px 3px 1px rgba(0, 0, 0, 0.15);\n",
              "      filter: drop-shadow(0px 1px 2px rgba(0, 0, 0, 0.3));\n",
              "      fill: #FFFFFF;\n",
              "    }\n",
              "  </style>\n",
              "\n",
              "    <script>\n",
              "      const buttonEl =\n",
              "        document.querySelector('#df-48853c08-c147-4b2a-a9b0-def7d24fb32e button.colab-df-convert');\n",
              "      buttonEl.style.display =\n",
              "        google.colab.kernel.accessAllowed ? 'block' : 'none';\n",
              "\n",
              "      async function convertToInteractive(key) {\n",
              "        const element = document.querySelector('#df-48853c08-c147-4b2a-a9b0-def7d24fb32e');\n",
              "        const dataTable =\n",
              "          await google.colab.kernel.invokeFunction('convertToInteractive',\n",
              "                                                    [key], {});\n",
              "        if (!dataTable) return;\n",
              "\n",
              "        const docLinkHtml = 'Like what you see? Visit the ' +\n",
              "          '<a target=\"_blank\" href=https://colab.research.google.com/notebooks/data_table.ipynb>data table notebook</a>'\n",
              "          + ' to learn more about interactive tables.';\n",
              "        element.innerHTML = '';\n",
              "        dataTable['output_type'] = 'display_data';\n",
              "        await google.colab.output.renderOutput(dataTable, element);\n",
              "        const docLink = document.createElement('div');\n",
              "        docLink.innerHTML = docLinkHtml;\n",
              "        element.appendChild(docLink);\n",
              "      }\n",
              "    </script>\n",
              "  </div>\n",
              "\n",
              "\n",
              "<div id=\"df-308d99f6-4b07-4804-b827-76be1981d876\">\n",
              "  <button class=\"colab-df-quickchart\" onclick=\"quickchart('df-308d99f6-4b07-4804-b827-76be1981d876')\"\n",
              "            title=\"Suggest charts\"\n",
              "            style=\"display:none;\">\n",
              "\n",
              "<svg xmlns=\"http://www.w3.org/2000/svg\" height=\"24px\"viewBox=\"0 0 24 24\"\n",
              "     width=\"24px\">\n",
              "    <g>\n",
              "        <path d=\"M19 3H5c-1.1 0-2 .9-2 2v14c0 1.1.9 2 2 2h14c1.1 0 2-.9 2-2V5c0-1.1-.9-2-2-2zM9 17H7v-7h2v7zm4 0h-2V7h2v10zm4 0h-2v-4h2v4z\"/>\n",
              "    </g>\n",
              "</svg>\n",
              "  </button>\n",
              "\n",
              "<style>\n",
              "  .colab-df-quickchart {\n",
              "      --bg-color: #E8F0FE;\n",
              "      --fill-color: #1967D2;\n",
              "      --hover-bg-color: #E2EBFA;\n",
              "      --hover-fill-color: #174EA6;\n",
              "      --disabled-fill-color: #AAA;\n",
              "      --disabled-bg-color: #DDD;\n",
              "  }\n",
              "\n",
              "  [theme=dark] .colab-df-quickchart {\n",
              "      --bg-color: #3B4455;\n",
              "      --fill-color: #D2E3FC;\n",
              "      --hover-bg-color: #434B5C;\n",
              "      --hover-fill-color: #FFFFFF;\n",
              "      --disabled-bg-color: #3B4455;\n",
              "      --disabled-fill-color: #666;\n",
              "  }\n",
              "\n",
              "  .colab-df-quickchart {\n",
              "    background-color: var(--bg-color);\n",
              "    border: none;\n",
              "    border-radius: 50%;\n",
              "    cursor: pointer;\n",
              "    display: none;\n",
              "    fill: var(--fill-color);\n",
              "    height: 32px;\n",
              "    padding: 0;\n",
              "    width: 32px;\n",
              "  }\n",
              "\n",
              "  .colab-df-quickchart:hover {\n",
              "    background-color: var(--hover-bg-color);\n",
              "    box-shadow: 0 1px 2px rgba(60, 64, 67, 0.3), 0 1px 3px 1px rgba(60, 64, 67, 0.15);\n",
              "    fill: var(--button-hover-fill-color);\n",
              "  }\n",
              "\n",
              "  .colab-df-quickchart-complete:disabled,\n",
              "  .colab-df-quickchart-complete:disabled:hover {\n",
              "    background-color: var(--disabled-bg-color);\n",
              "    fill: var(--disabled-fill-color);\n",
              "    box-shadow: none;\n",
              "  }\n",
              "\n",
              "  .colab-df-spinner {\n",
              "    border: 2px solid var(--fill-color);\n",
              "    border-color: transparent;\n",
              "    border-bottom-color: var(--fill-color);\n",
              "    animation:\n",
              "      spin 1s steps(1) infinite;\n",
              "  }\n",
              "\n",
              "  @keyframes spin {\n",
              "    0% {\n",
              "      border-color: transparent;\n",
              "      border-bottom-color: var(--fill-color);\n",
              "      border-left-color: var(--fill-color);\n",
              "    }\n",
              "    20% {\n",
              "      border-color: transparent;\n",
              "      border-left-color: var(--fill-color);\n",
              "      border-top-color: var(--fill-color);\n",
              "    }\n",
              "    30% {\n",
              "      border-color: transparent;\n",
              "      border-left-color: var(--fill-color);\n",
              "      border-top-color: var(--fill-color);\n",
              "      border-right-color: var(--fill-color);\n",
              "    }\n",
              "    40% {\n",
              "      border-color: transparent;\n",
              "      border-right-color: var(--fill-color);\n",
              "      border-top-color: var(--fill-color);\n",
              "    }\n",
              "    60% {\n",
              "      border-color: transparent;\n",
              "      border-right-color: var(--fill-color);\n",
              "    }\n",
              "    80% {\n",
              "      border-color: transparent;\n",
              "      border-right-color: var(--fill-color);\n",
              "      border-bottom-color: var(--fill-color);\n",
              "    }\n",
              "    90% {\n",
              "      border-color: transparent;\n",
              "      border-bottom-color: var(--fill-color);\n",
              "    }\n",
              "  }\n",
              "</style>\n",
              "\n",
              "  <script>\n",
              "    async function quickchart(key) {\n",
              "      const quickchartButtonEl =\n",
              "        document.querySelector('#' + key + ' button');\n",
              "      quickchartButtonEl.disabled = true;  // To prevent multiple clicks.\n",
              "      quickchartButtonEl.classList.add('colab-df-spinner');\n",
              "      try {\n",
              "        const charts = await google.colab.kernel.invokeFunction(\n",
              "            'suggestCharts', [key], {});\n",
              "      } catch (error) {\n",
              "        console.error('Error during call to suggestCharts:', error);\n",
              "      }\n",
              "      quickchartButtonEl.classList.remove('colab-df-spinner');\n",
              "      quickchartButtonEl.classList.add('colab-df-quickchart-complete');\n",
              "    }\n",
              "    (() => {\n",
              "      let quickchartButtonEl =\n",
              "        document.querySelector('#df-308d99f6-4b07-4804-b827-76be1981d876 button');\n",
              "      quickchartButtonEl.style.display =\n",
              "        google.colab.kernel.accessAllowed ? 'block' : 'none';\n",
              "    })();\n",
              "  </script>\n",
              "</div>\n",
              "    </div>\n",
              "  </div>\n"
            ]
          },
          "metadata": {}
        }
      ]
    },
    {
      "cell_type": "markdown",
      "source": [
        "## 二つのURLのテキストの類似度を求める  "
      ],
      "metadata": {
        "id": "CYmJX2XUzuLU"
      }
    },
    {
      "cell_type": "markdown",
      "source": [
        "### とりあえずやってみる"
      ],
      "metadata": {
        "id": "ij92WcVoHd-B"
      }
    },
    {
      "cell_type": "code",
      "source": [
        "import requests\n",
        "from bs4 import BeautifulSoup\n",
        "import sys\n",
        "import MeCab\n",
        "from time import sleep\n",
        "import numpy as np\n",
        "from sklearn.feature_extraction.text import TfidfVectorizer\n",
        "\n",
        "##関数定義\n",
        "# Step1：URLからテキスト情報をスクレイピング\n",
        "def geturl(urls):\n",
        "    all_text=[]\n",
        "    for url in urls:\n",
        "        r=requests.get(url)\n",
        "        c=r.content\n",
        "        soup=BeautifulSoup(c,\"html.parser\")\n",
        "        article1_content=soup.find_all(\"p\")\n",
        "        temp=[]\n",
        "        for con in article1_content:\n",
        "            out=con.text\n",
        "            temp.append(out)\n",
        "        text=''.join(temp)\n",
        "        all_text.append(text)\n",
        "        sleep(1)\n",
        "    return all_text\n",
        "\n",
        "# Step2：それらをMeCabで形態素解析。名詞だけ抽出。\n",
        "def mplg(article):\n",
        "    word_list = \"\"\n",
        "    m=MeCab.Tagger()\n",
        "    m1=m.parse (text)\n",
        "    for row in m1.split(\"\\n\"):\n",
        "        word =row.split(\"\\t\")[0]#タブ区切りになっている１つ目を取り出す。ここには形態素が格納されている\n",
        "        if word == \"EOS\":\n",
        "            break\n",
        "        else:\n",
        "            pos = row.split(\"\\t\")[1]#タブ区切りになっている2つ目を取り出す。ここには品詞が格納されている\n",
        "            slice = pos[:2]\n",
        "            if slice == \"名詞\":\n",
        "                word_list = word_list +\" \"+ word\n",
        "    return word_list\n",
        "\n",
        "# Step3：名詞の出現頻度からTF-IDF/COS類似度を算出。テキスト情報のマッチ度を測る\n",
        "def tfidf(word_list):\n",
        "    docs = np.array(word_list)#Numpyの配列に変換する\n",
        "    #単語を配列ベクトル化して、TF-IDFを計算する\n",
        "    vecs = TfidfVectorizer(\n",
        "                token_pattern=u'(?u)\\\\b\\\\w+\\\\b'#文字列長が 1 の単語を処理対象に含めることを意味します。\n",
        "                ).fit_transform(docs)\n",
        "    vecs = vecs.toarray()\n",
        "    return vecs\n",
        "\n",
        "\n",
        "def cossim(v1,v2):\n",
        "    return np.dot(v1, v2) / (np.linalg.norm(v1) * np.linalg.norm(v2))\n",
        "\n",
        "##実装\n",
        "word_list=[]\n",
        "texts=geturl([\"https://toukei-lab.com/conjoint\",\"https://toukei-lab.com/correspondence\"])\n",
        "for text in texts:\n",
        "    word_list.append(mplg(text))\n",
        "\n",
        "vecs=tfidf(word_list)\n",
        "print(cossim(vecs[1],vecs[0]))"
      ],
      "metadata": {
        "id": "LeyWjHj5wl-I",
        "colab": {
          "base_uri": "https://localhost:8080/"
        },
        "outputId": "26372539-f959-4c5a-8f7d-3b3dcd2fbb94"
      },
      "execution_count": 9,
      "outputs": [
        {
          "output_type": "stream",
          "name": "stdout",
          "text": [
            "0.4005091643186147\n"
          ]
        }
      ]
    },
    {
      "cell_type": "markdown",
      "source": [
        "最後に数字が1つ表示されたが，これが次の二つのURL(ソースコードでは59行目付近に記載)のコサイン類似度である．  \n",
        "**全く同じ文章の場合，1.0**となる．  \n",
        "* https://toukei-lab.com/conjoint\n",
        "* https://toukei-lab.com/correspondence"
      ],
      "metadata": {
        "id": "Xx5-bVLF0G7P"
      }
    },
    {
      "cell_type": "markdown",
      "source": [
        "### 名詞の抽出"
      ],
      "metadata": {
        "id": "hNJIbLNDHin1"
      }
    },
    {
      "cell_type": "markdown",
      "source": [
        "中身を解説する．MeCabで分かち書きを行うところまでは同じだが，今回は名詞だけを抽出する．結果を見てみる．"
      ],
      "metadata": {
        "id": "6SfWHLKw0kCN"
      }
    },
    {
      "cell_type": "code",
      "source": [
        "print('最初のURLの分かち書きの結果(名詞のみ): 単語数{}'.format(len(word_list[0])))\n",
        "print(word_list[0])\n",
        "print('二番目のURLの分かち書きの結果(名詞のみ): 単語数{}'.format(len(word_list[1])))\n",
        "print(word_list[1])"
      ],
      "metadata": {
        "id": "ZznhYHQex7gF",
        "colab": {
          "base_uri": "https://localhost:8080/"
        },
        "outputId": "720eefdd-3ba0-4cf0-e488-8f3c6423dd67"
      },
      "execution_count": 13,
      "outputs": [
        {
          "output_type": "stream",
          "name": "stdout",
          "text": [
            "最初のURLの分かち書きの結果(名詞のみ): 単語数1171\n",
            " データ サイエンティスト ウマ たん (@ statistics 1012 ) 消費 者 商品 機能 の 場合 コンジョイント 分析 マーケティング 非常 重要 役割 記事 コンジョイント 分析 目次 商品 サービス 部分 改善 消費 者 の 効用 値 大小 把握 ため 手法 コンジョイント 分析 どこ スペック の 価格 どこ 許容 の 消費 者 明確 意識 わけ 潜在 的 感覚 消費 者 潜在 的 効用 把握 ため 直接的 機能 の 様々 スペック 商品 点数 こと 機能 効用 値 算出 の コンジョイント 分析 コンジョイント 分析 こと 消費 者 最適 スペック 把握 こと それ ムダ 機能 拡張 こと 消費 者 機能 価格 商品 サービス 提供 こと の コンジョイント 分析 気 の 商品 プロファイル 作成 方法 商品 プロファイル 適当 作成 要因 交絡 結果 実験 計画 法 直交 表 割り当て 商品 プロファイル 作成 コンジョイント 分析 R 実装 パッケージ conjoint tea データセット プロファイル データ コンジョイント 分析 tprof 以下 よう プロファイル データ tlevn それぞれ 水準 データ の 商品 プロファイル 3 水準 3 水準 3 水準 2 水準 price 水準 low / medium / high variety 水準 black / green / red kind 水準 bags / granulated / leafty aroma 水準 yes / no 最後 それら 効用 値 100 人 分 データ tprefm これら データ コンジョイント 分析 自動的 グラフ プロット これ 要因 ごと 寄与 率 variety 寄与 率 若干 価格 部分 効用 値 low 効用 値 の 感覚 一致 high medium 比較 時 medium 方 効用 値 の コンジョイント 分析 最後 簡単 コンジョイント 分析 商品 サービス 機能 特徴 受容 度 分析 手法 マーケティング 商品 開発 R 簡単 実装 可能 コンジョイント 分析 方 以下 書籍 変量 解析 コンジョイント 分析 以外 様々 手法 変量 解析 手法 以下 記事 マーケティング データ 分析 手法 以下 統計 学 機械 学習 Python データ サイエンス 方 以下 記事 スタビジ コンテンツ 深堀 コンテンツ 動画 一緒 スクール プレミアム プラン 私 マンツーマン 伴走 受講 お待ち スタビジアカデミー こちら 初心者 向け PHP おすすめ 学習 手順 8 ステップ 紹介 以下 Kindle Unlimited 無料 こと 可能 チャンネル 登録 お願い\n",
            "二番目のURLの分かち書きの結果(名詞のみ): 単語数1097\n",
            " データ サイエンティスト ウマ たん (@ statistics 1012 ) 変量 解析 手法 1 アンケート 調査 可視 化 コレスポンデンス 分析 コレスポンデンス 分析 データ 可視 化 非常 手法 マーケティング 場 記事 コレスポンデンス 分析 R 実装 目次 コレスポンデンス 分析 コレスポンデンス 分析 商品 サービス 特徴 可視 化 の 分析 手法 マーケティング 調査 変量 解析 数量 化 3 類 考え方 新た 化粧 品 商品 開発 行い 競合 イメージ 比較 時 消費 者 以下 よう 項目 回答 これら 点数 基 自社 製品 消費 者 よう イメージ の 簡単 可視 化 こと 可能 の これ 表 比較 項目 数 比較 競合 数 表 時 コレスポンデンス 分析 出番 の 以下 イメージ図 よう 簡単 マッピング 自社 製品 特徴 こと の ここ 注意 の 自社 製品 香り さ 直感 的 解釈 こと これ 方向 性 解釈 の 距離 的 比較 点 注意 コレスポンデンス 分析 R 実装 コレスポンデンス 分析 非常 簡単 実装 ん 使用 データ 統計 科学 研究所 成績 データ 以下 URL ダウンロード https :// statistics . co . jp / reference / statistical _ data / statistical _ data . htm 9 科目 点数 166 人 分 166 人 30 人 抽出 コレスポンデンス 分析 コレスポンデンス 分析 MASS パッケージ correp 関数 こと 可能 コード 以下 よう 非常 簡単 実装 可能 ん 最後 行 結果 プロット 音楽 英語 他 科目 こと これ 科目 同士 さ 先ほど 人 科目 距離 比較 得意 不得意 比較 こと 厳密 点 注意 実装 自体 非常 簡単 データセット コレスポンデンス 分析 市場 調査 コレスポンデンス 分析 非常 便利 手法 以下 書籍 コレスポンデンス 分析 数量 化 3 類 参考 変量 解析 手法 以下 記事 マーケティング データ 分析 手法 以下 統計 学 機械 学習 Python データ サイエンス 方 以下 記事 スタビジ コンテンツ 深堀 コンテンツ 動画 一緒 スクール プレミアム プラン 私 マンツーマン 伴走 受講 お待ち スタビジアカデミー こちら 初心者 向け PHP おすすめ 学習 手順 8 ステップ 紹介 以下 Kindle Unlimited 無料 こと 可能 チャンネル 登録 お願い\n"
          ]
        }
      ]
    },
    {
      "cell_type": "markdown",
      "source": [
        "### 文書単語行列の表示"
      ],
      "metadata": {
        "id": "zH_JnrIgHm74"
      }
    },
    {
      "cell_type": "markdown",
      "source": [
        "文書単語行列を表示する．  \n",
        "各々の文章の文書ベクトル(tf-idf)の中身を見ると，二つの文章で異なることがわかる．  \n",
        "もし同じ文章であれば二つのベクトルは全く同じであり，なす角度は0度なので，コサイン類似度cos(0)=1.0となる．"
      ],
      "metadata": {
        "id": "Yai532bIB0Go"
      }
    },
    {
      "cell_type": "code",
      "source": [
        "print('ベクトルのサイズ: {}'.format(len(vecs[0])))\n",
        "print('\\n最初のURLの名詞のtf-idf')\n",
        "print(vecs[0])\n",
        "print('\\n二番目のURLのの名詞のtf-idf')\n",
        "print(vecs[1])"
      ],
      "metadata": {
        "colab": {
          "base_uri": "https://localhost:8080/"
        },
        "id": "F2GhJFWd_QF8",
        "outputId": "72870685-2524-4ff4-b44f-3f9d0f4c8eb9"
      },
      "execution_count": 17,
      "outputs": [
        {
          "output_type": "stream",
          "name": "stdout",
          "text": [
            "ベクトルのサイズ: 228\n",
            "\n",
            "最初のURLの名詞のtf-idf\n",
            "[0.         0.03213922 0.02286732 0.         0.03213922 0.06860197\n",
            " 0.         0.02286732 0.         0.         0.03213922 0.03213922\n",
            " 0.03213922 0.         0.03213922 0.         0.         0.03213922\n",
            " 0.03213922 0.06427845 0.         0.         0.         0.03213922\n",
            " 0.02286732 0.03213922 0.06427845 0.         0.09641767 0.03213922\n",
            " 0.02286732 0.03213922 0.02286732 0.04573465 0.03213922 0.\n",
            " 0.         0.02286732 0.03213922 0.03213922 0.03213922 0.03213922\n",
            " 0.02286732 0.         0.06427845 0.03213922 0.02286732 0.02286732\n",
            " 0.02286732 0.         0.02286732 0.13720394 0.02286732 0.02286732\n",
            " 0.03213922 0.         0.03213922 0.03213922 0.03213922 0.06427845\n",
            " 0.02286732 0.06427845 0.25154055 0.02286732 0.03213922 0.\n",
            " 0.         0.         0.         0.02286732 0.03213922 0.\n",
            " 0.41780992 0.04573465 0.         0.02286732 0.02286732 0.06860197\n",
            " 0.02286732 0.02286732 0.02286732 0.02286732 0.09641767 0.\n",
            " 0.02286732 0.18293858 0.02286732 0.02286732 0.02286732 0.02286732\n",
            " 0.02286732 0.19283535 0.         0.02286732 0.06860197 0.03213922\n",
            " 0.02286732 0.03213922 0.         0.03213922 0.02286732 0.\n",
            " 0.13720394 0.03213922 0.02286732 0.09641767 0.         0.09641767\n",
            " 0.         0.19283535 0.         0.         0.02286732 0.34300984\n",
            " 0.02286732 0.03213922 0.22497457 0.02286732 0.         0.\n",
            " 0.         0.         0.03213922 0.02286732 0.04573465 0.\n",
            " 0.         0.02286732 0.         0.22867323 0.         0.\n",
            " 0.         0.03213922 0.04573465 0.03213922 0.02286732 0.04573465\n",
            " 0.04573465 0.03213922 0.06427845 0.         0.03213922 0.03213922\n",
            " 0.         0.         0.03213922 0.06427845 0.         0.11433661\n",
            " 0.02286732 0.09641767 0.         0.03213922 0.03213922 0.03213922\n",
            " 0.         0.         0.         0.06860197 0.         0.03213922\n",
            " 0.03213922 0.02286732 0.02286732 0.04573465 0.03213922 0.06427845\n",
            " 0.02286732 0.19283535 0.02286732 0.03213922 0.28925302 0.03213922\n",
            " 0.         0.13720394 0.02286732 0.06427845 0.         0.02286732\n",
            " 0.02286732 0.02286732 0.06427845 0.02286732 0.04573465 0.02286732\n",
            " 0.03213922 0.         0.03213922 0.         0.02286732 0.\n",
            " 0.         0.         0.03213922 0.04573465 0.02286732 0.02286732\n",
            " 0.02286732 0.         0.13720394 0.         0.03213922 0.\n",
            " 0.03213922 0.         0.         0.         0.02286732 0.\n",
            " 0.06427845 0.04573465 0.         0.03213922 0.06860197 0.03213922\n",
            " 0.         0.         0.03213922 0.06427845 0.03213922 0.02286732\n",
            " 0.         0.02286732 0.         0.         0.         0.        ]\n",
            "\n",
            "二番目のURLのの名詞のtf-idf\n",
            "[0.03583113 0.         0.02549414 0.07166225 0.         0.05098828\n",
            " 0.03583113 0.02549414 0.03583113 0.07166225 0.         0.\n",
            " 0.         0.03583113 0.         0.03583113 0.07166225 0.\n",
            " 0.         0.         0.03583113 0.03583113 0.03583113 0.\n",
            " 0.02549414 0.         0.         0.03583113 0.         0.\n",
            " 0.02549414 0.         0.02549414 0.05098828 0.         0.03583113\n",
            " 0.07166225 0.05098828 0.         0.         0.         0.\n",
            " 0.02549414 0.03583113 0.         0.         0.02549414 0.02549414\n",
            " 0.02549414 0.03583113 0.02549414 0.17845899 0.07648243 0.02549414\n",
            " 0.         0.07166225 0.         0.         0.         0.\n",
            " 0.02549414 0.         0.17845899 0.10197657 0.         0.07166225\n",
            " 0.03583113 0.07166225 0.03583113 0.02549414 0.         0.46580465\n",
            " 0.         0.05098828 0.03583113 0.02549414 0.02549414 0.02549414\n",
            " 0.02549414 0.02549414 0.02549414 0.02549414 0.         0.03583113\n",
            " 0.02549414 0.15296485 0.02549414 0.02549414 0.02549414 0.02549414\n",
            " 0.02549414 0.         0.03583113 0.02549414 0.07648243 0.\n",
            " 0.02549414 0.         0.03583113 0.         0.10197657 0.03583113\n",
            " 0.22944728 0.         0.02549414 0.         0.03583113 0.\n",
            " 0.03583113 0.         0.03583113 0.03583113 0.02549414 0.38241213\n",
            " 0.02549414 0.         0.         0.02549414 0.21498676 0.03583113\n",
            " 0.03583113 0.03583113 0.         0.02549414 0.10197657 0.14332451\n",
            " 0.03583113 0.02549414 0.03583113 0.05098828 0.03583113 0.03583113\n",
            " 0.03583113 0.         0.07648243 0.         0.02549414 0.05098828\n",
            " 0.12747071 0.         0.         0.03583113 0.         0.\n",
            " 0.03583113 0.03583113 0.         0.         0.03583113 0.15296485\n",
            " 0.02549414 0.         0.03583113 0.         0.         0.\n",
            " 0.07166225 0.07166225 0.03583113 0.02549414 0.03583113 0.\n",
            " 0.         0.05098828 0.02549414 0.02549414 0.         0.\n",
            " 0.02549414 0.         0.15296485 0.         0.         0.\n",
            " 0.10749338 0.05098828 0.02549414 0.         0.07166225 0.05098828\n",
            " 0.02549414 0.05098828 0.         0.02549414 0.05098828 0.02549414\n",
            " 0.         0.03583113 0.         0.03583113 0.02549414 0.03583113\n",
            " 0.14332451 0.07166225 0.         0.12747071 0.02549414 0.02549414\n",
            " 0.05098828 0.03583113 0.05098828 0.03583113 0.         0.10749338\n",
            " 0.         0.03583113 0.03583113 0.03583113 0.05098828 0.10749338\n",
            " 0.         0.07648243 0.07166225 0.         0.07648243 0.\n",
            " 0.10749338 0.07166225 0.         0.         0.         0.02549414\n",
            " 0.03583113 0.12747071 0.03583113 0.07166225 0.07166225 0.03583113]\n"
          ]
        }
      ]
    },
    {
      "cell_type": "code",
      "source": [],
      "metadata": {
        "id": "9_rwjySSFq5V"
      },
      "execution_count": null,
      "outputs": []
    }
  ]
}