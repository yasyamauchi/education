{
  "nbformat": 4,
  "nbformat_minor": 0,
  "metadata": {
    "colab": {
      "provenance": [],
      "toc_visible": true,
      "authorship_tag": "ABX9TyO4RmJr0HqG3P9IO3RK+R5k",
      "include_colab_link": true
    },
    "kernelspec": {
      "name": "python3",
      "display_name": "Python 3"
    },
    "language_info": {
      "name": "python"
    }
  },
  "cells": [
    {
      "cell_type": "markdown",
      "metadata": {
        "id": "view-in-github",
        "colab_type": "text"
      },
      "source": [
        "<a href=\"https://colab.research.google.com/github/yasyamauchi/education/blob/main/2023AIreport1.ipynb\" target=\"_parent\"><img src=\"https://colab.research.google.com/assets/colab-badge.svg\" alt=\"Open In Colab\"/></a>"
      ]
    },
    {
      "cell_type": "markdown",
      "source": [
        "# データを読み込む  \n",
        "\n",
        "* country\t国名\n",
        "* child_mort\t出生1000人あたりの5歳未満の子供の死亡数\n",
        "* exports\t人口当たり輸出額/GDP\n",
        "* health\t人口当たり医療費/GDP\n",
        "* imports\t人口当たり輸入額/GDP\n",
        "* Income\t人口当たり収入\n",
        "* Inflation\t経済成長率\n",
        "* life_expec\t平均寿命\n",
        "* total_fer\t平均出生数/女性\n",
        "* gdpp\t人口当たりGDP  "
      ],
      "metadata": {
        "id": "FFaVvsloLCIV"
      }
    },
    {
      "cell_type": "markdown",
      "source": [
        "## 1) ファイルCountry-data.csvをToyoNet-ACEからダウンロードして，Google Colabにアップロードする  \n",
        "手順は講義で説明したとおり．"
      ],
      "metadata": {
        "id": "trT0MtR_JUNo"
      }
    },
    {
      "cell_type": "markdown",
      "source": [
        "##2) 次のコードを実行してデータを読み込む．最初の5行が表示される．"
      ],
      "metadata": {
        "id": "k8W1c-o9Jh_e"
      }
    },
    {
      "cell_type": "code",
      "execution_count": null,
      "metadata": {
        "id": "tCYmFK6PydaN"
      },
      "outputs": [],
      "source": [
        "import pandas as pd\n",
        "import seaborn as sns\n",
        "import matplotlib.pyplot as plt\n",
        "\n",
        "data_df = pd.read_csv('Country-data.csv')\n",
        "data_df.head(5)"
      ]
    },
    {
      "cell_type": "markdown",
      "source": [
        "##3) 次のコードを実行し，全データの組み合わせの散布図を作成する"
      ],
      "metadata": {
        "id": "3_IbDIHnBcMB"
      }
    },
    {
      "cell_type": "code",
      "source": [
        "sns.pairplot(data_df)"
      ],
      "metadata": {
        "id": "7O8ohggCArRj"
      },
      "execution_count": null,
      "outputs": []
    },
    {
      "cell_type": "markdown",
      "source": [
        "# 問題２：一次関数による近似"
      ],
      "metadata": {
        "id": "JRnMJklYJHS_"
      }
    },
    {
      "cell_type": "markdown",
      "source": [
        "平均寿命を横軸，子供の死亡数を縦軸のグラフを作成する．子供の死亡数が多いほど平均寿命が低くなることを確認する．"
      ],
      "metadata": {
        "id": "PhRy3MkoHhfi"
      }
    },
    {
      "cell_type": "code",
      "source": [
        "data_df_lc=data_df.loc[:,[\"child_mort\",\"life_expec\"]]\n",
        "ax = sns.scatterplot(x='child_mort', y='life_expec', data=data_df_lc)"
      ],
      "metadata": {
        "id": "np4h_6qNE46w"
      },
      "execution_count": null,
      "outputs": []
    },
    {
      "cell_type": "markdown",
      "source": [
        "##【課題】一次関数$y=ax+b$で近似する  \n",
        "次のコードを使用し，aの初期値は-1，bの初期値は60から試して，両方の数字の調整を繰り返して，誤差Jが最も少なくなりそうなaとb，そのときの誤差Jを答えよ．また，そのときのグラフのスクリーンショットをレポートにつけよ．"
      ],
      "metadata": {
        "id": "3fKK4D9kHsy3"
      }
    },
    {
      "cell_type": "code",
      "source": [
        "# 1次関数の定義\n",
        "def estimate_func(param,x):\n",
        "    return (param[0]*x + param[1])\n",
        "\n",
        "p = []\n",
        "p.append(float(input('a= ')))  # 最初は-1あたりから試す\n",
        "p.append(float(input('b= ')))  # 最初は60あたりから試す\n",
        "\n",
        "x = data_df['child_mort'].to_list()\n",
        "y = data_df['life_expec'].to_list()\n",
        "\n",
        "ylin = [estimate_func(p,i) for i in x]  # y = ax + b\n",
        "\n",
        "# 誤差を合計する\n",
        "J = 0\n",
        "for i in range(len(x)):\n",
        "    J += (ylin[i]-y[i])**2\n",
        "print('J={}'.format(J))\n",
        "\n",
        "# グラフの描画\n",
        "fig, axe = plt.subplots()\n",
        "axe.set_xlabel('life_expec')  # x軸ラベル\n",
        "axe.set_ylabel('child_mort')  # y軸ラベル\n",
        "axe.grid()            # 罫線\n",
        "#axe.set_xlim([0, 300]) # x方向の描画範囲を指定\n",
        "axe.scatter(x,y)\n",
        "for i in range(len(x)):\n",
        "    axe.plot([x[i],x[i]],[y[i],ylin[i]],color=\"g\",linestyle = \"dashed\")\n",
        "axe.plot(x,ylin,color=\"r\")\n",
        "fig.tight_layout()  # レイアウトの設定\n",
        "plt.show()"
      ],
      "metadata": {
        "id": "eDYzAqSDGNrF"
      },
      "execution_count": null,
      "outputs": []
    },
    {
      "cell_type": "markdown",
      "source": [
        "# 問題３：クラスタリング  "
      ],
      "metadata": {
        "id": "4onkZIprKx31"
      }
    },
    {
      "cell_type": "markdown",
      "source": [
        "## 1) 医療費とGDPのデータだけ取り出して散布図にする  \n",
        "なおGDPは1万で割る"
      ],
      "metadata": {
        "id": "bCzEaMZHMWTl"
      }
    },
    {
      "cell_type": "code",
      "source": [
        "data_df_hg=data_df.loc[:,[\"health\",\"gdpp\"]]\n",
        "data_df_hg.loc[:,\"gdpp\"]=data_df_hg.loc[:,\"gdpp\"].apply(lambda x: x/10000) # 1万で割る（※xとyの桁が乖離しているとK-Meansはうまくいかない）\n",
        "ax = sns.scatterplot(x='health', y='gdpp', data=data_df_hg)\n",
        "plt.rcParams[\"figure.figsize\"] = (10, 5)\n",
        "plt.xlim(0, 20)\n",
        "plt.ylim(0, 10)\n",
        "plt.show()"
      ],
      "metadata": {
        "id": "wvvWLnSP_-WA"
      },
      "execution_count": null,
      "outputs": []
    },
    {
      "cell_type": "markdown",
      "source": [
        "## 2)【課題】クラスター数の決定  \n",
        "次のK-Means法のコードを実行して得られた図から，クラスターの適切な数を求めよ"
      ],
      "metadata": {
        "id": "axECSSLUMnwP"
      }
    },
    {
      "cell_type": "markdown",
      "source": [
        "横軸はクラスター数，縦軸は損失(各クラスタの中心からデータへの二乗誤差の総和とのこと)となる"
      ],
      "metadata": {
        "id": "UVkdNdmI8Mae"
      }
    },
    {
      "cell_type": "code",
      "source": [
        "X = data_df_hg.values\n",
        "from sklearn.cluster import KMeans\n",
        "objective_vals = []\n",
        "K = range(1,15)\n",
        "for k in K:\n",
        "    km = KMeans(n_clusters=k, init='k-means++', n_init=10, max_iter=300, tol=0.0001, random_state=0)\n",
        "    km = km.fit(X)\n",
        "    objective_vals.append(km.inertia_)\n",
        "plt.plot(K, objective_vals, 'bx-')\n",
        "plt.xlabel('k')\n",
        "plt.ylabel('Objective values')\n",
        "plt.title('Elbow Method K-Means')\n",
        "plt.show()"
      ],
      "metadata": {
        "id": "1eZvV4ODAVhv"
      },
      "execution_count": null,
      "outputs": []
    },
    {
      "cell_type": "markdown",
      "source": [
        "## 3)クラスター当たりの国数を表示する  \n",
        "このコードの最初の行の\"n_clusters=10\"の**\"10\"の代わりに，先ほど決めたクラスターの数を記入**して実行すること"
      ],
      "metadata": {
        "id": "pO-4njN9M4p5"
      }
    },
    {
      "cell_type": "code",
      "source": [
        "pred = KMeans(n_clusters=10, init='k-means++', n_init=10, max_iter=300, tol=0.0001, random_state=0).fit_predict(X)\n",
        "data_df_hgc=data_df_hg\n",
        "data_df_hgc['cluster']=pred\n",
        "data_df_hgc['cluster'].value_counts()"
      ],
      "metadata": {
        "id": "JKryYK-aAns2"
      },
      "execution_count": null,
      "outputs": []
    },
    {
      "cell_type": "markdown",
      "source": [
        "## 4)クラスター当たりの医療費支出とGDPの平均を求める"
      ],
      "metadata": {
        "id": "K7bpQ3UmM6Gl"
      }
    },
    {
      "cell_type": "code",
      "source": [
        "data_df_hgc.groupby('cluster').mean()"
      ],
      "metadata": {
        "id": "150lOm1uArxE"
      },
      "execution_count": null,
      "outputs": []
    },
    {
      "cell_type": "markdown",
      "source": [
        "##5)【課題】クラスターの可視化  \n",
        "次のコードを実行し，クラスターを図示し，画面キャプチャでレポートに添付すること．"
      ],
      "metadata": {
        "id": "5Ne2LMYuNPqv"
      }
    },
    {
      "cell_type": "code",
      "source": [
        "ax = sns.scatterplot(x='health', y='gdpp', hue='cluster',data=data_df_hgc, palette='colorblind')\n",
        "plt.rcParams[\"figure.figsize\"] = (10, 5)\n",
        "plt.xlim(0, 20)\n",
        "plt.ylim(0, 10)\n",
        "plt.show()"
      ],
      "metadata": {
        "id": "yWhM5yDHDEFR"
      },
      "execution_count": null,
      "outputs": []
    },
    {
      "cell_type": "markdown",
      "source": [
        "以上"
      ],
      "metadata": {
        "id": "5922QogQKy3k"
      }
    },
    {
      "cell_type": "code",
      "source": [],
      "metadata": {
        "id": "sco-p8zHKzfe"
      },
      "execution_count": null,
      "outputs": []
    }
  ]
}